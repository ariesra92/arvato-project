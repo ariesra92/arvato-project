{
 "cells": [
  {
   "cell_type": "markdown",
   "metadata": {},
   "source": [
    "# Capstone Project: Create a Customer Segmentation Report for Arvato Financial Services\n",
    "\n",
    "In this project, we will analyze demographics data for customers of a mail-order sales company in Germany, comparing it against demographics information for the general population. we'll use unsupervised learning techniques to perform customer segmentation, identifying the parts of the population that best describe the core customer base of the company. Then, we'll apply what we've learned on a third dataset with demographics information for targets of a marketing campaign for the company, and use a model to predict which individuals are most likely to convert into becoming customers for the company. The data that we will use has been provided by our partners at Bertelsmann Arvato Analytics, and represents a real-life data science task.\n",
    "\n",
    "\n",
    "## Table of Contents -- DUMMY\n",
    "<ul>\n",
    "<li><a href=\"#part0\">Part 0: Get to Know the Data</a></li>\n",
    "<li><a href=\"#part1\">Part 1: Customer Segmentation Report</a></li>\n",
    "<li><a href=\"#part2\">Part 2: Supervised Learning Model</a></li>\n",
    "</ul>\n",
    "\n"
   ]
  },
  {
   "cell_type": "code",
   "execution_count": 276,
   "metadata": {},
   "outputs": [],
   "source": [
    "# import libraries here; add more as necessary\n",
    "import numpy as np\n",
    "import pandas as pd\n",
    "import matplotlib.pyplot as plt\n",
    "import seaborn as sns\n",
    "import plotly.express as px\n",
    "import plotly.graph_objects as go\n",
    "import time\n",
    "import pickle\n",
    "\n",
    "\n",
    "from sklearn.pipeline import Pipeline\n",
    "from sklearn.impute import SimpleImputer\n",
    "from sklearn.preprocessing import StandardScaler, FunctionTransformer, OneHotEncoder\n",
    "from sklearn.compose import ColumnTransformer\n",
    "from sklearn.decomposition import PCA\n",
    "from sklearn.cluster import KMeans\n",
    "\n",
    "from sklearn.ensemble import RandomForestClassifier, AdaBoostClassifier, GradientBoostingClassifier\n",
    "import xgboost as xgb\n",
    "from sklearn.model_selection import learning_curve\n",
    "from sklearn.model_selection import GridSearchCV\n",
    "from sklearn.metrics import roc_auc_score\n",
    "\n",
    "from sklearn.model_selection import train_test_split, GridSearchCV\n",
    "import xgboost as xgb\n",
    "from sklearn.metrics import plot_confusion_matrix\n",
    "import sklearn.metrics as metrics\n",
    "\n",
    "# magic word for producing visualizations in notebook\n",
    "%matplotlib inline\n",
    "\n",
    "# to show all the rows and columns for large data. But be carefull about printing the results\n",
    "pd.set_option('display.max_columns', None)\n",
    "pd.set_option('display.max_colwidth', None)\n",
    "pd.set_option('display.max_rows', None)"
   ]
  },
  {
   "cell_type": "markdown",
   "metadata": {},
   "source": [
    "<a id='part0'></a>\n",
    "## Part 0: Get to Know the Data\n",
    "\n",
    "There are four data files associated with this project:\n",
    "\n",
    "- `Udacity_AZDIAS_052018.csv`: Demographics data for the general population of Germany; 891 211 persons (rows) x 366 features (columns).\n",
    "- `Udacity_CUSTOMERS_052018.csv`: Demographics data for customers of a mail-order company; 191 652 persons (rows) x 369 features (columns).\n",
    "- `Udacity_MAILOUT_052018_TRAIN.csv`: Demographics data for individuals who were targets of a marketing campaign; 42 982 persons (rows) x 367 (columns).\n",
    "- `Udacity_MAILOUT_052018_TEST.csv`: Demographics data for individuals who were targets of a marketing campaign; 42 833 persons (rows) x 366 (columns).\n",
    "\n",
    "Each row of the demographics files represents a single person, but also includes information outside of individuals, including information about their household, building, and neighborhood. \n",
    "\n",
    "The \"CUSTOMERS\" file contains three extra columns ('CUSTOMER_GROUP', 'ONLINE_PURCHASE', and 'PRODUCT_GROUP'), which provide broad information about the customers depicted in the file. The original \"MAILOUT\" file included one additional column, \"RESPONSE\", which indicated whether or not each recipient became a customer of the company. For the \"TRAIN\" subset, this column has been retained, but in the \"TEST\" subset it has been removed; it is against that withheld column that our final predictions will be assessed in the Kaggle competition.\n",
    "\n",
    "Otherwise, all of the remaining columns are the same between the three data files. For more information about the columns depicted in the files, you can refer to two Excel spreadsheets provided in the repo. [One of them](./DIAS Information Levels - Attributes 2017.xlsx) is a top-level list of attributes and descriptions, organized by informational category. [The other](./DIAS Attributes - Values 2017.xlsx) is a detailed mapping of data values for each feature in alphabetical order.\n",
    "\n",
    "***AIM:*** We will use the information from the first two files to figure out how customers (\"CUSTOMERS\") are similar to or differ from the general population at large (\"AZDIAS\"), then use our analysis to make predictions on the other two files (\"MAILOUT\"), predicting which recipients are most likely to become a customer for the mail-order company.\n",
    "\n",
    "\n",
    "Before we really start digging into the modeling and analysis, we're going to need to perform some cleaning. Take some time to browse the structure of the data and look over the informational spreadsheets to understand the data values. Make some decisions on which features to keep, which features to drop, and if any revisions need to be made on data formats. It'll be a good idea to create a function with pre-processing steps, since you'll need to clean all of the datasets before you work with them."
   ]
  },
  {
   "cell_type": "code",
   "execution_count": 4,
   "metadata": {},
   "outputs": [
    {
     "name": "stderr",
     "output_type": "stream",
     "text": [
      "/Users/esraari/opt/anaconda3/lib/python3.9/site-packages/IPython/core/interactiveshell.py:3444: DtypeWarning: Columns (18,19) have mixed types.Specify dtype option on import or set low_memory=False.\n",
      "  exec(code_obj, self.user_global_ns, self.user_ns)\n"
     ]
    }
   ],
   "source": [
    "# load in the data\n",
    "azdias = pd.read_csv('data/Udacity_AZDIAS_052018.csv', sep=';')\n",
    "customers = pd.read_csv('data/Udacity_CUSTOMERS_052018.csv', sep=';')\n",
    "mailout_train = pd.read_csv('data/Udacity_MAILOUT_052018_TRAIN.csv', sep=';')\n",
    "mailout_test = pd.read_csv('data/Udacity_MAILOUT_052018_TEST.csv', sep=';')"
   ]
  },
  {
   "cell_type": "markdown",
   "metadata": {},
   "source": [
    "# Descriptive Analysis"
   ]
  },
  {
   "cell_type": "code",
   "execution_count": 5,
   "metadata": {},
   "outputs": [
    {
     "data": {
      "text/html": [
       "<div>\n",
       "<style scoped>\n",
       "    .dataframe tbody tr th:only-of-type {\n",
       "        vertical-align: middle;\n",
       "    }\n",
       "\n",
       "    .dataframe tbody tr th {\n",
       "        vertical-align: top;\n",
       "    }\n",
       "\n",
       "    .dataframe thead th {\n",
       "        text-align: right;\n",
       "    }\n",
       "</style>\n",
       "<table border=\"1\" class=\"dataframe\">\n",
       "  <thead>\n",
       "    <tr style=\"text-align: right;\">\n",
       "      <th></th>\n",
       "      <th>LNR</th>\n",
       "      <th>AGER_TYP</th>\n",
       "      <th>AKT_DAT_KL</th>\n",
       "      <th>ALTER_HH</th>\n",
       "      <th>ALTER_KIND1</th>\n",
       "      <th>ALTER_KIND2</th>\n",
       "      <th>ALTER_KIND3</th>\n",
       "      <th>ALTER_KIND4</th>\n",
       "      <th>ALTERSKATEGORIE_FEIN</th>\n",
       "      <th>ANZ_HAUSHALTE_AKTIV</th>\n",
       "      <th>ANZ_HH_TITEL</th>\n",
       "      <th>ANZ_KINDER</th>\n",
       "      <th>ANZ_PERSONEN</th>\n",
       "      <th>ANZ_STATISTISCHE_HAUSHALTE</th>\n",
       "      <th>ANZ_TITEL</th>\n",
       "      <th>ARBEIT</th>\n",
       "      <th>BALLRAUM</th>\n",
       "      <th>CJT_GESAMTTYP</th>\n",
       "      <th>CJT_KATALOGNUTZER</th>\n",
       "      <th>CJT_TYP_1</th>\n",
       "      <th>CJT_TYP_2</th>\n",
       "      <th>CJT_TYP_3</th>\n",
       "      <th>CJT_TYP_4</th>\n",
       "      <th>CJT_TYP_5</th>\n",
       "      <th>CJT_TYP_6</th>\n",
       "      <th>D19_BANKEN_ANZ_12</th>\n",
       "      <th>D19_BANKEN_ANZ_24</th>\n",
       "      <th>D19_BANKEN_DATUM</th>\n",
       "      <th>D19_BANKEN_DIREKT</th>\n",
       "      <th>D19_BANKEN_GROSS</th>\n",
       "      <th>D19_BANKEN_LOKAL</th>\n",
       "      <th>D19_BANKEN_OFFLINE_DATUM</th>\n",
       "      <th>D19_BANKEN_ONLINE_DATUM</th>\n",
       "      <th>D19_BANKEN_ONLINE_QUOTE_12</th>\n",
       "      <th>D19_BANKEN_REST</th>\n",
       "      <th>D19_BEKLEIDUNG_GEH</th>\n",
       "      <th>D19_BEKLEIDUNG_REST</th>\n",
       "      <th>D19_BILDUNG</th>\n",
       "      <th>D19_BIO_OEKO</th>\n",
       "      <th>D19_BUCH_CD</th>\n",
       "      <th>D19_DIGIT_SERV</th>\n",
       "      <th>D19_DROGERIEARTIKEL</th>\n",
       "      <th>D19_ENERGIE</th>\n",
       "      <th>D19_FREIZEIT</th>\n",
       "      <th>D19_GARTEN</th>\n",
       "      <th>D19_GESAMT_ANZ_12</th>\n",
       "      <th>D19_GESAMT_ANZ_24</th>\n",
       "      <th>D19_GESAMT_DATUM</th>\n",
       "      <th>D19_GESAMT_OFFLINE_DATUM</th>\n",
       "      <th>D19_GESAMT_ONLINE_DATUM</th>\n",
       "      <th>D19_GESAMT_ONLINE_QUOTE_12</th>\n",
       "      <th>D19_HANDWERK</th>\n",
       "      <th>D19_HAUS_DEKO</th>\n",
       "      <th>D19_KINDERARTIKEL</th>\n",
       "      <th>D19_KONSUMTYP</th>\n",
       "      <th>D19_KONSUMTYP_MAX</th>\n",
       "      <th>D19_KOSMETIK</th>\n",
       "      <th>D19_LEBENSMITTEL</th>\n",
       "      <th>D19_LOTTO</th>\n",
       "      <th>D19_NAHRUNGSERGAENZUNG</th>\n",
       "      <th>D19_RATGEBER</th>\n",
       "      <th>D19_REISEN</th>\n",
       "      <th>D19_SAMMELARTIKEL</th>\n",
       "      <th>D19_SCHUHE</th>\n",
       "      <th>D19_SONSTIGE</th>\n",
       "      <th>D19_SOZIALES</th>\n",
       "      <th>D19_TECHNIK</th>\n",
       "      <th>D19_TELKO_ANZ_12</th>\n",
       "      <th>D19_TELKO_ANZ_24</th>\n",
       "      <th>D19_TELKO_DATUM</th>\n",
       "      <th>D19_TELKO_MOBILE</th>\n",
       "      <th>D19_TELKO_OFFLINE_DATUM</th>\n",
       "      <th>D19_TELKO_ONLINE_DATUM</th>\n",
       "      <th>D19_TELKO_ONLINE_QUOTE_12</th>\n",
       "      <th>D19_TELKO_REST</th>\n",
       "      <th>D19_TIERARTIKEL</th>\n",
       "      <th>D19_VERSAND_ANZ_12</th>\n",
       "      <th>D19_VERSAND_ANZ_24</th>\n",
       "      <th>D19_VERSAND_DATUM</th>\n",
       "      <th>D19_VERSAND_OFFLINE_DATUM</th>\n",
       "      <th>D19_VERSAND_ONLINE_DATUM</th>\n",
       "      <th>D19_VERSAND_ONLINE_QUOTE_12</th>\n",
       "      <th>D19_VERSAND_REST</th>\n",
       "      <th>D19_VERSI_ANZ_12</th>\n",
       "      <th>D19_VERSI_ANZ_24</th>\n",
       "      <th>D19_VERSI_DATUM</th>\n",
       "      <th>D19_VERSI_OFFLINE_DATUM</th>\n",
       "      <th>D19_VERSI_ONLINE_DATUM</th>\n",
       "      <th>D19_VERSI_ONLINE_QUOTE_12</th>\n",
       "      <th>D19_VERSICHERUNGEN</th>\n",
       "      <th>D19_VOLLSORTIMENT</th>\n",
       "      <th>D19_WEIN_FEINKOST</th>\n",
       "      <th>DSL_FLAG</th>\n",
       "      <th>EINGEZOGENAM_HH_JAHR</th>\n",
       "      <th>EWDICHTE</th>\n",
       "      <th>EXTSEL992</th>\n",
       "      <th>FINANZ_ANLEGER</th>\n",
       "      <th>FINANZ_HAUSBAUER</th>\n",
       "      <th>FINANZ_MINIMALIST</th>\n",
       "      <th>FINANZ_SPARER</th>\n",
       "      <th>FINANZ_UNAUFFAELLIGER</th>\n",
       "      <th>FINANZ_VORSORGER</th>\n",
       "      <th>FINANZTYP</th>\n",
       "      <th>FIRMENDICHTE</th>\n",
       "      <th>GEBAEUDETYP</th>\n",
       "      <th>GEBAEUDETYP_RASTER</th>\n",
       "      <th>GEBURTSJAHR</th>\n",
       "      <th>GEMEINDETYP</th>\n",
       "      <th>GFK_URLAUBERTYP</th>\n",
       "      <th>GREEN_AVANTGARDE</th>\n",
       "      <th>HEALTH_TYP</th>\n",
       "      <th>HH_DELTA_FLAG</th>\n",
       "      <th>HH_EINKOMMEN_SCORE</th>\n",
       "      <th>INNENSTADT</th>\n",
       "      <th>KBA05_ALTER1</th>\n",
       "      <th>KBA05_ALTER2</th>\n",
       "      <th>KBA05_ALTER3</th>\n",
       "      <th>KBA05_ALTER4</th>\n",
       "      <th>KBA05_ANHANG</th>\n",
       "      <th>KBA05_ANTG1</th>\n",
       "      <th>KBA05_ANTG2</th>\n",
       "      <th>KBA05_ANTG3</th>\n",
       "      <th>KBA05_ANTG4</th>\n",
       "      <th>KBA05_AUTOQUOT</th>\n",
       "      <th>KBA05_BAUMAX</th>\n",
       "      <th>KBA05_CCM1</th>\n",
       "      <th>KBA05_CCM2</th>\n",
       "      <th>KBA05_CCM3</th>\n",
       "      <th>KBA05_CCM4</th>\n",
       "      <th>KBA05_DIESEL</th>\n",
       "      <th>KBA05_FRAU</th>\n",
       "      <th>KBA05_GBZ</th>\n",
       "      <th>KBA05_HERST1</th>\n",
       "      <th>KBA05_HERST2</th>\n",
       "      <th>KBA05_HERST3</th>\n",
       "      <th>KBA05_HERST4</th>\n",
       "      <th>KBA05_HERST5</th>\n",
       "      <th>KBA05_HERSTTEMP</th>\n",
       "      <th>KBA05_KRSAQUOT</th>\n",
       "      <th>KBA05_KRSHERST1</th>\n",
       "      <th>KBA05_KRSHERST2</th>\n",
       "      <th>KBA05_KRSHERST3</th>\n",
       "      <th>KBA05_KRSKLEIN</th>\n",
       "      <th>KBA05_KRSOBER</th>\n",
       "      <th>KBA05_KRSVAN</th>\n",
       "      <th>KBA05_KRSZUL</th>\n",
       "      <th>KBA05_KW1</th>\n",
       "      <th>KBA05_KW2</th>\n",
       "      <th>KBA05_KW3</th>\n",
       "      <th>KBA05_MAXAH</th>\n",
       "      <th>KBA05_MAXBJ</th>\n",
       "      <th>KBA05_MAXHERST</th>\n",
       "      <th>KBA05_MAXSEG</th>\n",
       "      <th>KBA05_MAXVORB</th>\n",
       "      <th>KBA05_MOD1</th>\n",
       "      <th>KBA05_MOD2</th>\n",
       "      <th>KBA05_MOD3</th>\n",
       "      <th>KBA05_MOD4</th>\n",
       "      <th>KBA05_MOD8</th>\n",
       "      <th>KBA05_MODTEMP</th>\n",
       "      <th>KBA05_MOTOR</th>\n",
       "      <th>KBA05_MOTRAD</th>\n",
       "      <th>KBA05_SEG1</th>\n",
       "      <th>KBA05_SEG10</th>\n",
       "      <th>KBA05_SEG2</th>\n",
       "      <th>KBA05_SEG3</th>\n",
       "      <th>KBA05_SEG4</th>\n",
       "      <th>KBA05_SEG5</th>\n",
       "      <th>KBA05_SEG6</th>\n",
       "      <th>KBA05_SEG7</th>\n",
       "      <th>KBA05_SEG8</th>\n",
       "      <th>KBA05_SEG9</th>\n",
       "      <th>KBA05_VORB0</th>\n",
       "      <th>KBA05_VORB1</th>\n",
       "      <th>KBA05_VORB2</th>\n",
       "      <th>KBA05_ZUL1</th>\n",
       "      <th>KBA05_ZUL2</th>\n",
       "      <th>KBA05_ZUL3</th>\n",
       "      <th>KBA05_ZUL4</th>\n",
       "      <th>KBA13_ALTERHALTER_30</th>\n",
       "      <th>KBA13_ALTERHALTER_45</th>\n",
       "      <th>KBA13_ALTERHALTER_60</th>\n",
       "      <th>KBA13_ALTERHALTER_61</th>\n",
       "      <th>KBA13_ANTG1</th>\n",
       "      <th>KBA13_ANTG2</th>\n",
       "      <th>KBA13_ANTG3</th>\n",
       "      <th>KBA13_ANTG4</th>\n",
       "      <th>KBA13_ANZAHL_PKW</th>\n",
       "      <th>KBA13_AUDI</th>\n",
       "      <th>KBA13_AUTOQUOTE</th>\n",
       "      <th>KBA13_BAUMAX</th>\n",
       "      <th>KBA13_BJ_1999</th>\n",
       "      <th>KBA13_BJ_2000</th>\n",
       "      <th>KBA13_BJ_2004</th>\n",
       "      <th>KBA13_BJ_2006</th>\n",
       "      <th>KBA13_BJ_2008</th>\n",
       "      <th>KBA13_BJ_2009</th>\n",
       "      <th>KBA13_BMW</th>\n",
       "      <th>KBA13_CCM_0_1400</th>\n",
       "      <th>KBA13_CCM_1000</th>\n",
       "      <th>KBA13_CCM_1200</th>\n",
       "      <th>KBA13_CCM_1400</th>\n",
       "      <th>KBA13_CCM_1401_2500</th>\n",
       "      <th>KBA13_CCM_1500</th>\n",
       "      <th>KBA13_CCM_1600</th>\n",
       "      <th>KBA13_CCM_1800</th>\n",
       "      <th>KBA13_CCM_2000</th>\n",
       "      <th>KBA13_CCM_2500</th>\n",
       "      <th>KBA13_CCM_2501</th>\n",
       "      <th>KBA13_CCM_3000</th>\n",
       "      <th>KBA13_CCM_3001</th>\n",
       "      <th>KBA13_FAB_ASIEN</th>\n",
       "      <th>KBA13_FAB_SONSTIGE</th>\n",
       "      <th>KBA13_FIAT</th>\n",
       "      <th>KBA13_FORD</th>\n",
       "      <th>KBA13_GBZ</th>\n",
       "      <th>KBA13_HALTER_20</th>\n",
       "      <th>KBA13_HALTER_25</th>\n",
       "      <th>KBA13_HALTER_30</th>\n",
       "      <th>KBA13_HALTER_35</th>\n",
       "      <th>KBA13_HALTER_40</th>\n",
       "      <th>KBA13_HALTER_45</th>\n",
       "      <th>KBA13_HALTER_50</th>\n",
       "      <th>KBA13_HALTER_55</th>\n",
       "      <th>KBA13_HALTER_60</th>\n",
       "      <th>KBA13_HALTER_65</th>\n",
       "      <th>KBA13_HALTER_66</th>\n",
       "      <th>KBA13_HERST_ASIEN</th>\n",
       "      <th>KBA13_HERST_AUDI_VW</th>\n",
       "      <th>KBA13_HERST_BMW_BENZ</th>\n",
       "      <th>KBA13_HERST_EUROPA</th>\n",
       "      <th>KBA13_HERST_FORD_OPEL</th>\n",
       "      <th>KBA13_HERST_SONST</th>\n",
       "      <th>KBA13_HHZ</th>\n",
       "      <th>KBA13_KMH_0_140</th>\n",
       "      <th>KBA13_KMH_110</th>\n",
       "      <th>KBA13_KMH_140</th>\n",
       "      <th>KBA13_KMH_140_210</th>\n",
       "      <th>KBA13_KMH_180</th>\n",
       "      <th>KBA13_KMH_210</th>\n",
       "      <th>KBA13_KMH_211</th>\n",
       "      <th>KBA13_KMH_250</th>\n",
       "      <th>KBA13_KMH_251</th>\n",
       "      <th>KBA13_KRSAQUOT</th>\n",
       "      <th>KBA13_KRSHERST_AUDI_VW</th>\n",
       "      <th>KBA13_KRSHERST_BMW_BENZ</th>\n",
       "      <th>KBA13_KRSHERST_FORD_OPEL</th>\n",
       "      <th>KBA13_KRSSEG_KLEIN</th>\n",
       "      <th>KBA13_KRSSEG_OBER</th>\n",
       "      <th>KBA13_KRSSEG_VAN</th>\n",
       "      <th>KBA13_KRSZUL_NEU</th>\n",
       "      <th>KBA13_KW_0_60</th>\n",
       "      <th>KBA13_KW_110</th>\n",
       "      <th>KBA13_KW_120</th>\n",
       "      <th>KBA13_KW_121</th>\n",
       "      <th>KBA13_KW_30</th>\n",
       "      <th>KBA13_KW_40</th>\n",
       "      <th>KBA13_KW_50</th>\n",
       "      <th>KBA13_KW_60</th>\n",
       "      <th>KBA13_KW_61_120</th>\n",
       "      <th>KBA13_KW_70</th>\n",
       "      <th>KBA13_KW_80</th>\n",
       "      <th>KBA13_KW_90</th>\n",
       "      <th>KBA13_MAZDA</th>\n",
       "      <th>KBA13_MERCEDES</th>\n",
       "      <th>KBA13_MOTOR</th>\n",
       "      <th>KBA13_NISSAN</th>\n",
       "      <th>KBA13_OPEL</th>\n",
       "      <th>KBA13_PEUGEOT</th>\n",
       "      <th>KBA13_RENAULT</th>\n",
       "      <th>KBA13_SEG_GELAENDEWAGEN</th>\n",
       "      <th>KBA13_SEG_GROSSRAUMVANS</th>\n",
       "      <th>KBA13_SEG_KLEINST</th>\n",
       "      <th>KBA13_SEG_KLEINWAGEN</th>\n",
       "      <th>KBA13_SEG_KOMPAKTKLASSE</th>\n",
       "      <th>KBA13_SEG_MINIVANS</th>\n",
       "      <th>KBA13_SEG_MINIWAGEN</th>\n",
       "      <th>KBA13_SEG_MITTELKLASSE</th>\n",
       "      <th>KBA13_SEG_OBEREMITTELKLASSE</th>\n",
       "      <th>KBA13_SEG_OBERKLASSE</th>\n",
       "      <th>KBA13_SEG_SONSTIGE</th>\n",
       "      <th>KBA13_SEG_SPORTWAGEN</th>\n",
       "      <th>KBA13_SEG_UTILITIES</th>\n",
       "      <th>KBA13_SEG_VAN</th>\n",
       "      <th>KBA13_SEG_WOHNMOBILE</th>\n",
       "      <th>KBA13_SITZE_4</th>\n",
       "      <th>KBA13_SITZE_5</th>\n",
       "      <th>KBA13_SITZE_6</th>\n",
       "      <th>KBA13_TOYOTA</th>\n",
       "      <th>KBA13_VORB_0</th>\n",
       "      <th>KBA13_VORB_1</th>\n",
       "      <th>KBA13_VORB_1_2</th>\n",
       "      <th>KBA13_VORB_2</th>\n",
       "      <th>KBA13_VORB_3</th>\n",
       "      <th>KBA13_VW</th>\n",
       "      <th>KK_KUNDENTYP</th>\n",
       "      <th>KKK</th>\n",
       "      <th>KOMBIALTER</th>\n",
       "      <th>KONSUMNAEHE</th>\n",
       "      <th>KONSUMZELLE</th>\n",
       "      <th>LP_FAMILIE_FEIN</th>\n",
       "      <th>LP_FAMILIE_GROB</th>\n",
       "      <th>LP_LEBENSPHASE_FEIN</th>\n",
       "      <th>LP_LEBENSPHASE_GROB</th>\n",
       "      <th>LP_STATUS_FEIN</th>\n",
       "      <th>LP_STATUS_GROB</th>\n",
       "      <th>MIN_GEBAEUDEJAHR</th>\n",
       "      <th>MOBI_RASTER</th>\n",
       "      <th>MOBI_REGIO</th>\n",
       "      <th>NATIONALITAET_KZ</th>\n",
       "      <th>ONLINE_AFFINITAET</th>\n",
       "      <th>ORTSGR_KLS9</th>\n",
       "      <th>PLZ8_ANTG1</th>\n",
       "      <th>PLZ8_ANTG2</th>\n",
       "      <th>PLZ8_ANTG3</th>\n",
       "      <th>PLZ8_ANTG4</th>\n",
       "      <th>PLZ8_BAUMAX</th>\n",
       "      <th>PLZ8_GBZ</th>\n",
       "      <th>PLZ8_HHZ</th>\n",
       "      <th>PRAEGENDE_JUGENDJAHRE</th>\n",
       "      <th>REGIOTYP</th>\n",
       "      <th>RELAT_AB</th>\n",
       "      <th>RETOURTYP_BK_S</th>\n",
       "      <th>RT_KEIN_ANREIZ</th>\n",
       "      <th>RT_SCHNAEPPCHEN</th>\n",
       "      <th>RT_UEBERGROESSE</th>\n",
       "      <th>SEMIO_DOM</th>\n",
       "      <th>SEMIO_ERL</th>\n",
       "      <th>SEMIO_FAM</th>\n",
       "      <th>SEMIO_KAEM</th>\n",
       "      <th>SEMIO_KRIT</th>\n",
       "      <th>SEMIO_KULT</th>\n",
       "      <th>SEMIO_LUST</th>\n",
       "      <th>SEMIO_MAT</th>\n",
       "      <th>SEMIO_PFLICHT</th>\n",
       "      <th>SEMIO_RAT</th>\n",
       "      <th>SEMIO_REL</th>\n",
       "      <th>SEMIO_SOZ</th>\n",
       "      <th>SEMIO_TRADV</th>\n",
       "      <th>SEMIO_VERT</th>\n",
       "      <th>SHOPPER_TYP</th>\n",
       "      <th>SOHO_KZ</th>\n",
       "      <th>STRUKTURTYP</th>\n",
       "      <th>TITEL_KZ</th>\n",
       "      <th>UMFELD_ALT</th>\n",
       "      <th>UMFELD_JUNG</th>\n",
       "      <th>UNGLEICHENN_FLAG</th>\n",
       "      <th>VERDICHTUNGSRAUM</th>\n",
       "      <th>VERS_TYP</th>\n",
       "      <th>VHA</th>\n",
       "      <th>VHN</th>\n",
       "      <th>VK_DHT4A</th>\n",
       "      <th>VK_DISTANZ</th>\n",
       "      <th>VK_ZG11</th>\n",
       "      <th>W_KEIT_KIND_HH</th>\n",
       "      <th>WOHNDAUER_2008</th>\n",
       "      <th>WOHNLAGE</th>\n",
       "      <th>ZABEOTYP</th>\n",
       "      <th>ANREDE_KZ</th>\n",
       "      <th>ALTERSKATEGORIE_GROB</th>\n",
       "    </tr>\n",
       "  </thead>\n",
       "  <tbody>\n",
       "    <tr>\n",
       "      <th>count</th>\n",
       "      <td>8.912210e+05</td>\n",
       "      <td>891221.000000</td>\n",
       "      <td>817722.000000</td>\n",
       "      <td>817722.000000</td>\n",
       "      <td>81058.000000</td>\n",
       "      <td>29499.000000</td>\n",
       "      <td>6170.000000</td>\n",
       "      <td>1205.000000</td>\n",
       "      <td>628274.000000</td>\n",
       "      <td>798073.000000</td>\n",
       "      <td>794213.000000</td>\n",
       "      <td>817722.000000</td>\n",
       "      <td>817722.000000</td>\n",
       "      <td>798073.000000</td>\n",
       "      <td>817722.000000</td>\n",
       "      <td>794005.000000</td>\n",
       "      <td>797481.000000</td>\n",
       "      <td>886367.000000</td>\n",
       "      <td>886367.000000</td>\n",
       "      <td>886367.000000</td>\n",
       "      <td>886367.000000</td>\n",
       "      <td>886367.000000</td>\n",
       "      <td>886367.000000</td>\n",
       "      <td>886367.000000</td>\n",
       "      <td>886367.000000</td>\n",
       "      <td>891221.000000</td>\n",
       "      <td>891221.000000</td>\n",
       "      <td>891221.000000</td>\n",
       "      <td>891221.000000</td>\n",
       "      <td>891221.000000</td>\n",
       "      <td>891221.000000</td>\n",
       "      <td>891221.000000</td>\n",
       "      <td>891221.000000</td>\n",
       "      <td>634108.000000</td>\n",
       "      <td>891221.000000</td>\n",
       "      <td>891221.000000</td>\n",
       "      <td>891221.000000</td>\n",
       "      <td>891221.000000</td>\n",
       "      <td>891221.000000</td>\n",
       "      <td>891221.000000</td>\n",
       "      <td>891221.000000</td>\n",
       "      <td>891221.000000</td>\n",
       "      <td>891221.000000</td>\n",
       "      <td>891221.000000</td>\n",
       "      <td>891221.000000</td>\n",
       "      <td>891221.000000</td>\n",
       "      <td>891221.000000</td>\n",
       "      <td>891221.000000</td>\n",
       "      <td>891221.000000</td>\n",
       "      <td>891221.000000</td>\n",
       "      <td>634108.000000</td>\n",
       "      <td>891221.000000</td>\n",
       "      <td>891221.000000</td>\n",
       "      <td>891221.000000</td>\n",
       "      <td>634108.000000</td>\n",
       "      <td>891221.000000</td>\n",
       "      <td>891221.000000</td>\n",
       "      <td>891221.000000</td>\n",
       "      <td>634108.000000</td>\n",
       "      <td>891221.000000</td>\n",
       "      <td>891221.000000</td>\n",
       "      <td>891221.000000</td>\n",
       "      <td>891221.000000</td>\n",
       "      <td>891221.000000</td>\n",
       "      <td>891221.000000</td>\n",
       "      <td>634108.000000</td>\n",
       "      <td>891221.000000</td>\n",
       "      <td>891221.000000</td>\n",
       "      <td>891221.000000</td>\n",
       "      <td>891221.000000</td>\n",
       "      <td>891221.000000</td>\n",
       "      <td>891221.000000</td>\n",
       "      <td>891221.000000</td>\n",
       "      <td>634108.000000</td>\n",
       "      <td>891221.000000</td>\n",
       "      <td>891221.000000</td>\n",
       "      <td>891221.000000</td>\n",
       "      <td>891221.000000</td>\n",
       "      <td>891221.000000</td>\n",
       "      <td>891221.000000</td>\n",
       "      <td>891221.000000</td>\n",
       "      <td>634108.000000</td>\n",
       "      <td>891221.000000</td>\n",
       "      <td>891221.000000</td>\n",
       "      <td>891221.000000</td>\n",
       "      <td>891221.000000</td>\n",
       "      <td>891221.000000</td>\n",
       "      <td>891221.000000</td>\n",
       "      <td>634108.000000</td>\n",
       "      <td>891221.000000</td>\n",
       "      <td>891221.000000</td>\n",
       "      <td>891221.000000</td>\n",
       "      <td>798073.000000</td>\n",
       "      <td>817722.000000</td>\n",
       "      <td>797481.000000</td>\n",
       "      <td>237068.000000</td>\n",
       "      <td>891221.000000</td>\n",
       "      <td>891221.000000</td>\n",
       "      <td>891221.000000</td>\n",
       "      <td>891221.000000</td>\n",
       "      <td>891221.000000</td>\n",
       "      <td>891221.000000</td>\n",
       "      <td>891221.000000</td>\n",
       "      <td>798066.000000</td>\n",
       "      <td>798073.000000</td>\n",
       "      <td>798066.000000</td>\n",
       "      <td>891221.000000</td>\n",
       "      <td>793947.000000</td>\n",
       "      <td>886367.000000</td>\n",
       "      <td>891221.000000</td>\n",
       "      <td>891221.000000</td>\n",
       "      <td>783619.000000</td>\n",
       "      <td>872873.000000</td>\n",
       "      <td>797481.000000</td>\n",
       "      <td>757897.000000</td>\n",
       "      <td>757897.000000</td>\n",
       "      <td>757897.000000</td>\n",
       "      <td>757897.000000</td>\n",
       "      <td>757897.000000</td>\n",
       "      <td>757897.000000</td>\n",
       "      <td>757897.000000</td>\n",
       "      <td>757897.000000</td>\n",
       "      <td>757897.000000</td>\n",
       "      <td>757897.000000</td>\n",
       "      <td>757897.000000</td>\n",
       "      <td>757897.000000</td>\n",
       "      <td>757897.000000</td>\n",
       "      <td>757897.000000</td>\n",
       "      <td>757897.000000</td>\n",
       "      <td>757897.000000</td>\n",
       "      <td>757897.000000</td>\n",
       "      <td>757897.000000</td>\n",
       "      <td>757897.000000</td>\n",
       "      <td>757897.000000</td>\n",
       "      <td>757897.000000</td>\n",
       "      <td>757897.000000</td>\n",
       "      <td>757897.000000</td>\n",
       "      <td>798073.000000</td>\n",
       "      <td>757897.000000</td>\n",
       "      <td>757897.000000</td>\n",
       "      <td>757897.000000</td>\n",
       "      <td>757897.000000</td>\n",
       "      <td>757897.000000</td>\n",
       "      <td>757897.000000</td>\n",
       "      <td>757897.000000</td>\n",
       "      <td>757897.000000</td>\n",
       "      <td>757897.000000</td>\n",
       "      <td>757897.000000</td>\n",
       "      <td>757897.000000</td>\n",
       "      <td>757897.000000</td>\n",
       "      <td>757897.000000</td>\n",
       "      <td>757897.000000</td>\n",
       "      <td>757897.000000</td>\n",
       "      <td>757897.000000</td>\n",
       "      <td>757897.000000</td>\n",
       "      <td>757897.000000</td>\n",
       "      <td>757897.000000</td>\n",
       "      <td>757897.000000</td>\n",
       "      <td>757897.000000</td>\n",
       "      <td>798073.000000</td>\n",
       "      <td>757897.000000</td>\n",
       "      <td>757897.000000</td>\n",
       "      <td>757897.000000</td>\n",
       "      <td>757897.000000</td>\n",
       "      <td>757897.000000</td>\n",
       "      <td>757897.000000</td>\n",
       "      <td>757897.000000</td>\n",
       "      <td>757897.000000</td>\n",
       "      <td>757897.000000</td>\n",
       "      <td>757897.000000</td>\n",
       "      <td>757897.000000</td>\n",
       "      <td>757897.000000</td>\n",
       "      <td>757897.000000</td>\n",
       "      <td>757897.000000</td>\n",
       "      <td>757897.000000</td>\n",
       "      <td>757897.000000</td>\n",
       "      <td>757897.000000</td>\n",
       "      <td>757897.000000</td>\n",
       "      <td>757897.000000</td>\n",
       "      <td>785421.000000</td>\n",
       "      <td>785421.000000</td>\n",
       "      <td>785421.000000</td>\n",
       "      <td>785421.000000</td>\n",
       "      <td>785421.000000</td>\n",
       "      <td>785421.000000</td>\n",
       "      <td>785421.000000</td>\n",
       "      <td>785421.000000</td>\n",
       "      <td>785421.000000</td>\n",
       "      <td>785421.000000</td>\n",
       "      <td>785421.000000</td>\n",
       "      <td>785421.000000</td>\n",
       "      <td>785421.000000</td>\n",
       "      <td>785421.000000</td>\n",
       "      <td>785421.000000</td>\n",
       "      <td>785421.000000</td>\n",
       "      <td>785421.000000</td>\n",
       "      <td>785421.000000</td>\n",
       "      <td>785421.000000</td>\n",
       "      <td>785421.000000</td>\n",
       "      <td>785421.000000</td>\n",
       "      <td>785421.000000</td>\n",
       "      <td>785421.000000</td>\n",
       "      <td>785421.000000</td>\n",
       "      <td>785421.000000</td>\n",
       "      <td>785421.000000</td>\n",
       "      <td>785421.000000</td>\n",
       "      <td>785421.000000</td>\n",
       "      <td>785421.000000</td>\n",
       "      <td>785421.000000</td>\n",
       "      <td>785421.000000</td>\n",
       "      <td>785421.000000</td>\n",
       "      <td>785421.000000</td>\n",
       "      <td>785421.000000</td>\n",
       "      <td>785421.000000</td>\n",
       "      <td>785421.000000</td>\n",
       "      <td>785421.000000</td>\n",
       "      <td>785421.000000</td>\n",
       "      <td>785421.000000</td>\n",
       "      <td>785421.000000</td>\n",
       "      <td>785421.000000</td>\n",
       "      <td>785421.000000</td>\n",
       "      <td>785421.000000</td>\n",
       "      <td>785421.000000</td>\n",
       "      <td>785421.000000</td>\n",
       "      <td>785421.000000</td>\n",
       "      <td>785421.000000</td>\n",
       "      <td>785421.000000</td>\n",
       "      <td>785421.000000</td>\n",
       "      <td>785421.000000</td>\n",
       "      <td>785421.000000</td>\n",
       "      <td>785421.000000</td>\n",
       "      <td>785421.000000</td>\n",
       "      <td>785421.000000</td>\n",
       "      <td>785421.000000</td>\n",
       "      <td>785421.000000</td>\n",
       "      <td>785421.000000</td>\n",
       "      <td>785421.000000</td>\n",
       "      <td>785421.000000</td>\n",
       "      <td>785421.000000</td>\n",
       "      <td>785421.000000</td>\n",
       "      <td>785421.000000</td>\n",
       "      <td>785421.000000</td>\n",
       "      <td>785421.000000</td>\n",
       "      <td>785421.000000</td>\n",
       "      <td>785421.000000</td>\n",
       "      <td>785421.000000</td>\n",
       "      <td>785421.000000</td>\n",
       "      <td>785421.000000</td>\n",
       "      <td>785421.000000</td>\n",
       "      <td>785421.000000</td>\n",
       "      <td>785421.000000</td>\n",
       "      <td>785421.000000</td>\n",
       "      <td>785421.000000</td>\n",
       "      <td>785421.000000</td>\n",
       "      <td>785421.000000</td>\n",
       "      <td>785421.000000</td>\n",
       "      <td>785421.000000</td>\n",
       "      <td>785421.000000</td>\n",
       "      <td>785421.000000</td>\n",
       "      <td>785421.000000</td>\n",
       "      <td>785421.000000</td>\n",
       "      <td>785421.000000</td>\n",
       "      <td>785421.000000</td>\n",
       "      <td>785421.000000</td>\n",
       "      <td>785421.000000</td>\n",
       "      <td>785421.000000</td>\n",
       "      <td>785421.000000</td>\n",
       "      <td>785421.000000</td>\n",
       "      <td>785421.000000</td>\n",
       "      <td>785421.000000</td>\n",
       "      <td>785421.000000</td>\n",
       "      <td>785421.000000</td>\n",
       "      <td>785421.000000</td>\n",
       "      <td>785421.000000</td>\n",
       "      <td>785421.000000</td>\n",
       "      <td>785421.00000</td>\n",
       "      <td>785421.000000</td>\n",
       "      <td>785421.000000</td>\n",
       "      <td>785421.000000</td>\n",
       "      <td>785421.000000</td>\n",
       "      <td>785421.000000</td>\n",
       "      <td>785421.000000</td>\n",
       "      <td>785421.000000</td>\n",
       "      <td>785421.000000</td>\n",
       "      <td>785421.000000</td>\n",
       "      <td>785421.000000</td>\n",
       "      <td>785421.000000</td>\n",
       "      <td>785421.000000</td>\n",
       "      <td>785421.000000</td>\n",
       "      <td>785421.000000</td>\n",
       "      <td>785421.000000</td>\n",
       "      <td>785421.000000</td>\n",
       "      <td>785421.000000</td>\n",
       "      <td>785421.000000</td>\n",
       "      <td>785421.000000</td>\n",
       "      <td>306609.000000</td>\n",
       "      <td>770025.000000</td>\n",
       "      <td>891221.000000</td>\n",
       "      <td>817252.000000</td>\n",
       "      <td>798066.000000</td>\n",
       "      <td>886367.000000</td>\n",
       "      <td>886367.000000</td>\n",
       "      <td>886367.000000</td>\n",
       "      <td>886367.000000</td>\n",
       "      <td>886367.000000</td>\n",
       "      <td>886367.000000</td>\n",
       "      <td>798073.000000</td>\n",
       "      <td>798073.000000</td>\n",
       "      <td>757897.000000</td>\n",
       "      <td>891221.000000</td>\n",
       "      <td>886367.000000</td>\n",
       "      <td>794005.000000</td>\n",
       "      <td>774706.000000</td>\n",
       "      <td>774706.000000</td>\n",
       "      <td>774706.000000</td>\n",
       "      <td>774706.000000</td>\n",
       "      <td>774706.000000</td>\n",
       "      <td>774706.000000</td>\n",
       "      <td>774706.000000</td>\n",
       "      <td>891221.000000</td>\n",
       "      <td>770025.000000</td>\n",
       "      <td>794005.00000</td>\n",
       "      <td>886367.000000</td>\n",
       "      <td>886367.000000</td>\n",
       "      <td>886367.000000</td>\n",
       "      <td>839995.000000</td>\n",
       "      <td>891221.000000</td>\n",
       "      <td>891221.000000</td>\n",
       "      <td>891221.000000</td>\n",
       "      <td>891221.000000</td>\n",
       "      <td>891221.000000</td>\n",
       "      <td>891221.000000</td>\n",
       "      <td>891221.000000</td>\n",
       "      <td>891221.000000</td>\n",
       "      <td>891221.000000</td>\n",
       "      <td>891221.000000</td>\n",
       "      <td>891221.000000</td>\n",
       "      <td>891221.000000</td>\n",
       "      <td>891221.000000</td>\n",
       "      <td>891221.000000</td>\n",
       "      <td>891221.000000</td>\n",
       "      <td>817722.000000</td>\n",
       "      <td>793947.000000</td>\n",
       "      <td>817722.000000</td>\n",
       "      <td>793435.000000</td>\n",
       "      <td>793435.000000</td>\n",
       "      <td>817722.000000</td>\n",
       "      <td>793947.00000</td>\n",
       "      <td>891221.000000</td>\n",
       "      <td>817722.00000</td>\n",
       "      <td>770025.000000</td>\n",
       "      <td>815304.000000</td>\n",
       "      <td>815304.000000</td>\n",
       "      <td>815304.000000</td>\n",
       "      <td>783619.000000</td>\n",
       "      <td>817722.000000</td>\n",
       "      <td>798073.000000</td>\n",
       "      <td>891221.000000</td>\n",
       "      <td>891221.000000</td>\n",
       "      <td>891221.000000</td>\n",
       "    </tr>\n",
       "    <tr>\n",
       "      <th>mean</th>\n",
       "      <td>6.372630e+05</td>\n",
       "      <td>-0.358435</td>\n",
       "      <td>4.421928</td>\n",
       "      <td>10.864126</td>\n",
       "      <td>11.745392</td>\n",
       "      <td>13.402658</td>\n",
       "      <td>14.476013</td>\n",
       "      <td>15.089627</td>\n",
       "      <td>13.700717</td>\n",
       "      <td>8.287263</td>\n",
       "      <td>0.040647</td>\n",
       "      <td>0.154018</td>\n",
       "      <td>1.727637</td>\n",
       "      <td>7.599356</td>\n",
       "      <td>0.004162</td>\n",
       "      <td>3.167854</td>\n",
       "      <td>4.153043</td>\n",
       "      <td>3.632838</td>\n",
       "      <td>3.335264</td>\n",
       "      <td>3.368086</td>\n",
       "      <td>3.195014</td>\n",
       "      <td>3.351290</td>\n",
       "      <td>3.336151</td>\n",
       "      <td>3.360684</td>\n",
       "      <td>3.465980</td>\n",
       "      <td>0.122336</td>\n",
       "      <td>0.219907</td>\n",
       "      <td>9.267420</td>\n",
       "      <td>0.892735</td>\n",
       "      <td>0.568580</td>\n",
       "      <td>0.106769</td>\n",
       "      <td>9.926794</td>\n",
       "      <td>9.439073</td>\n",
       "      <td>0.705221</td>\n",
       "      <td>0.425645</td>\n",
       "      <td>0.467869</td>\n",
       "      <td>1.145516</td>\n",
       "      <td>0.485508</td>\n",
       "      <td>0.257938</td>\n",
       "      <td>1.585405</td>\n",
       "      <td>0.196746</td>\n",
       "      <td>0.673292</td>\n",
       "      <td>0.346854</td>\n",
       "      <td>0.590678</td>\n",
       "      <td>0.255993</td>\n",
       "      <td>0.797683</td>\n",
       "      <td>1.240179</td>\n",
       "      <td>7.071743</td>\n",
       "      <td>9.034676</td>\n",
       "      <td>7.680381</td>\n",
       "      <td>3.560952</td>\n",
       "      <td>0.841994</td>\n",
       "      <td>1.017852</td>\n",
       "      <td>0.870657</td>\n",
       "      <td>5.424540</td>\n",
       "      <td>5.849228</td>\n",
       "      <td>1.030101</td>\n",
       "      <td>0.319525</td>\n",
       "      <td>1.521733</td>\n",
       "      <td>0.244524</td>\n",
       "      <td>0.502830</td>\n",
       "      <td>1.048628</td>\n",
       "      <td>0.594606</td>\n",
       "      <td>0.510818</td>\n",
       "      <td>2.365959</td>\n",
       "      <td>0.657908</td>\n",
       "      <td>1.738563</td>\n",
       "      <td>0.049056</td>\n",
       "      <td>0.098804</td>\n",
       "      <td>9.428728</td>\n",
       "      <td>1.009937</td>\n",
       "      <td>9.828039</td>\n",
       "      <td>9.981780</td>\n",
       "      <td>0.012261</td>\n",
       "      <td>0.779996</td>\n",
       "      <td>0.243178</td>\n",
       "      <td>0.604646</td>\n",
       "      <td>0.958868</td>\n",
       "      <td>7.717380</td>\n",
       "      <td>9.326818</td>\n",
       "      <td>7.942473</td>\n",
       "      <td>3.244432</td>\n",
       "      <td>0.829550</td>\n",
       "      <td>0.113597</td>\n",
       "      <td>0.206998</td>\n",
       "      <td>9.142563</td>\n",
       "      <td>9.922649</td>\n",
       "      <td>9.976712</td>\n",
       "      <td>0.025228</td>\n",
       "      <td>1.259786</td>\n",
       "      <td>1.728497</td>\n",
       "      <td>0.377515</td>\n",
       "      <td>0.967816</td>\n",
       "      <td>2003.729061</td>\n",
       "      <td>3.939172</td>\n",
       "      <td>33.338392</td>\n",
       "      <td>3.033328</td>\n",
       "      <td>3.075121</td>\n",
       "      <td>3.074528</td>\n",
       "      <td>2.821039</td>\n",
       "      <td>2.874167</td>\n",
       "      <td>3.401106</td>\n",
       "      <td>3.790586</td>\n",
       "      <td>3.456029</td>\n",
       "      <td>2.798641</td>\n",
       "      <td>3.738306</td>\n",
       "      <td>1101.178533</td>\n",
       "      <td>24.186748</td>\n",
       "      <td>7.350304</td>\n",
       "      <td>0.196612</td>\n",
       "      <td>1.792102</td>\n",
       "      <td>0.092745</td>\n",
       "      <td>4.207243</td>\n",
       "      <td>4.549491</td>\n",
       "      <td>2.071317</td>\n",
       "      <td>3.149416</td>\n",
       "      <td>3.112196</td>\n",
       "      <td>2.919489</td>\n",
       "      <td>1.106609</td>\n",
       "      <td>1.494277</td>\n",
       "      <td>1.265584</td>\n",
       "      <td>0.624525</td>\n",
       "      <td>0.305927</td>\n",
       "      <td>3.207994</td>\n",
       "      <td>1.389552</td>\n",
       "      <td>3.082453</td>\n",
       "      <td>3.115361</td>\n",
       "      <td>3.144479</td>\n",
       "      <td>1.358658</td>\n",
       "      <td>2.147870</td>\n",
       "      <td>3.110023</td>\n",
       "      <td>3.158580</td>\n",
       "      <td>2.476347</td>\n",
       "      <td>3.103159</td>\n",
       "      <td>3.035828</td>\n",
       "      <td>2.955032</td>\n",
       "      <td>2.923587</td>\n",
       "      <td>2.836532</td>\n",
       "      <td>3.097802</td>\n",
       "      <td>3.049426</td>\n",
       "      <td>3.078738</td>\n",
       "      <td>3.153802</td>\n",
       "      <td>2.127912</td>\n",
       "      <td>2.102949</td>\n",
       "      <td>2.135488</td>\n",
       "      <td>2.065225</td>\n",
       "      <td>3.093550</td>\n",
       "      <td>3.113674</td>\n",
       "      <td>1.551242</td>\n",
       "      <td>3.386927</td>\n",
       "      <td>2.444595</td>\n",
       "      <td>2.869010</td>\n",
       "      <td>2.278277</td>\n",
       "      <td>2.218266</td>\n",
       "      <td>1.437354</td>\n",
       "      <td>3.091425</td>\n",
       "      <td>3.096057</td>\n",
       "      <td>2.832567</td>\n",
       "      <td>1.379413</td>\n",
       "      <td>3.006467</td>\n",
       "      <td>2.649657</td>\n",
       "      <td>1.163318</td>\n",
       "      <td>1.233541</td>\n",
       "      <td>2.005177</td>\n",
       "      <td>3.098730</td>\n",
       "      <td>3.086683</td>\n",
       "      <td>3.104275</td>\n",
       "      <td>1.597992</td>\n",
       "      <td>0.292329</td>\n",
       "      <td>0.988600</td>\n",
       "      <td>0.901281</td>\n",
       "      <td>1.213546</td>\n",
       "      <td>2.970043</td>\n",
       "      <td>3.111915</td>\n",
       "      <td>2.858849</td>\n",
       "      <td>3.101210</td>\n",
       "      <td>3.105024</td>\n",
       "      <td>2.782602</td>\n",
       "      <td>2.270413</td>\n",
       "      <td>2.978739</td>\n",
       "      <td>3.084179</td>\n",
       "      <td>2.818780</td>\n",
       "      <td>3.119899</td>\n",
       "      <td>2.150965</td>\n",
       "      <td>2.777878</td>\n",
       "      <td>1.604806</td>\n",
       "      <td>0.676414</td>\n",
       "      <td>619.701439</td>\n",
       "      <td>3.005443</td>\n",
       "      <td>2.782243</td>\n",
       "      <td>2.019615</td>\n",
       "      <td>2.987050</td>\n",
       "      <td>2.990920</td>\n",
       "      <td>2.982818</td>\n",
       "      <td>2.983200</td>\n",
       "      <td>2.430025</td>\n",
       "      <td>2.453592</td>\n",
       "      <td>3.159222</td>\n",
       "      <td>2.342429</td>\n",
       "      <td>2.426497</td>\n",
       "      <td>2.329706</td>\n",
       "      <td>3.005170</td>\n",
       "      <td>2.910121</td>\n",
       "      <td>2.619311</td>\n",
       "      <td>3.029111</td>\n",
       "      <td>2.364001</td>\n",
       "      <td>3.071686</td>\n",
       "      <td>2.482918</td>\n",
       "      <td>2.512178</td>\n",
       "      <td>2.583847</td>\n",
       "      <td>2.625875</td>\n",
       "      <td>2.974637</td>\n",
       "      <td>2.988924</td>\n",
       "      <td>3.128779</td>\n",
       "      <td>3.004055</td>\n",
       "      <td>3.419656</td>\n",
       "      <td>2.909913</td>\n",
       "      <td>2.945092</td>\n",
       "      <td>3.056838</td>\n",
       "      <td>3.104942</td>\n",
       "      <td>3.089957</td>\n",
       "      <td>3.027353</td>\n",
       "      <td>2.844840</td>\n",
       "      <td>2.840152</td>\n",
       "      <td>2.889783</td>\n",
       "      <td>3.126904</td>\n",
       "      <td>3.103431</td>\n",
       "      <td>3.004371</td>\n",
       "      <td>2.924983</td>\n",
       "      <td>3.165170</td>\n",
       "      <td>3.083781</td>\n",
       "      <td>2.966992</td>\n",
       "      <td>2.988924</td>\n",
       "      <td>3.573068</td>\n",
       "      <td>2.329369</td>\n",
       "      <td>1.320813</td>\n",
       "      <td>2.694810</td>\n",
       "      <td>2.849393</td>\n",
       "      <td>2.932968</td>\n",
       "      <td>3.037302</td>\n",
       "      <td>2.457977</td>\n",
       "      <td>2.455954</td>\n",
       "      <td>1.268960</td>\n",
       "      <td>2.866368</td>\n",
       "      <td>2.959944</td>\n",
       "      <td>3.083096</td>\n",
       "      <td>3.008966</td>\n",
       "      <td>1.994527</td>\n",
       "      <td>1.954656</td>\n",
       "      <td>1.945301</td>\n",
       "      <td>1.832946</td>\n",
       "      <td>2.977747</td>\n",
       "      <td>2.404903</td>\n",
       "      <td>2.376123</td>\n",
       "      <td>2.506342</td>\n",
       "      <td>1.404983</td>\n",
       "      <td>2.405066</td>\n",
       "      <td>2.340691</td>\n",
       "      <td>2.291351</td>\n",
       "      <td>2.996188</td>\n",
       "      <td>2.336341</td>\n",
       "      <td>2.310013</td>\n",
       "      <td>2.382884</td>\n",
       "      <td>3.085354</td>\n",
       "      <td>3.144134</td>\n",
       "      <td>2.786029</td>\n",
       "      <td>3.060305</td>\n",
       "      <td>2.971935</td>\n",
       "      <td>3.071690</td>\n",
       "      <td>3.043498</td>\n",
       "      <td>2.910411</td>\n",
       "      <td>3.076376</td>\n",
       "      <td>2.989147</td>\n",
       "      <td>2.945591</td>\n",
       "      <td>2.950019</td>\n",
       "      <td>3.01906</td>\n",
       "      <td>3.117099</td>\n",
       "      <td>3.058855</td>\n",
       "      <td>3.161382</td>\n",
       "      <td>2.496483</td>\n",
       "      <td>3.071439</td>\n",
       "      <td>2.566942</td>\n",
       "      <td>3.016091</td>\n",
       "      <td>3.047092</td>\n",
       "      <td>2.538733</td>\n",
       "      <td>3.170897</td>\n",
       "      <td>2.842810</td>\n",
       "      <td>3.071781</td>\n",
       "      <td>3.074966</td>\n",
       "      <td>3.117557</td>\n",
       "      <td>2.980660</td>\n",
       "      <td>2.916887</td>\n",
       "      <td>3.011097</td>\n",
       "      <td>2.354173</td>\n",
       "      <td>2.935193</td>\n",
       "      <td>3.410640</td>\n",
       "      <td>2.592991</td>\n",
       "      <td>3.517955</td>\n",
       "      <td>3.018452</td>\n",
       "      <td>0.236165</td>\n",
       "      <td>3.599574</td>\n",
       "      <td>2.185966</td>\n",
       "      <td>14.622637</td>\n",
       "      <td>4.453621</td>\n",
       "      <td>4.791151</td>\n",
       "      <td>2.432575</td>\n",
       "      <td>1993.277011</td>\n",
       "      <td>2.378819</td>\n",
       "      <td>2.963540</td>\n",
       "      <td>1.026827</td>\n",
       "      <td>2.698691</td>\n",
       "      <td>5.293002</td>\n",
       "      <td>2.253330</td>\n",
       "      <td>2.801858</td>\n",
       "      <td>1.595426</td>\n",
       "      <td>0.699166</td>\n",
       "      <td>1.943913</td>\n",
       "      <td>3.381087</td>\n",
       "      <td>3.612821</td>\n",
       "      <td>8.154346</td>\n",
       "      <td>4.257967</td>\n",
       "      <td>3.07222</td>\n",
       "      <td>3.419630</td>\n",
       "      <td>3.233723</td>\n",
       "      <td>3.863797</td>\n",
       "      <td>3.023813</td>\n",
       "      <td>4.667550</td>\n",
       "      <td>4.481405</td>\n",
       "      <td>4.272729</td>\n",
       "      <td>4.445007</td>\n",
       "      <td>4.763223</td>\n",
       "      <td>4.025014</td>\n",
       "      <td>4.359086</td>\n",
       "      <td>4.001597</td>\n",
       "      <td>4.256076</td>\n",
       "      <td>3.910139</td>\n",
       "      <td>4.240609</td>\n",
       "      <td>3.945860</td>\n",
       "      <td>3.661784</td>\n",
       "      <td>4.023709</td>\n",
       "      <td>1.266967</td>\n",
       "      <td>0.008423</td>\n",
       "      <td>2.539212</td>\n",
       "      <td>0.003483</td>\n",
       "      <td>3.223125</td>\n",
       "      <td>4.017526</td>\n",
       "      <td>0.090067</td>\n",
       "      <td>4.58576</td>\n",
       "      <td>1.197852</td>\n",
       "      <td>0.43882</td>\n",
       "      <td>2.417322</td>\n",
       "      <td>6.001214</td>\n",
       "      <td>7.532130</td>\n",
       "      <td>5.945972</td>\n",
       "      <td>3.933406</td>\n",
       "      <td>7.908791</td>\n",
       "      <td>4.052836</td>\n",
       "      <td>3.362438</td>\n",
       "      <td>1.522098</td>\n",
       "      <td>2.777398</td>\n",
       "    </tr>\n",
       "    <tr>\n",
       "      <th>std</th>\n",
       "      <td>2.572735e+05</td>\n",
       "      <td>1.198724</td>\n",
       "      <td>3.638805</td>\n",
       "      <td>7.639683</td>\n",
       "      <td>4.097660</td>\n",
       "      <td>3.243300</td>\n",
       "      <td>2.712427</td>\n",
       "      <td>2.452932</td>\n",
       "      <td>5.079849</td>\n",
       "      <td>15.628087</td>\n",
       "      <td>0.324028</td>\n",
       "      <td>0.502389</td>\n",
       "      <td>1.155849</td>\n",
       "      <td>14.332201</td>\n",
       "      <td>0.068855</td>\n",
       "      <td>1.002376</td>\n",
       "      <td>2.183710</td>\n",
       "      <td>1.595021</td>\n",
       "      <td>1.493633</td>\n",
       "      <td>1.368331</td>\n",
       "      <td>1.401382</td>\n",
       "      <td>1.396508</td>\n",
       "      <td>1.373077</td>\n",
       "      <td>1.378992</td>\n",
       "      <td>1.328456</td>\n",
       "      <td>0.535950</td>\n",
       "      <td>0.747903</td>\n",
       "      <td>1.735725</td>\n",
       "      <td>2.011838</td>\n",
       "      <td>1.643764</td>\n",
       "      <td>0.808179</td>\n",
       "      <td>0.605641</td>\n",
       "      <td>1.547773</td>\n",
       "      <td>2.552707</td>\n",
       "      <td>1.510782</td>\n",
       "      <td>1.542151</td>\n",
       "      <td>2.266999</td>\n",
       "      <td>1.639340</td>\n",
       "      <td>1.252328</td>\n",
       "      <td>2.547925</td>\n",
       "      <td>1.036762</td>\n",
       "      <td>1.752758</td>\n",
       "      <td>1.337269</td>\n",
       "      <td>1.721602</td>\n",
       "      <td>1.213048</td>\n",
       "      <td>1.330718</td>\n",
       "      <td>1.727867</td>\n",
       "      <td>3.212715</td>\n",
       "      <td>1.768926</td>\n",
       "      <td>3.039867</td>\n",
       "      <td>4.658538</td>\n",
       "      <td>2.119703</td>\n",
       "      <td>2.144350</td>\n",
       "      <td>2.077303</td>\n",
       "      <td>3.234275</td>\n",
       "      <td>3.225762</td>\n",
       "      <td>2.347223</td>\n",
       "      <td>1.316090</td>\n",
       "      <td>2.832521</td>\n",
       "      <td>1.184654</td>\n",
       "      <td>1.616871</td>\n",
       "      <td>2.329347</td>\n",
       "      <td>1.798291</td>\n",
       "      <td>1.433293</td>\n",
       "      <td>2.861577</td>\n",
       "      <td>1.457774</td>\n",
       "      <td>2.740417</td>\n",
       "      <td>0.277552</td>\n",
       "      <td>0.393587</td>\n",
       "      <td>1.344289</td>\n",
       "      <td>2.187102</td>\n",
       "      <td>0.745852</td>\n",
       "      <td>0.241035</td>\n",
       "      <td>0.348780</td>\n",
       "      <td>1.969724</td>\n",
       "      <td>1.170809</td>\n",
       "      <td>1.150455</td>\n",
       "      <td>1.529453</td>\n",
       "      <td>2.989552</td>\n",
       "      <td>1.456007</td>\n",
       "      <td>2.942631</td>\n",
       "      <td>4.586604</td>\n",
       "      <td>1.912499</td>\n",
       "      <td>0.434877</td>\n",
       "      <td>0.617016</td>\n",
       "      <td>1.911186</td>\n",
       "      <td>0.502665</td>\n",
       "      <td>0.311191</td>\n",
       "      <td>0.498010</td>\n",
       "      <td>2.253954</td>\n",
       "      <td>2.605193</td>\n",
       "      <td>1.493151</td>\n",
       "      <td>0.176488</td>\n",
       "      <td>7.058204</td>\n",
       "      <td>1.718996</td>\n",
       "      <td>14.537408</td>\n",
       "      <td>1.529603</td>\n",
       "      <td>1.353248</td>\n",
       "      <td>1.321055</td>\n",
       "      <td>1.464749</td>\n",
       "      <td>1.486731</td>\n",
       "      <td>1.322134</td>\n",
       "      <td>1.987876</td>\n",
       "      <td>1.153415</td>\n",
       "      <td>2.656713</td>\n",
       "      <td>0.923193</td>\n",
       "      <td>976.583551</td>\n",
       "      <td>12.037852</td>\n",
       "      <td>3.525723</td>\n",
       "      <td>0.397437</td>\n",
       "      <td>1.269062</td>\n",
       "      <td>0.290075</td>\n",
       "      <td>1.624057</td>\n",
       "      <td>2.028919</td>\n",
       "      <td>1.532120</td>\n",
       "      <td>1.338676</td>\n",
       "      <td>1.349705</td>\n",
       "      <td>1.500372</td>\n",
       "      <td>1.427606</td>\n",
       "      <td>1.403961</td>\n",
       "      <td>1.245178</td>\n",
       "      <td>1.013443</td>\n",
       "      <td>0.638725</td>\n",
       "      <td>1.400238</td>\n",
       "      <td>1.779483</td>\n",
       "      <td>1.349763</td>\n",
       "      <td>1.323141</td>\n",
       "      <td>1.351333</td>\n",
       "      <td>1.621032</td>\n",
       "      <td>1.427566</td>\n",
       "      <td>1.349794</td>\n",
       "      <td>1.329537</td>\n",
       "      <td>1.635226</td>\n",
       "      <td>1.316661</td>\n",
       "      <td>1.394468</td>\n",
       "      <td>1.496686</td>\n",
       "      <td>1.539973</td>\n",
       "      <td>1.491578</td>\n",
       "      <td>1.396567</td>\n",
       "      <td>1.308095</td>\n",
       "      <td>1.345043</td>\n",
       "      <td>1.362345</td>\n",
       "      <td>1.159441</td>\n",
       "      <td>1.145852</td>\n",
       "      <td>1.126434</td>\n",
       "      <td>1.196110</td>\n",
       "      <td>1.376706</td>\n",
       "      <td>1.333745</td>\n",
       "      <td>1.607973</td>\n",
       "      <td>1.493682</td>\n",
       "      <td>1.496391</td>\n",
       "      <td>1.403278</td>\n",
       "      <td>1.318311</td>\n",
       "      <td>1.209227</td>\n",
       "      <td>1.643943</td>\n",
       "      <td>1.328794</td>\n",
       "      <td>1.350524</td>\n",
       "      <td>1.612727</td>\n",
       "      <td>1.464159</td>\n",
       "      <td>1.255616</td>\n",
       "      <td>1.287217</td>\n",
       "      <td>1.359159</td>\n",
       "      <td>1.441903</td>\n",
       "      <td>1.508828</td>\n",
       "      <td>1.332421</td>\n",
       "      <td>1.343910</td>\n",
       "      <td>1.317709</td>\n",
       "      <td>1.567611</td>\n",
       "      <td>1.269465</td>\n",
       "      <td>1.477921</td>\n",
       "      <td>1.472815</td>\n",
       "      <td>1.445609</td>\n",
       "      <td>1.417498</td>\n",
       "      <td>1.333840</td>\n",
       "      <td>1.616102</td>\n",
       "      <td>1.336639</td>\n",
       "      <td>1.341038</td>\n",
       "      <td>1.614416</td>\n",
       "      <td>1.733541</td>\n",
       "      <td>1.061121</td>\n",
       "      <td>1.114805</td>\n",
       "      <td>1.054657</td>\n",
       "      <td>1.065411</td>\n",
       "      <td>0.921052</td>\n",
       "      <td>0.932685</td>\n",
       "      <td>1.017783</td>\n",
       "      <td>0.735776</td>\n",
       "      <td>340.034318</td>\n",
       "      <td>1.003598</td>\n",
       "      <td>1.049191</td>\n",
       "      <td>1.510167</td>\n",
       "      <td>0.962333</td>\n",
       "      <td>0.997081</td>\n",
       "      <td>0.950731</td>\n",
       "      <td>0.964752</td>\n",
       "      <td>1.466413</td>\n",
       "      <td>1.448965</td>\n",
       "      <td>1.000801</td>\n",
       "      <td>1.445697</td>\n",
       "      <td>1.436357</td>\n",
       "      <td>1.459578</td>\n",
       "      <td>0.942756</td>\n",
       "      <td>0.945072</td>\n",
       "      <td>1.419685</td>\n",
       "      <td>0.938871</td>\n",
       "      <td>1.436662</td>\n",
       "      <td>0.938193</td>\n",
       "      <td>1.414943</td>\n",
       "      <td>1.449423</td>\n",
       "      <td>1.368104</td>\n",
       "      <td>1.511502</td>\n",
       "      <td>1.017911</td>\n",
       "      <td>1.008135</td>\n",
       "      <td>1.001766</td>\n",
       "      <td>1.040267</td>\n",
       "      <td>1.119775</td>\n",
       "      <td>1.001968</td>\n",
       "      <td>1.036591</td>\n",
       "      <td>1.089204</td>\n",
       "      <td>1.105378</td>\n",
       "      <td>1.097062</td>\n",
       "      <td>1.078913</td>\n",
       "      <td>1.053112</td>\n",
       "      <td>1.062277</td>\n",
       "      <td>1.073687</td>\n",
       "      <td>1.044822</td>\n",
       "      <td>1.075110</td>\n",
       "      <td>1.031193</td>\n",
       "      <td>1.026814</td>\n",
       "      <td>1.022937</td>\n",
       "      <td>1.013485</td>\n",
       "      <td>1.058178</td>\n",
       "      <td>1.008135</td>\n",
       "      <td>0.978024</td>\n",
       "      <td>1.529004</td>\n",
       "      <td>0.676535</td>\n",
       "      <td>1.390453</td>\n",
       "      <td>0.971055</td>\n",
       "      <td>0.970028</td>\n",
       "      <td>0.955909</td>\n",
       "      <td>1.491628</td>\n",
       "      <td>1.490854</td>\n",
       "      <td>0.672798</td>\n",
       "      <td>1.062772</td>\n",
       "      <td>1.011523</td>\n",
       "      <td>1.009635</td>\n",
       "      <td>1.040945</td>\n",
       "      <td>0.292661</td>\n",
       "      <td>0.584313</td>\n",
       "      <td>0.615499</td>\n",
       "      <td>0.781109</td>\n",
       "      <td>0.968180</td>\n",
       "      <td>1.429198</td>\n",
       "      <td>1.505370</td>\n",
       "      <td>1.437424</td>\n",
       "      <td>0.681106</td>\n",
       "      <td>1.412106</td>\n",
       "      <td>1.441927</td>\n",
       "      <td>1.411954</td>\n",
       "      <td>0.957387</td>\n",
       "      <td>1.430272</td>\n",
       "      <td>1.410661</td>\n",
       "      <td>1.430076</td>\n",
       "      <td>0.999931</td>\n",
       "      <td>1.023847</td>\n",
       "      <td>0.768496</td>\n",
       "      <td>1.018650</td>\n",
       "      <td>1.054774</td>\n",
       "      <td>1.009349</td>\n",
       "      <td>1.023270</td>\n",
       "      <td>1.001290</td>\n",
       "      <td>1.013363</td>\n",
       "      <td>1.027775</td>\n",
       "      <td>1.016326</td>\n",
       "      <td>1.017614</td>\n",
       "      <td>1.01522</td>\n",
       "      <td>1.011775</td>\n",
       "      <td>1.026028</td>\n",
       "      <td>1.009669</td>\n",
       "      <td>1.479816</td>\n",
       "      <td>0.963400</td>\n",
       "      <td>1.437284</td>\n",
       "      <td>0.998701</td>\n",
       "      <td>1.011615</td>\n",
       "      <td>1.411366</td>\n",
       "      <td>1.053637</td>\n",
       "      <td>1.056045</td>\n",
       "      <td>1.041083</td>\n",
       "      <td>1.007389</td>\n",
       "      <td>0.975495</td>\n",
       "      <td>0.957392</td>\n",
       "      <td>0.961899</td>\n",
       "      <td>0.943805</td>\n",
       "      <td>1.469417</td>\n",
       "      <td>1.028888</td>\n",
       "      <td>1.628844</td>\n",
       "      <td>1.119052</td>\n",
       "      <td>2.110462</td>\n",
       "      <td>1.550312</td>\n",
       "      <td>0.424725</td>\n",
       "      <td>3.926486</td>\n",
       "      <td>1.756537</td>\n",
       "      <td>12.616883</td>\n",
       "      <td>3.855639</td>\n",
       "      <td>3.425305</td>\n",
       "      <td>1.474315</td>\n",
       "      <td>3.332739</td>\n",
       "      <td>1.536927</td>\n",
       "      <td>1.428882</td>\n",
       "      <td>0.586634</td>\n",
       "      <td>1.521524</td>\n",
       "      <td>2.303739</td>\n",
       "      <td>0.972008</td>\n",
       "      <td>0.920309</td>\n",
       "      <td>0.986736</td>\n",
       "      <td>0.727137</td>\n",
       "      <td>1.459654</td>\n",
       "      <td>1.111598</td>\n",
       "      <td>0.973967</td>\n",
       "      <td>4.844532</td>\n",
       "      <td>2.030385</td>\n",
       "      <td>1.36298</td>\n",
       "      <td>1.417741</td>\n",
       "      <td>1.388687</td>\n",
       "      <td>1.282747</td>\n",
       "      <td>1.502725</td>\n",
       "      <td>1.795712</td>\n",
       "      <td>1.807552</td>\n",
       "      <td>1.915885</td>\n",
       "      <td>1.852412</td>\n",
       "      <td>1.830789</td>\n",
       "      <td>1.903816</td>\n",
       "      <td>2.022829</td>\n",
       "      <td>1.857540</td>\n",
       "      <td>1.770137</td>\n",
       "      <td>1.580306</td>\n",
       "      <td>2.007373</td>\n",
       "      <td>1.946564</td>\n",
       "      <td>1.707637</td>\n",
       "      <td>2.077746</td>\n",
       "      <td>1.287435</td>\n",
       "      <td>0.091392</td>\n",
       "      <td>0.754926</td>\n",
       "      <td>0.084957</td>\n",
       "      <td>1.255785</td>\n",
       "      <td>1.118399</td>\n",
       "      <td>0.286278</td>\n",
       "      <td>8.47152</td>\n",
       "      <td>0.952532</td>\n",
       "      <td>1.14329</td>\n",
       "      <td>1.166572</td>\n",
       "      <td>2.856091</td>\n",
       "      <td>3.247789</td>\n",
       "      <td>2.771464</td>\n",
       "      <td>1.964701</td>\n",
       "      <td>1.923137</td>\n",
       "      <td>1.949539</td>\n",
       "      <td>1.352704</td>\n",
       "      <td>0.499512</td>\n",
       "      <td>1.068775</td>\n",
       "    </tr>\n",
       "    <tr>\n",
       "      <th>min</th>\n",
       "      <td>1.916530e+05</td>\n",
       "      <td>-1.000000</td>\n",
       "      <td>1.000000</td>\n",
       "      <td>0.000000</td>\n",
       "      <td>2.000000</td>\n",
       "      <td>2.000000</td>\n",
       "      <td>4.000000</td>\n",
       "      <td>7.000000</td>\n",
       "      <td>0.000000</td>\n",
       "      <td>0.000000</td>\n",
       "      <td>0.000000</td>\n",
       "      <td>0.000000</td>\n",
       "      <td>0.000000</td>\n",
       "      <td>0.000000</td>\n",
       "      <td>0.000000</td>\n",
       "      <td>1.000000</td>\n",
       "      <td>1.000000</td>\n",
       "      <td>1.000000</td>\n",
       "      <td>1.000000</td>\n",
       "      <td>1.000000</td>\n",
       "      <td>1.000000</td>\n",
       "      <td>1.000000</td>\n",
       "      <td>1.000000</td>\n",
       "      <td>1.000000</td>\n",
       "      <td>1.000000</td>\n",
       "      <td>0.000000</td>\n",
       "      <td>0.000000</td>\n",
       "      <td>1.000000</td>\n",
       "      <td>0.000000</td>\n",
       "      <td>0.000000</td>\n",
       "      <td>0.000000</td>\n",
       "      <td>1.000000</td>\n",
       "      <td>1.000000</td>\n",
       "      <td>0.000000</td>\n",
       "      <td>0.000000</td>\n",
       "      <td>0.000000</td>\n",
       "      <td>0.000000</td>\n",
       "      <td>0.000000</td>\n",
       "      <td>0.000000</td>\n",
       "      <td>0.000000</td>\n",
       "      <td>0.000000</td>\n",
       "      <td>0.000000</td>\n",
       "      <td>0.000000</td>\n",
       "      <td>0.000000</td>\n",
       "      <td>0.000000</td>\n",
       "      <td>0.000000</td>\n",
       "      <td>0.000000</td>\n",
       "      <td>1.000000</td>\n",
       "      <td>1.000000</td>\n",
       "      <td>1.000000</td>\n",
       "      <td>0.000000</td>\n",
       "      <td>0.000000</td>\n",
       "      <td>0.000000</td>\n",
       "      <td>0.000000</td>\n",
       "      <td>1.000000</td>\n",
       "      <td>1.000000</td>\n",
       "      <td>0.000000</td>\n",
       "      <td>0.000000</td>\n",
       "      <td>0.000000</td>\n",
       "      <td>0.000000</td>\n",
       "      <td>0.000000</td>\n",
       "      <td>0.000000</td>\n",
       "      <td>0.000000</td>\n",
       "      <td>0.000000</td>\n",
       "      <td>0.000000</td>\n",
       "      <td>0.000000</td>\n",
       "      <td>0.000000</td>\n",
       "      <td>0.000000</td>\n",
       "      <td>0.000000</td>\n",
       "      <td>1.000000</td>\n",
       "      <td>0.000000</td>\n",
       "      <td>1.000000</td>\n",
       "      <td>1.000000</td>\n",
       "      <td>0.000000</td>\n",
       "      <td>0.000000</td>\n",
       "      <td>0.000000</td>\n",
       "      <td>0.000000</td>\n",
       "      <td>0.000000</td>\n",
       "      <td>1.000000</td>\n",
       "      <td>1.000000</td>\n",
       "      <td>1.000000</td>\n",
       "      <td>0.000000</td>\n",
       "      <td>0.000000</td>\n",
       "      <td>0.000000</td>\n",
       "      <td>0.000000</td>\n",
       "      <td>1.000000</td>\n",
       "      <td>1.000000</td>\n",
       "      <td>1.000000</td>\n",
       "      <td>0.000000</td>\n",
       "      <td>0.000000</td>\n",
       "      <td>0.000000</td>\n",
       "      <td>0.000000</td>\n",
       "      <td>0.000000</td>\n",
       "      <td>1900.000000</td>\n",
       "      <td>1.000000</td>\n",
       "      <td>1.000000</td>\n",
       "      <td>1.000000</td>\n",
       "      <td>1.000000</td>\n",
       "      <td>1.000000</td>\n",
       "      <td>1.000000</td>\n",
       "      <td>1.000000</td>\n",
       "      <td>1.000000</td>\n",
       "      <td>1.000000</td>\n",
       "      <td>1.000000</td>\n",
       "      <td>1.000000</td>\n",
       "      <td>1.000000</td>\n",
       "      <td>0.000000</td>\n",
       "      <td>11.000000</td>\n",
       "      <td>1.000000</td>\n",
       "      <td>0.000000</td>\n",
       "      <td>-1.000000</td>\n",
       "      <td>0.000000</td>\n",
       "      <td>1.000000</td>\n",
       "      <td>1.000000</td>\n",
       "      <td>0.000000</td>\n",
       "      <td>1.000000</td>\n",
       "      <td>1.000000</td>\n",
       "      <td>0.000000</td>\n",
       "      <td>0.000000</td>\n",
       "      <td>0.000000</td>\n",
       "      <td>0.000000</td>\n",
       "      <td>0.000000</td>\n",
       "      <td>0.000000</td>\n",
       "      <td>1.000000</td>\n",
       "      <td>0.000000</td>\n",
       "      <td>1.000000</td>\n",
       "      <td>1.000000</td>\n",
       "      <td>1.000000</td>\n",
       "      <td>0.000000</td>\n",
       "      <td>0.000000</td>\n",
       "      <td>1.000000</td>\n",
       "      <td>1.000000</td>\n",
       "      <td>0.000000</td>\n",
       "      <td>1.000000</td>\n",
       "      <td>0.000000</td>\n",
       "      <td>0.000000</td>\n",
       "      <td>0.000000</td>\n",
       "      <td>1.000000</td>\n",
       "      <td>1.000000</td>\n",
       "      <td>1.000000</td>\n",
       "      <td>1.000000</td>\n",
       "      <td>1.000000</td>\n",
       "      <td>1.000000</td>\n",
       "      <td>1.000000</td>\n",
       "      <td>1.000000</td>\n",
       "      <td>1.000000</td>\n",
       "      <td>1.000000</td>\n",
       "      <td>1.000000</td>\n",
       "      <td>0.000000</td>\n",
       "      <td>1.000000</td>\n",
       "      <td>1.000000</td>\n",
       "      <td>1.000000</td>\n",
       "      <td>1.000000</td>\n",
       "      <td>1.000000</td>\n",
       "      <td>0.000000</td>\n",
       "      <td>1.000000</td>\n",
       "      <td>1.000000</td>\n",
       "      <td>0.000000</td>\n",
       "      <td>0.000000</td>\n",
       "      <td>1.000000</td>\n",
       "      <td>1.000000</td>\n",
       "      <td>0.000000</td>\n",
       "      <td>0.000000</td>\n",
       "      <td>0.000000</td>\n",
       "      <td>1.000000</td>\n",
       "      <td>1.000000</td>\n",
       "      <td>1.000000</td>\n",
       "      <td>0.000000</td>\n",
       "      <td>0.000000</td>\n",
       "      <td>0.000000</td>\n",
       "      <td>0.000000</td>\n",
       "      <td>0.000000</td>\n",
       "      <td>1.000000</td>\n",
       "      <td>1.000000</td>\n",
       "      <td>0.000000</td>\n",
       "      <td>1.000000</td>\n",
       "      <td>1.000000</td>\n",
       "      <td>0.000000</td>\n",
       "      <td>0.000000</td>\n",
       "      <td>1.000000</td>\n",
       "      <td>1.000000</td>\n",
       "      <td>1.000000</td>\n",
       "      <td>1.000000</td>\n",
       "      <td>0.000000</td>\n",
       "      <td>0.000000</td>\n",
       "      <td>0.000000</td>\n",
       "      <td>0.000000</td>\n",
       "      <td>0.000000</td>\n",
       "      <td>1.000000</td>\n",
       "      <td>0.000000</td>\n",
       "      <td>1.000000</td>\n",
       "      <td>1.000000</td>\n",
       "      <td>1.000000</td>\n",
       "      <td>1.000000</td>\n",
       "      <td>1.000000</td>\n",
       "      <td>0.000000</td>\n",
       "      <td>0.000000</td>\n",
       "      <td>1.000000</td>\n",
       "      <td>0.000000</td>\n",
       "      <td>0.000000</td>\n",
       "      <td>0.000000</td>\n",
       "      <td>1.000000</td>\n",
       "      <td>1.000000</td>\n",
       "      <td>1.000000</td>\n",
       "      <td>1.000000</td>\n",
       "      <td>0.000000</td>\n",
       "      <td>1.000000</td>\n",
       "      <td>0.000000</td>\n",
       "      <td>0.000000</td>\n",
       "      <td>0.000000</td>\n",
       "      <td>1.000000</td>\n",
       "      <td>1.000000</td>\n",
       "      <td>1.000000</td>\n",
       "      <td>1.000000</td>\n",
       "      <td>1.000000</td>\n",
       "      <td>1.000000</td>\n",
       "      <td>1.000000</td>\n",
       "      <td>1.000000</td>\n",
       "      <td>1.000000</td>\n",
       "      <td>1.000000</td>\n",
       "      <td>1.000000</td>\n",
       "      <td>1.000000</td>\n",
       "      <td>1.000000</td>\n",
       "      <td>1.000000</td>\n",
       "      <td>1.000000</td>\n",
       "      <td>1.000000</td>\n",
       "      <td>1.000000</td>\n",
       "      <td>1.000000</td>\n",
       "      <td>1.000000</td>\n",
       "      <td>1.000000</td>\n",
       "      <td>1.000000</td>\n",
       "      <td>1.000000</td>\n",
       "      <td>1.000000</td>\n",
       "      <td>1.000000</td>\n",
       "      <td>0.000000</td>\n",
       "      <td>1.000000</td>\n",
       "      <td>1.000000</td>\n",
       "      <td>1.000000</td>\n",
       "      <td>1.000000</td>\n",
       "      <td>1.000000</td>\n",
       "      <td>0.000000</td>\n",
       "      <td>0.000000</td>\n",
       "      <td>1.000000</td>\n",
       "      <td>0.000000</td>\n",
       "      <td>0.000000</td>\n",
       "      <td>0.000000</td>\n",
       "      <td>0.000000</td>\n",
       "      <td>0.000000</td>\n",
       "      <td>0.000000</td>\n",
       "      <td>0.000000</td>\n",
       "      <td>0.000000</td>\n",
       "      <td>1.000000</td>\n",
       "      <td>0.000000</td>\n",
       "      <td>0.000000</td>\n",
       "      <td>0.000000</td>\n",
       "      <td>1.000000</td>\n",
       "      <td>0.000000</td>\n",
       "      <td>0.000000</td>\n",
       "      <td>0.000000</td>\n",
       "      <td>1.000000</td>\n",
       "      <td>0.000000</td>\n",
       "      <td>0.000000</td>\n",
       "      <td>0.000000</td>\n",
       "      <td>1.000000</td>\n",
       "      <td>1.000000</td>\n",
       "      <td>1.000000</td>\n",
       "      <td>1.000000</td>\n",
       "      <td>1.000000</td>\n",
       "      <td>1.000000</td>\n",
       "      <td>1.000000</td>\n",
       "      <td>1.000000</td>\n",
       "      <td>1.000000</td>\n",
       "      <td>1.000000</td>\n",
       "      <td>1.000000</td>\n",
       "      <td>1.000000</td>\n",
       "      <td>1.00000</td>\n",
       "      <td>1.000000</td>\n",
       "      <td>1.000000</td>\n",
       "      <td>1.000000</td>\n",
       "      <td>0.000000</td>\n",
       "      <td>1.000000</td>\n",
       "      <td>0.000000</td>\n",
       "      <td>1.000000</td>\n",
       "      <td>1.000000</td>\n",
       "      <td>0.000000</td>\n",
       "      <td>1.000000</td>\n",
       "      <td>1.000000</td>\n",
       "      <td>1.000000</td>\n",
       "      <td>1.000000</td>\n",
       "      <td>1.000000</td>\n",
       "      <td>1.000000</td>\n",
       "      <td>1.000000</td>\n",
       "      <td>1.000000</td>\n",
       "      <td>0.000000</td>\n",
       "      <td>1.000000</td>\n",
       "      <td>1.000000</td>\n",
       "      <td>0.000000</td>\n",
       "      <td>1.000000</td>\n",
       "      <td>1.000000</td>\n",
       "      <td>0.000000</td>\n",
       "      <td>0.000000</td>\n",
       "      <td>0.000000</td>\n",
       "      <td>0.000000</td>\n",
       "      <td>0.000000</td>\n",
       "      <td>1.000000</td>\n",
       "      <td>1.000000</td>\n",
       "      <td>1985.000000</td>\n",
       "      <td>1.000000</td>\n",
       "      <td>1.000000</td>\n",
       "      <td>0.000000</td>\n",
       "      <td>0.000000</td>\n",
       "      <td>0.000000</td>\n",
       "      <td>0.000000</td>\n",
       "      <td>0.000000</td>\n",
       "      <td>0.000000</td>\n",
       "      <td>0.000000</td>\n",
       "      <td>1.000000</td>\n",
       "      <td>1.000000</td>\n",
       "      <td>1.000000</td>\n",
       "      <td>0.000000</td>\n",
       "      <td>0.000000</td>\n",
       "      <td>1.00000</td>\n",
       "      <td>1.000000</td>\n",
       "      <td>1.000000</td>\n",
       "      <td>1.000000</td>\n",
       "      <td>0.000000</td>\n",
       "      <td>1.000000</td>\n",
       "      <td>1.000000</td>\n",
       "      <td>1.000000</td>\n",
       "      <td>1.000000</td>\n",
       "      <td>1.000000</td>\n",
       "      <td>1.000000</td>\n",
       "      <td>1.000000</td>\n",
       "      <td>1.000000</td>\n",
       "      <td>1.000000</td>\n",
       "      <td>1.000000</td>\n",
       "      <td>1.000000</td>\n",
       "      <td>1.000000</td>\n",
       "      <td>1.000000</td>\n",
       "      <td>1.000000</td>\n",
       "      <td>-1.000000</td>\n",
       "      <td>0.000000</td>\n",
       "      <td>1.000000</td>\n",
       "      <td>0.000000</td>\n",
       "      <td>1.000000</td>\n",
       "      <td>1.000000</td>\n",
       "      <td>0.000000</td>\n",
       "      <td>0.00000</td>\n",
       "      <td>-1.000000</td>\n",
       "      <td>0.00000</td>\n",
       "      <td>0.000000</td>\n",
       "      <td>1.000000</td>\n",
       "      <td>1.000000</td>\n",
       "      <td>1.000000</td>\n",
       "      <td>0.000000</td>\n",
       "      <td>1.000000</td>\n",
       "      <td>0.000000</td>\n",
       "      <td>1.000000</td>\n",
       "      <td>1.000000</td>\n",
       "      <td>1.000000</td>\n",
       "    </tr>\n",
       "    <tr>\n",
       "      <th>25%</th>\n",
       "      <td>4.144580e+05</td>\n",
       "      <td>-1.000000</td>\n",
       "      <td>1.000000</td>\n",
       "      <td>0.000000</td>\n",
       "      <td>8.000000</td>\n",
       "      <td>11.000000</td>\n",
       "      <td>13.000000</td>\n",
       "      <td>14.000000</td>\n",
       "      <td>11.000000</td>\n",
       "      <td>1.000000</td>\n",
       "      <td>0.000000</td>\n",
       "      <td>0.000000</td>\n",
       "      <td>1.000000</td>\n",
       "      <td>1.000000</td>\n",
       "      <td>0.000000</td>\n",
       "      <td>3.000000</td>\n",
       "      <td>2.000000</td>\n",
       "      <td>2.000000</td>\n",
       "      <td>2.000000</td>\n",
       "      <td>2.000000</td>\n",
       "      <td>2.000000</td>\n",
       "      <td>2.000000</td>\n",
       "      <td>2.000000</td>\n",
       "      <td>2.000000</td>\n",
       "      <td>2.000000</td>\n",
       "      <td>0.000000</td>\n",
       "      <td>0.000000</td>\n",
       "      <td>10.000000</td>\n",
       "      <td>0.000000</td>\n",
       "      <td>0.000000</td>\n",
       "      <td>0.000000</td>\n",
       "      <td>10.000000</td>\n",
       "      <td>10.000000</td>\n",
       "      <td>0.000000</td>\n",
       "      <td>0.000000</td>\n",
       "      <td>0.000000</td>\n",
       "      <td>0.000000</td>\n",
       "      <td>0.000000</td>\n",
       "      <td>0.000000</td>\n",
       "      <td>0.000000</td>\n",
       "      <td>0.000000</td>\n",
       "      <td>0.000000</td>\n",
       "      <td>0.000000</td>\n",
       "      <td>0.000000</td>\n",
       "      <td>0.000000</td>\n",
       "      <td>0.000000</td>\n",
       "      <td>0.000000</td>\n",
       "      <td>5.000000</td>\n",
       "      <td>9.000000</td>\n",
       "      <td>5.000000</td>\n",
       "      <td>0.000000</td>\n",
       "      <td>0.000000</td>\n",
       "      <td>0.000000</td>\n",
       "      <td>0.000000</td>\n",
       "      <td>2.000000</td>\n",
       "      <td>2.000000</td>\n",
       "      <td>0.000000</td>\n",
       "      <td>0.000000</td>\n",
       "      <td>0.000000</td>\n",
       "      <td>0.000000</td>\n",
       "      <td>0.000000</td>\n",
       "      <td>0.000000</td>\n",
       "      <td>0.000000</td>\n",
       "      <td>0.000000</td>\n",
       "      <td>0.000000</td>\n",
       "      <td>0.000000</td>\n",
       "      <td>0.000000</td>\n",
       "      <td>0.000000</td>\n",
       "      <td>0.000000</td>\n",
       "      <td>9.000000</td>\n",
       "      <td>0.000000</td>\n",
       "      <td>10.000000</td>\n",
       "      <td>10.000000</td>\n",
       "      <td>0.000000</td>\n",
       "      <td>0.000000</td>\n",
       "      <td>0.000000</td>\n",
       "      <td>0.000000</td>\n",
       "      <td>0.000000</td>\n",
       "      <td>5.000000</td>\n",
       "      <td>9.000000</td>\n",
       "      <td>6.000000</td>\n",
       "      <td>0.000000</td>\n",
       "      <td>0.000000</td>\n",
       "      <td>0.000000</td>\n",
       "      <td>0.000000</td>\n",
       "      <td>9.000000</td>\n",
       "      <td>10.000000</td>\n",
       "      <td>10.000000</td>\n",
       "      <td>0.000000</td>\n",
       "      <td>0.000000</td>\n",
       "      <td>0.000000</td>\n",
       "      <td>0.000000</td>\n",
       "      <td>1.000000</td>\n",
       "      <td>1997.000000</td>\n",
       "      <td>2.000000</td>\n",
       "      <td>23.000000</td>\n",
       "      <td>2.000000</td>\n",
       "      <td>2.000000</td>\n",
       "      <td>2.000000</td>\n",
       "      <td>1.000000</td>\n",
       "      <td>2.000000</td>\n",
       "      <td>3.000000</td>\n",
       "      <td>2.000000</td>\n",
       "      <td>3.000000</td>\n",
       "      <td>1.000000</td>\n",
       "      <td>3.000000</td>\n",
       "      <td>0.000000</td>\n",
       "      <td>12.000000</td>\n",
       "      <td>5.000000</td>\n",
       "      <td>0.000000</td>\n",
       "      <td>1.000000</td>\n",
       "      <td>0.000000</td>\n",
       "      <td>3.000000</td>\n",
       "      <td>3.000000</td>\n",
       "      <td>1.000000</td>\n",
       "      <td>2.000000</td>\n",
       "      <td>2.000000</td>\n",
       "      <td>2.000000</td>\n",
       "      <td>0.000000</td>\n",
       "      <td>0.000000</td>\n",
       "      <td>0.000000</td>\n",
       "      <td>0.000000</td>\n",
       "      <td>0.000000</td>\n",
       "      <td>2.000000</td>\n",
       "      <td>0.000000</td>\n",
       "      <td>2.000000</td>\n",
       "      <td>2.000000</td>\n",
       "      <td>2.000000</td>\n",
       "      <td>0.000000</td>\n",
       "      <td>1.000000</td>\n",
       "      <td>2.000000</td>\n",
       "      <td>2.000000</td>\n",
       "      <td>1.000000</td>\n",
       "      <td>2.000000</td>\n",
       "      <td>2.000000</td>\n",
       "      <td>2.000000</td>\n",
       "      <td>2.000000</td>\n",
       "      <td>2.000000</td>\n",
       "      <td>2.000000</td>\n",
       "      <td>2.000000</td>\n",
       "      <td>2.000000</td>\n",
       "      <td>2.000000</td>\n",
       "      <td>2.000000</td>\n",
       "      <td>2.000000</td>\n",
       "      <td>2.000000</td>\n",
       "      <td>1.000000</td>\n",
       "      <td>2.000000</td>\n",
       "      <td>2.000000</td>\n",
       "      <td>0.000000</td>\n",
       "      <td>2.000000</td>\n",
       "      <td>1.000000</td>\n",
       "      <td>2.000000</td>\n",
       "      <td>1.000000</td>\n",
       "      <td>2.000000</td>\n",
       "      <td>0.000000</td>\n",
       "      <td>2.000000</td>\n",
       "      <td>2.000000</td>\n",
       "      <td>2.000000</td>\n",
       "      <td>0.000000</td>\n",
       "      <td>2.000000</td>\n",
       "      <td>2.000000</td>\n",
       "      <td>0.000000</td>\n",
       "      <td>0.000000</td>\n",
       "      <td>1.000000</td>\n",
       "      <td>2.000000</td>\n",
       "      <td>2.000000</td>\n",
       "      <td>2.000000</td>\n",
       "      <td>1.000000</td>\n",
       "      <td>0.000000</td>\n",
       "      <td>0.000000</td>\n",
       "      <td>0.000000</td>\n",
       "      <td>0.000000</td>\n",
       "      <td>2.000000</td>\n",
       "      <td>2.000000</td>\n",
       "      <td>2.000000</td>\n",
       "      <td>2.000000</td>\n",
       "      <td>2.000000</td>\n",
       "      <td>2.000000</td>\n",
       "      <td>1.000000</td>\n",
       "      <td>2.000000</td>\n",
       "      <td>2.000000</td>\n",
       "      <td>2.000000</td>\n",
       "      <td>2.000000</td>\n",
       "      <td>1.000000</td>\n",
       "      <td>2.000000</td>\n",
       "      <td>1.000000</td>\n",
       "      <td>0.000000</td>\n",
       "      <td>384.000000</td>\n",
       "      <td>2.000000</td>\n",
       "      <td>2.000000</td>\n",
       "      <td>1.000000</td>\n",
       "      <td>2.000000</td>\n",
       "      <td>2.000000</td>\n",
       "      <td>2.000000</td>\n",
       "      <td>2.000000</td>\n",
       "      <td>2.000000</td>\n",
       "      <td>1.000000</td>\n",
       "      <td>3.000000</td>\n",
       "      <td>1.000000</td>\n",
       "      <td>1.000000</td>\n",
       "      <td>1.000000</td>\n",
       "      <td>2.000000</td>\n",
       "      <td>2.000000</td>\n",
       "      <td>1.000000</td>\n",
       "      <td>2.000000</td>\n",
       "      <td>2.000000</td>\n",
       "      <td>3.000000</td>\n",
       "      <td>1.000000</td>\n",
       "      <td>1.000000</td>\n",
       "      <td>1.000000</td>\n",
       "      <td>1.000000</td>\n",
       "      <td>2.000000</td>\n",
       "      <td>2.000000</td>\n",
       "      <td>3.000000</td>\n",
       "      <td>2.000000</td>\n",
       "      <td>3.000000</td>\n",
       "      <td>2.000000</td>\n",
       "      <td>2.000000</td>\n",
       "      <td>2.000000</td>\n",
       "      <td>2.000000</td>\n",
       "      <td>2.000000</td>\n",
       "      <td>2.000000</td>\n",
       "      <td>2.000000</td>\n",
       "      <td>2.000000</td>\n",
       "      <td>2.000000</td>\n",
       "      <td>3.000000</td>\n",
       "      <td>2.000000</td>\n",
       "      <td>2.000000</td>\n",
       "      <td>2.000000</td>\n",
       "      <td>3.000000</td>\n",
       "      <td>2.000000</td>\n",
       "      <td>2.000000</td>\n",
       "      <td>2.000000</td>\n",
       "      <td>3.000000</td>\n",
       "      <td>1.000000</td>\n",
       "      <td>1.000000</td>\n",
       "      <td>1.000000</td>\n",
       "      <td>2.000000</td>\n",
       "      <td>2.000000</td>\n",
       "      <td>2.000000</td>\n",
       "      <td>2.000000</td>\n",
       "      <td>2.000000</td>\n",
       "      <td>1.000000</td>\n",
       "      <td>2.000000</td>\n",
       "      <td>2.000000</td>\n",
       "      <td>2.000000</td>\n",
       "      <td>2.000000</td>\n",
       "      <td>2.000000</td>\n",
       "      <td>2.000000</td>\n",
       "      <td>2.000000</td>\n",
       "      <td>1.000000</td>\n",
       "      <td>2.000000</td>\n",
       "      <td>2.000000</td>\n",
       "      <td>1.000000</td>\n",
       "      <td>1.000000</td>\n",
       "      <td>1.000000</td>\n",
       "      <td>1.000000</td>\n",
       "      <td>2.000000</td>\n",
       "      <td>1.000000</td>\n",
       "      <td>2.000000</td>\n",
       "      <td>2.000000</td>\n",
       "      <td>1.000000</td>\n",
       "      <td>2.000000</td>\n",
       "      <td>2.000000</td>\n",
       "      <td>3.000000</td>\n",
       "      <td>2.000000</td>\n",
       "      <td>2.000000</td>\n",
       "      <td>2.000000</td>\n",
       "      <td>2.000000</td>\n",
       "      <td>2.000000</td>\n",
       "      <td>2.000000</td>\n",
       "      <td>2.000000</td>\n",
       "      <td>2.000000</td>\n",
       "      <td>2.000000</td>\n",
       "      <td>2.000000</td>\n",
       "      <td>2.00000</td>\n",
       "      <td>3.000000</td>\n",
       "      <td>2.000000</td>\n",
       "      <td>3.000000</td>\n",
       "      <td>1.000000</td>\n",
       "      <td>2.000000</td>\n",
       "      <td>2.000000</td>\n",
       "      <td>2.000000</td>\n",
       "      <td>2.000000</td>\n",
       "      <td>2.000000</td>\n",
       "      <td>3.000000</td>\n",
       "      <td>2.000000</td>\n",
       "      <td>2.000000</td>\n",
       "      <td>2.000000</td>\n",
       "      <td>3.000000</td>\n",
       "      <td>2.000000</td>\n",
       "      <td>2.000000</td>\n",
       "      <td>2.000000</td>\n",
       "      <td>1.000000</td>\n",
       "      <td>2.000000</td>\n",
       "      <td>2.000000</td>\n",
       "      <td>2.000000</td>\n",
       "      <td>2.000000</td>\n",
       "      <td>2.000000</td>\n",
       "      <td>0.000000</td>\n",
       "      <td>1.000000</td>\n",
       "      <td>1.000000</td>\n",
       "      <td>4.000000</td>\n",
       "      <td>1.000000</td>\n",
       "      <td>2.000000</td>\n",
       "      <td>1.000000</td>\n",
       "      <td>1992.000000</td>\n",
       "      <td>1.000000</td>\n",
       "      <td>2.000000</td>\n",
       "      <td>1.000000</td>\n",
       "      <td>1.000000</td>\n",
       "      <td>4.000000</td>\n",
       "      <td>1.000000</td>\n",
       "      <td>2.000000</td>\n",
       "      <td>1.000000</td>\n",
       "      <td>0.000000</td>\n",
       "      <td>1.000000</td>\n",
       "      <td>3.000000</td>\n",
       "      <td>3.000000</td>\n",
       "      <td>5.000000</td>\n",
       "      <td>3.000000</td>\n",
       "      <td>2.00000</td>\n",
       "      <td>2.000000</td>\n",
       "      <td>2.000000</td>\n",
       "      <td>3.000000</td>\n",
       "      <td>2.000000</td>\n",
       "      <td>3.000000</td>\n",
       "      <td>3.000000</td>\n",
       "      <td>3.000000</td>\n",
       "      <td>3.000000</td>\n",
       "      <td>3.000000</td>\n",
       "      <td>3.000000</td>\n",
       "      <td>2.000000</td>\n",
       "      <td>2.000000</td>\n",
       "      <td>3.000000</td>\n",
       "      <td>3.000000</td>\n",
       "      <td>3.000000</td>\n",
       "      <td>2.000000</td>\n",
       "      <td>2.000000</td>\n",
       "      <td>2.000000</td>\n",
       "      <td>0.000000</td>\n",
       "      <td>0.000000</td>\n",
       "      <td>2.000000</td>\n",
       "      <td>0.000000</td>\n",
       "      <td>2.000000</td>\n",
       "      <td>3.000000</td>\n",
       "      <td>0.000000</td>\n",
       "      <td>0.00000</td>\n",
       "      <td>1.000000</td>\n",
       "      <td>0.00000</td>\n",
       "      <td>2.000000</td>\n",
       "      <td>3.000000</td>\n",
       "      <td>5.000000</td>\n",
       "      <td>4.000000</td>\n",
       "      <td>2.000000</td>\n",
       "      <td>8.000000</td>\n",
       "      <td>3.000000</td>\n",
       "      <td>3.000000</td>\n",
       "      <td>1.000000</td>\n",
       "      <td>2.000000</td>\n",
       "    </tr>\n",
       "    <tr>\n",
       "      <th>50%</th>\n",
       "      <td>6.372630e+05</td>\n",
       "      <td>-1.000000</td>\n",
       "      <td>3.000000</td>\n",
       "      <td>13.000000</td>\n",
       "      <td>12.000000</td>\n",
       "      <td>14.000000</td>\n",
       "      <td>15.000000</td>\n",
       "      <td>15.000000</td>\n",
       "      <td>14.000000</td>\n",
       "      <td>4.000000</td>\n",
       "      <td>0.000000</td>\n",
       "      <td>0.000000</td>\n",
       "      <td>1.000000</td>\n",
       "      <td>3.000000</td>\n",
       "      <td>0.000000</td>\n",
       "      <td>3.000000</td>\n",
       "      <td>5.000000</td>\n",
       "      <td>4.000000</td>\n",
       "      <td>4.000000</td>\n",
       "      <td>3.000000</td>\n",
       "      <td>3.000000</td>\n",
       "      <td>3.000000</td>\n",
       "      <td>3.000000</td>\n",
       "      <td>3.000000</td>\n",
       "      <td>4.000000</td>\n",
       "      <td>0.000000</td>\n",
       "      <td>0.000000</td>\n",
       "      <td>10.000000</td>\n",
       "      <td>0.000000</td>\n",
       "      <td>0.000000</td>\n",
       "      <td>0.000000</td>\n",
       "      <td>10.000000</td>\n",
       "      <td>10.000000</td>\n",
       "      <td>0.000000</td>\n",
       "      <td>0.000000</td>\n",
       "      <td>0.000000</td>\n",
       "      <td>0.000000</td>\n",
       "      <td>0.000000</td>\n",
       "      <td>0.000000</td>\n",
       "      <td>0.000000</td>\n",
       "      <td>0.000000</td>\n",
       "      <td>0.000000</td>\n",
       "      <td>0.000000</td>\n",
       "      <td>0.000000</td>\n",
       "      <td>0.000000</td>\n",
       "      <td>0.000000</td>\n",
       "      <td>0.000000</td>\n",
       "      <td>9.000000</td>\n",
       "      <td>10.000000</td>\n",
       "      <td>10.000000</td>\n",
       "      <td>0.000000</td>\n",
       "      <td>0.000000</td>\n",
       "      <td>0.000000</td>\n",
       "      <td>0.000000</td>\n",
       "      <td>5.000000</td>\n",
       "      <td>8.000000</td>\n",
       "      <td>0.000000</td>\n",
       "      <td>0.000000</td>\n",
       "      <td>0.000000</td>\n",
       "      <td>0.000000</td>\n",
       "      <td>0.000000</td>\n",
       "      <td>0.000000</td>\n",
       "      <td>0.000000</td>\n",
       "      <td>0.000000</td>\n",
       "      <td>0.000000</td>\n",
       "      <td>0.000000</td>\n",
       "      <td>0.000000</td>\n",
       "      <td>0.000000</td>\n",
       "      <td>0.000000</td>\n",
       "      <td>10.000000</td>\n",
       "      <td>0.000000</td>\n",
       "      <td>10.000000</td>\n",
       "      <td>10.000000</td>\n",
       "      <td>0.000000</td>\n",
       "      <td>0.000000</td>\n",
       "      <td>0.000000</td>\n",
       "      <td>0.000000</td>\n",
       "      <td>0.000000</td>\n",
       "      <td>9.000000</td>\n",
       "      <td>10.000000</td>\n",
       "      <td>10.000000</td>\n",
       "      <td>0.000000</td>\n",
       "      <td>0.000000</td>\n",
       "      <td>0.000000</td>\n",
       "      <td>0.000000</td>\n",
       "      <td>10.000000</td>\n",
       "      <td>10.000000</td>\n",
       "      <td>10.000000</td>\n",
       "      <td>0.000000</td>\n",
       "      <td>0.000000</td>\n",
       "      <td>0.000000</td>\n",
       "      <td>0.000000</td>\n",
       "      <td>1.000000</td>\n",
       "      <td>2003.000000</td>\n",
       "      <td>4.000000</td>\n",
       "      <td>34.000000</td>\n",
       "      <td>3.000000</td>\n",
       "      <td>3.000000</td>\n",
       "      <td>3.000000</td>\n",
       "      <td>3.000000</td>\n",
       "      <td>3.000000</td>\n",
       "      <td>3.000000</td>\n",
       "      <td>4.000000</td>\n",
       "      <td>4.000000</td>\n",
       "      <td>1.000000</td>\n",
       "      <td>4.000000</td>\n",
       "      <td>1943.000000</td>\n",
       "      <td>22.000000</td>\n",
       "      <td>8.000000</td>\n",
       "      <td>0.000000</td>\n",
       "      <td>2.000000</td>\n",
       "      <td>0.000000</td>\n",
       "      <td>5.000000</td>\n",
       "      <td>5.000000</td>\n",
       "      <td>2.000000</td>\n",
       "      <td>3.000000</td>\n",
       "      <td>3.000000</td>\n",
       "      <td>3.000000</td>\n",
       "      <td>1.000000</td>\n",
       "      <td>1.000000</td>\n",
       "      <td>1.000000</td>\n",
       "      <td>0.000000</td>\n",
       "      <td>0.000000</td>\n",
       "      <td>3.000000</td>\n",
       "      <td>1.000000</td>\n",
       "      <td>3.000000</td>\n",
       "      <td>3.000000</td>\n",
       "      <td>3.000000</td>\n",
       "      <td>1.000000</td>\n",
       "      <td>2.000000</td>\n",
       "      <td>3.000000</td>\n",
       "      <td>3.000000</td>\n",
       "      <td>2.000000</td>\n",
       "      <td>3.000000</td>\n",
       "      <td>3.000000</td>\n",
       "      <td>3.000000</td>\n",
       "      <td>3.000000</td>\n",
       "      <td>3.000000</td>\n",
       "      <td>3.000000</td>\n",
       "      <td>3.000000</td>\n",
       "      <td>3.000000</td>\n",
       "      <td>3.000000</td>\n",
       "      <td>2.000000</td>\n",
       "      <td>2.000000</td>\n",
       "      <td>2.000000</td>\n",
       "      <td>2.000000</td>\n",
       "      <td>3.000000</td>\n",
       "      <td>3.000000</td>\n",
       "      <td>1.000000</td>\n",
       "      <td>3.000000</td>\n",
       "      <td>2.000000</td>\n",
       "      <td>3.000000</td>\n",
       "      <td>2.000000</td>\n",
       "      <td>2.000000</td>\n",
       "      <td>1.000000</td>\n",
       "      <td>3.000000</td>\n",
       "      <td>3.000000</td>\n",
       "      <td>3.000000</td>\n",
       "      <td>1.000000</td>\n",
       "      <td>3.000000</td>\n",
       "      <td>3.000000</td>\n",
       "      <td>1.000000</td>\n",
       "      <td>1.000000</td>\n",
       "      <td>2.000000</td>\n",
       "      <td>3.000000</td>\n",
       "      <td>3.000000</td>\n",
       "      <td>3.000000</td>\n",
       "      <td>1.000000</td>\n",
       "      <td>0.000000</td>\n",
       "      <td>1.000000</td>\n",
       "      <td>0.000000</td>\n",
       "      <td>1.000000</td>\n",
       "      <td>3.000000</td>\n",
       "      <td>3.000000</td>\n",
       "      <td>3.000000</td>\n",
       "      <td>3.000000</td>\n",
       "      <td>3.000000</td>\n",
       "      <td>3.000000</td>\n",
       "      <td>2.000000</td>\n",
       "      <td>3.000000</td>\n",
       "      <td>3.000000</td>\n",
       "      <td>3.000000</td>\n",
       "      <td>3.000000</td>\n",
       "      <td>2.000000</td>\n",
       "      <td>3.000000</td>\n",
       "      <td>2.000000</td>\n",
       "      <td>1.000000</td>\n",
       "      <td>549.000000</td>\n",
       "      <td>3.000000</td>\n",
       "      <td>3.000000</td>\n",
       "      <td>1.000000</td>\n",
       "      <td>3.000000</td>\n",
       "      <td>3.000000</td>\n",
       "      <td>3.000000</td>\n",
       "      <td>3.000000</td>\n",
       "      <td>3.000000</td>\n",
       "      <td>3.000000</td>\n",
       "      <td>3.000000</td>\n",
       "      <td>3.000000</td>\n",
       "      <td>3.000000</td>\n",
       "      <td>3.000000</td>\n",
       "      <td>3.000000</td>\n",
       "      <td>3.000000</td>\n",
       "      <td>3.000000</td>\n",
       "      <td>3.000000</td>\n",
       "      <td>3.000000</td>\n",
       "      <td>3.000000</td>\n",
       "      <td>3.000000</td>\n",
       "      <td>3.000000</td>\n",
       "      <td>3.000000</td>\n",
       "      <td>3.000000</td>\n",
       "      <td>3.000000</td>\n",
       "      <td>3.000000</td>\n",
       "      <td>3.000000</td>\n",
       "      <td>3.000000</td>\n",
       "      <td>3.000000</td>\n",
       "      <td>3.000000</td>\n",
       "      <td>3.000000</td>\n",
       "      <td>3.000000</td>\n",
       "      <td>3.000000</td>\n",
       "      <td>3.000000</td>\n",
       "      <td>3.000000</td>\n",
       "      <td>3.000000</td>\n",
       "      <td>3.000000</td>\n",
       "      <td>3.000000</td>\n",
       "      <td>3.000000</td>\n",
       "      <td>3.000000</td>\n",
       "      <td>3.000000</td>\n",
       "      <td>3.000000</td>\n",
       "      <td>3.000000</td>\n",
       "      <td>3.000000</td>\n",
       "      <td>3.000000</td>\n",
       "      <td>3.000000</td>\n",
       "      <td>3.000000</td>\n",
       "      <td>3.000000</td>\n",
       "      <td>1.000000</td>\n",
       "      <td>3.000000</td>\n",
       "      <td>3.000000</td>\n",
       "      <td>3.000000</td>\n",
       "      <td>3.000000</td>\n",
       "      <td>3.000000</td>\n",
       "      <td>3.000000</td>\n",
       "      <td>1.000000</td>\n",
       "      <td>3.000000</td>\n",
       "      <td>3.000000</td>\n",
       "      <td>3.000000</td>\n",
       "      <td>3.000000</td>\n",
       "      <td>2.000000</td>\n",
       "      <td>2.000000</td>\n",
       "      <td>2.000000</td>\n",
       "      <td>2.000000</td>\n",
       "      <td>3.000000</td>\n",
       "      <td>3.000000</td>\n",
       "      <td>3.000000</td>\n",
       "      <td>3.000000</td>\n",
       "      <td>1.000000</td>\n",
       "      <td>3.000000</td>\n",
       "      <td>3.000000</td>\n",
       "      <td>3.000000</td>\n",
       "      <td>3.000000</td>\n",
       "      <td>3.000000</td>\n",
       "      <td>3.000000</td>\n",
       "      <td>3.000000</td>\n",
       "      <td>3.000000</td>\n",
       "      <td>3.000000</td>\n",
       "      <td>3.000000</td>\n",
       "      <td>3.000000</td>\n",
       "      <td>3.000000</td>\n",
       "      <td>3.000000</td>\n",
       "      <td>3.000000</td>\n",
       "      <td>3.000000</td>\n",
       "      <td>3.000000</td>\n",
       "      <td>3.000000</td>\n",
       "      <td>3.000000</td>\n",
       "      <td>3.000000</td>\n",
       "      <td>3.00000</td>\n",
       "      <td>3.000000</td>\n",
       "      <td>3.000000</td>\n",
       "      <td>3.000000</td>\n",
       "      <td>3.000000</td>\n",
       "      <td>3.000000</td>\n",
       "      <td>3.000000</td>\n",
       "      <td>3.000000</td>\n",
       "      <td>3.000000</td>\n",
       "      <td>3.000000</td>\n",
       "      <td>3.000000</td>\n",
       "      <td>3.000000</td>\n",
       "      <td>3.000000</td>\n",
       "      <td>3.000000</td>\n",
       "      <td>3.000000</td>\n",
       "      <td>3.000000</td>\n",
       "      <td>3.000000</td>\n",
       "      <td>3.000000</td>\n",
       "      <td>3.000000</td>\n",
       "      <td>3.000000</td>\n",
       "      <td>3.000000</td>\n",
       "      <td>3.000000</td>\n",
       "      <td>3.000000</td>\n",
       "      <td>3.000000</td>\n",
       "      <td>0.000000</td>\n",
       "      <td>1.000000</td>\n",
       "      <td>1.000000</td>\n",
       "      <td>11.000000</td>\n",
       "      <td>3.000000</td>\n",
       "      <td>4.000000</td>\n",
       "      <td>2.000000</td>\n",
       "      <td>1992.000000</td>\n",
       "      <td>2.000000</td>\n",
       "      <td>3.000000</td>\n",
       "      <td>1.000000</td>\n",
       "      <td>3.000000</td>\n",
       "      <td>5.000000</td>\n",
       "      <td>2.000000</td>\n",
       "      <td>3.000000</td>\n",
       "      <td>2.000000</td>\n",
       "      <td>1.000000</td>\n",
       "      <td>1.000000</td>\n",
       "      <td>3.000000</td>\n",
       "      <td>4.000000</td>\n",
       "      <td>8.000000</td>\n",
       "      <td>5.000000</td>\n",
       "      <td>3.00000</td>\n",
       "      <td>3.000000</td>\n",
       "      <td>3.000000</td>\n",
       "      <td>4.000000</td>\n",
       "      <td>3.000000</td>\n",
       "      <td>5.000000</td>\n",
       "      <td>4.000000</td>\n",
       "      <td>4.000000</td>\n",
       "      <td>5.000000</td>\n",
       "      <td>5.000000</td>\n",
       "      <td>4.000000</td>\n",
       "      <td>5.000000</td>\n",
       "      <td>4.000000</td>\n",
       "      <td>4.000000</td>\n",
       "      <td>4.000000</td>\n",
       "      <td>4.000000</td>\n",
       "      <td>4.000000</td>\n",
       "      <td>3.000000</td>\n",
       "      <td>4.000000</td>\n",
       "      <td>1.000000</td>\n",
       "      <td>0.000000</td>\n",
       "      <td>3.000000</td>\n",
       "      <td>0.000000</td>\n",
       "      <td>3.000000</td>\n",
       "      <td>4.000000</td>\n",
       "      <td>0.000000</td>\n",
       "      <td>1.00000</td>\n",
       "      <td>1.000000</td>\n",
       "      <td>0.00000</td>\n",
       "      <td>2.000000</td>\n",
       "      <td>6.000000</td>\n",
       "      <td>8.000000</td>\n",
       "      <td>6.000000</td>\n",
       "      <td>4.000000</td>\n",
       "      <td>9.000000</td>\n",
       "      <td>3.000000</td>\n",
       "      <td>3.000000</td>\n",
       "      <td>2.000000</td>\n",
       "      <td>3.000000</td>\n",
       "    </tr>\n",
       "    <tr>\n",
       "      <th>75%</th>\n",
       "      <td>8.600680e+05</td>\n",
       "      <td>-1.000000</td>\n",
       "      <td>9.000000</td>\n",
       "      <td>17.000000</td>\n",
       "      <td>15.000000</td>\n",
       "      <td>16.000000</td>\n",
       "      <td>17.000000</td>\n",
       "      <td>17.000000</td>\n",
       "      <td>17.000000</td>\n",
       "      <td>9.000000</td>\n",
       "      <td>0.000000</td>\n",
       "      <td>0.000000</td>\n",
       "      <td>2.000000</td>\n",
       "      <td>9.000000</td>\n",
       "      <td>0.000000</td>\n",
       "      <td>4.000000</td>\n",
       "      <td>6.000000</td>\n",
       "      <td>5.000000</td>\n",
       "      <td>5.000000</td>\n",
       "      <td>5.000000</td>\n",
       "      <td>5.000000</td>\n",
       "      <td>5.000000</td>\n",
       "      <td>5.000000</td>\n",
       "      <td>5.000000</td>\n",
       "      <td>5.000000</td>\n",
       "      <td>0.000000</td>\n",
       "      <td>0.000000</td>\n",
       "      <td>10.000000</td>\n",
       "      <td>0.000000</td>\n",
       "      <td>0.000000</td>\n",
       "      <td>0.000000</td>\n",
       "      <td>10.000000</td>\n",
       "      <td>10.000000</td>\n",
       "      <td>0.000000</td>\n",
       "      <td>0.000000</td>\n",
       "      <td>0.000000</td>\n",
       "      <td>0.000000</td>\n",
       "      <td>0.000000</td>\n",
       "      <td>0.000000</td>\n",
       "      <td>3.000000</td>\n",
       "      <td>0.000000</td>\n",
       "      <td>0.000000</td>\n",
       "      <td>0.000000</td>\n",
       "      <td>0.000000</td>\n",
       "      <td>0.000000</td>\n",
       "      <td>1.000000</td>\n",
       "      <td>2.000000</td>\n",
       "      <td>10.000000</td>\n",
       "      <td>10.000000</td>\n",
       "      <td>10.000000</td>\n",
       "      <td>10.000000</td>\n",
       "      <td>0.000000</td>\n",
       "      <td>0.000000</td>\n",
       "      <td>0.000000</td>\n",
       "      <td>9.000000</td>\n",
       "      <td>9.000000</td>\n",
       "      <td>0.000000</td>\n",
       "      <td>0.000000</td>\n",
       "      <td>0.000000</td>\n",
       "      <td>0.000000</td>\n",
       "      <td>0.000000</td>\n",
       "      <td>0.000000</td>\n",
       "      <td>0.000000</td>\n",
       "      <td>0.000000</td>\n",
       "      <td>6.000000</td>\n",
       "      <td>0.000000</td>\n",
       "      <td>6.000000</td>\n",
       "      <td>0.000000</td>\n",
       "      <td>0.000000</td>\n",
       "      <td>10.000000</td>\n",
       "      <td>0.000000</td>\n",
       "      <td>10.000000</td>\n",
       "      <td>10.000000</td>\n",
       "      <td>0.000000</td>\n",
       "      <td>0.000000</td>\n",
       "      <td>0.000000</td>\n",
       "      <td>1.000000</td>\n",
       "      <td>2.000000</td>\n",
       "      <td>10.000000</td>\n",
       "      <td>10.000000</td>\n",
       "      <td>10.000000</td>\n",
       "      <td>10.000000</td>\n",
       "      <td>0.000000</td>\n",
       "      <td>0.000000</td>\n",
       "      <td>0.000000</td>\n",
       "      <td>10.000000</td>\n",
       "      <td>10.000000</td>\n",
       "      <td>10.000000</td>\n",
       "      <td>0.000000</td>\n",
       "      <td>2.000000</td>\n",
       "      <td>5.000000</td>\n",
       "      <td>0.000000</td>\n",
       "      <td>1.000000</td>\n",
       "      <td>2010.000000</td>\n",
       "      <td>6.000000</td>\n",
       "      <td>43.000000</td>\n",
       "      <td>5.000000</td>\n",
       "      <td>4.000000</td>\n",
       "      <td>4.000000</td>\n",
       "      <td>4.000000</td>\n",
       "      <td>4.000000</td>\n",
       "      <td>5.000000</td>\n",
       "      <td>6.000000</td>\n",
       "      <td>4.000000</td>\n",
       "      <td>3.000000</td>\n",
       "      <td>4.000000</td>\n",
       "      <td>1970.000000</td>\n",
       "      <td>30.000000</td>\n",
       "      <td>10.000000</td>\n",
       "      <td>0.000000</td>\n",
       "      <td>3.000000</td>\n",
       "      <td>0.000000</td>\n",
       "      <td>6.000000</td>\n",
       "      <td>6.000000</td>\n",
       "      <td>3.000000</td>\n",
       "      <td>4.000000</td>\n",
       "      <td>4.000000</td>\n",
       "      <td>4.000000</td>\n",
       "      <td>1.000000</td>\n",
       "      <td>3.000000</td>\n",
       "      <td>2.000000</td>\n",
       "      <td>1.000000</td>\n",
       "      <td>0.000000</td>\n",
       "      <td>4.000000</td>\n",
       "      <td>3.000000</td>\n",
       "      <td>4.000000</td>\n",
       "      <td>4.000000</td>\n",
       "      <td>4.000000</td>\n",
       "      <td>2.000000</td>\n",
       "      <td>3.000000</td>\n",
       "      <td>4.000000</td>\n",
       "      <td>4.000000</td>\n",
       "      <td>3.000000</td>\n",
       "      <td>4.000000</td>\n",
       "      <td>4.000000</td>\n",
       "      <td>4.000000</td>\n",
       "      <td>4.000000</td>\n",
       "      <td>4.000000</td>\n",
       "      <td>4.000000</td>\n",
       "      <td>4.000000</td>\n",
       "      <td>4.000000</td>\n",
       "      <td>4.000000</td>\n",
       "      <td>2.000000</td>\n",
       "      <td>2.000000</td>\n",
       "      <td>2.000000</td>\n",
       "      <td>2.000000</td>\n",
       "      <td>4.000000</td>\n",
       "      <td>4.000000</td>\n",
       "      <td>2.000000</td>\n",
       "      <td>5.000000</td>\n",
       "      <td>4.000000</td>\n",
       "      <td>4.000000</td>\n",
       "      <td>3.000000</td>\n",
       "      <td>3.000000</td>\n",
       "      <td>2.000000</td>\n",
       "      <td>4.000000</td>\n",
       "      <td>4.000000</td>\n",
       "      <td>4.000000</td>\n",
       "      <td>2.000000</td>\n",
       "      <td>4.000000</td>\n",
       "      <td>3.000000</td>\n",
       "      <td>1.000000</td>\n",
       "      <td>2.000000</td>\n",
       "      <td>3.000000</td>\n",
       "      <td>4.000000</td>\n",
       "      <td>4.000000</td>\n",
       "      <td>4.000000</td>\n",
       "      <td>2.000000</td>\n",
       "      <td>0.000000</td>\n",
       "      <td>2.000000</td>\n",
       "      <td>1.000000</td>\n",
       "      <td>2.000000</td>\n",
       "      <td>4.000000</td>\n",
       "      <td>4.000000</td>\n",
       "      <td>4.000000</td>\n",
       "      <td>4.000000</td>\n",
       "      <td>4.000000</td>\n",
       "      <td>4.000000</td>\n",
       "      <td>3.000000</td>\n",
       "      <td>4.000000</td>\n",
       "      <td>4.000000</td>\n",
       "      <td>3.000000</td>\n",
       "      <td>4.000000</td>\n",
       "      <td>3.000000</td>\n",
       "      <td>3.000000</td>\n",
       "      <td>2.000000</td>\n",
       "      <td>1.000000</td>\n",
       "      <td>778.000000</td>\n",
       "      <td>4.000000</td>\n",
       "      <td>3.000000</td>\n",
       "      <td>3.000000</td>\n",
       "      <td>4.000000</td>\n",
       "      <td>4.000000</td>\n",
       "      <td>4.000000</td>\n",
       "      <td>4.000000</td>\n",
       "      <td>3.000000</td>\n",
       "      <td>3.000000</td>\n",
       "      <td>4.000000</td>\n",
       "      <td>3.000000</td>\n",
       "      <td>3.000000</td>\n",
       "      <td>3.000000</td>\n",
       "      <td>4.000000</td>\n",
       "      <td>3.000000</td>\n",
       "      <td>4.000000</td>\n",
       "      <td>4.000000</td>\n",
       "      <td>3.000000</td>\n",
       "      <td>4.000000</td>\n",
       "      <td>3.000000</td>\n",
       "      <td>3.000000</td>\n",
       "      <td>3.000000</td>\n",
       "      <td>4.000000</td>\n",
       "      <td>4.000000</td>\n",
       "      <td>4.000000</td>\n",
       "      <td>4.000000</td>\n",
       "      <td>4.000000</td>\n",
       "      <td>4.000000</td>\n",
       "      <td>3.000000</td>\n",
       "      <td>4.000000</td>\n",
       "      <td>4.000000</td>\n",
       "      <td>4.000000</td>\n",
       "      <td>4.000000</td>\n",
       "      <td>4.000000</td>\n",
       "      <td>3.000000</td>\n",
       "      <td>3.000000</td>\n",
       "      <td>4.000000</td>\n",
       "      <td>4.000000</td>\n",
       "      <td>4.000000</td>\n",
       "      <td>4.000000</td>\n",
       "      <td>4.000000</td>\n",
       "      <td>4.000000</td>\n",
       "      <td>4.000000</td>\n",
       "      <td>4.000000</td>\n",
       "      <td>4.000000</td>\n",
       "      <td>4.000000</td>\n",
       "      <td>3.000000</td>\n",
       "      <td>1.000000</td>\n",
       "      <td>4.000000</td>\n",
       "      <td>3.000000</td>\n",
       "      <td>4.000000</td>\n",
       "      <td>4.000000</td>\n",
       "      <td>3.000000</td>\n",
       "      <td>3.000000</td>\n",
       "      <td>1.000000</td>\n",
       "      <td>4.000000</td>\n",
       "      <td>4.000000</td>\n",
       "      <td>4.000000</td>\n",
       "      <td>4.000000</td>\n",
       "      <td>2.000000</td>\n",
       "      <td>2.000000</td>\n",
       "      <td>2.000000</td>\n",
       "      <td>2.000000</td>\n",
       "      <td>4.000000</td>\n",
       "      <td>3.000000</td>\n",
       "      <td>3.000000</td>\n",
       "      <td>3.000000</td>\n",
       "      <td>2.000000</td>\n",
       "      <td>3.000000</td>\n",
       "      <td>3.000000</td>\n",
       "      <td>3.000000</td>\n",
       "      <td>4.000000</td>\n",
       "      <td>3.000000</td>\n",
       "      <td>3.000000</td>\n",
       "      <td>3.000000</td>\n",
       "      <td>4.000000</td>\n",
       "      <td>4.000000</td>\n",
       "      <td>3.000000</td>\n",
       "      <td>4.000000</td>\n",
       "      <td>4.000000</td>\n",
       "      <td>4.000000</td>\n",
       "      <td>4.000000</td>\n",
       "      <td>3.000000</td>\n",
       "      <td>4.000000</td>\n",
       "      <td>4.000000</td>\n",
       "      <td>4.000000</td>\n",
       "      <td>4.000000</td>\n",
       "      <td>4.00000</td>\n",
       "      <td>4.000000</td>\n",
       "      <td>4.000000</td>\n",
       "      <td>4.000000</td>\n",
       "      <td>3.000000</td>\n",
       "      <td>4.000000</td>\n",
       "      <td>3.000000</td>\n",
       "      <td>4.000000</td>\n",
       "      <td>4.000000</td>\n",
       "      <td>3.000000</td>\n",
       "      <td>4.000000</td>\n",
       "      <td>3.000000</td>\n",
       "      <td>4.000000</td>\n",
       "      <td>4.000000</td>\n",
       "      <td>4.000000</td>\n",
       "      <td>4.000000</td>\n",
       "      <td>3.000000</td>\n",
       "      <td>4.000000</td>\n",
       "      <td>3.000000</td>\n",
       "      <td>4.000000</td>\n",
       "      <td>5.000000</td>\n",
       "      <td>3.000000</td>\n",
       "      <td>4.000000</td>\n",
       "      <td>4.000000</td>\n",
       "      <td>0.000000</td>\n",
       "      <td>8.000000</td>\n",
       "      <td>4.000000</td>\n",
       "      <td>27.000000</td>\n",
       "      <td>8.000000</td>\n",
       "      <td>9.000000</td>\n",
       "      <td>4.000000</td>\n",
       "      <td>1993.000000</td>\n",
       "      <td>4.000000</td>\n",
       "      <td>4.000000</td>\n",
       "      <td>1.000000</td>\n",
       "      <td>4.000000</td>\n",
       "      <td>7.000000</td>\n",
       "      <td>3.000000</td>\n",
       "      <td>3.000000</td>\n",
       "      <td>2.000000</td>\n",
       "      <td>1.000000</td>\n",
       "      <td>3.000000</td>\n",
       "      <td>4.000000</td>\n",
       "      <td>4.000000</td>\n",
       "      <td>14.000000</td>\n",
       "      <td>6.000000</td>\n",
       "      <td>4.00000</td>\n",
       "      <td>5.000000</td>\n",
       "      <td>4.000000</td>\n",
       "      <td>5.000000</td>\n",
       "      <td>4.000000</td>\n",
       "      <td>6.000000</td>\n",
       "      <td>6.000000</td>\n",
       "      <td>6.000000</td>\n",
       "      <td>6.000000</td>\n",
       "      <td>6.000000</td>\n",
       "      <td>5.000000</td>\n",
       "      <td>6.000000</td>\n",
       "      <td>5.000000</td>\n",
       "      <td>6.000000</td>\n",
       "      <td>5.000000</td>\n",
       "      <td>6.000000</td>\n",
       "      <td>6.000000</td>\n",
       "      <td>5.000000</td>\n",
       "      <td>6.000000</td>\n",
       "      <td>2.000000</td>\n",
       "      <td>0.000000</td>\n",
       "      <td>3.000000</td>\n",
       "      <td>0.000000</td>\n",
       "      <td>4.000000</td>\n",
       "      <td>5.000000</td>\n",
       "      <td>0.000000</td>\n",
       "      <td>5.00000</td>\n",
       "      <td>2.000000</td>\n",
       "      <td>0.00000</td>\n",
       "      <td>3.000000</td>\n",
       "      <td>9.000000</td>\n",
       "      <td>10.000000</td>\n",
       "      <td>8.000000</td>\n",
       "      <td>6.000000</td>\n",
       "      <td>9.000000</td>\n",
       "      <td>5.000000</td>\n",
       "      <td>4.000000</td>\n",
       "      <td>2.000000</td>\n",
       "      <td>4.000000</td>\n",
       "    </tr>\n",
       "    <tr>\n",
       "      <th>max</th>\n",
       "      <td>1.082873e+06</td>\n",
       "      <td>3.000000</td>\n",
       "      <td>9.000000</td>\n",
       "      <td>21.000000</td>\n",
       "      <td>18.000000</td>\n",
       "      <td>18.000000</td>\n",
       "      <td>18.000000</td>\n",
       "      <td>18.000000</td>\n",
       "      <td>25.000000</td>\n",
       "      <td>595.000000</td>\n",
       "      <td>23.000000</td>\n",
       "      <td>11.000000</td>\n",
       "      <td>45.000000</td>\n",
       "      <td>449.000000</td>\n",
       "      <td>6.000000</td>\n",
       "      <td>9.000000</td>\n",
       "      <td>7.000000</td>\n",
       "      <td>6.000000</td>\n",
       "      <td>5.000000</td>\n",
       "      <td>5.000000</td>\n",
       "      <td>5.000000</td>\n",
       "      <td>5.000000</td>\n",
       "      <td>5.000000</td>\n",
       "      <td>5.000000</td>\n",
       "      <td>5.000000</td>\n",
       "      <td>6.000000</td>\n",
       "      <td>6.000000</td>\n",
       "      <td>10.000000</td>\n",
       "      <td>7.000000</td>\n",
       "      <td>6.000000</td>\n",
       "      <td>7.000000</td>\n",
       "      <td>10.000000</td>\n",
       "      <td>10.000000</td>\n",
       "      <td>10.000000</td>\n",
       "      <td>7.000000</td>\n",
       "      <td>7.000000</td>\n",
       "      <td>7.000000</td>\n",
       "      <td>7.000000</td>\n",
       "      <td>7.000000</td>\n",
       "      <td>7.000000</td>\n",
       "      <td>7.000000</td>\n",
       "      <td>7.000000</td>\n",
       "      <td>7.000000</td>\n",
       "      <td>7.000000</td>\n",
       "      <td>7.000000</td>\n",
       "      <td>6.000000</td>\n",
       "      <td>6.000000</td>\n",
       "      <td>10.000000</td>\n",
       "      <td>10.000000</td>\n",
       "      <td>10.000000</td>\n",
       "      <td>10.000000</td>\n",
       "      <td>7.000000</td>\n",
       "      <td>7.000000</td>\n",
       "      <td>7.000000</td>\n",
       "      <td>9.000000</td>\n",
       "      <td>9.000000</td>\n",
       "      <td>7.000000</td>\n",
       "      <td>7.000000</td>\n",
       "      <td>7.000000</td>\n",
       "      <td>7.000000</td>\n",
       "      <td>7.000000</td>\n",
       "      <td>7.000000</td>\n",
       "      <td>7.000000</td>\n",
       "      <td>7.000000</td>\n",
       "      <td>7.000000</td>\n",
       "      <td>5.000000</td>\n",
       "      <td>7.000000</td>\n",
       "      <td>6.000000</td>\n",
       "      <td>6.000000</td>\n",
       "      <td>10.000000</td>\n",
       "      <td>7.000000</td>\n",
       "      <td>10.000000</td>\n",
       "      <td>10.000000</td>\n",
       "      <td>10.000000</td>\n",
       "      <td>7.000000</td>\n",
       "      <td>7.000000</td>\n",
       "      <td>6.000000</td>\n",
       "      <td>6.000000</td>\n",
       "      <td>10.000000</td>\n",
       "      <td>10.000000</td>\n",
       "      <td>10.000000</td>\n",
       "      <td>10.000000</td>\n",
       "      <td>7.000000</td>\n",
       "      <td>6.000000</td>\n",
       "      <td>6.000000</td>\n",
       "      <td>10.000000</td>\n",
       "      <td>10.000000</td>\n",
       "      <td>10.000000</td>\n",
       "      <td>10.000000</td>\n",
       "      <td>7.000000</td>\n",
       "      <td>7.000000</td>\n",
       "      <td>7.000000</td>\n",
       "      <td>1.000000</td>\n",
       "      <td>2018.000000</td>\n",
       "      <td>6.000000</td>\n",
       "      <td>56.000000</td>\n",
       "      <td>5.000000</td>\n",
       "      <td>5.000000</td>\n",
       "      <td>5.000000</td>\n",
       "      <td>5.000000</td>\n",
       "      <td>5.000000</td>\n",
       "      <td>5.000000</td>\n",
       "      <td>6.000000</td>\n",
       "      <td>5.000000</td>\n",
       "      <td>8.000000</td>\n",
       "      <td>5.000000</td>\n",
       "      <td>2017.000000</td>\n",
       "      <td>50.000000</td>\n",
       "      <td>12.000000</td>\n",
       "      <td>1.000000</td>\n",
       "      <td>3.000000</td>\n",
       "      <td>1.000000</td>\n",
       "      <td>6.000000</td>\n",
       "      <td>8.000000</td>\n",
       "      <td>9.000000</td>\n",
       "      <td>9.000000</td>\n",
       "      <td>9.000000</td>\n",
       "      <td>9.000000</td>\n",
       "      <td>9.000000</td>\n",
       "      <td>4.000000</td>\n",
       "      <td>4.000000</td>\n",
       "      <td>3.000000</td>\n",
       "      <td>2.000000</td>\n",
       "      <td>9.000000</td>\n",
       "      <td>5.000000</td>\n",
       "      <td>9.000000</td>\n",
       "      <td>9.000000</td>\n",
       "      <td>9.000000</td>\n",
       "      <td>9.000000</td>\n",
       "      <td>9.000000</td>\n",
       "      <td>9.000000</td>\n",
       "      <td>5.000000</td>\n",
       "      <td>9.000000</td>\n",
       "      <td>9.000000</td>\n",
       "      <td>9.000000</td>\n",
       "      <td>9.000000</td>\n",
       "      <td>9.000000</td>\n",
       "      <td>9.000000</td>\n",
       "      <td>9.000000</td>\n",
       "      <td>9.000000</td>\n",
       "      <td>9.000000</td>\n",
       "      <td>9.000000</td>\n",
       "      <td>9.000000</td>\n",
       "      <td>9.000000</td>\n",
       "      <td>9.000000</td>\n",
       "      <td>9.000000</td>\n",
       "      <td>9.000000</td>\n",
       "      <td>9.000000</td>\n",
       "      <td>9.000000</td>\n",
       "      <td>9.000000</td>\n",
       "      <td>9.000000</td>\n",
       "      <td>9.000000</td>\n",
       "      <td>9.000000</td>\n",
       "      <td>9.000000</td>\n",
       "      <td>9.000000</td>\n",
       "      <td>9.000000</td>\n",
       "      <td>9.000000</td>\n",
       "      <td>9.000000</td>\n",
       "      <td>9.000000</td>\n",
       "      <td>6.000000</td>\n",
       "      <td>9.000000</td>\n",
       "      <td>9.000000</td>\n",
       "      <td>9.000000</td>\n",
       "      <td>9.000000</td>\n",
       "      <td>9.000000</td>\n",
       "      <td>9.000000</td>\n",
       "      <td>9.000000</td>\n",
       "      <td>9.000000</td>\n",
       "      <td>9.000000</td>\n",
       "      <td>9.000000</td>\n",
       "      <td>9.000000</td>\n",
       "      <td>9.000000</td>\n",
       "      <td>9.000000</td>\n",
       "      <td>9.000000</td>\n",
       "      <td>9.000000</td>\n",
       "      <td>9.000000</td>\n",
       "      <td>9.000000</td>\n",
       "      <td>9.000000</td>\n",
       "      <td>9.000000</td>\n",
       "      <td>5.000000</td>\n",
       "      <td>5.000000</td>\n",
       "      <td>5.000000</td>\n",
       "      <td>5.000000</td>\n",
       "      <td>4.000000</td>\n",
       "      <td>4.000000</td>\n",
       "      <td>3.000000</td>\n",
       "      <td>2.000000</td>\n",
       "      <td>2300.000000</td>\n",
       "      <td>5.000000</td>\n",
       "      <td>5.000000</td>\n",
       "      <td>5.000000</td>\n",
       "      <td>5.000000</td>\n",
       "      <td>5.000000</td>\n",
       "      <td>5.000000</td>\n",
       "      <td>5.000000</td>\n",
       "      <td>5.000000</td>\n",
       "      <td>5.000000</td>\n",
       "      <td>5.000000</td>\n",
       "      <td>5.000000</td>\n",
       "      <td>5.000000</td>\n",
       "      <td>5.000000</td>\n",
       "      <td>5.000000</td>\n",
       "      <td>5.000000</td>\n",
       "      <td>5.000000</td>\n",
       "      <td>5.000000</td>\n",
       "      <td>5.000000</td>\n",
       "      <td>5.000000</td>\n",
       "      <td>5.000000</td>\n",
       "      <td>5.000000</td>\n",
       "      <td>5.000000</td>\n",
       "      <td>5.000000</td>\n",
       "      <td>5.000000</td>\n",
       "      <td>5.000000</td>\n",
       "      <td>5.000000</td>\n",
       "      <td>5.000000</td>\n",
       "      <td>5.000000</td>\n",
       "      <td>5.000000</td>\n",
       "      <td>5.000000</td>\n",
       "      <td>5.000000</td>\n",
       "      <td>5.000000</td>\n",
       "      <td>5.000000</td>\n",
       "      <td>5.000000</td>\n",
       "      <td>5.000000</td>\n",
       "      <td>5.000000</td>\n",
       "      <td>5.000000</td>\n",
       "      <td>5.000000</td>\n",
       "      <td>5.000000</td>\n",
       "      <td>5.000000</td>\n",
       "      <td>5.000000</td>\n",
       "      <td>5.000000</td>\n",
       "      <td>5.000000</td>\n",
       "      <td>5.000000</td>\n",
       "      <td>5.000000</td>\n",
       "      <td>5.000000</td>\n",
       "      <td>5.000000</td>\n",
       "      <td>3.000000</td>\n",
       "      <td>5.000000</td>\n",
       "      <td>5.000000</td>\n",
       "      <td>5.000000</td>\n",
       "      <td>5.000000</td>\n",
       "      <td>5.000000</td>\n",
       "      <td>5.000000</td>\n",
       "      <td>3.000000</td>\n",
       "      <td>5.000000</td>\n",
       "      <td>5.000000</td>\n",
       "      <td>5.000000</td>\n",
       "      <td>5.000000</td>\n",
       "      <td>3.000000</td>\n",
       "      <td>3.000000</td>\n",
       "      <td>3.000000</td>\n",
       "      <td>3.000000</td>\n",
       "      <td>5.000000</td>\n",
       "      <td>5.000000</td>\n",
       "      <td>5.000000</td>\n",
       "      <td>5.000000</td>\n",
       "      <td>3.000000</td>\n",
       "      <td>5.000000</td>\n",
       "      <td>5.000000</td>\n",
       "      <td>5.000000</td>\n",
       "      <td>5.000000</td>\n",
       "      <td>5.000000</td>\n",
       "      <td>5.000000</td>\n",
       "      <td>5.000000</td>\n",
       "      <td>5.000000</td>\n",
       "      <td>5.000000</td>\n",
       "      <td>4.000000</td>\n",
       "      <td>5.000000</td>\n",
       "      <td>5.000000</td>\n",
       "      <td>5.000000</td>\n",
       "      <td>5.000000</td>\n",
       "      <td>5.000000</td>\n",
       "      <td>5.000000</td>\n",
       "      <td>5.000000</td>\n",
       "      <td>5.000000</td>\n",
       "      <td>5.000000</td>\n",
       "      <td>5.00000</td>\n",
       "      <td>5.000000</td>\n",
       "      <td>5.000000</td>\n",
       "      <td>5.000000</td>\n",
       "      <td>5.000000</td>\n",
       "      <td>5.000000</td>\n",
       "      <td>5.000000</td>\n",
       "      <td>5.000000</td>\n",
       "      <td>5.000000</td>\n",
       "      <td>5.000000</td>\n",
       "      <td>5.000000</td>\n",
       "      <td>5.000000</td>\n",
       "      <td>5.000000</td>\n",
       "      <td>5.000000</td>\n",
       "      <td>5.000000</td>\n",
       "      <td>5.000000</td>\n",
       "      <td>5.000000</td>\n",
       "      <td>5.000000</td>\n",
       "      <td>5.000000</td>\n",
       "      <td>5.000000</td>\n",
       "      <td>6.000000</td>\n",
       "      <td>4.000000</td>\n",
       "      <td>9.000000</td>\n",
       "      <td>7.000000</td>\n",
       "      <td>1.000000</td>\n",
       "      <td>11.000000</td>\n",
       "      <td>5.000000</td>\n",
       "      <td>40.000000</td>\n",
       "      <td>12.000000</td>\n",
       "      <td>10.000000</td>\n",
       "      <td>5.000000</td>\n",
       "      <td>2016.000000</td>\n",
       "      <td>6.000000</td>\n",
       "      <td>6.000000</td>\n",
       "      <td>3.000000</td>\n",
       "      <td>5.000000</td>\n",
       "      <td>9.000000</td>\n",
       "      <td>4.000000</td>\n",
       "      <td>4.000000</td>\n",
       "      <td>3.000000</td>\n",
       "      <td>2.000000</td>\n",
       "      <td>5.000000</td>\n",
       "      <td>5.000000</td>\n",
       "      <td>5.000000</td>\n",
       "      <td>15.000000</td>\n",
       "      <td>7.000000</td>\n",
       "      <td>9.00000</td>\n",
       "      <td>5.000000</td>\n",
       "      <td>5.000000</td>\n",
       "      <td>5.000000</td>\n",
       "      <td>5.000000</td>\n",
       "      <td>7.000000</td>\n",
       "      <td>7.000000</td>\n",
       "      <td>7.000000</td>\n",
       "      <td>7.000000</td>\n",
       "      <td>7.000000</td>\n",
       "      <td>7.000000</td>\n",
       "      <td>7.000000</td>\n",
       "      <td>7.000000</td>\n",
       "      <td>7.000000</td>\n",
       "      <td>7.000000</td>\n",
       "      <td>7.000000</td>\n",
       "      <td>7.000000</td>\n",
       "      <td>7.000000</td>\n",
       "      <td>7.000000</td>\n",
       "      <td>3.000000</td>\n",
       "      <td>1.000000</td>\n",
       "      <td>3.000000</td>\n",
       "      <td>5.000000</td>\n",
       "      <td>5.000000</td>\n",
       "      <td>5.000000</td>\n",
       "      <td>1.000000</td>\n",
       "      <td>45.00000</td>\n",
       "      <td>2.000000</td>\n",
       "      <td>5.00000</td>\n",
       "      <td>4.000000</td>\n",
       "      <td>11.000000</td>\n",
       "      <td>13.000000</td>\n",
       "      <td>11.000000</td>\n",
       "      <td>6.000000</td>\n",
       "      <td>9.000000</td>\n",
       "      <td>8.000000</td>\n",
       "      <td>6.000000</td>\n",
       "      <td>2.000000</td>\n",
       "      <td>9.000000</td>\n",
       "    </tr>\n",
       "  </tbody>\n",
       "</table>\n",
       "</div>"
      ],
      "text/plain": [
       "                LNR       AGER_TYP     AKT_DAT_KL       ALTER_HH  \\\n",
       "count  8.912210e+05  891221.000000  817722.000000  817722.000000   \n",
       "mean   6.372630e+05      -0.358435       4.421928      10.864126   \n",
       "std    2.572735e+05       1.198724       3.638805       7.639683   \n",
       "min    1.916530e+05      -1.000000       1.000000       0.000000   \n",
       "25%    4.144580e+05      -1.000000       1.000000       0.000000   \n",
       "50%    6.372630e+05      -1.000000       3.000000      13.000000   \n",
       "75%    8.600680e+05      -1.000000       9.000000      17.000000   \n",
       "max    1.082873e+06       3.000000       9.000000      21.000000   \n",
       "\n",
       "        ALTER_KIND1   ALTER_KIND2  ALTER_KIND3  ALTER_KIND4  \\\n",
       "count  81058.000000  29499.000000  6170.000000  1205.000000   \n",
       "mean      11.745392     13.402658    14.476013    15.089627   \n",
       "std        4.097660      3.243300     2.712427     2.452932   \n",
       "min        2.000000      2.000000     4.000000     7.000000   \n",
       "25%        8.000000     11.000000    13.000000    14.000000   \n",
       "50%       12.000000     14.000000    15.000000    15.000000   \n",
       "75%       15.000000     16.000000    17.000000    17.000000   \n",
       "max       18.000000     18.000000    18.000000    18.000000   \n",
       "\n",
       "       ALTERSKATEGORIE_FEIN  ANZ_HAUSHALTE_AKTIV   ANZ_HH_TITEL  \\\n",
       "count         628274.000000        798073.000000  794213.000000   \n",
       "mean              13.700717             8.287263       0.040647   \n",
       "std                5.079849            15.628087       0.324028   \n",
       "min                0.000000             0.000000       0.000000   \n",
       "25%               11.000000             1.000000       0.000000   \n",
       "50%               14.000000             4.000000       0.000000   \n",
       "75%               17.000000             9.000000       0.000000   \n",
       "max               25.000000           595.000000      23.000000   \n",
       "\n",
       "          ANZ_KINDER   ANZ_PERSONEN  ANZ_STATISTISCHE_HAUSHALTE  \\\n",
       "count  817722.000000  817722.000000               798073.000000   \n",
       "mean        0.154018       1.727637                    7.599356   \n",
       "std         0.502389       1.155849                   14.332201   \n",
       "min         0.000000       0.000000                    0.000000   \n",
       "25%         0.000000       1.000000                    1.000000   \n",
       "50%         0.000000       1.000000                    3.000000   \n",
       "75%         0.000000       2.000000                    9.000000   \n",
       "max        11.000000      45.000000                  449.000000   \n",
       "\n",
       "           ANZ_TITEL         ARBEIT       BALLRAUM  CJT_GESAMTTYP  \\\n",
       "count  817722.000000  794005.000000  797481.000000  886367.000000   \n",
       "mean        0.004162       3.167854       4.153043       3.632838   \n",
       "std         0.068855       1.002376       2.183710       1.595021   \n",
       "min         0.000000       1.000000       1.000000       1.000000   \n",
       "25%         0.000000       3.000000       2.000000       2.000000   \n",
       "50%         0.000000       3.000000       5.000000       4.000000   \n",
       "75%         0.000000       4.000000       6.000000       5.000000   \n",
       "max         6.000000       9.000000       7.000000       6.000000   \n",
       "\n",
       "       CJT_KATALOGNUTZER      CJT_TYP_1      CJT_TYP_2      CJT_TYP_3  \\\n",
       "count      886367.000000  886367.000000  886367.000000  886367.000000   \n",
       "mean            3.335264       3.368086       3.195014       3.351290   \n",
       "std             1.493633       1.368331       1.401382       1.396508   \n",
       "min             1.000000       1.000000       1.000000       1.000000   \n",
       "25%             2.000000       2.000000       2.000000       2.000000   \n",
       "50%             4.000000       3.000000       3.000000       3.000000   \n",
       "75%             5.000000       5.000000       5.000000       5.000000   \n",
       "max             5.000000       5.000000       5.000000       5.000000   \n",
       "\n",
       "           CJT_TYP_4      CJT_TYP_5      CJT_TYP_6  D19_BANKEN_ANZ_12  \\\n",
       "count  886367.000000  886367.000000  886367.000000      891221.000000   \n",
       "mean        3.336151       3.360684       3.465980           0.122336   \n",
       "std         1.373077       1.378992       1.328456           0.535950   \n",
       "min         1.000000       1.000000       1.000000           0.000000   \n",
       "25%         2.000000       2.000000       2.000000           0.000000   \n",
       "50%         3.000000       3.000000       4.000000           0.000000   \n",
       "75%         5.000000       5.000000       5.000000           0.000000   \n",
       "max         5.000000       5.000000       5.000000           6.000000   \n",
       "\n",
       "       D19_BANKEN_ANZ_24  D19_BANKEN_DATUM  D19_BANKEN_DIREKT  \\\n",
       "count      891221.000000     891221.000000      891221.000000   \n",
       "mean            0.219907          9.267420           0.892735   \n",
       "std             0.747903          1.735725           2.011838   \n",
       "min             0.000000          1.000000           0.000000   \n",
       "25%             0.000000         10.000000           0.000000   \n",
       "50%             0.000000         10.000000           0.000000   \n",
       "75%             0.000000         10.000000           0.000000   \n",
       "max             6.000000         10.000000           7.000000   \n",
       "\n",
       "       D19_BANKEN_GROSS  D19_BANKEN_LOKAL  D19_BANKEN_OFFLINE_DATUM  \\\n",
       "count     891221.000000     891221.000000             891221.000000   \n",
       "mean           0.568580          0.106769                  9.926794   \n",
       "std            1.643764          0.808179                  0.605641   \n",
       "min            0.000000          0.000000                  1.000000   \n",
       "25%            0.000000          0.000000                 10.000000   \n",
       "50%            0.000000          0.000000                 10.000000   \n",
       "75%            0.000000          0.000000                 10.000000   \n",
       "max            6.000000          7.000000                 10.000000   \n",
       "\n",
       "       D19_BANKEN_ONLINE_DATUM  D19_BANKEN_ONLINE_QUOTE_12  D19_BANKEN_REST  \\\n",
       "count            891221.000000               634108.000000    891221.000000   \n",
       "mean                  9.439073                    0.705221         0.425645   \n",
       "std                   1.547773                    2.552707         1.510782   \n",
       "min                   1.000000                    0.000000         0.000000   \n",
       "25%                  10.000000                    0.000000         0.000000   \n",
       "50%                  10.000000                    0.000000         0.000000   \n",
       "75%                  10.000000                    0.000000         0.000000   \n",
       "max                  10.000000                   10.000000         7.000000   \n",
       "\n",
       "       D19_BEKLEIDUNG_GEH  D19_BEKLEIDUNG_REST    D19_BILDUNG   D19_BIO_OEKO  \\\n",
       "count       891221.000000        891221.000000  891221.000000  891221.000000   \n",
       "mean             0.467869             1.145516       0.485508       0.257938   \n",
       "std              1.542151             2.266999       1.639340       1.252328   \n",
       "min              0.000000             0.000000       0.000000       0.000000   \n",
       "25%              0.000000             0.000000       0.000000       0.000000   \n",
       "50%              0.000000             0.000000       0.000000       0.000000   \n",
       "75%              0.000000             0.000000       0.000000       0.000000   \n",
       "max              7.000000             7.000000       7.000000       7.000000   \n",
       "\n",
       "         D19_BUCH_CD  D19_DIGIT_SERV  D19_DROGERIEARTIKEL    D19_ENERGIE  \\\n",
       "count  891221.000000   891221.000000        891221.000000  891221.000000   \n",
       "mean        1.585405        0.196746             0.673292       0.346854   \n",
       "std         2.547925        1.036762             1.752758       1.337269   \n",
       "min         0.000000        0.000000             0.000000       0.000000   \n",
       "25%         0.000000        0.000000             0.000000       0.000000   \n",
       "50%         0.000000        0.000000             0.000000       0.000000   \n",
       "75%         3.000000        0.000000             0.000000       0.000000   \n",
       "max         7.000000        7.000000             7.000000       7.000000   \n",
       "\n",
       "        D19_FREIZEIT     D19_GARTEN  D19_GESAMT_ANZ_12  D19_GESAMT_ANZ_24  \\\n",
       "count  891221.000000  891221.000000      891221.000000      891221.000000   \n",
       "mean        0.590678       0.255993           0.797683           1.240179   \n",
       "std         1.721602       1.213048           1.330718           1.727867   \n",
       "min         0.000000       0.000000           0.000000           0.000000   \n",
       "25%         0.000000       0.000000           0.000000           0.000000   \n",
       "50%         0.000000       0.000000           0.000000           0.000000   \n",
       "75%         0.000000       0.000000           1.000000           2.000000   \n",
       "max         7.000000       7.000000           6.000000           6.000000   \n",
       "\n",
       "       D19_GESAMT_DATUM  D19_GESAMT_OFFLINE_DATUM  D19_GESAMT_ONLINE_DATUM  \\\n",
       "count     891221.000000             891221.000000            891221.000000   \n",
       "mean           7.071743                  9.034676                 7.680381   \n",
       "std            3.212715                  1.768926                 3.039867   \n",
       "min            1.000000                  1.000000                 1.000000   \n",
       "25%            5.000000                  9.000000                 5.000000   \n",
       "50%            9.000000                 10.000000                10.000000   \n",
       "75%           10.000000                 10.000000                10.000000   \n",
       "max           10.000000                 10.000000                10.000000   \n",
       "\n",
       "       D19_GESAMT_ONLINE_QUOTE_12   D19_HANDWERK  D19_HAUS_DEKO  \\\n",
       "count               634108.000000  891221.000000  891221.000000   \n",
       "mean                     3.560952       0.841994       1.017852   \n",
       "std                      4.658538       2.119703       2.144350   \n",
       "min                      0.000000       0.000000       0.000000   \n",
       "25%                      0.000000       0.000000       0.000000   \n",
       "50%                      0.000000       0.000000       0.000000   \n",
       "75%                     10.000000       0.000000       0.000000   \n",
       "max                     10.000000       7.000000       7.000000   \n",
       "\n",
       "       D19_KINDERARTIKEL  D19_KONSUMTYP  D19_KONSUMTYP_MAX   D19_KOSMETIK  \\\n",
       "count      891221.000000  634108.000000      891221.000000  891221.000000   \n",
       "mean            0.870657       5.424540           5.849228       1.030101   \n",
       "std             2.077303       3.234275           3.225762       2.347223   \n",
       "min             0.000000       1.000000           1.000000       0.000000   \n",
       "25%             0.000000       2.000000           2.000000       0.000000   \n",
       "50%             0.000000       5.000000           8.000000       0.000000   \n",
       "75%             0.000000       9.000000           9.000000       0.000000   \n",
       "max             7.000000       9.000000           9.000000       7.000000   \n",
       "\n",
       "       D19_LEBENSMITTEL      D19_LOTTO  D19_NAHRUNGSERGAENZUNG   D19_RATGEBER  \\\n",
       "count     891221.000000  634108.000000           891221.000000  891221.000000   \n",
       "mean           0.319525       1.521733                0.244524       0.502830   \n",
       "std            1.316090       2.832521                1.184654       1.616871   \n",
       "min            0.000000       0.000000                0.000000       0.000000   \n",
       "25%            0.000000       0.000000                0.000000       0.000000   \n",
       "50%            0.000000       0.000000                0.000000       0.000000   \n",
       "75%            0.000000       0.000000                0.000000       0.000000   \n",
       "max            7.000000       7.000000                7.000000       7.000000   \n",
       "\n",
       "          D19_REISEN  D19_SAMMELARTIKEL     D19_SCHUHE   D19_SONSTIGE  \\\n",
       "count  891221.000000      891221.000000  891221.000000  891221.000000   \n",
       "mean        1.048628           0.594606       0.510818       2.365959   \n",
       "std         2.329347           1.798291       1.433293       2.861577   \n",
       "min         0.000000           0.000000       0.000000       0.000000   \n",
       "25%         0.000000           0.000000       0.000000       0.000000   \n",
       "50%         0.000000           0.000000       0.000000       0.000000   \n",
       "75%         0.000000           0.000000       0.000000       6.000000   \n",
       "max         7.000000           7.000000       7.000000       7.000000   \n",
       "\n",
       "        D19_SOZIALES    D19_TECHNIK  D19_TELKO_ANZ_12  D19_TELKO_ANZ_24  \\\n",
       "count  634108.000000  891221.000000     891221.000000     891221.000000   \n",
       "mean        0.657908       1.738563          0.049056          0.098804   \n",
       "std         1.457774       2.740417          0.277552          0.393587   \n",
       "min         0.000000       0.000000          0.000000          0.000000   \n",
       "25%         0.000000       0.000000          0.000000          0.000000   \n",
       "50%         0.000000       0.000000          0.000000          0.000000   \n",
       "75%         0.000000       6.000000          0.000000          0.000000   \n",
       "max         5.000000       7.000000          6.000000          6.000000   \n",
       "\n",
       "       D19_TELKO_DATUM  D19_TELKO_MOBILE  D19_TELKO_OFFLINE_DATUM  \\\n",
       "count    891221.000000     891221.000000            891221.000000   \n",
       "mean          9.428728          1.009937                 9.828039   \n",
       "std           1.344289          2.187102                 0.745852   \n",
       "min           1.000000          0.000000                 1.000000   \n",
       "25%           9.000000          0.000000                10.000000   \n",
       "50%          10.000000          0.000000                10.000000   \n",
       "75%          10.000000          0.000000                10.000000   \n",
       "max          10.000000          7.000000                10.000000   \n",
       "\n",
       "       D19_TELKO_ONLINE_DATUM  D19_TELKO_ONLINE_QUOTE_12  D19_TELKO_REST  \\\n",
       "count           891221.000000              634108.000000   891221.000000   \n",
       "mean                 9.981780                   0.012261        0.779996   \n",
       "std                  0.241035                   0.348780        1.969724   \n",
       "min                  1.000000                   0.000000        0.000000   \n",
       "25%                 10.000000                   0.000000        0.000000   \n",
       "50%                 10.000000                   0.000000        0.000000   \n",
       "75%                 10.000000                   0.000000        0.000000   \n",
       "max                 10.000000                  10.000000        7.000000   \n",
       "\n",
       "       D19_TIERARTIKEL  D19_VERSAND_ANZ_12  D19_VERSAND_ANZ_24  \\\n",
       "count    891221.000000       891221.000000       891221.000000   \n",
       "mean          0.243178            0.604646            0.958868   \n",
       "std           1.170809            1.150455            1.529453   \n",
       "min           0.000000            0.000000            0.000000   \n",
       "25%           0.000000            0.000000            0.000000   \n",
       "50%           0.000000            0.000000            0.000000   \n",
       "75%           0.000000            1.000000            2.000000   \n",
       "max           7.000000            6.000000            6.000000   \n",
       "\n",
       "       D19_VERSAND_DATUM  D19_VERSAND_OFFLINE_DATUM  D19_VERSAND_ONLINE_DATUM  \\\n",
       "count      891221.000000              891221.000000             891221.000000   \n",
       "mean            7.717380                   9.326818                  7.942473   \n",
       "std             2.989552                   1.456007                  2.942631   \n",
       "min             1.000000                   1.000000                  1.000000   \n",
       "25%             5.000000                   9.000000                  6.000000   \n",
       "50%             9.000000                  10.000000                 10.000000   \n",
       "75%            10.000000                  10.000000                 10.000000   \n",
       "max            10.000000                  10.000000                 10.000000   \n",
       "\n",
       "       D19_VERSAND_ONLINE_QUOTE_12  D19_VERSAND_REST  D19_VERSI_ANZ_12  \\\n",
       "count                634108.000000     891221.000000     891221.000000   \n",
       "mean                      3.244432          0.829550          0.113597   \n",
       "std                       4.586604          1.912499          0.434877   \n",
       "min                       0.000000          0.000000          0.000000   \n",
       "25%                       0.000000          0.000000          0.000000   \n",
       "50%                       0.000000          0.000000          0.000000   \n",
       "75%                      10.000000          0.000000          0.000000   \n",
       "max                      10.000000          7.000000          6.000000   \n",
       "\n",
       "       D19_VERSI_ANZ_24  D19_VERSI_DATUM  D19_VERSI_OFFLINE_DATUM  \\\n",
       "count     891221.000000    891221.000000            891221.000000   \n",
       "mean           0.206998         9.142563                 9.922649   \n",
       "std            0.617016         1.911186                 0.502665   \n",
       "min            0.000000         1.000000                 1.000000   \n",
       "25%            0.000000         9.000000                10.000000   \n",
       "50%            0.000000        10.000000                10.000000   \n",
       "75%            0.000000        10.000000                10.000000   \n",
       "max            6.000000        10.000000                10.000000   \n",
       "\n",
       "       D19_VERSI_ONLINE_DATUM  D19_VERSI_ONLINE_QUOTE_12  D19_VERSICHERUNGEN  \\\n",
       "count           891221.000000              634108.000000       891221.000000   \n",
       "mean                 9.976712                   0.025228            1.259786   \n",
       "std                  0.311191                   0.498010            2.253954   \n",
       "min                  1.000000                   0.000000            0.000000   \n",
       "25%                 10.000000                   0.000000            0.000000   \n",
       "50%                 10.000000                   0.000000            0.000000   \n",
       "75%                 10.000000                   0.000000            2.000000   \n",
       "max                 10.000000                  10.000000            7.000000   \n",
       "\n",
       "       D19_VOLLSORTIMENT  D19_WEIN_FEINKOST       DSL_FLAG  \\\n",
       "count      891221.000000      891221.000000  798073.000000   \n",
       "mean            1.728497           0.377515       0.967816   \n",
       "std             2.605193           1.493151       0.176488   \n",
       "min             0.000000           0.000000       0.000000   \n",
       "25%             0.000000           0.000000       1.000000   \n",
       "50%             0.000000           0.000000       1.000000   \n",
       "75%             5.000000           0.000000       1.000000   \n",
       "max             7.000000           7.000000       1.000000   \n",
       "\n",
       "       EINGEZOGENAM_HH_JAHR       EWDICHTE      EXTSEL992  FINANZ_ANLEGER  \\\n",
       "count         817722.000000  797481.000000  237068.000000   891221.000000   \n",
       "mean            2003.729061       3.939172      33.338392        3.033328   \n",
       "std                7.058204       1.718996      14.537408        1.529603   \n",
       "min             1900.000000       1.000000       1.000000        1.000000   \n",
       "25%             1997.000000       2.000000      23.000000        2.000000   \n",
       "50%             2003.000000       4.000000      34.000000        3.000000   \n",
       "75%             2010.000000       6.000000      43.000000        5.000000   \n",
       "max             2018.000000       6.000000      56.000000        5.000000   \n",
       "\n",
       "       FINANZ_HAUSBAUER  FINANZ_MINIMALIST  FINANZ_SPARER  \\\n",
       "count     891221.000000      891221.000000  891221.000000   \n",
       "mean           3.075121           3.074528       2.821039   \n",
       "std            1.353248           1.321055       1.464749   \n",
       "min            1.000000           1.000000       1.000000   \n",
       "25%            2.000000           2.000000       1.000000   \n",
       "50%            3.000000           3.000000       3.000000   \n",
       "75%            4.000000           4.000000       4.000000   \n",
       "max            5.000000           5.000000       5.000000   \n",
       "\n",
       "       FINANZ_UNAUFFAELLIGER  FINANZ_VORSORGER      FINANZTYP   FIRMENDICHTE  \\\n",
       "count          891221.000000     891221.000000  891221.000000  798066.000000   \n",
       "mean                2.874167          3.401106       3.790586       3.456029   \n",
       "std                 1.486731          1.322134       1.987876       1.153415   \n",
       "min                 1.000000          1.000000       1.000000       1.000000   \n",
       "25%                 2.000000          3.000000       2.000000       3.000000   \n",
       "50%                 3.000000          3.000000       4.000000       4.000000   \n",
       "75%                 4.000000          5.000000       6.000000       4.000000   \n",
       "max                 5.000000          5.000000       6.000000       5.000000   \n",
       "\n",
       "         GEBAEUDETYP  GEBAEUDETYP_RASTER    GEBURTSJAHR    GEMEINDETYP  \\\n",
       "count  798073.000000       798066.000000  891221.000000  793947.000000   \n",
       "mean        2.798641            3.738306    1101.178533      24.186748   \n",
       "std         2.656713            0.923193     976.583551      12.037852   \n",
       "min         1.000000            1.000000       0.000000      11.000000   \n",
       "25%         1.000000            3.000000       0.000000      12.000000   \n",
       "50%         1.000000            4.000000    1943.000000      22.000000   \n",
       "75%         3.000000            4.000000    1970.000000      30.000000   \n",
       "max         8.000000            5.000000    2017.000000      50.000000   \n",
       "\n",
       "       GFK_URLAUBERTYP  GREEN_AVANTGARDE     HEALTH_TYP  HH_DELTA_FLAG  \\\n",
       "count    886367.000000     891221.000000  891221.000000  783619.000000   \n",
       "mean          7.350304          0.196612       1.792102       0.092745   \n",
       "std           3.525723          0.397437       1.269062       0.290075   \n",
       "min           1.000000          0.000000      -1.000000       0.000000   \n",
       "25%           5.000000          0.000000       1.000000       0.000000   \n",
       "50%           8.000000          0.000000       2.000000       0.000000   \n",
       "75%          10.000000          0.000000       3.000000       0.000000   \n",
       "max          12.000000          1.000000       3.000000       1.000000   \n",
       "\n",
       "       HH_EINKOMMEN_SCORE     INNENSTADT   KBA05_ALTER1   KBA05_ALTER2  \\\n",
       "count       872873.000000  797481.000000  757897.000000  757897.000000   \n",
       "mean             4.207243       4.549491       2.071317       3.149416   \n",
       "std              1.624057       2.028919       1.532120       1.338676   \n",
       "min              1.000000       1.000000       0.000000       1.000000   \n",
       "25%              3.000000       3.000000       1.000000       2.000000   \n",
       "50%              5.000000       5.000000       2.000000       3.000000   \n",
       "75%              6.000000       6.000000       3.000000       4.000000   \n",
       "max              6.000000       8.000000       9.000000       9.000000   \n",
       "\n",
       "        KBA05_ALTER3   KBA05_ALTER4   KBA05_ANHANG    KBA05_ANTG1  \\\n",
       "count  757897.000000  757897.000000  757897.000000  757897.000000   \n",
       "mean        3.112196       2.919489       1.106609       1.494277   \n",
       "std         1.349705       1.500372       1.427606       1.403961   \n",
       "min         1.000000       0.000000       0.000000       0.000000   \n",
       "25%         2.000000       2.000000       0.000000       0.000000   \n",
       "50%         3.000000       3.000000       1.000000       1.000000   \n",
       "75%         4.000000       4.000000       1.000000       3.000000   \n",
       "max         9.000000       9.000000       9.000000       4.000000   \n",
       "\n",
       "         KBA05_ANTG2    KBA05_ANTG3    KBA05_ANTG4  KBA05_AUTOQUOT  \\\n",
       "count  757897.000000  757897.000000  757897.000000   757897.000000   \n",
       "mean        1.265584       0.624525       0.305927        3.207994   \n",
       "std         1.245178       1.013443       0.638725        1.400238   \n",
       "min         0.000000       0.000000       0.000000        1.000000   \n",
       "25%         0.000000       0.000000       0.000000        2.000000   \n",
       "50%         1.000000       0.000000       0.000000        3.000000   \n",
       "75%         2.000000       1.000000       0.000000        4.000000   \n",
       "max         4.000000       3.000000       2.000000        9.000000   \n",
       "\n",
       "        KBA05_BAUMAX     KBA05_CCM1     KBA05_CCM2     KBA05_CCM3  \\\n",
       "count  757897.000000  757897.000000  757897.000000  757897.000000   \n",
       "mean        1.389552       3.082453       3.115361       3.144479   \n",
       "std         1.779483       1.349763       1.323141       1.351333   \n",
       "min         0.000000       1.000000       1.000000       1.000000   \n",
       "25%         0.000000       2.000000       2.000000       2.000000   \n",
       "50%         1.000000       3.000000       3.000000       3.000000   \n",
       "75%         3.000000       4.000000       4.000000       4.000000   \n",
       "max         5.000000       9.000000       9.000000       9.000000   \n",
       "\n",
       "          KBA05_CCM4   KBA05_DIESEL     KBA05_FRAU      KBA05_GBZ  \\\n",
       "count  757897.000000  757897.000000  757897.000000  757897.000000   \n",
       "mean        1.358658       2.147870       3.110023       3.158580   \n",
       "std         1.621032       1.427566       1.349794       1.329537   \n",
       "min         0.000000       0.000000       1.000000       1.000000   \n",
       "25%         0.000000       1.000000       2.000000       2.000000   \n",
       "50%         1.000000       2.000000       3.000000       3.000000   \n",
       "75%         2.000000       3.000000       4.000000       4.000000   \n",
       "max         9.000000       9.000000       9.000000       5.000000   \n",
       "\n",
       "        KBA05_HERST1   KBA05_HERST2   KBA05_HERST3   KBA05_HERST4  \\\n",
       "count  757897.000000  757897.000000  757897.000000  757897.000000   \n",
       "mean        2.476347       3.103159       3.035828       2.955032   \n",
       "std         1.635226       1.316661       1.394468       1.496686   \n",
       "min         0.000000       1.000000       0.000000       0.000000   \n",
       "25%         1.000000       2.000000       2.000000       2.000000   \n",
       "50%         2.000000       3.000000       3.000000       3.000000   \n",
       "75%         3.000000       4.000000       4.000000       4.000000   \n",
       "max         9.000000       9.000000       9.000000       9.000000   \n",
       "\n",
       "        KBA05_HERST5  KBA05_HERSTTEMP  KBA05_KRSAQUOT  KBA05_KRSHERST1  \\\n",
       "count  757897.000000    798073.000000   757897.000000    757897.000000   \n",
       "mean        2.923587         2.836532        3.097802         3.049426   \n",
       "std         1.539973         1.491578        1.396567         1.308095   \n",
       "min         0.000000         1.000000        1.000000         1.000000   \n",
       "25%         2.000000         2.000000        2.000000         2.000000   \n",
       "50%         3.000000         3.000000        3.000000         3.000000   \n",
       "75%         4.000000         4.000000        4.000000         4.000000   \n",
       "max         9.000000         9.000000        9.000000         9.000000   \n",
       "\n",
       "       KBA05_KRSHERST2  KBA05_KRSHERST3  KBA05_KRSKLEIN  KBA05_KRSOBER  \\\n",
       "count    757897.000000    757897.000000   757897.000000  757897.000000   \n",
       "mean          3.078738         3.153802        2.127912       2.102949   \n",
       "std           1.345043         1.362345        1.159441       1.145852   \n",
       "min           1.000000         1.000000        1.000000       1.000000   \n",
       "25%           2.000000         2.000000        2.000000       2.000000   \n",
       "50%           3.000000         3.000000        2.000000       2.000000   \n",
       "75%           4.000000         4.000000        2.000000       2.000000   \n",
       "max           9.000000         9.000000        9.000000       9.000000   \n",
       "\n",
       "        KBA05_KRSVAN   KBA05_KRSZUL      KBA05_KW1      KBA05_KW2  \\\n",
       "count  757897.000000  757897.000000  757897.000000  757897.000000   \n",
       "mean        2.135488       2.065225       3.093550       3.113674   \n",
       "std         1.126434       1.196110       1.376706       1.333745   \n",
       "min         1.000000       1.000000       1.000000       1.000000   \n",
       "25%         2.000000       1.000000       2.000000       2.000000   \n",
       "50%         2.000000       2.000000       3.000000       3.000000   \n",
       "75%         2.000000       2.000000       4.000000       4.000000   \n",
       "max         9.000000       9.000000       9.000000       9.000000   \n",
       "\n",
       "           KBA05_KW3    KBA05_MAXAH    KBA05_MAXBJ  KBA05_MAXHERST  \\\n",
       "count  757897.000000  757897.000000  757897.000000   757897.000000   \n",
       "mean        1.551242       3.386927       2.444595        2.869010   \n",
       "std         1.607973       1.493682       1.496391        1.403278   \n",
       "min         0.000000       1.000000       1.000000        1.000000   \n",
       "25%         0.000000       2.000000       1.000000        2.000000   \n",
       "50%         1.000000       3.000000       2.000000        3.000000   \n",
       "75%         2.000000       5.000000       4.000000        4.000000   \n",
       "max         9.000000       9.000000       9.000000        9.000000   \n",
       "\n",
       "        KBA05_MAXSEG  KBA05_MAXVORB     KBA05_MOD1     KBA05_MOD2  \\\n",
       "count  757897.000000  757897.000000  757897.000000  757897.000000   \n",
       "mean        2.278277       2.218266       1.437354       3.091425   \n",
       "std         1.318311       1.209227       1.643943       1.328794   \n",
       "min         1.000000       1.000000       0.000000       1.000000   \n",
       "25%         1.000000       2.000000       0.000000       2.000000   \n",
       "50%         2.000000       2.000000       1.000000       3.000000   \n",
       "75%         3.000000       3.000000       2.000000       4.000000   \n",
       "max         9.000000       9.000000       9.000000       9.000000   \n",
       "\n",
       "          KBA05_MOD3     KBA05_MOD4     KBA05_MOD8  KBA05_MODTEMP  \\\n",
       "count  757897.000000  757897.000000  757897.000000  798073.000000   \n",
       "mean        3.096057       2.832567       1.379413       3.006467   \n",
       "std         1.350524       1.612727       1.464159       1.255616   \n",
       "min         1.000000       0.000000       0.000000       1.000000   \n",
       "25%         2.000000       2.000000       0.000000       2.000000   \n",
       "50%         3.000000       3.000000       1.000000       3.000000   \n",
       "75%         4.000000       4.000000       2.000000       4.000000   \n",
       "max         9.000000       9.000000       9.000000       6.000000   \n",
       "\n",
       "         KBA05_MOTOR   KBA05_MOTRAD     KBA05_SEG1    KBA05_SEG10  \\\n",
       "count  757897.000000  757897.000000  757897.000000  757897.000000   \n",
       "mean        2.649657       1.163318       1.233541       2.005177   \n",
       "std         1.287217       1.359159       1.441903       1.508828   \n",
       "min         1.000000       0.000000       0.000000       0.000000   \n",
       "25%         2.000000       0.000000       0.000000       1.000000   \n",
       "50%         3.000000       1.000000       1.000000       2.000000   \n",
       "75%         3.000000       1.000000       2.000000       3.000000   \n",
       "max         9.000000       9.000000       9.000000       9.000000   \n",
       "\n",
       "          KBA05_SEG2     KBA05_SEG3     KBA05_SEG4     KBA05_SEG5  \\\n",
       "count  757897.000000  757897.000000  757897.000000  757897.000000   \n",
       "mean        3.098730       3.086683       3.104275       1.597992   \n",
       "std         1.332421       1.343910       1.317709       1.567611   \n",
       "min         1.000000       1.000000       1.000000       0.000000   \n",
       "25%         2.000000       2.000000       2.000000       1.000000   \n",
       "50%         3.000000       3.000000       3.000000       1.000000   \n",
       "75%         4.000000       4.000000       4.000000       2.000000   \n",
       "max         9.000000       9.000000       9.000000       9.000000   \n",
       "\n",
       "          KBA05_SEG6     KBA05_SEG7     KBA05_SEG8     KBA05_SEG9  \\\n",
       "count  757897.000000  757897.000000  757897.000000  757897.000000   \n",
       "mean        0.292329       0.988600       0.901281       1.213546   \n",
       "std         1.269465       1.477921       1.472815       1.445609   \n",
       "min         0.000000       0.000000       0.000000       0.000000   \n",
       "25%         0.000000       0.000000       0.000000       0.000000   \n",
       "50%         0.000000       1.000000       0.000000       1.000000   \n",
       "75%         0.000000       2.000000       1.000000       2.000000   \n",
       "max         9.000000       9.000000       9.000000       9.000000   \n",
       "\n",
       "         KBA05_VORB0    KBA05_VORB1    KBA05_VORB2     KBA05_ZUL1  \\\n",
       "count  757897.000000  757897.000000  757897.000000  757897.000000   \n",
       "mean        2.970043       3.111915       2.858849       3.101210   \n",
       "std         1.417498       1.333840       1.616102       1.336639   \n",
       "min         1.000000       1.000000       0.000000       1.000000   \n",
       "25%         2.000000       2.000000       2.000000       2.000000   \n",
       "50%         3.000000       3.000000       3.000000       3.000000   \n",
       "75%         4.000000       4.000000       4.000000       4.000000   \n",
       "max         9.000000       9.000000       9.000000       9.000000   \n",
       "\n",
       "          KBA05_ZUL2     KBA05_ZUL3     KBA05_ZUL4  KBA13_ALTERHALTER_30  \\\n",
       "count  757897.000000  757897.000000  757897.000000         785421.000000   \n",
       "mean        3.105024       2.782602       2.270413              2.978739   \n",
       "std         1.341038       1.614416       1.733541              1.061121   \n",
       "min         1.000000       0.000000       0.000000              1.000000   \n",
       "25%         2.000000       2.000000       1.000000              2.000000   \n",
       "50%         3.000000       3.000000       2.000000              3.000000   \n",
       "75%         4.000000       4.000000       3.000000              4.000000   \n",
       "max         9.000000       9.000000       9.000000              5.000000   \n",
       "\n",
       "       KBA13_ALTERHALTER_45  KBA13_ALTERHALTER_60  KBA13_ALTERHALTER_61  \\\n",
       "count         785421.000000         785421.000000         785421.000000   \n",
       "mean               3.084179              2.818780              3.119899   \n",
       "std                1.114805              1.054657              1.065411   \n",
       "min                1.000000              1.000000              1.000000   \n",
       "25%                2.000000              2.000000              2.000000   \n",
       "50%                3.000000              3.000000              3.000000   \n",
       "75%                4.000000              3.000000              4.000000   \n",
       "max                5.000000              5.000000              5.000000   \n",
       "\n",
       "         KBA13_ANTG1    KBA13_ANTG2    KBA13_ANTG3    KBA13_ANTG4  \\\n",
       "count  785421.000000  785421.000000  785421.000000  785421.000000   \n",
       "mean        2.150965       2.777878       1.604806       0.676414   \n",
       "std         0.921052       0.932685       1.017783       0.735776   \n",
       "min         0.000000       0.000000       0.000000       0.000000   \n",
       "25%         1.000000       2.000000       1.000000       0.000000   \n",
       "50%         2.000000       3.000000       2.000000       1.000000   \n",
       "75%         3.000000       3.000000       2.000000       1.000000   \n",
       "max         4.000000       4.000000       3.000000       2.000000   \n",
       "\n",
       "       KBA13_ANZAHL_PKW     KBA13_AUDI  KBA13_AUTOQUOTE   KBA13_BAUMAX  \\\n",
       "count     785421.000000  785421.000000    785421.000000  785421.000000   \n",
       "mean         619.701439       3.005443         2.782243       2.019615   \n",
       "std          340.034318       1.003598         1.049191       1.510167   \n",
       "min            0.000000       1.000000         0.000000       1.000000   \n",
       "25%          384.000000       2.000000         2.000000       1.000000   \n",
       "50%          549.000000       3.000000         3.000000       1.000000   \n",
       "75%          778.000000       4.000000         3.000000       3.000000   \n",
       "max         2300.000000       5.000000         5.000000       5.000000   \n",
       "\n",
       "       KBA13_BJ_1999  KBA13_BJ_2000  KBA13_BJ_2004  KBA13_BJ_2006  \\\n",
       "count  785421.000000  785421.000000  785421.000000  785421.000000   \n",
       "mean        2.987050       2.990920       2.982818       2.983200   \n",
       "std         0.962333       0.997081       0.950731       0.964752   \n",
       "min         1.000000       1.000000       1.000000       1.000000   \n",
       "25%         2.000000       2.000000       2.000000       2.000000   \n",
       "50%         3.000000       3.000000       3.000000       3.000000   \n",
       "75%         4.000000       4.000000       4.000000       4.000000   \n",
       "max         5.000000       5.000000       5.000000       5.000000   \n",
       "\n",
       "       KBA13_BJ_2008  KBA13_BJ_2009      KBA13_BMW  KBA13_CCM_0_1400  \\\n",
       "count  785421.000000  785421.000000  785421.000000     785421.000000   \n",
       "mean        2.430025       2.453592       3.159222          2.342429   \n",
       "std         1.466413       1.448965       1.000801          1.445697   \n",
       "min         0.000000       0.000000       1.000000          0.000000   \n",
       "25%         2.000000       1.000000       3.000000          1.000000   \n",
       "50%         3.000000       3.000000       3.000000          3.000000   \n",
       "75%         3.000000       3.000000       4.000000          3.000000   \n",
       "max         5.000000       5.000000       5.000000          5.000000   \n",
       "\n",
       "       KBA13_CCM_1000  KBA13_CCM_1200  KBA13_CCM_1400  KBA13_CCM_1401_2500  \\\n",
       "count   785421.000000   785421.000000   785421.000000        785421.000000   \n",
       "mean         2.426497        2.329706        3.005170             2.910121   \n",
       "std          1.436357        1.459578        0.942756             0.945072   \n",
       "min          0.000000        0.000000        1.000000             1.000000   \n",
       "25%          1.000000        1.000000        2.000000             2.000000   \n",
       "50%          3.000000        3.000000        3.000000             3.000000   \n",
       "75%          3.000000        3.000000        4.000000             3.000000   \n",
       "max          5.000000        5.000000        5.000000             5.000000   \n",
       "\n",
       "       KBA13_CCM_1500  KBA13_CCM_1600  KBA13_CCM_1800  KBA13_CCM_2000  \\\n",
       "count   785421.000000   785421.000000   785421.000000   785421.000000   \n",
       "mean         2.619311        3.029111        2.364001        3.071686   \n",
       "std          1.419685        0.938871        1.436662        0.938193   \n",
       "min          1.000000        1.000000        0.000000        1.000000   \n",
       "25%          1.000000        2.000000        2.000000        3.000000   \n",
       "50%          3.000000        3.000000        3.000000        3.000000   \n",
       "75%          4.000000        4.000000        3.000000        4.000000   \n",
       "max          5.000000        5.000000        5.000000        5.000000   \n",
       "\n",
       "       KBA13_CCM_2500  KBA13_CCM_2501  KBA13_CCM_3000  KBA13_CCM_3001  \\\n",
       "count   785421.000000   785421.000000   785421.000000   785421.000000   \n",
       "mean         2.482918        2.512178        2.583847        2.625875   \n",
       "std          1.414943        1.449423        1.368104        1.511502   \n",
       "min          0.000000        0.000000        0.000000        1.000000   \n",
       "25%          1.000000        1.000000        1.000000        1.000000   \n",
       "50%          3.000000        3.000000        3.000000        3.000000   \n",
       "75%          3.000000        3.000000        3.000000        4.000000   \n",
       "max          5.000000        5.000000        5.000000        5.000000   \n",
       "\n",
       "       KBA13_FAB_ASIEN  KBA13_FAB_SONSTIGE     KBA13_FIAT     KBA13_FORD  \\\n",
       "count    785421.000000       785421.000000  785421.000000  785421.000000   \n",
       "mean          2.974637            2.988924       3.128779       3.004055   \n",
       "std           1.017911            1.008135       1.001766       1.040267   \n",
       "min           1.000000            1.000000       1.000000       1.000000   \n",
       "25%           2.000000            2.000000       3.000000       2.000000   \n",
       "50%           3.000000            3.000000       3.000000       3.000000   \n",
       "75%           4.000000            4.000000       4.000000       4.000000   \n",
       "max           5.000000            5.000000       5.000000       5.000000   \n",
       "\n",
       "           KBA13_GBZ  KBA13_HALTER_20  KBA13_HALTER_25  KBA13_HALTER_30  \\\n",
       "count  785421.000000    785421.000000    785421.000000    785421.000000   \n",
       "mean        3.419656         2.909913         2.945092         3.056838   \n",
       "std         1.119775         1.001968         1.036591         1.089204   \n",
       "min         1.000000         1.000000         1.000000         1.000000   \n",
       "25%         3.000000         2.000000         2.000000         2.000000   \n",
       "50%         3.000000         3.000000         3.000000         3.000000   \n",
       "75%         4.000000         3.000000         4.000000         4.000000   \n",
       "max         5.000000         5.000000         5.000000         5.000000   \n",
       "\n",
       "       KBA13_HALTER_35  KBA13_HALTER_40  KBA13_HALTER_45  KBA13_HALTER_50  \\\n",
       "count    785421.000000    785421.000000    785421.000000    785421.000000   \n",
       "mean          3.104942         3.089957         3.027353         2.844840   \n",
       "std           1.105378         1.097062         1.078913         1.053112   \n",
       "min           1.000000         1.000000         1.000000         1.000000   \n",
       "25%           2.000000         2.000000         2.000000         2.000000   \n",
       "50%           3.000000         3.000000         3.000000         3.000000   \n",
       "75%           4.000000         4.000000         4.000000         3.000000   \n",
       "max           5.000000         5.000000         5.000000         5.000000   \n",
       "\n",
       "       KBA13_HALTER_55  KBA13_HALTER_60  KBA13_HALTER_65  KBA13_HALTER_66  \\\n",
       "count    785421.000000    785421.000000    785421.000000    785421.000000   \n",
       "mean          2.840152         2.889783         3.126904         3.103431   \n",
       "std           1.062277         1.073687         1.044822         1.075110   \n",
       "min           1.000000         1.000000         1.000000         1.000000   \n",
       "25%           2.000000         2.000000         3.000000         2.000000   \n",
       "50%           3.000000         3.000000         3.000000         3.000000   \n",
       "75%           3.000000         4.000000         4.000000         4.000000   \n",
       "max           5.000000         5.000000         5.000000         5.000000   \n",
       "\n",
       "       KBA13_HERST_ASIEN  KBA13_HERST_AUDI_VW  KBA13_HERST_BMW_BENZ  \\\n",
       "count      785421.000000        785421.000000         785421.000000   \n",
       "mean            3.004371             2.924983              3.165170   \n",
       "std             1.031193             1.026814              1.022937   \n",
       "min             1.000000             1.000000              1.000000   \n",
       "25%             2.000000             2.000000              3.000000   \n",
       "50%             3.000000             3.000000              3.000000   \n",
       "75%             4.000000             4.000000              4.000000   \n",
       "max             5.000000             5.000000              5.000000   \n",
       "\n",
       "       KBA13_HERST_EUROPA  KBA13_HERST_FORD_OPEL  KBA13_HERST_SONST  \\\n",
       "count       785421.000000          785421.000000      785421.000000   \n",
       "mean             3.083781               2.966992           2.988924   \n",
       "std              1.013485               1.058178           1.008135   \n",
       "min              1.000000               1.000000           1.000000   \n",
       "25%              2.000000               2.000000           2.000000   \n",
       "50%              3.000000               3.000000           3.000000   \n",
       "75%              4.000000               4.000000           4.000000   \n",
       "max              5.000000               5.000000           5.000000   \n",
       "\n",
       "           KBA13_HHZ  KBA13_KMH_0_140  KBA13_KMH_110  KBA13_KMH_140  \\\n",
       "count  785421.000000    785421.000000  785421.000000  785421.000000   \n",
       "mean        3.573068         2.329369       1.320813       2.694810   \n",
       "std         0.978024         1.529004       0.676535       1.390453   \n",
       "min         1.000000         0.000000       1.000000       1.000000   \n",
       "25%         3.000000         1.000000       1.000000       1.000000   \n",
       "50%         3.000000         3.000000       1.000000       3.000000   \n",
       "75%         4.000000         3.000000       1.000000       4.000000   \n",
       "max         5.000000         5.000000       3.000000       5.000000   \n",
       "\n",
       "       KBA13_KMH_140_210  KBA13_KMH_180  KBA13_KMH_210  KBA13_KMH_211  \\\n",
       "count      785421.000000  785421.000000  785421.000000  785421.000000   \n",
       "mean            2.849393       2.932968       3.037302       2.457977   \n",
       "std             0.971055       0.970028       0.955909       1.491628   \n",
       "min             1.000000       1.000000       1.000000       0.000000   \n",
       "25%             2.000000       2.000000       2.000000       2.000000   \n",
       "50%             3.000000       3.000000       3.000000       3.000000   \n",
       "75%             3.000000       4.000000       4.000000       3.000000   \n",
       "max             5.000000       5.000000       5.000000       5.000000   \n",
       "\n",
       "       KBA13_KMH_250  KBA13_KMH_251  KBA13_KRSAQUOT  KBA13_KRSHERST_AUDI_VW  \\\n",
       "count  785421.000000  785421.000000   785421.000000           785421.000000   \n",
       "mean        2.455954       1.268960        2.866368                2.959944   \n",
       "std         1.490854       0.672798        1.062772                1.011523   \n",
       "min         0.000000       1.000000        0.000000                0.000000   \n",
       "25%         2.000000       1.000000        2.000000                2.000000   \n",
       "50%         3.000000       1.000000        3.000000                3.000000   \n",
       "75%         3.000000       1.000000        4.000000                4.000000   \n",
       "max         5.000000       3.000000        5.000000                5.000000   \n",
       "\n",
       "       KBA13_KRSHERST_BMW_BENZ  KBA13_KRSHERST_FORD_OPEL  KBA13_KRSSEG_KLEIN  \\\n",
       "count            785421.000000             785421.000000       785421.000000   \n",
       "mean                  3.083096                  3.008966            1.994527   \n",
       "std                   1.009635                  1.040945            0.292661   \n",
       "min                   0.000000                  0.000000            0.000000   \n",
       "25%                   2.000000                  2.000000            2.000000   \n",
       "50%                   3.000000                  3.000000            2.000000   \n",
       "75%                   4.000000                  4.000000            2.000000   \n",
       "max                   5.000000                  5.000000            3.000000   \n",
       "\n",
       "       KBA13_KRSSEG_OBER  KBA13_KRSSEG_VAN  KBA13_KRSZUL_NEU  KBA13_KW_0_60  \\\n",
       "count      785421.000000     785421.000000     785421.000000  785421.000000   \n",
       "mean            1.954656          1.945301          1.832946       2.977747   \n",
       "std             0.584313          0.615499          0.781109       0.968180   \n",
       "min             0.000000          0.000000          0.000000       1.000000   \n",
       "25%             2.000000          2.000000          1.000000       2.000000   \n",
       "50%             2.000000          2.000000          2.000000       3.000000   \n",
       "75%             2.000000          2.000000          2.000000       4.000000   \n",
       "max             3.000000          3.000000          3.000000       5.000000   \n",
       "\n",
       "        KBA13_KW_110   KBA13_KW_120   KBA13_KW_121    KBA13_KW_30  \\\n",
       "count  785421.000000  785421.000000  785421.000000  785421.000000   \n",
       "mean        2.404903       2.376123       2.506342       1.404983   \n",
       "std         1.429198       1.505370       1.437424       0.681106   \n",
       "min         0.000000       0.000000       0.000000       1.000000   \n",
       "25%         2.000000       1.000000       1.000000       1.000000   \n",
       "50%         3.000000       3.000000       3.000000       1.000000   \n",
       "75%         3.000000       3.000000       3.000000       2.000000   \n",
       "max         5.000000       5.000000       5.000000       3.000000   \n",
       "\n",
       "         KBA13_KW_40    KBA13_KW_50    KBA13_KW_60  KBA13_KW_61_120  \\\n",
       "count  785421.000000  785421.000000  785421.000000    785421.000000   \n",
       "mean        2.405066       2.340691       2.291351         2.996188   \n",
       "std         1.412106       1.441927       1.411954         0.957387   \n",
       "min         0.000000       0.000000       0.000000         1.000000   \n",
       "25%         1.000000       2.000000       1.000000         2.000000   \n",
       "50%         3.000000       3.000000       3.000000         3.000000   \n",
       "75%         3.000000       3.000000       3.000000         4.000000   \n",
       "max         5.000000       5.000000       5.000000         5.000000   \n",
       "\n",
       "         KBA13_KW_70    KBA13_KW_80    KBA13_KW_90    KBA13_MAZDA  \\\n",
       "count  785421.000000  785421.000000  785421.000000  785421.000000   \n",
       "mean        2.336341       2.310013       2.382884       3.085354   \n",
       "std         1.430272       1.410661       1.430076       0.999931   \n",
       "min         0.000000       0.000000       0.000000       1.000000   \n",
       "25%         2.000000       1.000000       2.000000       2.000000   \n",
       "50%         3.000000       3.000000       3.000000       3.000000   \n",
       "75%         3.000000       3.000000       3.000000       4.000000   \n",
       "max         5.000000       5.000000       5.000000       5.000000   \n",
       "\n",
       "       KBA13_MERCEDES    KBA13_MOTOR   KBA13_NISSAN     KBA13_OPEL  \\\n",
       "count   785421.000000  785421.000000  785421.000000  785421.000000   \n",
       "mean         3.144134       2.786029       3.060305       2.971935   \n",
       "std          1.023847       0.768496       1.018650       1.054774   \n",
       "min          1.000000       1.000000       1.000000       1.000000   \n",
       "25%          3.000000       2.000000       2.000000       2.000000   \n",
       "50%          3.000000       3.000000       3.000000       3.000000   \n",
       "75%          4.000000       3.000000       4.000000       4.000000   \n",
       "max          5.000000       4.000000       5.000000       5.000000   \n",
       "\n",
       "       KBA13_PEUGEOT  KBA13_RENAULT  KBA13_SEG_GELAENDEWAGEN  \\\n",
       "count  785421.000000  785421.000000            785421.000000   \n",
       "mean        3.071690       3.043498                 2.910411   \n",
       "std         1.009349       1.023270                 1.001290   \n",
       "min         1.000000       1.000000                 1.000000   \n",
       "25%         2.000000       2.000000                 2.000000   \n",
       "50%         3.000000       3.000000                 3.000000   \n",
       "75%         4.000000       4.000000                 3.000000   \n",
       "max         5.000000       5.000000                 5.000000   \n",
       "\n",
       "       KBA13_SEG_GROSSRAUMVANS  KBA13_SEG_KLEINST  KBA13_SEG_KLEINWAGEN  \\\n",
       "count            785421.000000      785421.000000         785421.000000   \n",
       "mean                  3.076376           2.989147              2.945591   \n",
       "std                   1.013363           1.027775              1.016326   \n",
       "min                   1.000000           1.000000              1.000000   \n",
       "25%                   2.000000           2.000000              2.000000   \n",
       "50%                   3.000000           3.000000              3.000000   \n",
       "75%                   4.000000           4.000000              4.000000   \n",
       "max                   5.000000           5.000000              5.000000   \n",
       "\n",
       "       KBA13_SEG_KOMPAKTKLASSE  KBA13_SEG_MINIVANS  KBA13_SEG_MINIWAGEN  \\\n",
       "count            785421.000000        785421.00000        785421.000000   \n",
       "mean                  2.950019             3.01906             3.117099   \n",
       "std                   1.017614             1.01522             1.011775   \n",
       "min                   1.000000             1.00000             1.000000   \n",
       "25%                   2.000000             2.00000             3.000000   \n",
       "50%                   3.000000             3.00000             3.000000   \n",
       "75%                   4.000000             4.00000             4.000000   \n",
       "max                   5.000000             5.00000             5.000000   \n",
       "\n",
       "       KBA13_SEG_MITTELKLASSE  KBA13_SEG_OBEREMITTELKLASSE  \\\n",
       "count           785421.000000                785421.000000   \n",
       "mean                 3.058855                     3.161382   \n",
       "std                  1.026028                     1.009669   \n",
       "min                  1.000000                     1.000000   \n",
       "25%                  2.000000                     3.000000   \n",
       "50%                  3.000000                     3.000000   \n",
       "75%                  4.000000                     4.000000   \n",
       "max                  5.000000                     5.000000   \n",
       "\n",
       "       KBA13_SEG_OBERKLASSE  KBA13_SEG_SONSTIGE  KBA13_SEG_SPORTWAGEN  \\\n",
       "count         785421.000000       785421.000000         785421.000000   \n",
       "mean               2.496483            3.071439              2.566942   \n",
       "std                1.479816            0.963400              1.437284   \n",
       "min                0.000000            1.000000              0.000000   \n",
       "25%                1.000000            2.000000              2.000000   \n",
       "50%                3.000000            3.000000              3.000000   \n",
       "75%                3.000000            4.000000              3.000000   \n",
       "max                5.000000            5.000000              5.000000   \n",
       "\n",
       "       KBA13_SEG_UTILITIES  KBA13_SEG_VAN  KBA13_SEG_WOHNMOBILE  \\\n",
       "count        785421.000000  785421.000000         785421.000000   \n",
       "mean              3.016091       3.047092              2.538733   \n",
       "std               0.998701       1.011615              1.411366   \n",
       "min               1.000000       1.000000              0.000000   \n",
       "25%               2.000000       2.000000              2.000000   \n",
       "50%               3.000000       3.000000              3.000000   \n",
       "75%               4.000000       4.000000              3.000000   \n",
       "max               5.000000       5.000000              5.000000   \n",
       "\n",
       "       KBA13_SITZE_4  KBA13_SITZE_5  KBA13_SITZE_6   KBA13_TOYOTA  \\\n",
       "count  785421.000000  785421.000000  785421.000000  785421.000000   \n",
       "mean        3.170897       2.842810       3.071781       3.074966   \n",
       "std         1.053637       1.056045       1.041083       1.007389   \n",
       "min         1.000000       1.000000       1.000000       1.000000   \n",
       "25%         3.000000       2.000000       2.000000       2.000000   \n",
       "50%         3.000000       3.000000       3.000000       3.000000   \n",
       "75%         4.000000       3.000000       4.000000       4.000000   \n",
       "max         5.000000       5.000000       5.000000       5.000000   \n",
       "\n",
       "        KBA13_VORB_0   KBA13_VORB_1  KBA13_VORB_1_2   KBA13_VORB_2  \\\n",
       "count  785421.000000  785421.000000   785421.000000  785421.000000   \n",
       "mean        3.117557       2.980660        2.916887       3.011097   \n",
       "std         0.975495       0.957392        0.961899       0.943805   \n",
       "min         1.000000       1.000000        1.000000       1.000000   \n",
       "25%         3.000000       2.000000        2.000000       2.000000   \n",
       "50%         3.000000       3.000000        3.000000       3.000000   \n",
       "75%         4.000000       4.000000        3.000000       4.000000   \n",
       "max         5.000000       5.000000        5.000000       5.000000   \n",
       "\n",
       "        KBA13_VORB_3       KBA13_VW   KK_KUNDENTYP            KKK  \\\n",
       "count  785421.000000  785421.000000  306609.000000  770025.000000   \n",
       "mean        2.354173       2.935193       3.410640       2.592991   \n",
       "std         1.469417       1.028888       1.628844       1.119052   \n",
       "min         0.000000       1.000000       1.000000       0.000000   \n",
       "25%         1.000000       2.000000       2.000000       2.000000   \n",
       "50%         3.000000       3.000000       3.000000       3.000000   \n",
       "75%         3.000000       4.000000       5.000000       3.000000   \n",
       "max         5.000000       5.000000       6.000000       4.000000   \n",
       "\n",
       "          KOMBIALTER    KONSUMNAEHE    KONSUMZELLE  LP_FAMILIE_FEIN  \\\n",
       "count  891221.000000  817252.000000  798066.000000    886367.000000   \n",
       "mean        3.517955       3.018452       0.236165         3.599574   \n",
       "std         2.110462       1.550312       0.424725         3.926486   \n",
       "min         1.000000       1.000000       0.000000         0.000000   \n",
       "25%         2.000000       2.000000       0.000000         1.000000   \n",
       "50%         3.000000       3.000000       0.000000         1.000000   \n",
       "75%         4.000000       4.000000       0.000000         8.000000   \n",
       "max         9.000000       7.000000       1.000000        11.000000   \n",
       "\n",
       "       LP_FAMILIE_GROB  LP_LEBENSPHASE_FEIN  LP_LEBENSPHASE_GROB  \\\n",
       "count    886367.000000        886367.000000        886367.000000   \n",
       "mean          2.185966            14.622637             4.453621   \n",
       "std           1.756537            12.616883             3.855639   \n",
       "min           0.000000             0.000000             0.000000   \n",
       "25%           1.000000             4.000000             1.000000   \n",
       "50%           1.000000            11.000000             3.000000   \n",
       "75%           4.000000            27.000000             8.000000   \n",
       "max           5.000000            40.000000            12.000000   \n",
       "\n",
       "       LP_STATUS_FEIN  LP_STATUS_GROB  MIN_GEBAEUDEJAHR    MOBI_RASTER  \\\n",
       "count   886367.000000   886367.000000     798073.000000  798073.000000   \n",
       "mean         4.791151        2.432575       1993.277011       2.378819   \n",
       "std          3.425305        1.474315          3.332739       1.536927   \n",
       "min          1.000000        1.000000       1985.000000       1.000000   \n",
       "25%          2.000000        1.000000       1992.000000       1.000000   \n",
       "50%          4.000000        2.000000       1992.000000       2.000000   \n",
       "75%          9.000000        4.000000       1993.000000       4.000000   \n",
       "max         10.000000        5.000000       2016.000000       6.000000   \n",
       "\n",
       "          MOBI_REGIO  NATIONALITAET_KZ  ONLINE_AFFINITAET    ORTSGR_KLS9  \\\n",
       "count  757897.000000     891221.000000      886367.000000  794005.000000   \n",
       "mean        2.963540          1.026827           2.698691       5.293002   \n",
       "std         1.428882          0.586634           1.521524       2.303739   \n",
       "min         1.000000          0.000000           0.000000       0.000000   \n",
       "25%         2.000000          1.000000           1.000000       4.000000   \n",
       "50%         3.000000          1.000000           3.000000       5.000000   \n",
       "75%         4.000000          1.000000           4.000000       7.000000   \n",
       "max         6.000000          3.000000           5.000000       9.000000   \n",
       "\n",
       "          PLZ8_ANTG1     PLZ8_ANTG2     PLZ8_ANTG3     PLZ8_ANTG4  \\\n",
       "count  774706.000000  774706.000000  774706.000000  774706.000000   \n",
       "mean        2.253330       2.801858       1.595426       0.699166   \n",
       "std         0.972008       0.920309       0.986736       0.727137   \n",
       "min         0.000000       0.000000       0.000000       0.000000   \n",
       "25%         1.000000       2.000000       1.000000       0.000000   \n",
       "50%         2.000000       3.000000       2.000000       1.000000   \n",
       "75%         3.000000       3.000000       2.000000       1.000000   \n",
       "max         4.000000       4.000000       3.000000       2.000000   \n",
       "\n",
       "         PLZ8_BAUMAX       PLZ8_GBZ       PLZ8_HHZ  PRAEGENDE_JUGENDJAHRE  \\\n",
       "count  774706.000000  774706.000000  774706.000000          891221.000000   \n",
       "mean        1.943913       3.381087       3.612821               8.154346   \n",
       "std         1.459654       1.111598       0.973967               4.844532   \n",
       "min         1.000000       1.000000       1.000000               0.000000   \n",
       "25%         1.000000       3.000000       3.000000               5.000000   \n",
       "50%         1.000000       3.000000       4.000000               8.000000   \n",
       "75%         3.000000       4.000000       4.000000              14.000000   \n",
       "max         5.000000       5.000000       5.000000              15.000000   \n",
       "\n",
       "            REGIOTYP      RELAT_AB  RETOURTYP_BK_S  RT_KEIN_ANREIZ  \\\n",
       "count  770025.000000  794005.00000   886367.000000   886367.000000   \n",
       "mean        4.257967       3.07222        3.419630        3.233723   \n",
       "std         2.030385       1.36298        1.417741        1.388687   \n",
       "min         0.000000       1.00000        1.000000        1.000000   \n",
       "25%         3.000000       2.00000        2.000000        2.000000   \n",
       "50%         5.000000       3.00000        3.000000        3.000000   \n",
       "75%         6.000000       4.00000        5.000000        4.000000   \n",
       "max         7.000000       9.00000        5.000000        5.000000   \n",
       "\n",
       "       RT_SCHNAEPPCHEN  RT_UEBERGROESSE      SEMIO_DOM      SEMIO_ERL  \\\n",
       "count    886367.000000    839995.000000  891221.000000  891221.000000   \n",
       "mean          3.863797         3.023813       4.667550       4.481405   \n",
       "std           1.282747         1.502725       1.795712       1.807552   \n",
       "min           1.000000         0.000000       1.000000       1.000000   \n",
       "25%           3.000000         2.000000       3.000000       3.000000   \n",
       "50%           4.000000         3.000000       5.000000       4.000000   \n",
       "75%           5.000000         4.000000       6.000000       6.000000   \n",
       "max           5.000000         5.000000       7.000000       7.000000   \n",
       "\n",
       "           SEMIO_FAM     SEMIO_KAEM     SEMIO_KRIT     SEMIO_KULT  \\\n",
       "count  891221.000000  891221.000000  891221.000000  891221.000000   \n",
       "mean        4.272729       4.445007       4.763223       4.025014   \n",
       "std         1.915885       1.852412       1.830789       1.903816   \n",
       "min         1.000000       1.000000       1.000000       1.000000   \n",
       "25%         3.000000       3.000000       3.000000       3.000000   \n",
       "50%         4.000000       5.000000       5.000000       4.000000   \n",
       "75%         6.000000       6.000000       6.000000       5.000000   \n",
       "max         7.000000       7.000000       7.000000       7.000000   \n",
       "\n",
       "          SEMIO_LUST      SEMIO_MAT  SEMIO_PFLICHT      SEMIO_RAT  \\\n",
       "count  891221.000000  891221.000000  891221.000000  891221.000000   \n",
       "mean        4.359086       4.001597       4.256076       3.910139   \n",
       "std         2.022829       1.857540       1.770137       1.580306   \n",
       "min         1.000000       1.000000       1.000000       1.000000   \n",
       "25%         2.000000       2.000000       3.000000       3.000000   \n",
       "50%         5.000000       4.000000       4.000000       4.000000   \n",
       "75%         6.000000       5.000000       6.000000       5.000000   \n",
       "max         7.000000       7.000000       7.000000       7.000000   \n",
       "\n",
       "           SEMIO_REL      SEMIO_SOZ    SEMIO_TRADV     SEMIO_VERT  \\\n",
       "count  891221.000000  891221.000000  891221.000000  891221.000000   \n",
       "mean        4.240609       3.945860       3.661784       4.023709   \n",
       "std         2.007373       1.946564       1.707637       2.077746   \n",
       "min         1.000000       1.000000       1.000000       1.000000   \n",
       "25%         3.000000       2.000000       2.000000       2.000000   \n",
       "50%         4.000000       4.000000       3.000000       4.000000   \n",
       "75%         6.000000       6.000000       5.000000       6.000000   \n",
       "max         7.000000       7.000000       7.000000       7.000000   \n",
       "\n",
       "         SHOPPER_TYP        SOHO_KZ    STRUKTURTYP       TITEL_KZ  \\\n",
       "count  891221.000000  817722.000000  793947.000000  817722.000000   \n",
       "mean        1.266967       0.008423       2.539212       0.003483   \n",
       "std         1.287435       0.091392       0.754926       0.084957   \n",
       "min        -1.000000       0.000000       1.000000       0.000000   \n",
       "25%         0.000000       0.000000       2.000000       0.000000   \n",
       "50%         1.000000       0.000000       3.000000       0.000000   \n",
       "75%         2.000000       0.000000       3.000000       0.000000   \n",
       "max         3.000000       1.000000       3.000000       5.000000   \n",
       "\n",
       "          UMFELD_ALT    UMFELD_JUNG  UNGLEICHENN_FLAG  VERDICHTUNGSRAUM  \\\n",
       "count  793435.000000  793435.000000     817722.000000      793947.00000   \n",
       "mean        3.223125       4.017526          0.090067           4.58576   \n",
       "std         1.255785       1.118399          0.286278           8.47152   \n",
       "min         1.000000       1.000000          0.000000           0.00000   \n",
       "25%         2.000000       3.000000          0.000000           0.00000   \n",
       "50%         3.000000       4.000000          0.000000           1.00000   \n",
       "75%         4.000000       5.000000          0.000000           5.00000   \n",
       "max         5.000000       5.000000          1.000000          45.00000   \n",
       "\n",
       "            VERS_TYP           VHA            VHN       VK_DHT4A  \\\n",
       "count  891221.000000  817722.00000  770025.000000  815304.000000   \n",
       "mean        1.197852       0.43882       2.417322       6.001214   \n",
       "std         0.952532       1.14329       1.166572       2.856091   \n",
       "min        -1.000000       0.00000       0.000000       1.000000   \n",
       "25%         1.000000       0.00000       2.000000       3.000000   \n",
       "50%         1.000000       0.00000       2.000000       6.000000   \n",
       "75%         2.000000       0.00000       3.000000       9.000000   \n",
       "max         2.000000       5.00000       4.000000      11.000000   \n",
       "\n",
       "          VK_DISTANZ        VK_ZG11  W_KEIT_KIND_HH  WOHNDAUER_2008  \\\n",
       "count  815304.000000  815304.000000   783619.000000   817722.000000   \n",
       "mean        7.532130       5.945972        3.933406        7.908791   \n",
       "std         3.247789       2.771464        1.964701        1.923137   \n",
       "min         1.000000       1.000000        0.000000        1.000000   \n",
       "25%         5.000000       4.000000        2.000000        8.000000   \n",
       "50%         8.000000       6.000000        4.000000        9.000000   \n",
       "75%        10.000000       8.000000        6.000000        9.000000   \n",
       "max        13.000000      11.000000        6.000000        9.000000   \n",
       "\n",
       "            WOHNLAGE       ZABEOTYP      ANREDE_KZ  ALTERSKATEGORIE_GROB  \n",
       "count  798073.000000  891221.000000  891221.000000         891221.000000  \n",
       "mean        4.052836       3.362438       1.522098              2.777398  \n",
       "std         1.949539       1.352704       0.499512              1.068775  \n",
       "min         0.000000       1.000000       1.000000              1.000000  \n",
       "25%         3.000000       3.000000       1.000000              2.000000  \n",
       "50%         3.000000       3.000000       2.000000              3.000000  \n",
       "75%         5.000000       4.000000       2.000000              4.000000  \n",
       "max         8.000000       6.000000       2.000000              9.000000  "
      ]
     },
     "execution_count": 5,
     "metadata": {},
     "output_type": "execute_result"
    }
   ],
   "source": [
    "azdias.describe()"
   ]
  },
  {
   "cell_type": "markdown",
   "metadata": {},
   "source": [
    "As it can be seen there are so many features to analyze. To gain some time, we may want to eliminate less important features while looking at missing ratio. Higher missing ratio leads to low information gain so may consider to drop these features."
   ]
  },
  {
   "cell_type": "markdown",
   "metadata": {},
   "source": [
    "## Missing value investigation\n",
    "### Data cleaning"
   ]
  },
  {
   "cell_type": "code",
   "execution_count": 6,
   "metadata": {},
   "outputs": [],
   "source": [
    "df_missing = azdias.isnull().sum().reset_index().rename(columns={'index':'column_names', 0:'n_missing'})"
   ]
  },
  {
   "cell_type": "code",
   "execution_count": 7,
   "metadata": {},
   "outputs": [
    {
     "data": {
      "text/html": [
       "<div>\n",
       "<style scoped>\n",
       "    .dataframe tbody tr th:only-of-type {\n",
       "        vertical-align: middle;\n",
       "    }\n",
       "\n",
       "    .dataframe tbody tr th {\n",
       "        vertical-align: top;\n",
       "    }\n",
       "\n",
       "    .dataframe thead th {\n",
       "        text-align: right;\n",
       "    }\n",
       "</style>\n",
       "<table border=\"1\" class=\"dataframe\">\n",
       "  <thead>\n",
       "    <tr style=\"text-align: right;\">\n",
       "      <th></th>\n",
       "      <th>column_names</th>\n",
       "      <th>n_missing</th>\n",
       "    </tr>\n",
       "  </thead>\n",
       "  <tbody>\n",
       "    <tr>\n",
       "      <th>0</th>\n",
       "      <td>LNR</td>\n",
       "      <td>0</td>\n",
       "    </tr>\n",
       "    <tr>\n",
       "      <th>1</th>\n",
       "      <td>AGER_TYP</td>\n",
       "      <td>0</td>\n",
       "    </tr>\n",
       "    <tr>\n",
       "      <th>2</th>\n",
       "      <td>AKT_DAT_KL</td>\n",
       "      <td>73499</td>\n",
       "    </tr>\n",
       "    <tr>\n",
       "      <th>3</th>\n",
       "      <td>ALTER_HH</td>\n",
       "      <td>73499</td>\n",
       "    </tr>\n",
       "    <tr>\n",
       "      <th>4</th>\n",
       "      <td>ALTER_KIND1</td>\n",
       "      <td>810163</td>\n",
       "    </tr>\n",
       "  </tbody>\n",
       "</table>\n",
       "</div>"
      ],
      "text/plain": [
       "  column_names  n_missing\n",
       "0          LNR          0\n",
       "1     AGER_TYP          0\n",
       "2   AKT_DAT_KL      73499\n",
       "3     ALTER_HH      73499\n",
       "4  ALTER_KIND1     810163"
      ]
     },
     "execution_count": 7,
     "metadata": {},
     "output_type": "execute_result"
    }
   ],
   "source": [
    "df_missing.head()"
   ]
  },
  {
   "cell_type": "code",
   "execution_count": 8,
   "metadata": {},
   "outputs": [
    {
     "data": {
      "text/plain": [
       "93"
      ]
     },
     "execution_count": 8,
     "metadata": {},
     "output_type": "execute_result"
    }
   ],
   "source": [
    "len(df_missing[df_missing.n_missing==0])"
   ]
  },
  {
   "cell_type": "markdown",
   "metadata": {},
   "source": [
    "It is intesting that we have 93 feature with completely filled values. So I have checked the excel file, it seems that there are features with special values which means that some of missing values are assigned to spesific value. So we need to do conversion to calculate missing ratios correctly."
   ]
  },
  {
   "cell_type": "code",
   "execution_count": 97,
   "metadata": {},
   "outputs": [],
   "source": [
    "values = pd.read_excel('DIAS Attributes - Values 2017.xlsx', header = 1).fillna(method = 'ffill').iloc[:,1:]\n",
    "infos = pd.read_excel('DIAS Information Levels - Attributes 2017.xlsx', header = 1).fillna(method = 'ffill').iloc[:,1:]"
   ]
  },
  {
   "cell_type": "code",
   "execution_count": 165,
   "metadata": {},
   "outputs": [
    {
     "data": {
      "text/html": [
       "<div>\n",
       "<style scoped>\n",
       "    .dataframe tbody tr th:only-of-type {\n",
       "        vertical-align: middle;\n",
       "    }\n",
       "\n",
       "    .dataframe tbody tr th {\n",
       "        vertical-align: top;\n",
       "    }\n",
       "\n",
       "    .dataframe thead th {\n",
       "        text-align: right;\n",
       "    }\n",
       "</style>\n",
       "<table border=\"1\" class=\"dataframe\">\n",
       "  <thead>\n",
       "    <tr style=\"text-align: right;\">\n",
       "      <th></th>\n",
       "      <th>Attribute</th>\n",
       "      <th>Description</th>\n",
       "      <th>Value</th>\n",
       "      <th>Meaning</th>\n",
       "    </tr>\n",
       "  </thead>\n",
       "  <tbody>\n",
       "    <tr>\n",
       "      <th>0</th>\n",
       "      <td>AGER_TYP</td>\n",
       "      <td>best-ager typology</td>\n",
       "      <td>-1</td>\n",
       "      <td>unknown</td>\n",
       "    </tr>\n",
       "    <tr>\n",
       "      <th>1</th>\n",
       "      <td>AGER_TYP</td>\n",
       "      <td>best-ager typology</td>\n",
       "      <td>0</td>\n",
       "      <td>no classification possible</td>\n",
       "    </tr>\n",
       "    <tr>\n",
       "      <th>2</th>\n",
       "      <td>AGER_TYP</td>\n",
       "      <td>best-ager typology</td>\n",
       "      <td>1</td>\n",
       "      <td>passive elderly</td>\n",
       "    </tr>\n",
       "    <tr>\n",
       "      <th>3</th>\n",
       "      <td>AGER_TYP</td>\n",
       "      <td>best-ager typology</td>\n",
       "      <td>2</td>\n",
       "      <td>cultural elderly</td>\n",
       "    </tr>\n",
       "    <tr>\n",
       "      <th>4</th>\n",
       "      <td>AGER_TYP</td>\n",
       "      <td>best-ager typology</td>\n",
       "      <td>3</td>\n",
       "      <td>experience-driven elderly</td>\n",
       "    </tr>\n",
       "  </tbody>\n",
       "</table>\n",
       "</div>"
      ],
      "text/plain": [
       "  Attribute         Description Value                     Meaning\n",
       "0  AGER_TYP  best-ager typology    -1                     unknown\n",
       "1  AGER_TYP  best-ager typology     0  no classification possible\n",
       "2  AGER_TYP  best-ager typology     1             passive elderly\n",
       "3  AGER_TYP  best-ager typology     2            cultural elderly\n",
       "4  AGER_TYP  best-ager typology     3   experience-driven elderly"
      ]
     },
     "execution_count": 165,
     "metadata": {},
     "output_type": "execute_result"
    }
   ],
   "source": [
    "values[values['Attribute']=='AGER_TYP']"
   ]
  },
  {
   "cell_type": "markdown",
   "metadata": {},
   "source": [
    "AGER_TYP attribute is missing if the value is -1. So we need to convert all values accordingly with this excel."
   ]
  },
  {
   "cell_type": "code",
   "execution_count": 274,
   "metadata": {},
   "outputs": [
    {
     "name": "stdout",
     "output_type": "stream",
     "text": [
      "BIP_FLAG\n",
      "CAMEO_DEUINTL_2015\n",
      "D19_KK_KUNDENTYP\n",
      "GEOSCORE_KLS7\n",
      "HAUSHALTSSTRUKTUR\n",
      "KBA13_CCM_1400_2500\n",
      "SOHO_FLAG\n",
      "WACHSTUMSGEBIET_NB\n"
     ]
    }
   ],
   "source": [
    "dict_missing_values = values[values['Meaning'] == 'unknown'][['Attribute', 'Value']].set_index('Attribute').T.to_dict(orient='list')\n",
    "\n",
    "azdias_cleaned = azdias.copy()\n",
    "for key, value in dict_missing_values.items():\n",
    "    try:\n",
    "        azdias_cleaned[key].replace(dict_missing_values[key], np.nan, inplace=True)\n",
    "    except:\n",
    "        print(key)\n",
    "        continue\n"
   ]
  },
  {
   "cell_type": "code",
   "execution_count": 167,
   "metadata": {},
   "outputs": [
    {
     "data": {
      "text/plain": [
       "-1    677503\n",
       " 2     98472\n",
       " 1     79802\n",
       " 3     27104\n",
       " 0      8340\n",
       "Name: AGER_TYP, dtype: int64"
      ]
     },
     "execution_count": 167,
     "metadata": {},
     "output_type": "execute_result"
    }
   ],
   "source": [
    "#Check\n",
    "azdias['AGER_TYP'].value_counts()"
   ]
  },
  {
   "cell_type": "code",
   "execution_count": 168,
   "metadata": {},
   "outputs": [
    {
     "data": {
      "text/plain": [
       "2.0    98472\n",
       "1.0    79802\n",
       "3.0    27104\n",
       "0.0     8340\n",
       "Name: AGER_TYP, dtype: int64"
      ]
     },
     "execution_count": 168,
     "metadata": {},
     "output_type": "execute_result"
    }
   ],
   "source": [
    "#Check\n",
    "azdias_cleaned['AGER_TYP'].value_counts()"
   ]
  },
  {
   "cell_type": "markdown",
   "metadata": {},
   "source": [
    "Seems that we have cleaned the data. -1 value assigned as nan.BIP_FLAG,\n",
    "CAMEO_DEUINTL_2015,\n",
    "D19_KK_KUNDENTYP,\n",
    "GEOSCORE_KLS7,\n",
    "HAUSHALTSSTRUKTUR,\n",
    "KBA13_CCM_1400_2500,\n",
    "SOHO_FLAG,\n",
    "WACHSTUMSGEBIET_NB these 8 columns throw error because they are not in main dataframe."
   ]
  },
  {
   "cell_type": "code",
   "execution_count": 169,
   "metadata": {},
   "outputs": [],
   "source": [
    "df_missing_new = azdias_cleaned.isnull().sum().reset_index().rename(columns={'index':'column_names', 0:'n_missing'})\n",
    "df_missing_new['missing_ratio'] = df_missing_new['n_missing']/len(azdias_cleaned)"
   ]
  },
  {
   "cell_type": "code",
   "execution_count": 170,
   "metadata": {},
   "outputs": [
    {
     "data": {
      "text/html": [
       "<div>\n",
       "<style scoped>\n",
       "    .dataframe tbody tr th:only-of-type {\n",
       "        vertical-align: middle;\n",
       "    }\n",
       "\n",
       "    .dataframe tbody tr th {\n",
       "        vertical-align: top;\n",
       "    }\n",
       "\n",
       "    .dataframe thead th {\n",
       "        text-align: right;\n",
       "    }\n",
       "</style>\n",
       "<table border=\"1\" class=\"dataframe\">\n",
       "  <thead>\n",
       "    <tr style=\"text-align: right;\">\n",
       "      <th></th>\n",
       "      <th>column_names</th>\n",
       "      <th>n_missing</th>\n",
       "      <th>missing_ratio</th>\n",
       "    </tr>\n",
       "  </thead>\n",
       "  <tbody>\n",
       "    <tr>\n",
       "      <th>7</th>\n",
       "      <td>ALTER_KIND4</td>\n",
       "      <td>890016</td>\n",
       "      <td>0.998648</td>\n",
       "    </tr>\n",
       "    <tr>\n",
       "      <th>6</th>\n",
       "      <td>ALTER_KIND3</td>\n",
       "      <td>885051</td>\n",
       "      <td>0.993077</td>\n",
       "    </tr>\n",
       "    <tr>\n",
       "      <th>5</th>\n",
       "      <td>ALTER_KIND2</td>\n",
       "      <td>861722</td>\n",
       "      <td>0.966900</td>\n",
       "    </tr>\n",
       "    <tr>\n",
       "      <th>4</th>\n",
       "      <td>ALTER_KIND1</td>\n",
       "      <td>810163</td>\n",
       "      <td>0.909048</td>\n",
       "    </tr>\n",
       "    <tr>\n",
       "      <th>1</th>\n",
       "      <td>AGER_TYP</td>\n",
       "      <td>677503</td>\n",
       "      <td>0.760196</td>\n",
       "    </tr>\n",
       "    <tr>\n",
       "      <th>100</th>\n",
       "      <td>EXTSEL992</td>\n",
       "      <td>654153</td>\n",
       "      <td>0.733996</td>\n",
       "    </tr>\n",
       "    <tr>\n",
       "      <th>300</th>\n",
       "      <td>KK_KUNDENTYP</td>\n",
       "      <td>584612</td>\n",
       "      <td>0.655967</td>\n",
       "    </tr>\n",
       "    <tr>\n",
       "      <th>8</th>\n",
       "      <td>ALTERSKATEGORIE_FEIN</td>\n",
       "      <td>262947</td>\n",
       "      <td>0.295041</td>\n",
       "    </tr>\n",
       "    <tr>\n",
       "      <th>61</th>\n",
       "      <td>D19_LETZTER_KAUF_BRANCHE</td>\n",
       "      <td>257113</td>\n",
       "      <td>0.288495</td>\n",
       "    </tr>\n",
       "    <tr>\n",
       "      <th>53</th>\n",
       "      <td>D19_GESAMT_ONLINE_QUOTE_12</td>\n",
       "      <td>257113</td>\n",
       "      <td>0.288495</td>\n",
       "    </tr>\n",
       "    <tr>\n",
       "      <th>69</th>\n",
       "      <td>D19_SOZIALES</td>\n",
       "      <td>257113</td>\n",
       "      <td>0.288495</td>\n",
       "    </tr>\n",
       "    <tr>\n",
       "      <th>62</th>\n",
       "      <td>D19_LOTTO</td>\n",
       "      <td>257113</td>\n",
       "      <td>0.288495</td>\n",
       "    </tr>\n",
       "    <tr>\n",
       "      <th>57</th>\n",
       "      <td>D19_KONSUMTYP</td>\n",
       "      <td>257113</td>\n",
       "      <td>0.288495</td>\n",
       "    </tr>\n",
       "    <tr>\n",
       "      <th>85</th>\n",
       "      <td>D19_VERSAND_ONLINE_QUOTE_12</td>\n",
       "      <td>257113</td>\n",
       "      <td>0.288495</td>\n",
       "    </tr>\n",
       "    <tr>\n",
       "      <th>77</th>\n",
       "      <td>D19_TELKO_ONLINE_QUOTE_12</td>\n",
       "      <td>257113</td>\n",
       "      <td>0.288495</td>\n",
       "    </tr>\n",
       "    <tr>\n",
       "      <th>92</th>\n",
       "      <td>D19_VERSI_ONLINE_QUOTE_12</td>\n",
       "      <td>257113</td>\n",
       "      <td>0.288495</td>\n",
       "    </tr>\n",
       "    <tr>\n",
       "      <th>36</th>\n",
       "      <td>D19_BANKEN_ONLINE_QUOTE_12</td>\n",
       "      <td>257113</td>\n",
       "      <td>0.288495</td>\n",
       "    </tr>\n",
       "    <tr>\n",
       "      <th>134</th>\n",
       "      <td>KBA05_DIESEL</td>\n",
       "      <td>133324</td>\n",
       "      <td>0.149597</td>\n",
       "    </tr>\n",
       "    <tr>\n",
       "      <th>136</th>\n",
       "      <td>KBA05_GBZ</td>\n",
       "      <td>133324</td>\n",
       "      <td>0.149597</td>\n",
       "    </tr>\n",
       "    <tr>\n",
       "      <th>135</th>\n",
       "      <td>KBA05_FRAU</td>\n",
       "      <td>133324</td>\n",
       "      <td>0.149597</td>\n",
       "    </tr>\n",
       "  </tbody>\n",
       "</table>\n",
       "</div>"
      ],
      "text/plain": [
       "                    column_names  n_missing  missing_ratio\n",
       "7                    ALTER_KIND4     890016       0.998648\n",
       "6                    ALTER_KIND3     885051       0.993077\n",
       "5                    ALTER_KIND2     861722       0.966900\n",
       "4                    ALTER_KIND1     810163       0.909048\n",
       "1                       AGER_TYP     677503       0.760196\n",
       "100                    EXTSEL992     654153       0.733996\n",
       "300                 KK_KUNDENTYP     584612       0.655967\n",
       "8           ALTERSKATEGORIE_FEIN     262947       0.295041\n",
       "61      D19_LETZTER_KAUF_BRANCHE     257113       0.288495\n",
       "53    D19_GESAMT_ONLINE_QUOTE_12     257113       0.288495\n",
       "69                  D19_SOZIALES     257113       0.288495\n",
       "62                     D19_LOTTO     257113       0.288495\n",
       "57                 D19_KONSUMTYP     257113       0.288495\n",
       "85   D19_VERSAND_ONLINE_QUOTE_12     257113       0.288495\n",
       "77     D19_TELKO_ONLINE_QUOTE_12     257113       0.288495\n",
       "92     D19_VERSI_ONLINE_QUOTE_12     257113       0.288495\n",
       "36    D19_BANKEN_ONLINE_QUOTE_12     257113       0.288495\n",
       "134                 KBA05_DIESEL     133324       0.149597\n",
       "136                    KBA05_GBZ     133324       0.149597\n",
       "135                   KBA05_FRAU     133324       0.149597"
      ]
     },
     "execution_count": 170,
     "metadata": {},
     "output_type": "execute_result"
    }
   ],
   "source": [
    "df_missing_new.sort_values(by='missing_ratio', ascending=False).head(20)"
   ]
  },
  {
   "cell_type": "markdown",
   "metadata": {},
   "source": [
    "It seems that we don't have that many missing columns. We can drop if they are higher than %20. So we will drop 17 attributes."
   ]
  },
  {
   "cell_type": "code",
   "execution_count": 171,
   "metadata": {},
   "outputs": [
    {
     "name": "stdout",
     "output_type": "stream",
     "text": [
      "17\n",
      "['AGER_TYP', 'ALTER_KIND1', 'ALTER_KIND2', 'ALTER_KIND3', 'ALTER_KIND4', 'ALTERSKATEGORIE_FEIN', 'D19_BANKEN_ONLINE_QUOTE_12', 'D19_GESAMT_ONLINE_QUOTE_12', 'D19_KONSUMTYP', 'D19_LETZTER_KAUF_BRANCHE', 'D19_LOTTO', 'D19_SOZIALES', 'D19_TELKO_ONLINE_QUOTE_12', 'D19_VERSAND_ONLINE_QUOTE_12', 'D19_VERSI_ONLINE_QUOTE_12', 'EXTSEL992', 'KK_KUNDENTYP']\n"
     ]
    }
   ],
   "source": [
    "lst_missing_attributes_dropped = list(df_missing_new[df_missing_new.missing_ratio>0.2].column_names)\n",
    "print(len(lst_missing_attributes_dropped))\n",
    "print(lst_missing_attributes_dropped)"
   ]
  },
  {
   "cell_type": "markdown",
   "metadata": {},
   "source": [
    "Still we have so many missing features. We may want to drop highly cardinal variables. Because, most of ml algorithm requires one-hot encoding to use categorical variables. So that high caridnal variable creates issue in that sense."
   ]
  },
  {
   "cell_type": "code",
   "execution_count": 172,
   "metadata": {},
   "outputs": [
    {
     "data": {
      "text/html": [
       "<div>\n",
       "<style scoped>\n",
       "    .dataframe tbody tr th:only-of-type {\n",
       "        vertical-align: middle;\n",
       "    }\n",
       "\n",
       "    .dataframe tbody tr th {\n",
       "        vertical-align: top;\n",
       "    }\n",
       "\n",
       "    .dataframe thead th {\n",
       "        text-align: right;\n",
       "    }\n",
       "</style>\n",
       "<table border=\"1\" class=\"dataframe\">\n",
       "  <thead>\n",
       "    <tr style=\"text-align: right;\">\n",
       "      <th></th>\n",
       "      <th>CAMEO_DEU_2015</th>\n",
       "      <th>CAMEO_DEUG_2015</th>\n",
       "      <th>CAMEO_INTL_2015</th>\n",
       "      <th>D19_LETZTER_KAUF_BRANCHE</th>\n",
       "      <th>EINGEFUEGT_AM</th>\n",
       "      <th>OST_WEST_KZ</th>\n",
       "    </tr>\n",
       "  </thead>\n",
       "  <tbody>\n",
       "    <tr>\n",
       "      <th>count</th>\n",
       "      <td>792242</td>\n",
       "      <td>792242</td>\n",
       "      <td>792242</td>\n",
       "      <td>634108</td>\n",
       "      <td>798073</td>\n",
       "      <td>798073</td>\n",
       "    </tr>\n",
       "    <tr>\n",
       "      <th>unique</th>\n",
       "      <td>45</td>\n",
       "      <td>19</td>\n",
       "      <td>43</td>\n",
       "      <td>35</td>\n",
       "      <td>5162</td>\n",
       "      <td>2</td>\n",
       "    </tr>\n",
       "    <tr>\n",
       "      <th>top</th>\n",
       "      <td>6B</td>\n",
       "      <td>8</td>\n",
       "      <td>51</td>\n",
       "      <td>D19_UNBEKANNT</td>\n",
       "      <td>1992-02-10 00:00:00</td>\n",
       "      <td>W</td>\n",
       "    </tr>\n",
       "    <tr>\n",
       "      <th>freq</th>\n",
       "      <td>56672</td>\n",
       "      <td>78023</td>\n",
       "      <td>77576</td>\n",
       "      <td>195338</td>\n",
       "      <td>383738</td>\n",
       "      <td>629528</td>\n",
       "    </tr>\n",
       "  </tbody>\n",
       "</table>\n",
       "</div>"
      ],
      "text/plain": [
       "       CAMEO_DEU_2015 CAMEO_DEUG_2015 CAMEO_INTL_2015  \\\n",
       "count          792242          792242          792242   \n",
       "unique             45              19              43   \n",
       "top                6B               8              51   \n",
       "freq            56672           78023           77576   \n",
       "\n",
       "       D19_LETZTER_KAUF_BRANCHE        EINGEFUEGT_AM OST_WEST_KZ  \n",
       "count                    634108               798073      798073  \n",
       "unique                       35                 5162           2  \n",
       "top               D19_UNBEKANNT  1992-02-10 00:00:00           W  \n",
       "freq                     195338               383738      629528  "
      ]
     },
     "execution_count": 172,
     "metadata": {},
     "output_type": "execute_result"
    }
   ],
   "source": [
    "cat_columns = azdias_cleaned.select_dtypes(['object']).columns\n",
    "azdias_cleaned[cat_columns].describe()"
   ]
  },
  {
   "cell_type": "markdown",
   "metadata": {},
   "source": [
    "* **CAMEO_DEUG_2015:** CAMEO classification 2015 - Uppergroup. It is like some kind of classification we may want to keep it.\n",
    "* **CAMEO_DEU_2015:** CAMEO classification 2015 - detailled classification. We can drop it because we already have upper group segmentation\n",
    "* **CAMEO_INTL_2015:** we dont' have info about this feature we can drop it.\n",
    "* **D19_LETZTER_KAUF_BRANCHE:** we dont' have info about this feature we can drop it.\n",
    "* **EINGEFUEGT_AM** we have so many feature so we can drop time related attributes.\n",
    "* **OST_WEST_KZ:** flag indicating the former GDR/FRG. We can convert it to numerical attribute"
   ]
  },
  {
   "cell_type": "code",
   "execution_count": 173,
   "metadata": {},
   "outputs": [],
   "source": [
    "lst_categorical_attributes_dropped = ['CAMEO_DEU_2015', 'CAMEO_INTL_2015', 'D19_LETZTER_KAUF_BRANCHE', 'EINGEFUEGT_AM']"
   ]
  },
  {
   "cell_type": "markdown",
   "metadata": {},
   "source": [
    "We have 4 dataframe, so we need to drop non-common features"
   ]
  },
  {
   "cell_type": "code",
   "execution_count": 176,
   "metadata": {},
   "outputs": [],
   "source": [
    "azdias_columns = set(azdias.columns)\n",
    "customers_columns = set(customers.columns)\n",
    "mailout_train_columns = set(mailout_train.columns)\n",
    "mailout_test_columns = set(mailout_test.columns)\n"
   ]
  },
  {
   "cell_type": "code",
   "execution_count": 178,
   "metadata": {},
   "outputs": [
    {
     "data": {
      "text/plain": [
       "{'RESPONSE'}"
      ]
     },
     "execution_count": 178,
     "metadata": {},
     "output_type": "execute_result"
    }
   ],
   "source": [
    "mailout_train_columns - mailout_train_columns.intersection(mailout_test_columns)"
   ]
  },
  {
   "cell_type": "code",
   "execution_count": 179,
   "metadata": {},
   "outputs": [
    {
     "data": {
      "text/plain": [
       "{'RESPONSE'}"
      ]
     },
     "execution_count": 179,
     "metadata": {},
     "output_type": "execute_result"
    }
   ],
   "source": [
    "mailout_train_columns.symmetric_difference(mailout_test_columns)"
   ]
  },
  {
   "cell_type": "code",
   "execution_count": 181,
   "metadata": {},
   "outputs": [
    {
     "data": {
      "text/plain": [
       "{'CUSTOMER_GROUP', 'ONLINE_PURCHASE', 'PRODUCT_GROUP'}"
      ]
     },
     "execution_count": 181,
     "metadata": {},
     "output_type": "execute_result"
    }
   ],
   "source": [
    "azdias_columns.symmetric_difference(customers_columns)"
   ]
  },
  {
   "cell_type": "code",
   "execution_count": 200,
   "metadata": {},
   "outputs": [
    {
     "data": {
      "text/plain": [
       "{'CUSTOMER_GROUP', 'ONLINE_PURCHASE', 'PRODUCT_GROUP', 'RESPONSE'}"
      ]
     },
     "execution_count": 200,
     "metadata": {},
     "output_type": "execute_result"
    }
   ],
   "source": [
    "mailout_train_columns.symmetric_difference(customers_columns) \n"
   ]
  },
  {
   "cell_type": "code",
   "execution_count": 199,
   "metadata": {},
   "outputs": [
    {
     "data": {
      "text/plain": [
       "{'CUSTOMER_GROUP', 'ONLINE_PURCHASE', 'PRODUCT_GROUP', 'RESPONSE'}"
      ]
     },
     "execution_count": 199,
     "metadata": {},
     "output_type": "execute_result"
    }
   ],
   "source": [
    "non_common_attributes1 = mailout_train_columns.symmetric_difference(mailout_test_columns)\n",
    "non_common_attributes2 = azdias_columns.symmetric_difference(customers_columns)\n",
    "non_common_attributes3 = mailout_train_columns.symmetric_difference(customers_columns)\n",
    "\n",
    "lst_non_common_attributes_dropped = non_common_attributes1 | non_common_attributes2 | non_common_attributes3\n",
    "lst_non_common_attributes_dropped"
   ]
  },
  {
   "cell_type": "markdown",
   "metadata": {},
   "source": [
    "## Investigate missing rows"
   ]
  },
  {
   "cell_type": "code",
   "execution_count": 299,
   "metadata": {},
   "outputs": [],
   "source": [
    "missing_analysis_df = azdias_cleaned.isnull().sum(axis=1).reset_index().rename(columns={'index':'n_missing_rows', 0:'n_missing_columns'}).groupby('n_missing_columns').count().reset_index()"
   ]
  },
  {
   "cell_type": "code",
   "execution_count": 300,
   "metadata": {},
   "outputs": [
    {
     "data": {
      "application/vnd.plotly.v1+json": {
       "config": {
        "plotlyServerURL": "https://plot.ly"
       },
       "data": [
        {
         "alignmentgroup": "True",
         "bingroup": "x",
         "histfunc": "sum",
         "hovertemplate": "n_missing_columns=%{x}<br>sum of n_missing_rows=%{y}<extra></extra>",
         "legendgroup": "",
         "marker": {
          "color": "#636efa",
          "pattern": {
           "shape": ""
          }
         },
         "name": "",
         "offsetgroup": "",
         "orientation": "v",
         "showlegend": false,
         "type": "histogram",
         "x": [
          0,
          1,
          2,
          3,
          4,
          5,
          6,
          7,
          8,
          9,
          10,
          11,
          12,
          13,
          14,
          15,
          16,
          17,
          18,
          19,
          20,
          21,
          22,
          23,
          24,
          25,
          26,
          27,
          28,
          29,
          30,
          31,
          32,
          33,
          34,
          35,
          36,
          37,
          38,
          39,
          40,
          41,
          42,
          43,
          44,
          45,
          46,
          64,
          65,
          66,
          67,
          68,
          69,
          70,
          71,
          72,
          73,
          74,
          75,
          76,
          77,
          78,
          79,
          80,
          81,
          82,
          83,
          84,
          85,
          86,
          87,
          88,
          89,
          90,
          91,
          92,
          93,
          94,
          95,
          96,
          97,
          98,
          99,
          100,
          101,
          102,
          103,
          104,
          105,
          106,
          107,
          109,
          110,
          111,
          112,
          117,
          119,
          120,
          121,
          122,
          123,
          124,
          125,
          126,
          127,
          128,
          129,
          130,
          131,
          132,
          133,
          134,
          135,
          136,
          137,
          138,
          139,
          140,
          141,
          142,
          143,
          144,
          145,
          146,
          147,
          148,
          149,
          150,
          151,
          153,
          154,
          156,
          158,
          160,
          162,
          163,
          182,
          184,
          185,
          186,
          187,
          188,
          189,
          190,
          191,
          192,
          193,
          194,
          195,
          196,
          197,
          198,
          199,
          200,
          201,
          202,
          203,
          204,
          205,
          206,
          207,
          208,
          209,
          210,
          211,
          212,
          213,
          214,
          215,
          216,
          217,
          218,
          219,
          220,
          221,
          222,
          223,
          224,
          225,
          226,
          227,
          228,
          229,
          230,
          231,
          232,
          233,
          234,
          235,
          236,
          237,
          238,
          239,
          240,
          241,
          242,
          244,
          245,
          246,
          247,
          248,
          249,
          250,
          251,
          256,
          257,
          258,
          259,
          260
         ],
         "xaxis": "x",
         "y": [
          20,
          403,
          2028,
          8042,
          66907,
          134500,
          163932,
          114391,
          52593,
          14363,
          9305,
          4583,
          2035,
          1892,
          2252,
          19735,
          45765,
          76441,
          4595,
          7846,
          11349,
          710,
          1348,
          1008,
          956,
          768,
          682,
          523,
          486,
          576,
          380,
          112,
          43,
          35,
          22,
          33,
          33,
          48,
          119,
          262,
          132,
          12,
          31,
          28,
          2,
          3,
          2,
          1,
          17,
          90,
          394,
          1536,
          2984,
          4141,
          3597,
          3444,
          3485,
          1923,
          1000,
          905,
          1164,
          1170,
          1449,
          1967,
          1577,
          526,
          592,
          741,
          110,
          157,
          169,
          182,
          89,
          138,
          233,
          50,
          53,
          49,
          18,
          38,
          11,
          16,
          13,
          6,
          8,
          4,
          11,
          8,
          5,
          4,
          8,
          1,
          1,
          3,
          1,
          1,
          4,
          27,
          66,
          107,
          109,
          54,
          20,
          37,
          162,
          489,
          824,
          840,
          641,
          137,
          214,
          77,
          46,
          65,
          40,
          245,
          525,
          1252,
          40,
          83,
          205,
          45,
          146,
          14,
          11,
          21,
          4,
          2,
          2,
          1,
          3,
          1,
          2,
          1,
          1,
          3,
          1,
          5,
          9,
          12,
          25,
          13,
          13,
          30,
          187,
          354,
          622,
          594,
          626,
          778,
          665,
          329,
          335,
          283,
          161,
          124,
          109,
          235,
          39,
          72,
          169,
          18,
          45,
          84,
          15,
          65,
          9,
          5,
          18,
          5,
          3,
          4,
          4,
          2,
          16,
          52,
          251,
          1610,
          3294,
          4344,
          3269,
          1528,
          245,
          145,
          90,
          10,
          13,
          40,
          498,
          1291,
          2263,
          179,
          116,
          292,
          18,
          6,
          7,
          17,
          12,
          16,
          7,
          10,
          6,
          5,
          27921,
          45579,
          5,
          7,
          5
         ],
         "yaxis": "y"
        }
       ],
       "layout": {
        "autosize": true,
        "barmode": "relative",
        "legend": {
         "tracegroupgap": 0
        },
        "margin": {
         "t": 60
        },
        "template": {
         "data": {
          "bar": [
           {
            "error_x": {
             "color": "#2a3f5f"
            },
            "error_y": {
             "color": "#2a3f5f"
            },
            "marker": {
             "line": {
              "color": "#E5ECF6",
              "width": 0.5
             },
             "pattern": {
              "fillmode": "overlay",
              "size": 10,
              "solidity": 0.2
             }
            },
            "type": "bar"
           }
          ],
          "barpolar": [
           {
            "marker": {
             "line": {
              "color": "#E5ECF6",
              "width": 0.5
             },
             "pattern": {
              "fillmode": "overlay",
              "size": 10,
              "solidity": 0.2
             }
            },
            "type": "barpolar"
           }
          ],
          "carpet": [
           {
            "aaxis": {
             "endlinecolor": "#2a3f5f",
             "gridcolor": "white",
             "linecolor": "white",
             "minorgridcolor": "white",
             "startlinecolor": "#2a3f5f"
            },
            "baxis": {
             "endlinecolor": "#2a3f5f",
             "gridcolor": "white",
             "linecolor": "white",
             "minorgridcolor": "white",
             "startlinecolor": "#2a3f5f"
            },
            "type": "carpet"
           }
          ],
          "choropleth": [
           {
            "colorbar": {
             "outlinewidth": 0,
             "ticks": ""
            },
            "type": "choropleth"
           }
          ],
          "contour": [
           {
            "colorbar": {
             "outlinewidth": 0,
             "ticks": ""
            },
            "colorscale": [
             [
              0,
              "#0d0887"
             ],
             [
              0.1111111111111111,
              "#46039f"
             ],
             [
              0.2222222222222222,
              "#7201a8"
             ],
             [
              0.3333333333333333,
              "#9c179e"
             ],
             [
              0.4444444444444444,
              "#bd3786"
             ],
             [
              0.5555555555555556,
              "#d8576b"
             ],
             [
              0.6666666666666666,
              "#ed7953"
             ],
             [
              0.7777777777777778,
              "#fb9f3a"
             ],
             [
              0.8888888888888888,
              "#fdca26"
             ],
             [
              1,
              "#f0f921"
             ]
            ],
            "type": "contour"
           }
          ],
          "contourcarpet": [
           {
            "colorbar": {
             "outlinewidth": 0,
             "ticks": ""
            },
            "type": "contourcarpet"
           }
          ],
          "heatmap": [
           {
            "colorbar": {
             "outlinewidth": 0,
             "ticks": ""
            },
            "colorscale": [
             [
              0,
              "#0d0887"
             ],
             [
              0.1111111111111111,
              "#46039f"
             ],
             [
              0.2222222222222222,
              "#7201a8"
             ],
             [
              0.3333333333333333,
              "#9c179e"
             ],
             [
              0.4444444444444444,
              "#bd3786"
             ],
             [
              0.5555555555555556,
              "#d8576b"
             ],
             [
              0.6666666666666666,
              "#ed7953"
             ],
             [
              0.7777777777777778,
              "#fb9f3a"
             ],
             [
              0.8888888888888888,
              "#fdca26"
             ],
             [
              1,
              "#f0f921"
             ]
            ],
            "type": "heatmap"
           }
          ],
          "heatmapgl": [
           {
            "colorbar": {
             "outlinewidth": 0,
             "ticks": ""
            },
            "colorscale": [
             [
              0,
              "#0d0887"
             ],
             [
              0.1111111111111111,
              "#46039f"
             ],
             [
              0.2222222222222222,
              "#7201a8"
             ],
             [
              0.3333333333333333,
              "#9c179e"
             ],
             [
              0.4444444444444444,
              "#bd3786"
             ],
             [
              0.5555555555555556,
              "#d8576b"
             ],
             [
              0.6666666666666666,
              "#ed7953"
             ],
             [
              0.7777777777777778,
              "#fb9f3a"
             ],
             [
              0.8888888888888888,
              "#fdca26"
             ],
             [
              1,
              "#f0f921"
             ]
            ],
            "type": "heatmapgl"
           }
          ],
          "histogram": [
           {
            "marker": {
             "pattern": {
              "fillmode": "overlay",
              "size": 10,
              "solidity": 0.2
             }
            },
            "type": "histogram"
           }
          ],
          "histogram2d": [
           {
            "colorbar": {
             "outlinewidth": 0,
             "ticks": ""
            },
            "colorscale": [
             [
              0,
              "#0d0887"
             ],
             [
              0.1111111111111111,
              "#46039f"
             ],
             [
              0.2222222222222222,
              "#7201a8"
             ],
             [
              0.3333333333333333,
              "#9c179e"
             ],
             [
              0.4444444444444444,
              "#bd3786"
             ],
             [
              0.5555555555555556,
              "#d8576b"
             ],
             [
              0.6666666666666666,
              "#ed7953"
             ],
             [
              0.7777777777777778,
              "#fb9f3a"
             ],
             [
              0.8888888888888888,
              "#fdca26"
             ],
             [
              1,
              "#f0f921"
             ]
            ],
            "type": "histogram2d"
           }
          ],
          "histogram2dcontour": [
           {
            "colorbar": {
             "outlinewidth": 0,
             "ticks": ""
            },
            "colorscale": [
             [
              0,
              "#0d0887"
             ],
             [
              0.1111111111111111,
              "#46039f"
             ],
             [
              0.2222222222222222,
              "#7201a8"
             ],
             [
              0.3333333333333333,
              "#9c179e"
             ],
             [
              0.4444444444444444,
              "#bd3786"
             ],
             [
              0.5555555555555556,
              "#d8576b"
             ],
             [
              0.6666666666666666,
              "#ed7953"
             ],
             [
              0.7777777777777778,
              "#fb9f3a"
             ],
             [
              0.8888888888888888,
              "#fdca26"
             ],
             [
              1,
              "#f0f921"
             ]
            ],
            "type": "histogram2dcontour"
           }
          ],
          "mesh3d": [
           {
            "colorbar": {
             "outlinewidth": 0,
             "ticks": ""
            },
            "type": "mesh3d"
           }
          ],
          "parcoords": [
           {
            "line": {
             "colorbar": {
              "outlinewidth": 0,
              "ticks": ""
             }
            },
            "type": "parcoords"
           }
          ],
          "pie": [
           {
            "automargin": true,
            "type": "pie"
           }
          ],
          "scatter": [
           {
            "marker": {
             "colorbar": {
              "outlinewidth": 0,
              "ticks": ""
             }
            },
            "type": "scatter"
           }
          ],
          "scatter3d": [
           {
            "line": {
             "colorbar": {
              "outlinewidth": 0,
              "ticks": ""
             }
            },
            "marker": {
             "colorbar": {
              "outlinewidth": 0,
              "ticks": ""
             }
            },
            "type": "scatter3d"
           }
          ],
          "scattercarpet": [
           {
            "marker": {
             "colorbar": {
              "outlinewidth": 0,
              "ticks": ""
             }
            },
            "type": "scattercarpet"
           }
          ],
          "scattergeo": [
           {
            "marker": {
             "colorbar": {
              "outlinewidth": 0,
              "ticks": ""
             }
            },
            "type": "scattergeo"
           }
          ],
          "scattergl": [
           {
            "marker": {
             "colorbar": {
              "outlinewidth": 0,
              "ticks": ""
             }
            },
            "type": "scattergl"
           }
          ],
          "scattermapbox": [
           {
            "marker": {
             "colorbar": {
              "outlinewidth": 0,
              "ticks": ""
             }
            },
            "type": "scattermapbox"
           }
          ],
          "scatterpolar": [
           {
            "marker": {
             "colorbar": {
              "outlinewidth": 0,
              "ticks": ""
             }
            },
            "type": "scatterpolar"
           }
          ],
          "scatterpolargl": [
           {
            "marker": {
             "colorbar": {
              "outlinewidth": 0,
              "ticks": ""
             }
            },
            "type": "scatterpolargl"
           }
          ],
          "scatterternary": [
           {
            "marker": {
             "colorbar": {
              "outlinewidth": 0,
              "ticks": ""
             }
            },
            "type": "scatterternary"
           }
          ],
          "surface": [
           {
            "colorbar": {
             "outlinewidth": 0,
             "ticks": ""
            },
            "colorscale": [
             [
              0,
              "#0d0887"
             ],
             [
              0.1111111111111111,
              "#46039f"
             ],
             [
              0.2222222222222222,
              "#7201a8"
             ],
             [
              0.3333333333333333,
              "#9c179e"
             ],
             [
              0.4444444444444444,
              "#bd3786"
             ],
             [
              0.5555555555555556,
              "#d8576b"
             ],
             [
              0.6666666666666666,
              "#ed7953"
             ],
             [
              0.7777777777777778,
              "#fb9f3a"
             ],
             [
              0.8888888888888888,
              "#fdca26"
             ],
             [
              1,
              "#f0f921"
             ]
            ],
            "type": "surface"
           }
          ],
          "table": [
           {
            "cells": {
             "fill": {
              "color": "#EBF0F8"
             },
             "line": {
              "color": "white"
             }
            },
            "header": {
             "fill": {
              "color": "#C8D4E3"
             },
             "line": {
              "color": "white"
             }
            },
            "type": "table"
           }
          ]
         },
         "layout": {
          "annotationdefaults": {
           "arrowcolor": "#2a3f5f",
           "arrowhead": 0,
           "arrowwidth": 1
          },
          "autotypenumbers": "strict",
          "coloraxis": {
           "colorbar": {
            "outlinewidth": 0,
            "ticks": ""
           }
          },
          "colorscale": {
           "diverging": [
            [
             0,
             "#8e0152"
            ],
            [
             0.1,
             "#c51b7d"
            ],
            [
             0.2,
             "#de77ae"
            ],
            [
             0.3,
             "#f1b6da"
            ],
            [
             0.4,
             "#fde0ef"
            ],
            [
             0.5,
             "#f7f7f7"
            ],
            [
             0.6,
             "#e6f5d0"
            ],
            [
             0.7,
             "#b8e186"
            ],
            [
             0.8,
             "#7fbc41"
            ],
            [
             0.9,
             "#4d9221"
            ],
            [
             1,
             "#276419"
            ]
           ],
           "sequential": [
            [
             0,
             "#0d0887"
            ],
            [
             0.1111111111111111,
             "#46039f"
            ],
            [
             0.2222222222222222,
             "#7201a8"
            ],
            [
             0.3333333333333333,
             "#9c179e"
            ],
            [
             0.4444444444444444,
             "#bd3786"
            ],
            [
             0.5555555555555556,
             "#d8576b"
            ],
            [
             0.6666666666666666,
             "#ed7953"
            ],
            [
             0.7777777777777778,
             "#fb9f3a"
            ],
            [
             0.8888888888888888,
             "#fdca26"
            ],
            [
             1,
             "#f0f921"
            ]
           ],
           "sequentialminus": [
            [
             0,
             "#0d0887"
            ],
            [
             0.1111111111111111,
             "#46039f"
            ],
            [
             0.2222222222222222,
             "#7201a8"
            ],
            [
             0.3333333333333333,
             "#9c179e"
            ],
            [
             0.4444444444444444,
             "#bd3786"
            ],
            [
             0.5555555555555556,
             "#d8576b"
            ],
            [
             0.6666666666666666,
             "#ed7953"
            ],
            [
             0.7777777777777778,
             "#fb9f3a"
            ],
            [
             0.8888888888888888,
             "#fdca26"
            ],
            [
             1,
             "#f0f921"
            ]
           ]
          },
          "colorway": [
           "#636efa",
           "#EF553B",
           "#00cc96",
           "#ab63fa",
           "#FFA15A",
           "#19d3f3",
           "#FF6692",
           "#B6E880",
           "#FF97FF",
           "#FECB52"
          ],
          "font": {
           "color": "#2a3f5f"
          },
          "geo": {
           "bgcolor": "white",
           "lakecolor": "white",
           "landcolor": "#E5ECF6",
           "showlakes": true,
           "showland": true,
           "subunitcolor": "white"
          },
          "hoverlabel": {
           "align": "left"
          },
          "hovermode": "closest",
          "mapbox": {
           "style": "light"
          },
          "paper_bgcolor": "white",
          "plot_bgcolor": "#E5ECF6",
          "polar": {
           "angularaxis": {
            "gridcolor": "white",
            "linecolor": "white",
            "ticks": ""
           },
           "bgcolor": "#E5ECF6",
           "radialaxis": {
            "gridcolor": "white",
            "linecolor": "white",
            "ticks": ""
           }
          },
          "scene": {
           "xaxis": {
            "backgroundcolor": "#E5ECF6",
            "gridcolor": "white",
            "gridwidth": 2,
            "linecolor": "white",
            "showbackground": true,
            "ticks": "",
            "zerolinecolor": "white"
           },
           "yaxis": {
            "backgroundcolor": "#E5ECF6",
            "gridcolor": "white",
            "gridwidth": 2,
            "linecolor": "white",
            "showbackground": true,
            "ticks": "",
            "zerolinecolor": "white"
           },
           "zaxis": {
            "backgroundcolor": "#E5ECF6",
            "gridcolor": "white",
            "gridwidth": 2,
            "linecolor": "white",
            "showbackground": true,
            "ticks": "",
            "zerolinecolor": "white"
           }
          },
          "shapedefaults": {
           "line": {
            "color": "#2a3f5f"
           }
          },
          "ternary": {
           "aaxis": {
            "gridcolor": "white",
            "linecolor": "white",
            "ticks": ""
           },
           "baxis": {
            "gridcolor": "white",
            "linecolor": "white",
            "ticks": ""
           },
           "bgcolor": "#E5ECF6",
           "caxis": {
            "gridcolor": "white",
            "linecolor": "white",
            "ticks": ""
           }
          },
          "title": {
           "x": 0.05
          },
          "xaxis": {
           "automargin": true,
           "gridcolor": "white",
           "linecolor": "white",
           "ticks": "",
           "title": {
            "standoff": 15
           },
           "zerolinecolor": "white",
           "zerolinewidth": 2
          },
          "yaxis": {
           "automargin": true,
           "gridcolor": "white",
           "linecolor": "white",
           "ticks": "",
           "title": {
            "standoff": 15
           },
           "zerolinecolor": "white",
           "zerolinewidth": 2
          }
         }
        },
        "xaxis": {
         "anchor": "y",
         "autorange": true,
         "domain": [
          0,
          1
         ],
         "range": [
          -0.5,
          279.5
         ],
         "title": {
          "text": "n_missing_columns"
         },
         "type": "linear"
        },
        "yaxis": {
         "anchor": "x",
         "autorange": true,
         "domain": [
          0,
          1
         ],
         "range": [
          0,
          770134.7368421053
         ],
         "title": {
          "text": "sum of n_missing_rows"
         },
         "type": "linear"
        }
       }
      },
      "image/png": "[encoded data removed]",
      "text/html": [
       "<div>                            <div id=\"a695ee77-7145-483e-8e4b-3228916a0ed6\" class=\"plotly-graph-div\" style=\"height:525px; width:100%;\"></div>            <script type=\"text/javascript\">                require([\"plotly\"], function(Plotly) {                    window.PLOTLYENV=window.PLOTLYENV || {};                                    if (document.getElementById(\"a695ee77-7145-483e-8e4b-3228916a0ed6\")) {                    Plotly.newPlot(                        \"a695ee77-7145-483e-8e4b-3228916a0ed6\",                        [{\"alignmentgroup\":\"True\",\"bingroup\":\"x\",\"histfunc\":\"sum\",\"hovertemplate\":\"n_missing_columns=%{x}<br>sum of n_missing_rows=%{y}<extra></extra>\",\"legendgroup\":\"\",\"marker\":{\"color\":\"#636efa\",\"pattern\":{\"shape\":\"\"}},\"name\":\"\",\"offsetgroup\":\"\",\"orientation\":\"v\",\"showlegend\":false,\"x\":[0,1,2,3,4,5,6,7,8,9,10,11,12,13,14,15,16,17,18,19,20,21,22,23,24,25,26,27,28,29,30,31,32,33,34,35,36,37,38,39,40,41,42,43,44,45,46,64,65,66,67,68,69,70,71,72,73,74,75,76,77,78,79,80,81,82,83,84,85,86,87,88,89,90,91,92,93,94,95,96,97,98,99,100,101,102,103,104,105,106,107,109,110,111,112,117,119,120,121,122,123,124,125,126,127,128,129,130,131,132,133,134,135,136,137,138,139,140,141,142,143,144,145,146,147,148,149,150,151,153,154,156,158,160,162,163,182,184,185,186,187,188,189,190,191,192,193,194,195,196,197,198,199,200,201,202,203,204,205,206,207,208,209,210,211,212,213,214,215,216,217,218,219,220,221,222,223,224,225,226,227,228,229,230,231,232,233,234,235,236,237,238,239,240,241,242,244,245,246,247,248,249,250,251,256,257,258,259,260],\"xaxis\":\"x\",\"y\":[20,403,2028,8042,66907,134500,163932,114391,52593,14363,9305,4583,2035,1892,2252,19735,45765,76441,4595,7846,11349,710,1348,1008,956,768,682,523,486,576,380,112,43,35,22,33,33,48,119,262,132,12,31,28,2,3,2,1,17,90,394,1536,2984,4141,3597,3444,3485,1923,1000,905,1164,1170,1449,1967,1577,526,592,741,110,157,169,182,89,138,233,50,53,49,18,38,11,16,13,6,8,4,11,8,5,4,8,1,1,3,1,1,4,27,66,107,109,54,20,37,162,489,824,840,641,137,214,77,46,65,40,245,525,1252,40,83,205,45,146,14,11,21,4,2,2,1,3,1,2,1,1,3,1,5,9,12,25,13,13,30,187,354,622,594,626,778,665,329,335,283,161,124,109,235,39,72,169,18,45,84,15,65,9,5,18,5,3,4,4,2,16,52,251,1610,3294,4344,3269,1528,245,145,90,10,13,40,498,1291,2263,179,116,292,18,6,7,17,12,16,7,10,6,5,27921,45579,5,7,5],\"yaxis\":\"y\",\"type\":\"histogram\"}],                        {\"template\":{\"data\":{\"bar\":[{\"error_x\":{\"color\":\"#2a3f5f\"},\"error_y\":{\"color\":\"#2a3f5f\"},\"marker\":{\"line\":{\"color\":\"#E5ECF6\",\"width\":0.5},\"pattern\":{\"fillmode\":\"overlay\",\"size\":10,\"solidity\":0.2}},\"type\":\"bar\"}],\"barpolar\":[{\"marker\":{\"line\":{\"color\":\"#E5ECF6\",\"width\":0.5},\"pattern\":{\"fillmode\":\"overlay\",\"size\":10,\"solidity\":0.2}},\"type\":\"barpolar\"}],\"carpet\":[{\"aaxis\":{\"endlinecolor\":\"#2a3f5f\",\"gridcolor\":\"white\",\"linecolor\":\"white\",\"minorgridcolor\":\"white\",\"startlinecolor\":\"#2a3f5f\"},\"baxis\":{\"endlinecolor\":\"#2a3f5f\",\"gridcolor\":\"white\",\"linecolor\":\"white\",\"minorgridcolor\":\"white\",\"startlinecolor\":\"#2a3f5f\"},\"type\":\"carpet\"}],\"choropleth\":[{\"colorbar\":{\"outlinewidth\":0,\"ticks\":\"\"},\"type\":\"choropleth\"}],\"contour\":[{\"colorbar\":{\"outlinewidth\":0,\"ticks\":\"\"},\"colorscale\":[[0.0,\"#0d0887\"],[0.1111111111111111,\"#46039f\"],[0.2222222222222222,\"#7201a8\"],[0.3333333333333333,\"#9c179e\"],[0.4444444444444444,\"#bd3786\"],[0.5555555555555556,\"#d8576b\"],[0.6666666666666666,\"#ed7953\"],[0.7777777777777778,\"#fb9f3a\"],[0.8888888888888888,\"#fdca26\"],[1.0,\"#f0f921\"]],\"type\":\"contour\"}],\"contourcarpet\":[{\"colorbar\":{\"outlinewidth\":0,\"ticks\":\"\"},\"type\":\"contourcarpet\"}],\"heatmap\":[{\"colorbar\":{\"outlinewidth\":0,\"ticks\":\"\"},\"colorscale\":[[0.0,\"#0d0887\"],[0.1111111111111111,\"#46039f\"],[0.2222222222222222,\"#7201a8\"],[0.3333333333333333,\"#9c179e\"],[0.4444444444444444,\"#bd3786\"],[0.5555555555555556,\"#d8576b\"],[0.6666666666666666,\"#ed7953\"],[0.7777777777777778,\"#fb9f3a\"],[0.8888888888888888,\"#fdca26\"],[1.0,\"#f0f921\"]],\"type\":\"heatmap\"}],\"heatmapgl\":[{\"colorbar\":{\"outlinewidth\":0,\"ticks\":\"\"},\"colorscale\":[[0.0,\"#0d0887\"],[0.1111111111111111,\"#46039f\"],[0.2222222222222222,\"#7201a8\"],[0.3333333333333333,\"#9c179e\"],[0.4444444444444444,\"#bd3786\"],[0.5555555555555556,\"#d8576b\"],[0.6666666666666666,\"#ed7953\"],[0.7777777777777778,\"#fb9f3a\"],[0.8888888888888888,\"#fdca26\"],[1.0,\"#f0f921\"]],\"type\":\"heatmapgl\"}],\"histogram\":[{\"marker\":{\"pattern\":{\"fillmode\":\"overlay\",\"size\":10,\"solidity\":0.2}},\"type\":\"histogram\"}],\"histogram2d\":[{\"colorbar\":{\"outlinewidth\":0,\"ticks\":\"\"},\"colorscale\":[[0.0,\"#0d0887\"],[0.1111111111111111,\"#46039f\"],[0.2222222222222222,\"#7201a8\"],[0.3333333333333333,\"#9c179e\"],[0.4444444444444444,\"#bd3786\"],[0.5555555555555556,\"#d8576b\"],[0.6666666666666666,\"#ed7953\"],[0.7777777777777778,\"#fb9f3a\"],[0.8888888888888888,\"#fdca26\"],[1.0,\"#f0f921\"]],\"type\":\"histogram2d\"}],\"histogram2dcontour\":[{\"colorbar\":{\"outlinewidth\":0,\"ticks\":\"\"},\"colorscale\":[[0.0,\"#0d0887\"],[0.1111111111111111,\"#46039f\"],[0.2222222222222222,\"#7201a8\"],[0.3333333333333333,\"#9c179e\"],[0.4444444444444444,\"#bd3786\"],[0.5555555555555556,\"#d8576b\"],[0.6666666666666666,\"#ed7953\"],[0.7777777777777778,\"#fb9f3a\"],[0.8888888888888888,\"#fdca26\"],[1.0,\"#f0f921\"]],\"type\":\"histogram2dcontour\"}],\"mesh3d\":[{\"colorbar\":{\"outlinewidth\":0,\"ticks\":\"\"},\"type\":\"mesh3d\"}],\"parcoords\":[{\"line\":{\"colorbar\":{\"outlinewidth\":0,\"ticks\":\"\"}},\"type\":\"parcoords\"}],\"pie\":[{\"automargin\":true,\"type\":\"pie\"}],\"scatter\":[{\"marker\":{\"colorbar\":{\"outlinewidth\":0,\"ticks\":\"\"}},\"type\":\"scatter\"}],\"scatter3d\":[{\"line\":{\"colorbar\":{\"outlinewidth\":0,\"ticks\":\"\"}},\"marker\":{\"colorbar\":{\"outlinewidth\":0,\"ticks\":\"\"}},\"type\":\"scatter3d\"}],\"scattercarpet\":[{\"marker\":{\"colorbar\":{\"outlinewidth\":0,\"ticks\":\"\"}},\"type\":\"scattercarpet\"}],\"scattergeo\":[{\"marker\":{\"colorbar\":{\"outlinewidth\":0,\"ticks\":\"\"}},\"type\":\"scattergeo\"}],\"scattergl\":[{\"marker\":{\"colorbar\":{\"outlinewidth\":0,\"ticks\":\"\"}},\"type\":\"scattergl\"}],\"scattermapbox\":[{\"marker\":{\"colorbar\":{\"outlinewidth\":0,\"ticks\":\"\"}},\"type\":\"scattermapbox\"}],\"scatterpolar\":[{\"marker\":{\"colorbar\":{\"outlinewidth\":0,\"ticks\":\"\"}},\"type\":\"scatterpolar\"}],\"scatterpolargl\":[{\"marker\":{\"colorbar\":{\"outlinewidth\":0,\"ticks\":\"\"}},\"type\":\"scatterpolargl\"}],\"scatterternary\":[{\"marker\":{\"colorbar\":{\"outlinewidth\":0,\"ticks\":\"\"}},\"type\":\"scatterternary\"}],\"surface\":[{\"colorbar\":{\"outlinewidth\":0,\"ticks\":\"\"},\"colorscale\":[[0.0,\"#0d0887\"],[0.1111111111111111,\"#46039f\"],[0.2222222222222222,\"#7201a8\"],[0.3333333333333333,\"#9c179e\"],[0.4444444444444444,\"#bd3786\"],[0.5555555555555556,\"#d8576b\"],[0.6666666666666666,\"#ed7953\"],[0.7777777777777778,\"#fb9f3a\"],[0.8888888888888888,\"#fdca26\"],[1.0,\"#f0f921\"]],\"type\":\"surface\"}],\"table\":[{\"cells\":{\"fill\":{\"color\":\"#EBF0F8\"},\"line\":{\"color\":\"white\"}},\"header\":{\"fill\":{\"color\":\"#C8D4E3\"},\"line\":{\"color\":\"white\"}},\"type\":\"table\"}]},\"layout\":{\"annotationdefaults\":{\"arrowcolor\":\"#2a3f5f\",\"arrowhead\":0,\"arrowwidth\":1},\"autotypenumbers\":\"strict\",\"coloraxis\":{\"colorbar\":{\"outlinewidth\":0,\"ticks\":\"\"}},\"colorscale\":{\"diverging\":[[0,\"#8e0152\"],[0.1,\"#c51b7d\"],[0.2,\"#de77ae\"],[0.3,\"#f1b6da\"],[0.4,\"#fde0ef\"],[0.5,\"#f7f7f7\"],[0.6,\"#e6f5d0\"],[0.7,\"#b8e186\"],[0.8,\"#7fbc41\"],[0.9,\"#4d9221\"],[1,\"#276419\"]],\"sequential\":[[0.0,\"#0d0887\"],[0.1111111111111111,\"#46039f\"],[0.2222222222222222,\"#7201a8\"],[0.3333333333333333,\"#9c179e\"],[0.4444444444444444,\"#bd3786\"],[0.5555555555555556,\"#d8576b\"],[0.6666666666666666,\"#ed7953\"],[0.7777777777777778,\"#fb9f3a\"],[0.8888888888888888,\"#fdca26\"],[1.0,\"#f0f921\"]],\"sequentialminus\":[[0.0,\"#0d0887\"],[0.1111111111111111,\"#46039f\"],[0.2222222222222222,\"#7201a8\"],[0.3333333333333333,\"#9c179e\"],[0.4444444444444444,\"#bd3786\"],[0.5555555555555556,\"#d8576b\"],[0.6666666666666666,\"#ed7953\"],[0.7777777777777778,\"#fb9f3a\"],[0.8888888888888888,\"#fdca26\"],[1.0,\"#f0f921\"]]},\"colorway\":[\"#636efa\",\"#EF553B\",\"#00cc96\",\"#ab63fa\",\"#FFA15A\",\"#19d3f3\",\"#FF6692\",\"#B6E880\",\"#FF97FF\",\"#FECB52\"],\"font\":{\"color\":\"#2a3f5f\"},\"geo\":{\"bgcolor\":\"white\",\"lakecolor\":\"white\",\"landcolor\":\"#E5ECF6\",\"showlakes\":true,\"showland\":true,\"subunitcolor\":\"white\"},\"hoverlabel\":{\"align\":\"left\"},\"hovermode\":\"closest\",\"mapbox\":{\"style\":\"light\"},\"paper_bgcolor\":\"white\",\"plot_bgcolor\":\"#E5ECF6\",\"polar\":{\"angularaxis\":{\"gridcolor\":\"white\",\"linecolor\":\"white\",\"ticks\":\"\"},\"bgcolor\":\"#E5ECF6\",\"radialaxis\":{\"gridcolor\":\"white\",\"linecolor\":\"white\",\"ticks\":\"\"}},\"scene\":{\"xaxis\":{\"backgroundcolor\":\"#E5ECF6\",\"gridcolor\":\"white\",\"gridwidth\":2,\"linecolor\":\"white\",\"showbackground\":true,\"ticks\":\"\",\"zerolinecolor\":\"white\"},\"yaxis\":{\"backgroundcolor\":\"#E5ECF6\",\"gridcolor\":\"white\",\"gridwidth\":2,\"linecolor\":\"white\",\"showbackground\":true,\"ticks\":\"\",\"zerolinecolor\":\"white\"},\"zaxis\":{\"backgroundcolor\":\"#E5ECF6\",\"gridcolor\":\"white\",\"gridwidth\":2,\"linecolor\":\"white\",\"showbackground\":true,\"ticks\":\"\",\"zerolinecolor\":\"white\"}},\"shapedefaults\":{\"line\":{\"color\":\"#2a3f5f\"}},\"ternary\":{\"aaxis\":{\"gridcolor\":\"white\",\"linecolor\":\"white\",\"ticks\":\"\"},\"baxis\":{\"gridcolor\":\"white\",\"linecolor\":\"white\",\"ticks\":\"\"},\"bgcolor\":\"#E5ECF6\",\"caxis\":{\"gridcolor\":\"white\",\"linecolor\":\"white\",\"ticks\":\"\"}},\"title\":{\"x\":0.05},\"xaxis\":{\"automargin\":true,\"gridcolor\":\"white\",\"linecolor\":\"white\",\"ticks\":\"\",\"title\":{\"standoff\":15},\"zerolinecolor\":\"white\",\"zerolinewidth\":2},\"yaxis\":{\"automargin\":true,\"gridcolor\":\"white\",\"linecolor\":\"white\",\"ticks\":\"\",\"title\":{\"standoff\":15},\"zerolinecolor\":\"white\",\"zerolinewidth\":2}}},\"xaxis\":{\"anchor\":\"y\",\"domain\":[0.0,1.0],\"title\":{\"text\":\"n_missing_columns\"}},\"yaxis\":{\"anchor\":\"x\",\"domain\":[0.0,1.0],\"title\":{\"text\":\"sum of n_missing_rows\"}},\"legend\":{\"tracegroupgap\":0},\"margin\":{\"t\":60},\"barmode\":\"relative\"},                        {\"responsive\": true}                    ).then(function(){\n",
       "                            \n",
       "var gd = document.getElementById('a695ee77-7145-483e-8e4b-3228916a0ed6');\n",
       "var x = new MutationObserver(function (mutations, observer) {{\n",
       "        var display = window.getComputedStyle(gd).display;\n",
       "        if (!display || display === 'none') {{\n",
       "            console.log([gd, 'removed!']);\n",
       "            Plotly.purge(gd);\n",
       "            observer.disconnect();\n",
       "        }}\n",
       "}});\n",
       "\n",
       "// Listen for the removal of the full notebook cells\n",
       "var notebookContainer = gd.closest('#notebook-container');\n",
       "if (notebookContainer) {{\n",
       "    x.observe(notebookContainer, {childList: true});\n",
       "}}\n",
       "\n",
       "// Listen for the clearing of the current output cell\n",
       "var outputEl = gd.closest('.output');\n",
       "if (outputEl) {{\n",
       "    x.observe(outputEl, {childList: true});\n",
       "}}\n",
       "\n",
       "                        })                };                });            </script>        </div>"
      ]
     },
     "metadata": {},
     "output_type": "display_data"
    }
   ],
   "source": [
    "fig = px.histogram(missing_analysis_df, x='n_missing_columns', y='n_missing_rows')\n",
    "fig.show()"
   ]
  },
  {
   "cell_type": "code",
   "execution_count": 296,
   "metadata": {},
   "outputs": [
    {
     "data": {
      "text/html": [
       "<div>\n",
       "<style scoped>\n",
       "    .dataframe tbody tr th:only-of-type {\n",
       "        vertical-align: middle;\n",
       "    }\n",
       "\n",
       "    .dataframe tbody tr th {\n",
       "        vertical-align: top;\n",
       "    }\n",
       "\n",
       "    .dataframe thead th {\n",
       "        text-align: right;\n",
       "    }\n",
       "</style>\n",
       "<table border=\"1\" class=\"dataframe\">\n",
       "  <thead>\n",
       "    <tr style=\"text-align: right;\">\n",
       "      <th></th>\n",
       "      <th>n_missing_columns</th>\n",
       "      <th>n_missing_rows</th>\n",
       "    </tr>\n",
       "  </thead>\n",
       "  <tbody>\n",
       "    <tr>\n",
       "      <th>0</th>\n",
       "      <td>0</td>\n",
       "      <td>20</td>\n",
       "    </tr>\n",
       "    <tr>\n",
       "      <th>1</th>\n",
       "      <td>1</td>\n",
       "      <td>403</td>\n",
       "    </tr>\n",
       "    <tr>\n",
       "      <th>2</th>\n",
       "      <td>2</td>\n",
       "      <td>2028</td>\n",
       "    </tr>\n",
       "    <tr>\n",
       "      <th>3</th>\n",
       "      <td>3</td>\n",
       "      <td>8042</td>\n",
       "    </tr>\n",
       "    <tr>\n",
       "      <th>4</th>\n",
       "      <td>4</td>\n",
       "      <td>66907</td>\n",
       "    </tr>\n",
       "  </tbody>\n",
       "</table>\n",
       "</div>"
      ],
      "text/plain": [
       "   n_missing_columns  n_missing_rows\n",
       "0                  0              20\n",
       "1                  1             403\n",
       "2                  2            2028\n",
       "3                  3            8042\n",
       "4                  4           66907"
      ]
     },
     "execution_count": 296,
     "metadata": {},
     "output_type": "execute_result"
    }
   ],
   "source": [
    "azdias_cleaned.isnull().sum(axis=1).reset_index().rename(columns={'index':'n_missing_rows', 0:'n_missing_columns'}).groupby('n_missing_columns').count().reset_index().head()"
   ]
  },
  {
   "cell_type": "markdown",
   "metadata": {},
   "source": [
    "I seems that majority of the population have 0-19 missing columns. To be sure on this lets do it by cumulatively.\n"
   ]
  },
  {
   "cell_type": "code",
   "execution_count": 307,
   "metadata": {},
   "outputs": [],
   "source": [
    "df_cum_missing = missing_analysis_df.sort_values(by='n_missing_columns', ascending=True).set_index('n_missing_columns').cumsum().reset_index()"
   ]
  },
  {
   "cell_type": "code",
   "execution_count": 310,
   "metadata": {},
   "outputs": [
    {
     "data": {
      "application/vnd.plotly.v1+json": {
       "config": {
        "plotlyServerURL": "https://plot.ly"
       },
       "data": [
        {
         "hovertemplate": "n_missing_columns=%{x}<br>n_missing_rows=%{y}<extra></extra>",
         "legendgroup": "",
         "line": {
          "color": "#636efa",
          "dash": "solid"
         },
         "marker": {
          "symbol": "circle"
         },
         "mode": "lines",
         "name": "",
         "orientation": "v",
         "showlegend": false,
         "type": "scatter",
         "x": [
          0,
          1,
          2,
          3,
          4,
          5,
          6,
          7,
          8,
          9,
          10,
          11,
          12,
          13,
          14,
          15,
          16,
          17,
          18,
          19,
          20,
          21,
          22,
          23,
          24,
          25,
          26,
          27,
          28,
          29,
          30,
          31,
          32,
          33,
          34,
          35,
          36,
          37,
          38,
          39,
          40,
          41,
          42,
          43,
          44,
          45,
          46,
          64,
          65,
          66,
          67,
          68,
          69,
          70,
          71,
          72,
          73,
          74,
          75,
          76,
          77,
          78,
          79,
          80,
          81,
          82,
          83,
          84,
          85,
          86,
          87,
          88,
          89,
          90,
          91,
          92,
          93,
          94,
          95,
          96,
          97,
          98,
          99,
          100,
          101,
          102,
          103,
          104,
          105,
          106,
          107,
          109,
          110,
          111,
          112,
          117,
          119,
          120,
          121,
          122,
          123,
          124,
          125,
          126,
          127,
          128,
          129,
          130,
          131,
          132,
          133,
          134,
          135,
          136,
          137,
          138,
          139,
          140,
          141,
          142,
          143,
          144,
          145,
          146,
          147,
          148,
          149,
          150,
          151,
          153,
          154,
          156,
          158,
          160,
          162,
          163,
          182,
          184,
          185,
          186,
          187,
          188,
          189,
          190,
          191,
          192,
          193,
          194,
          195,
          196,
          197,
          198,
          199,
          200,
          201,
          202,
          203,
          204,
          205,
          206,
          207,
          208,
          209,
          210,
          211,
          212,
          213,
          214,
          215,
          216,
          217,
          218,
          219,
          220,
          221,
          222,
          223,
          224,
          225,
          226,
          227,
          228,
          229,
          230,
          231,
          232,
          233,
          234,
          235,
          236,
          237,
          238,
          239,
          240,
          241,
          242,
          244,
          245,
          246,
          247,
          248,
          249,
          250,
          251,
          256,
          257,
          258,
          259,
          260
         ],
         "xaxis": "x",
         "y": [
          20,
          423,
          2451,
          10493,
          77400,
          211900,
          375832,
          490223,
          542816,
          557179,
          566484,
          571067,
          573102,
          574994,
          577246,
          596981,
          642746,
          719187,
          723782,
          731628,
          742977,
          743687,
          745035,
          746043,
          746999,
          747767,
          748449,
          748972,
          749458,
          750034,
          750414,
          750526,
          750569,
          750604,
          750626,
          750659,
          750692,
          750740,
          750859,
          751121,
          751253,
          751265,
          751296,
          751324,
          751326,
          751329,
          751331,
          751332,
          751349,
          751439,
          751833,
          753369,
          756353,
          760494,
          764091,
          767535,
          771020,
          772943,
          773943,
          774848,
          776012,
          777182,
          778631,
          780598,
          782175,
          782701,
          783293,
          784034,
          784144,
          784301,
          784470,
          784652,
          784741,
          784879,
          785112,
          785162,
          785215,
          785264,
          785282,
          785320,
          785331,
          785347,
          785360,
          785366,
          785374,
          785378,
          785389,
          785397,
          785402,
          785406,
          785414,
          785415,
          785416,
          785419,
          785420,
          785421,
          785425,
          785452,
          785518,
          785625,
          785734,
          785788,
          785808,
          785845,
          786007,
          786496,
          787320,
          788160,
          788801,
          788938,
          789152,
          789229,
          789275,
          789340,
          789380,
          789625,
          790150,
          791402,
          791442,
          791525,
          791730,
          791775,
          791921,
          791935,
          791946,
          791967,
          791971,
          791973,
          791975,
          791976,
          791979,
          791980,
          791982,
          791983,
          791984,
          791987,
          791988,
          791993,
          792002,
          792014,
          792039,
          792052,
          792065,
          792095,
          792282,
          792636,
          793258,
          793852,
          794478,
          795256,
          795921,
          796250,
          796585,
          796868,
          797029,
          797153,
          797262,
          797497,
          797536,
          797608,
          797777,
          797795,
          797840,
          797924,
          797939,
          798004,
          798013,
          798018,
          798036,
          798041,
          798044,
          798048,
          798052,
          798054,
          798070,
          798122,
          798373,
          799983,
          803277,
          807621,
          810890,
          812418,
          812663,
          812808,
          812898,
          812908,
          812921,
          812961,
          813459,
          814750,
          817013,
          817192,
          817308,
          817600,
          817618,
          817624,
          817631,
          817648,
          817660,
          817676,
          817683,
          817693,
          817699,
          817704,
          845625,
          891204,
          891209,
          891216,
          891221
         ],
         "yaxis": "y"
        }
       ],
       "layout": {
        "autosize": true,
        "legend": {
         "tracegroupgap": 0
        },
        "margin": {
         "t": 60
        },
        "template": {
         "data": {
          "bar": [
           {
            "error_x": {
             "color": "#2a3f5f"
            },
            "error_y": {
             "color": "#2a3f5f"
            },
            "marker": {
             "line": {
              "color": "#E5ECF6",
              "width": 0.5
             },
             "pattern": {
              "fillmode": "overlay",
              "size": 10,
              "solidity": 0.2
             }
            },
            "type": "bar"
           }
          ],
          "barpolar": [
           {
            "marker": {
             "line": {
              "color": "#E5ECF6",
              "width": 0.5
             },
             "pattern": {
              "fillmode": "overlay",
              "size": 10,
              "solidity": 0.2
             }
            },
            "type": "barpolar"
           }
          ],
          "carpet": [
           {
            "aaxis": {
             "endlinecolor": "#2a3f5f",
             "gridcolor": "white",
             "linecolor": "white",
             "minorgridcolor": "white",
             "startlinecolor": "#2a3f5f"
            },
            "baxis": {
             "endlinecolor": "#2a3f5f",
             "gridcolor": "white",
             "linecolor": "white",
             "minorgridcolor": "white",
             "startlinecolor": "#2a3f5f"
            },
            "type": "carpet"
           }
          ],
          "choropleth": [
           {
            "colorbar": {
             "outlinewidth": 0,
             "ticks": ""
            },
            "type": "choropleth"
           }
          ],
          "contour": [
           {
            "colorbar": {
             "outlinewidth": 0,
             "ticks": ""
            },
            "colorscale": [
             [
              0,
              "#0d0887"
             ],
             [
              0.1111111111111111,
              "#46039f"
             ],
             [
              0.2222222222222222,
              "#7201a8"
             ],
             [
              0.3333333333333333,
              "#9c179e"
             ],
             [
              0.4444444444444444,
              "#bd3786"
             ],
             [
              0.5555555555555556,
              "#d8576b"
             ],
             [
              0.6666666666666666,
              "#ed7953"
             ],
             [
              0.7777777777777778,
              "#fb9f3a"
             ],
             [
              0.8888888888888888,
              "#fdca26"
             ],
             [
              1,
              "#f0f921"
             ]
            ],
            "type": "contour"
           }
          ],
          "contourcarpet": [
           {
            "colorbar": {
             "outlinewidth": 0,
             "ticks": ""
            },
            "type": "contourcarpet"
           }
          ],
          "heatmap": [
           {
            "colorbar": {
             "outlinewidth": 0,
             "ticks": ""
            },
            "colorscale": [
             [
              0,
              "#0d0887"
             ],
             [
              0.1111111111111111,
              "#46039f"
             ],
             [
              0.2222222222222222,
              "#7201a8"
             ],
             [
              0.3333333333333333,
              "#9c179e"
             ],
             [
              0.4444444444444444,
              "#bd3786"
             ],
             [
              0.5555555555555556,
              "#d8576b"
             ],
             [
              0.6666666666666666,
              "#ed7953"
             ],
             [
              0.7777777777777778,
              "#fb9f3a"
             ],
             [
              0.8888888888888888,
              "#fdca26"
             ],
             [
              1,
              "#f0f921"
             ]
            ],
            "type": "heatmap"
           }
          ],
          "heatmapgl": [
           {
            "colorbar": {
             "outlinewidth": 0,
             "ticks": ""
            },
            "colorscale": [
             [
              0,
              "#0d0887"
             ],
             [
              0.1111111111111111,
              "#46039f"
             ],
             [
              0.2222222222222222,
              "#7201a8"
             ],
             [
              0.3333333333333333,
              "#9c179e"
             ],
             [
              0.4444444444444444,
              "#bd3786"
             ],
             [
              0.5555555555555556,
              "#d8576b"
             ],
             [
              0.6666666666666666,
              "#ed7953"
             ],
             [
              0.7777777777777778,
              "#fb9f3a"
             ],
             [
              0.8888888888888888,
              "#fdca26"
             ],
             [
              1,
              "#f0f921"
             ]
            ],
            "type": "heatmapgl"
           }
          ],
          "histogram": [
           {
            "marker": {
             "pattern": {
              "fillmode": "overlay",
              "size": 10,
              "solidity": 0.2
             }
            },
            "type": "histogram"
           }
          ],
          "histogram2d": [
           {
            "colorbar": {
             "outlinewidth": 0,
             "ticks": ""
            },
            "colorscale": [
             [
              0,
              "#0d0887"
             ],
             [
              0.1111111111111111,
              "#46039f"
             ],
             [
              0.2222222222222222,
              "#7201a8"
             ],
             [
              0.3333333333333333,
              "#9c179e"
             ],
             [
              0.4444444444444444,
              "#bd3786"
             ],
             [
              0.5555555555555556,
              "#d8576b"
             ],
             [
              0.6666666666666666,
              "#ed7953"
             ],
             [
              0.7777777777777778,
              "#fb9f3a"
             ],
             [
              0.8888888888888888,
              "#fdca26"
             ],
             [
              1,
              "#f0f921"
             ]
            ],
            "type": "histogram2d"
           }
          ],
          "histogram2dcontour": [
           {
            "colorbar": {
             "outlinewidth": 0,
             "ticks": ""
            },
            "colorscale": [
             [
              0,
              "#0d0887"
             ],
             [
              0.1111111111111111,
              "#46039f"
             ],
             [
              0.2222222222222222,
              "#7201a8"
             ],
             [
              0.3333333333333333,
              "#9c179e"
             ],
             [
              0.4444444444444444,
              "#bd3786"
             ],
             [
              0.5555555555555556,
              "#d8576b"
             ],
             [
              0.6666666666666666,
              "#ed7953"
             ],
             [
              0.7777777777777778,
              "#fb9f3a"
             ],
             [
              0.8888888888888888,
              "#fdca26"
             ],
             [
              1,
              "#f0f921"
             ]
            ],
            "type": "histogram2dcontour"
           }
          ],
          "mesh3d": [
           {
            "colorbar": {
             "outlinewidth": 0,
             "ticks": ""
            },
            "type": "mesh3d"
           }
          ],
          "parcoords": [
           {
            "line": {
             "colorbar": {
              "outlinewidth": 0,
              "ticks": ""
             }
            },
            "type": "parcoords"
           }
          ],
          "pie": [
           {
            "automargin": true,
            "type": "pie"
           }
          ],
          "scatter": [
           {
            "marker": {
             "colorbar": {
              "outlinewidth": 0,
              "ticks": ""
             }
            },
            "type": "scatter"
           }
          ],
          "scatter3d": [
           {
            "line": {
             "colorbar": {
              "outlinewidth": 0,
              "ticks": ""
             }
            },
            "marker": {
             "colorbar": {
              "outlinewidth": 0,
              "ticks": ""
             }
            },
            "type": "scatter3d"
           }
          ],
          "scattercarpet": [
           {
            "marker": {
             "colorbar": {
              "outlinewidth": 0,
              "ticks": ""
             }
            },
            "type": "scattercarpet"
           }
          ],
          "scattergeo": [
           {
            "marker": {
             "colorbar": {
              "outlinewidth": 0,
              "ticks": ""
             }
            },
            "type": "scattergeo"
           }
          ],
          "scattergl": [
           {
            "marker": {
             "colorbar": {
              "outlinewidth": 0,
              "ticks": ""
             }
            },
            "type": "scattergl"
           }
          ],
          "scattermapbox": [
           {
            "marker": {
             "colorbar": {
              "outlinewidth": 0,
              "ticks": ""
             }
            },
            "type": "scattermapbox"
           }
          ],
          "scatterpolar": [
           {
            "marker": {
             "colorbar": {
              "outlinewidth": 0,
              "ticks": ""
             }
            },
            "type": "scatterpolar"
           }
          ],
          "scatterpolargl": [
           {
            "marker": {
             "colorbar": {
              "outlinewidth": 0,
              "ticks": ""
             }
            },
            "type": "scatterpolargl"
           }
          ],
          "scatterternary": [
           {
            "marker": {
             "colorbar": {
              "outlinewidth": 0,
              "ticks": ""
             }
            },
            "type": "scatterternary"
           }
          ],
          "surface": [
           {
            "colorbar": {
             "outlinewidth": 0,
             "ticks": ""
            },
            "colorscale": [
             [
              0,
              "#0d0887"
             ],
             [
              0.1111111111111111,
              "#46039f"
             ],
             [
              0.2222222222222222,
              "#7201a8"
             ],
             [
              0.3333333333333333,
              "#9c179e"
             ],
             [
              0.4444444444444444,
              "#bd3786"
             ],
             [
              0.5555555555555556,
              "#d8576b"
             ],
             [
              0.6666666666666666,
              "#ed7953"
             ],
             [
              0.7777777777777778,
              "#fb9f3a"
             ],
             [
              0.8888888888888888,
              "#fdca26"
             ],
             [
              1,
              "#f0f921"
             ]
            ],
            "type": "surface"
           }
          ],
          "table": [
           {
            "cells": {
             "fill": {
              "color": "#EBF0F8"
             },
             "line": {
              "color": "white"
             }
            },
            "header": {
             "fill": {
              "color": "#C8D4E3"
             },
             "line": {
              "color": "white"
             }
            },
            "type": "table"
           }
          ]
         },
         "layout": {
          "annotationdefaults": {
           "arrowcolor": "#2a3f5f",
           "arrowhead": 0,
           "arrowwidth": 1
          },
          "autotypenumbers": "strict",
          "coloraxis": {
           "colorbar": {
            "outlinewidth": 0,
            "ticks": ""
           }
          },
          "colorscale": {
           "diverging": [
            [
             0,
             "#8e0152"
            ],
            [
             0.1,
             "#c51b7d"
            ],
            [
             0.2,
             "#de77ae"
            ],
            [
             0.3,
             "#f1b6da"
            ],
            [
             0.4,
             "#fde0ef"
            ],
            [
             0.5,
             "#f7f7f7"
            ],
            [
             0.6,
             "#e6f5d0"
            ],
            [
             0.7,
             "#b8e186"
            ],
            [
             0.8,
             "#7fbc41"
            ],
            [
             0.9,
             "#4d9221"
            ],
            [
             1,
             "#276419"
            ]
           ],
           "sequential": [
            [
             0,
             "#0d0887"
            ],
            [
             0.1111111111111111,
             "#46039f"
            ],
            [
             0.2222222222222222,
             "#7201a8"
            ],
            [
             0.3333333333333333,
             "#9c179e"
            ],
            [
             0.4444444444444444,
             "#bd3786"
            ],
            [
             0.5555555555555556,
             "#d8576b"
            ],
            [
             0.6666666666666666,
             "#ed7953"
            ],
            [
             0.7777777777777778,
             "#fb9f3a"
            ],
            [
             0.8888888888888888,
             "#fdca26"
            ],
            [
             1,
             "#f0f921"
            ]
           ],
           "sequentialminus": [
            [
             0,
             "#0d0887"
            ],
            [
             0.1111111111111111,
             "#46039f"
            ],
            [
             0.2222222222222222,
             "#7201a8"
            ],
            [
             0.3333333333333333,
             "#9c179e"
            ],
            [
             0.4444444444444444,
             "#bd3786"
            ],
            [
             0.5555555555555556,
             "#d8576b"
            ],
            [
             0.6666666666666666,
             "#ed7953"
            ],
            [
             0.7777777777777778,
             "#fb9f3a"
            ],
            [
             0.8888888888888888,
             "#fdca26"
            ],
            [
             1,
             "#f0f921"
            ]
           ]
          },
          "colorway": [
           "#636efa",
           "#EF553B",
           "#00cc96",
           "#ab63fa",
           "#FFA15A",
           "#19d3f3",
           "#FF6692",
           "#B6E880",
           "#FF97FF",
           "#FECB52"
          ],
          "font": {
           "color": "#2a3f5f"
          },
          "geo": {
           "bgcolor": "white",
           "lakecolor": "white",
           "landcolor": "#E5ECF6",
           "showlakes": true,
           "showland": true,
           "subunitcolor": "white"
          },
          "hoverlabel": {
           "align": "left"
          },
          "hovermode": "closest",
          "mapbox": {
           "style": "light"
          },
          "paper_bgcolor": "white",
          "plot_bgcolor": "#E5ECF6",
          "polar": {
           "angularaxis": {
            "gridcolor": "white",
            "linecolor": "white",
            "ticks": ""
           },
           "bgcolor": "#E5ECF6",
           "radialaxis": {
            "gridcolor": "white",
            "linecolor": "white",
            "ticks": ""
           }
          },
          "scene": {
           "xaxis": {
            "backgroundcolor": "#E5ECF6",
            "gridcolor": "white",
            "gridwidth": 2,
            "linecolor": "white",
            "showbackground": true,
            "ticks": "",
            "zerolinecolor": "white"
           },
           "yaxis": {
            "backgroundcolor": "#E5ECF6",
            "gridcolor": "white",
            "gridwidth": 2,
            "linecolor": "white",
            "showbackground": true,
            "ticks": "",
            "zerolinecolor": "white"
           },
           "zaxis": {
            "backgroundcolor": "#E5ECF6",
            "gridcolor": "white",
            "gridwidth": 2,
            "linecolor": "white",
            "showbackground": true,
            "ticks": "",
            "zerolinecolor": "white"
           }
          },
          "shapedefaults": {
           "line": {
            "color": "#2a3f5f"
           }
          },
          "ternary": {
           "aaxis": {
            "gridcolor": "white",
            "linecolor": "white",
            "ticks": ""
           },
           "baxis": {
            "gridcolor": "white",
            "linecolor": "white",
            "ticks": ""
           },
           "bgcolor": "#E5ECF6",
           "caxis": {
            "gridcolor": "white",
            "linecolor": "white",
            "ticks": ""
           }
          },
          "title": {
           "x": 0.05
          },
          "xaxis": {
           "automargin": true,
           "gridcolor": "white",
           "linecolor": "white",
           "ticks": "",
           "title": {
            "standoff": 15
           },
           "zerolinecolor": "white",
           "zerolinewidth": 2
          },
          "yaxis": {
           "automargin": true,
           "gridcolor": "white",
           "linecolor": "white",
           "ticks": "",
           "title": {
            "standoff": 15
           },
           "zerolinecolor": "white",
           "zerolinewidth": 2
          }
         }
        },
        "xaxis": {
         "anchor": "y",
         "autorange": true,
         "domain": [
          0,
          1
         ],
         "range": [
          0,
          260
         ],
         "title": {
          "text": "n_missing_columns"
         },
         "type": "linear"
        },
        "yaxis": {
         "anchor": "x",
         "autorange": true,
         "domain": [
          0,
          1
         ],
         "range": [
          -49491.16666666667,
          940732.1666666666
         ],
         "title": {
          "text": "n_missing_rows"
         },
         "type": "linear"
        }
       }
      },
      "image/png": "[encoded data removed]",
      "text/html": [
       "<div>                            <div id=\"f28b1fae-cfeb-4045-94cd-b3a9a1f83a30\" class=\"plotly-graph-div\" style=\"height:525px; width:100%;\"></div>            <script type=\"text/javascript\">                require([\"plotly\"], function(Plotly) {                    window.PLOTLYENV=window.PLOTLYENV || {};                                    if (document.getElementById(\"f28b1fae-cfeb-4045-94cd-b3a9a1f83a30\")) {                    Plotly.newPlot(                        \"f28b1fae-cfeb-4045-94cd-b3a9a1f83a30\",                        [{\"hovertemplate\":\"n_missing_columns=%{x}<br>n_missing_rows=%{y}<extra></extra>\",\"legendgroup\":\"\",\"line\":{\"color\":\"#636efa\",\"dash\":\"solid\"},\"marker\":{\"symbol\":\"circle\"},\"mode\":\"lines\",\"name\":\"\",\"orientation\":\"v\",\"showlegend\":false,\"x\":[0,1,2,3,4,5,6,7,8,9,10,11,12,13,14,15,16,17,18,19,20,21,22,23,24,25,26,27,28,29,30,31,32,33,34,35,36,37,38,39,40,41,42,43,44,45,46,64,65,66,67,68,69,70,71,72,73,74,75,76,77,78,79,80,81,82,83,84,85,86,87,88,89,90,91,92,93,94,95,96,97,98,99,100,101,102,103,104,105,106,107,109,110,111,112,117,119,120,121,122,123,124,125,126,127,128,129,130,131,132,133,134,135,136,137,138,139,140,141,142,143,144,145,146,147,148,149,150,151,153,154,156,158,160,162,163,182,184,185,186,187,188,189,190,191,192,193,194,195,196,197,198,199,200,201,202,203,204,205,206,207,208,209,210,211,212,213,214,215,216,217,218,219,220,221,222,223,224,225,226,227,228,229,230,231,232,233,234,235,236,237,238,239,240,241,242,244,245,246,247,248,249,250,251,256,257,258,259,260],\"xaxis\":\"x\",\"y\":[20,423,2451,10493,77400,211900,375832,490223,542816,557179,566484,571067,573102,574994,577246,596981,642746,719187,723782,731628,742977,743687,745035,746043,746999,747767,748449,748972,749458,750034,750414,750526,750569,750604,750626,750659,750692,750740,750859,751121,751253,751265,751296,751324,751326,751329,751331,751332,751349,751439,751833,753369,756353,760494,764091,767535,771020,772943,773943,774848,776012,777182,778631,780598,782175,782701,783293,784034,784144,784301,784470,784652,784741,784879,785112,785162,785215,785264,785282,785320,785331,785347,785360,785366,785374,785378,785389,785397,785402,785406,785414,785415,785416,785419,785420,785421,785425,785452,785518,785625,785734,785788,785808,785845,786007,786496,787320,788160,788801,788938,789152,789229,789275,789340,789380,789625,790150,791402,791442,791525,791730,791775,791921,791935,791946,791967,791971,791973,791975,791976,791979,791980,791982,791983,791984,791987,791988,791993,792002,792014,792039,792052,792065,792095,792282,792636,793258,793852,794478,795256,795921,796250,796585,796868,797029,797153,797262,797497,797536,797608,797777,797795,797840,797924,797939,798004,798013,798018,798036,798041,798044,798048,798052,798054,798070,798122,798373,799983,803277,807621,810890,812418,812663,812808,812898,812908,812921,812961,813459,814750,817013,817192,817308,817600,817618,817624,817631,817648,817660,817676,817683,817693,817699,817704,845625,891204,891209,891216,891221],\"yaxis\":\"y\",\"type\":\"scatter\"}],                        {\"template\":{\"data\":{\"bar\":[{\"error_x\":{\"color\":\"#2a3f5f\"},\"error_y\":{\"color\":\"#2a3f5f\"},\"marker\":{\"line\":{\"color\":\"#E5ECF6\",\"width\":0.5},\"pattern\":{\"fillmode\":\"overlay\",\"size\":10,\"solidity\":0.2}},\"type\":\"bar\"}],\"barpolar\":[{\"marker\":{\"line\":{\"color\":\"#E5ECF6\",\"width\":0.5},\"pattern\":{\"fillmode\":\"overlay\",\"size\":10,\"solidity\":0.2}},\"type\":\"barpolar\"}],\"carpet\":[{\"aaxis\":{\"endlinecolor\":\"#2a3f5f\",\"gridcolor\":\"white\",\"linecolor\":\"white\",\"minorgridcolor\":\"white\",\"startlinecolor\":\"#2a3f5f\"},\"baxis\":{\"endlinecolor\":\"#2a3f5f\",\"gridcolor\":\"white\",\"linecolor\":\"white\",\"minorgridcolor\":\"white\",\"startlinecolor\":\"#2a3f5f\"},\"type\":\"carpet\"}],\"choropleth\":[{\"colorbar\":{\"outlinewidth\":0,\"ticks\":\"\"},\"type\":\"choropleth\"}],\"contour\":[{\"colorbar\":{\"outlinewidth\":0,\"ticks\":\"\"},\"colorscale\":[[0.0,\"#0d0887\"],[0.1111111111111111,\"#46039f\"],[0.2222222222222222,\"#7201a8\"],[0.3333333333333333,\"#9c179e\"],[0.4444444444444444,\"#bd3786\"],[0.5555555555555556,\"#d8576b\"],[0.6666666666666666,\"#ed7953\"],[0.7777777777777778,\"#fb9f3a\"],[0.8888888888888888,\"#fdca26\"],[1.0,\"#f0f921\"]],\"type\":\"contour\"}],\"contourcarpet\":[{\"colorbar\":{\"outlinewidth\":0,\"ticks\":\"\"},\"type\":\"contourcarpet\"}],\"heatmap\":[{\"colorbar\":{\"outlinewidth\":0,\"ticks\":\"\"},\"colorscale\":[[0.0,\"#0d0887\"],[0.1111111111111111,\"#46039f\"],[0.2222222222222222,\"#7201a8\"],[0.3333333333333333,\"#9c179e\"],[0.4444444444444444,\"#bd3786\"],[0.5555555555555556,\"#d8576b\"],[0.6666666666666666,\"#ed7953\"],[0.7777777777777778,\"#fb9f3a\"],[0.8888888888888888,\"#fdca26\"],[1.0,\"#f0f921\"]],\"type\":\"heatmap\"}],\"heatmapgl\":[{\"colorbar\":{\"outlinewidth\":0,\"ticks\":\"\"},\"colorscale\":[[0.0,\"#0d0887\"],[0.1111111111111111,\"#46039f\"],[0.2222222222222222,\"#7201a8\"],[0.3333333333333333,\"#9c179e\"],[0.4444444444444444,\"#bd3786\"],[0.5555555555555556,\"#d8576b\"],[0.6666666666666666,\"#ed7953\"],[0.7777777777777778,\"#fb9f3a\"],[0.8888888888888888,\"#fdca26\"],[1.0,\"#f0f921\"]],\"type\":\"heatmapgl\"}],\"histogram\":[{\"marker\":{\"pattern\":{\"fillmode\":\"overlay\",\"size\":10,\"solidity\":0.2}},\"type\":\"histogram\"}],\"histogram2d\":[{\"colorbar\":{\"outlinewidth\":0,\"ticks\":\"\"},\"colorscale\":[[0.0,\"#0d0887\"],[0.1111111111111111,\"#46039f\"],[0.2222222222222222,\"#7201a8\"],[0.3333333333333333,\"#9c179e\"],[0.4444444444444444,\"#bd3786\"],[0.5555555555555556,\"#d8576b\"],[0.6666666666666666,\"#ed7953\"],[0.7777777777777778,\"#fb9f3a\"],[0.8888888888888888,\"#fdca26\"],[1.0,\"#f0f921\"]],\"type\":\"histogram2d\"}],\"histogram2dcontour\":[{\"colorbar\":{\"outlinewidth\":0,\"ticks\":\"\"},\"colorscale\":[[0.0,\"#0d0887\"],[0.1111111111111111,\"#46039f\"],[0.2222222222222222,\"#7201a8\"],[0.3333333333333333,\"#9c179e\"],[0.4444444444444444,\"#bd3786\"],[0.5555555555555556,\"#d8576b\"],[0.6666666666666666,\"#ed7953\"],[0.7777777777777778,\"#fb9f3a\"],[0.8888888888888888,\"#fdca26\"],[1.0,\"#f0f921\"]],\"type\":\"histogram2dcontour\"}],\"mesh3d\":[{\"colorbar\":{\"outlinewidth\":0,\"ticks\":\"\"},\"type\":\"mesh3d\"}],\"parcoords\":[{\"line\":{\"colorbar\":{\"outlinewidth\":0,\"ticks\":\"\"}},\"type\":\"parcoords\"}],\"pie\":[{\"automargin\":true,\"type\":\"pie\"}],\"scatter\":[{\"marker\":{\"colorbar\":{\"outlinewidth\":0,\"ticks\":\"\"}},\"type\":\"scatter\"}],\"scatter3d\":[{\"line\":{\"colorbar\":{\"outlinewidth\":0,\"ticks\":\"\"}},\"marker\":{\"colorbar\":{\"outlinewidth\":0,\"ticks\":\"\"}},\"type\":\"scatter3d\"}],\"scattercarpet\":[{\"marker\":{\"colorbar\":{\"outlinewidth\":0,\"ticks\":\"\"}},\"type\":\"scattercarpet\"}],\"scattergeo\":[{\"marker\":{\"colorbar\":{\"outlinewidth\":0,\"ticks\":\"\"}},\"type\":\"scattergeo\"}],\"scattergl\":[{\"marker\":{\"colorbar\":{\"outlinewidth\":0,\"ticks\":\"\"}},\"type\":\"scattergl\"}],\"scattermapbox\":[{\"marker\":{\"colorbar\":{\"outlinewidth\":0,\"ticks\":\"\"}},\"type\":\"scattermapbox\"}],\"scatterpolar\":[{\"marker\":{\"colorbar\":{\"outlinewidth\":0,\"ticks\":\"\"}},\"type\":\"scatterpolar\"}],\"scatterpolargl\":[{\"marker\":{\"colorbar\":{\"outlinewidth\":0,\"ticks\":\"\"}},\"type\":\"scatterpolargl\"}],\"scatterternary\":[{\"marker\":{\"colorbar\":{\"outlinewidth\":0,\"ticks\":\"\"}},\"type\":\"scatterternary\"}],\"surface\":[{\"colorbar\":{\"outlinewidth\":0,\"ticks\":\"\"},\"colorscale\":[[0.0,\"#0d0887\"],[0.1111111111111111,\"#46039f\"],[0.2222222222222222,\"#7201a8\"],[0.3333333333333333,\"#9c179e\"],[0.4444444444444444,\"#bd3786\"],[0.5555555555555556,\"#d8576b\"],[0.6666666666666666,\"#ed7953\"],[0.7777777777777778,\"#fb9f3a\"],[0.8888888888888888,\"#fdca26\"],[1.0,\"#f0f921\"]],\"type\":\"surface\"}],\"table\":[{\"cells\":{\"fill\":{\"color\":\"#EBF0F8\"},\"line\":{\"color\":\"white\"}},\"header\":{\"fill\":{\"color\":\"#C8D4E3\"},\"line\":{\"color\":\"white\"}},\"type\":\"table\"}]},\"layout\":{\"annotationdefaults\":{\"arrowcolor\":\"#2a3f5f\",\"arrowhead\":0,\"arrowwidth\":1},\"autotypenumbers\":\"strict\",\"coloraxis\":{\"colorbar\":{\"outlinewidth\":0,\"ticks\":\"\"}},\"colorscale\":{\"diverging\":[[0,\"#8e0152\"],[0.1,\"#c51b7d\"],[0.2,\"#de77ae\"],[0.3,\"#f1b6da\"],[0.4,\"#fde0ef\"],[0.5,\"#f7f7f7\"],[0.6,\"#e6f5d0\"],[0.7,\"#b8e186\"],[0.8,\"#7fbc41\"],[0.9,\"#4d9221\"],[1,\"#276419\"]],\"sequential\":[[0.0,\"#0d0887\"],[0.1111111111111111,\"#46039f\"],[0.2222222222222222,\"#7201a8\"],[0.3333333333333333,\"#9c179e\"],[0.4444444444444444,\"#bd3786\"],[0.5555555555555556,\"#d8576b\"],[0.6666666666666666,\"#ed7953\"],[0.7777777777777778,\"#fb9f3a\"],[0.8888888888888888,\"#fdca26\"],[1.0,\"#f0f921\"]],\"sequentialminus\":[[0.0,\"#0d0887\"],[0.1111111111111111,\"#46039f\"],[0.2222222222222222,\"#7201a8\"],[0.3333333333333333,\"#9c179e\"],[0.4444444444444444,\"#bd3786\"],[0.5555555555555556,\"#d8576b\"],[0.6666666666666666,\"#ed7953\"],[0.7777777777777778,\"#fb9f3a\"],[0.8888888888888888,\"#fdca26\"],[1.0,\"#f0f921\"]]},\"colorway\":[\"#636efa\",\"#EF553B\",\"#00cc96\",\"#ab63fa\",\"#FFA15A\",\"#19d3f3\",\"#FF6692\",\"#B6E880\",\"#FF97FF\",\"#FECB52\"],\"font\":{\"color\":\"#2a3f5f\"},\"geo\":{\"bgcolor\":\"white\",\"lakecolor\":\"white\",\"landcolor\":\"#E5ECF6\",\"showlakes\":true,\"showland\":true,\"subunitcolor\":\"white\"},\"hoverlabel\":{\"align\":\"left\"},\"hovermode\":\"closest\",\"mapbox\":{\"style\":\"light\"},\"paper_bgcolor\":\"white\",\"plot_bgcolor\":\"#E5ECF6\",\"polar\":{\"angularaxis\":{\"gridcolor\":\"white\",\"linecolor\":\"white\",\"ticks\":\"\"},\"bgcolor\":\"#E5ECF6\",\"radialaxis\":{\"gridcolor\":\"white\",\"linecolor\":\"white\",\"ticks\":\"\"}},\"scene\":{\"xaxis\":{\"backgroundcolor\":\"#E5ECF6\",\"gridcolor\":\"white\",\"gridwidth\":2,\"linecolor\":\"white\",\"showbackground\":true,\"ticks\":\"\",\"zerolinecolor\":\"white\"},\"yaxis\":{\"backgroundcolor\":\"#E5ECF6\",\"gridcolor\":\"white\",\"gridwidth\":2,\"linecolor\":\"white\",\"showbackground\":true,\"ticks\":\"\",\"zerolinecolor\":\"white\"},\"zaxis\":{\"backgroundcolor\":\"#E5ECF6\",\"gridcolor\":\"white\",\"gridwidth\":2,\"linecolor\":\"white\",\"showbackground\":true,\"ticks\":\"\",\"zerolinecolor\":\"white\"}},\"shapedefaults\":{\"line\":{\"color\":\"#2a3f5f\"}},\"ternary\":{\"aaxis\":{\"gridcolor\":\"white\",\"linecolor\":\"white\",\"ticks\":\"\"},\"baxis\":{\"gridcolor\":\"white\",\"linecolor\":\"white\",\"ticks\":\"\"},\"bgcolor\":\"#E5ECF6\",\"caxis\":{\"gridcolor\":\"white\",\"linecolor\":\"white\",\"ticks\":\"\"}},\"title\":{\"x\":0.05},\"xaxis\":{\"automargin\":true,\"gridcolor\":\"white\",\"linecolor\":\"white\",\"ticks\":\"\",\"title\":{\"standoff\":15},\"zerolinecolor\":\"white\",\"zerolinewidth\":2},\"yaxis\":{\"automargin\":true,\"gridcolor\":\"white\",\"linecolor\":\"white\",\"ticks\":\"\",\"title\":{\"standoff\":15},\"zerolinecolor\":\"white\",\"zerolinewidth\":2}}},\"xaxis\":{\"anchor\":\"y\",\"domain\":[0.0,1.0],\"title\":{\"text\":\"n_missing_columns\"}},\"yaxis\":{\"anchor\":\"x\",\"domain\":[0.0,1.0],\"title\":{\"text\":\"n_missing_rows\"}},\"legend\":{\"tracegroupgap\":0},\"margin\":{\"t\":60}},                        {\"responsive\": true}                    ).then(function(){\n",
       "                            \n",
       "var gd = document.getElementById('f28b1fae-cfeb-4045-94cd-b3a9a1f83a30');\n",
       "var x = new MutationObserver(function (mutations, observer) {{\n",
       "        var display = window.getComputedStyle(gd).display;\n",
       "        if (!display || display === 'none') {{\n",
       "            console.log([gd, 'removed!']);\n",
       "            Plotly.purge(gd);\n",
       "            observer.disconnect();\n",
       "        }}\n",
       "}});\n",
       "\n",
       "// Listen for the removal of the full notebook cells\n",
       "var notebookContainer = gd.closest('#notebook-container');\n",
       "if (notebookContainer) {{\n",
       "    x.observe(notebookContainer, {childList: true});\n",
       "}}\n",
       "\n",
       "// Listen for the clearing of the current output cell\n",
       "var outputEl = gd.closest('.output');\n",
       "if (outputEl) {{\n",
       "    x.observe(outputEl, {childList: true});\n",
       "}}\n",
       "\n",
       "                        })                };                });            </script>        </div>"
      ]
     },
     "metadata": {},
     "output_type": "display_data"
    }
   ],
   "source": [
    "fig = px.line(df_cum_missing, x='n_missing_columns', y='n_missing_rows')\n",
    "fig.show()"
   ]
  },
  {
   "cell_type": "markdown",
   "metadata": {},
   "source": [
    "After 21 trend noramlzies so we can choose 21 for missing rows alimanation"
   ]
  },
  {
   "cell_type": "code",
   "execution_count": null,
   "metadata": {},
   "outputs": [],
   "source": [
    "df_missing_cum = (azdias_null_rows.value_counts().sort_index().cumsum()/len(azdias)) * 100"
   ]
  },
  {
   "cell_type": "code",
   "execution_count": 204,
   "metadata": {},
   "outputs": [],
   "source": [
    "def data_cleaning(df, values, is_test_df=False):\n",
    "    \"\"\" Does basic data cleaning operations like dropping high missing/cardinal/noncommon columns, misssing inputations, dropping missign rows, and most importanly missing transformations\n",
    "    Input:\n",
    "    df - Dataframe to e cleaned\n",
    "    values - values dataframe extracted from DIAS Attributes - Values 2017 excel file\n",
    "    is_test_df  - boolean whether sent df is test df. We shouldn't drop the rows for test dataframe. \n",
    "    \n",
    "    Output:\n",
    "    df_cleaned - clenaed DataFrame\n",
    "    \"\"\"\n",
    "    # copy of df\n",
    "    df_cleaned=df.copy()\n",
    "    \n",
    "    # Missing attributes found in missing anaysis section\n",
    "    lst_missing_attributes_dropped = ['AGER_TYP', 'ALTER_KIND1', 'ALTER_KIND2', 'ALTER_KIND3', 'ALTER_KIND4', 'ALTERSKATEGORIE_FEIN', 'D19_BANKEN_ONLINE_QUOTE_12', 'D19_GESAMT_ONLINE_QUOTE_12', 'D19_KONSUMTYP', 'D19_LETZTER_KAUF_BRANCHE', 'D19_LOTTO', 'D19_SOZIALES', 'D19_TELKO_ONLINE_QUOTE_12', 'D19_VERSAND_ONLINE_QUOTE_12', 'D19_VERSI_ONLINE_QUOTE_12', 'EXTSEL992', 'KK_KUNDENTYP']\n",
    "    # High Cardinal attributes\n",
    "    lst_categorical_attributes_dropped = ['CAMEO_DEU_2015', 'CAMEO_INTL_2015', 'D19_LETZTER_KAUF_BRANCHE', 'EINGEFUEGT_AM']\n",
    "    # Non common attributes\n",
    "    lst_non_common_attributes_dropped = ['CUSTOMER_GROUP', 'ONLINE_PURCHASE', 'PRODUCT_GROUP']\n",
    "    \n",
    "    #UPDATED: drop correlated features\n",
    "    lst_correlated_attributes_dropped = ['ANZ_STATISTISCHE_HAUSHALTE', 'CJT_TYP_2', 'CJT_TYP_3', 'CJT_TYP_4', 'CJT_TYP_5', 'D19_BANKEN_ANZ_24', 'D19_BANKEN_DATUM', 'D19_BANKEN_ONLINE_DATUM', 'D19_GESAMT_ANZ_24', 'D19_GESAMT_DATUM', 'D19_GESAMT_ONLINE_DATUM', 'D19_KONSUMTYP_MAX', 'D19_TELKO_ANZ_24', 'D19_TELKO_DATUM', 'D19_VERSAND_ANZ_12', 'D19_VERSAND_ANZ_24', 'D19_VERSAND_DATUM', 'D19_VERSAND_OFFLINE_DATUM', 'D19_VERSAND_ONLINE_DATUM', 'D19_VERSI_ANZ_24', 'D19_VERSI_DATUM', 'FINANZ_SPARER', 'FINANZ_UNAUFFAELLIGER', 'FINANZ_VORSORGER', 'GEBAEUDETYP_RASTER', 'GEMEINDETYP', 'INNENSTADT', 'KBA05_AUTOQUOT', 'KBA05_KRSAQUOT', 'KBA05_KRSHERST1', 'KBA05_KRSHERST2', 'KBA05_KRSHERST3', 'KBA05_KRSKLEIN', 'KBA05_KRSVAN', 'KBA05_KRSZUL', 'KBA05_KW1', 'KBA05_KW3', 'KBA05_MAXAH', 'KBA05_MOD1', 'KBA05_MOD4', 'KBA05_MOD8', 'KBA05_MOTOR', 'KBA05_SEG1', 'KBA05_SEG10', 'KBA05_SEG2', 'KBA05_SEG3', 'KBA05_SEG4', 'KBA05_SEG5', 'KBA05_SEG6', 'KBA05_SEG7', 'KBA05_SEG8', 'KBA05_SEG9', 'KBA05_ZUL4', 'KBA13_ANTG3', 'KBA13_ANTG4', 'KBA13_BAUMAX', 'KBA13_BJ_2000', 'KBA13_BJ_2006', 'KBA13_GBZ', 'KBA13_HALTER_25', 'KBA13_HALTER_30', 'KBA13_HALTER_35', 'KBA13_HALTER_40', 'KBA13_HALTER_50', 'KBA13_HALTER_55', 'KBA13_HALTER_66', 'KBA13_HERST_BMW_BENZ', 'KBA13_HERST_SONST', 'KBA13_HHZ', 'KBA13_KMH_140', 'KBA13_KMH_211', 'KBA13_KMH_250', 'KBA13_KRSHERST_FORD_OPEL', 'KBA13_KW_30', 'KBA13_KW_61_120', 'KBA13_MERCEDES', 'KBA13_OPEL', 'KBA13_SEG_KLEINWAGEN', 'KBA13_SEG_MINIVANS', 'KBA13_SEG_VAN', 'KBA13_SITZE_5', 'KBA13_VORB_1', 'KBA13_VORB_2', 'KBA13_VW', 'KONSUMZELLE', 'LP_FAMILIE_FEIN', 'LP_FAMILIE_GROB', 'LP_LEBENSPHASE_FEIN', 'LP_LEBENSPHASE_GROB', 'LP_STATUS_FEIN', 'LP_STATUS_GROB', 'MOBI_REGIO', 'ONLINE_AFFINITAET', 'ORTSGR_KLS9', 'PLZ8_ANTG1', 'PLZ8_ANTG2', 'PLZ8_ANTG3', 'PLZ8_ANTG4', 'PLZ8_BAUMAX', 'PLZ8_GBZ', 'PLZ8_HHZ', 'PRAEGENDE_JUGENDJAHRE', 'REGIOTYP', 'SEMIO_KAEM', 'SEMIO_KULT', 'SEMIO_REL', 'SEMIO_VERT','STRUKTURTYP', 'VK_DHT4A', 'VK_DISTANZ', 'VK_ZG11', 'WOHNDAUER_2008','ANREDE_KZ', 'ALTERSKATEGORIE_GROB']\n",
    "    \n",
    "    lst_attributes_dropped = []\n",
    "    lst_attributes_dropped.extend(set(lst_missing_attributes_dropped))\n",
    "    lst_attributes_dropped.extend(set(lst_categorical_attributes_dropped))\n",
    "    lst_attributes_dropped.extend(set(lst_non_common_attributes_dropped))\n",
    "    lst_attributes_dropped.extend(set(lst_correlated_attributes_dropped))\n",
    "    lst_attributes_dropped = [x for x in lst_attributes_dropped if x in df_cleaned.columns]\n",
    "    print('Number of attributes to be dropped:', len(lst_attributes_dropped))\n",
    "    # drop columns\n",
    "    df_cleaned.drop(lst_attributes_dropped, axis=1, inplace=True)\n",
    "    \n",
    "    #encode OST_WEST_KZ\n",
    "    df_cleaned['OST_WEST_KZ'] = df_cleaned['OST_WEST_KZ'].map({'W': 1, 'O': 2})\n",
    "    df_cleaned['OST_WEST_KZ'] = df_cleaned['OST_WEST_KZ'].astype(str)\n",
    "    df_cleaned['CAMEO_DEUG_2015'] = df_cleaned['CAMEO_DEUG_2015'].astype(str)\n",
    "    \n",
    "    \n",
    "    #convert special values to np.nan\n",
    "    dict_missing_values = values[values['Meaning'] == 'unknown'][['Attribute', 'Value']].set_index('Attribute').T.to_dict(orient='list')\n",
    "    for key, value in dict_missing_values.items():\n",
    "        try:\n",
    "            df_cleaned[key].replace(dict_missing_values[key], np.nan, inplace=True)\n",
    "        except:\n",
    "            continue\n",
    "            \n",
    "\n",
    "            \n",
    "    #Drop missing rows if they have missing column more than 21\n",
    "    if is_test_df==False:\n",
    "        rows_dropped = sum(df_cleaned.isnull().sum(axis=1) > 21)\n",
    "        df_cleaned = df_cleaned[df_cleaned.isnull().sum(axis=1) <= 21]\n",
    "    else:\n",
    "        rows_dropped = 0\n",
    "    print('Number of rows to be dropped:', rows_dropped)\n",
    "            \n",
    "    return df_cleaned\n",
    "    \n",
    "    "
   ]
  },
  {
   "cell_type": "code",
   "execution_count": 16,
   "metadata": {},
   "outputs": [
    {
     "name": "stdout",
     "output_type": "stream",
     "text": [
      "Number of attributes to be dropped: 135\n",
      "Number of rows to be dropped: 139890\n"
     ]
    }
   ],
   "source": [
    "azdias_cleaned = data_cleaning(azdias, values)"
   ]
  },
  {
   "cell_type": "markdown",
   "metadata": {},
   "source": [
    "<a id='part1'></a>\n",
    "## Part 1: Customer Segmentation Report\n",
    "\n",
    "In this part we will use unsupervised learning techniques to describe the relationship between the demographics of the company's existing customers and the general population of Germany. By the end of this part, we will be able to describe parts of the general population that are more likely to be part of the mail-order company's main customer base, and which parts of the general population are less so.\n",
    "\n",
    "To be able to compare 2 population, we need to apply clustering algorithms. Technically, we need to do missing imputations and feature standardization before applying the clusturing algorithm. Also, we have many features in our dataset. PCA is going to help us to reduce the number of features of our data. \n",
    "\n",
    "Let's start with feature imputation and standartization\n"
   ]
  },
  {
   "cell_type": "markdown",
   "metadata": {},
   "source": [
    "## Part 1.1:Feature Imputation/Standartization\n",
    "\n",
    "**Binary** : we need to determine 2 value features. We can assing missing values as most popular value.\n",
    "\n",
    "**Categorical** : we need to do one-hot enconding to convert categorical to binary features\n",
    "\n",
    "**Numerical** : we can use median value to impute missing values to overcome outliers effects.\n",
    "\n"
   ]
  },
  {
   "cell_type": "code",
   "execution_count": 21,
   "metadata": {},
   "outputs": [
    {
     "data": {
      "text/html": [
       "<div>\n",
       "<style scoped>\n",
       "    .dataframe tbody tr th:only-of-type {\n",
       "        vertical-align: middle;\n",
       "    }\n",
       "\n",
       "    .dataframe tbody tr th {\n",
       "        vertical-align: top;\n",
       "    }\n",
       "\n",
       "    .dataframe thead th {\n",
       "        text-align: right;\n",
       "    }\n",
       "</style>\n",
       "<table border=\"1\" class=\"dataframe\">\n",
       "  <thead>\n",
       "    <tr style=\"text-align: right;\">\n",
       "      <th></th>\n",
       "      <th>index</th>\n",
       "    </tr>\n",
       "    <tr>\n",
       "      <th>0</th>\n",
       "      <th></th>\n",
       "    </tr>\n",
       "  </thead>\n",
       "  <tbody>\n",
       "    <tr>\n",
       "      <th>int64</th>\n",
       "      <td>63</td>\n",
       "    </tr>\n",
       "    <tr>\n",
       "      <th>float64</th>\n",
       "      <td>167</td>\n",
       "    </tr>\n",
       "    <tr>\n",
       "      <th>object</th>\n",
       "      <td>2</td>\n",
       "    </tr>\n",
       "  </tbody>\n",
       "</table>\n",
       "</div>"
      ],
      "text/plain": [
       "         index\n",
       "0             \n",
       "int64       63\n",
       "float64    167\n",
       "object       2"
      ]
     },
     "execution_count": 21,
     "metadata": {},
     "output_type": "execute_result"
    }
   ],
   "source": [
    "azdias_cleaned.dtypes.reset_index().groupby(0).count()"
   ]
  },
  {
   "cell_type": "code",
   "execution_count": 20,
   "metadata": {},
   "outputs": [
    {
     "data": {
      "text/plain": [
       "['DSL_FLAG',\n",
       " 'GREEN_AVANTGARDE',\n",
       " 'HH_DELTA_FLAG',\n",
       " 'SOHO_KZ',\n",
       " 'UNGLEICHENN_FLAG',\n",
       " 'VERS_TYP']"
      ]
     },
     "execution_count": 20,
     "metadata": {},
     "output_type": "execute_result"
    }
   ],
   "source": [
    "#Binary features\n",
    "numeric_cols = azdias_cleaned.select_dtypes(['float64', 'int64']).columns\n",
    "\n",
    "binary_cols = []\n",
    "for col in numeric_cols:\n",
    "    n_unique = azdias_cleaned[col].dropna().nunique()\n",
    "    if n_unique == 2:\n",
    "        binary_cols.append(col)\n",
    "        \n",
    "binary_cols"
   ]
  },
  {
   "cell_type": "code",
   "execution_count": 22,
   "metadata": {},
   "outputs": [],
   "source": [
    "# Transform-impute Pipeline\n",
    "binary_pipeline = Pipeline([('bin_impute', SimpleImputer(missing_values=np.nan, strategy='most_frequent'))])"
   ]
  },
  {
   "cell_type": "code",
   "execution_count": 23,
   "metadata": {},
   "outputs": [
    {
     "data": {
      "text/plain": [
       "['CAMEO_DEUG_2015', 'OST_WEST_KZ']"
      ]
     },
     "execution_count": 23,
     "metadata": {},
     "output_type": "execute_result"
    }
   ],
   "source": [
    "# categorical features\n",
    "categorical_cols = list(azdias_cleaned.select_dtypes(['object']).columns)\n",
    "categorical_cols"
   ]
  },
  {
   "cell_type": "code",
   "execution_count": 24,
   "metadata": {},
   "outputs": [],
   "source": [
    "# Transform-impute Pipeline\n",
    "categorical_pipeline = Pipeline([\n",
    "    ('bin_impute', SimpleImputer(missing_values=np.nan, strategy='most_frequent')),\n",
    "    ('onehot', OneHotEncoder(handle_unknown='ignore'))\n",
    "])"
   ]
  },
  {
   "cell_type": "code",
   "execution_count": 25,
   "metadata": {},
   "outputs": [
    {
     "data": {
      "text/plain": [
       "224"
      ]
     },
     "execution_count": 25,
     "metadata": {},
     "output_type": "execute_result"
    }
   ],
   "source": [
    "# Numerical features\n",
    "numerical_cols = list(set(azdias_cleaned.columns) - set(binary_cols) - set(categorical_cols))\n",
    "len(numerical_cols)"
   ]
  },
  {
   "cell_type": "code",
   "execution_count": 26,
   "metadata": {},
   "outputs": [],
   "source": [
    "# Transform-impute Pipeline\n",
    "numerical_pipeline = Pipeline([\n",
    "    ('num_impute', SimpleImputer(missing_values=np.nan, strategy='median')),\n",
    "    ('num_scale', StandardScaler())\n",
    "])"
   ]
  },
  {
   "cell_type": "markdown",
   "metadata": {},
   "source": [
    "### Combine Pipelines"
   ]
  },
  {
   "cell_type": "code",
   "execution_count": 27,
   "metadata": {},
   "outputs": [
    {
     "data": {
      "text/html": [
       "<div>\n",
       "<style scoped>\n",
       "    .dataframe tbody tr th:only-of-type {\n",
       "        vertical-align: middle;\n",
       "    }\n",
       "\n",
       "    .dataframe tbody tr th {\n",
       "        vertical-align: top;\n",
       "    }\n",
       "\n",
       "    .dataframe thead th {\n",
       "        text-align: right;\n",
       "    }\n",
       "</style>\n",
       "<table border=\"1\" class=\"dataframe\">\n",
       "  <thead>\n",
       "    <tr style=\"text-align: right;\">\n",
       "      <th></th>\n",
       "      <th>CAMEO_DEUG_2015</th>\n",
       "      <th>OST_WEST_KZ</th>\n",
       "    </tr>\n",
       "  </thead>\n",
       "  <tbody>\n",
       "    <tr>\n",
       "      <th>1</th>\n",
       "      <td>8.0</td>\n",
       "      <td>1.0</td>\n",
       "    </tr>\n",
       "    <tr>\n",
       "      <th>2</th>\n",
       "      <td>4.0</td>\n",
       "      <td>1.0</td>\n",
       "    </tr>\n",
       "    <tr>\n",
       "      <th>3</th>\n",
       "      <td>2.0</td>\n",
       "      <td>1.0</td>\n",
       "    </tr>\n",
       "    <tr>\n",
       "      <th>4</th>\n",
       "      <td>6.0</td>\n",
       "      <td>1.0</td>\n",
       "    </tr>\n",
       "    <tr>\n",
       "      <th>5</th>\n",
       "      <td>8.0</td>\n",
       "      <td>1.0</td>\n",
       "    </tr>\n",
       "  </tbody>\n",
       "</table>\n",
       "</div>"
      ],
      "text/plain": [
       "  CAMEO_DEUG_2015 OST_WEST_KZ\n",
       "1             8.0         1.0\n",
       "2             4.0         1.0\n",
       "3             2.0         1.0\n",
       "4             6.0         1.0\n",
       "5             8.0         1.0"
      ]
     },
     "execution_count": 27,
     "metadata": {},
     "output_type": "execute_result"
    }
   ],
   "source": [
    "azdias_cleaned[categorical_cols].head()"
   ]
  },
  {
   "cell_type": "code",
   "execution_count": 28,
   "metadata": {},
   "outputs": [],
   "source": [
    "transformers = [('binary', binary_pipeline, binary_cols),\n",
    "               ('categorical', categorical_pipeline, categorical_cols),\n",
    "               ('numerical', numerical_pipeline, numerical_cols)]\n",
    "\n",
    "column_transformer = ColumnTransformer(transformers = transformers)"
   ]
  },
  {
   "cell_type": "code",
   "execution_count": null,
   "metadata": {},
   "outputs": [],
   "source": [
    "azdias_transformed = column_transformer.fit_transform(azdias_cleaned)"
   ]
  },
  {
   "cell_type": "markdown",
   "metadata": {},
   "source": [
    "***SOS:*** I am facing with memory issue while doing transformation because we have many features. I will drop correlated features which means that they have similiar meaning. Lookign at correlation is gonna also take so long but it is important that we gonna do that only once however for transformation or pca or other algorithms we need to deal with these attributes multiple times. So It will improve our performance on the overall.\n",
    "\n"
   ]
  },
  {
   "cell_type": "code",
   "execution_count": 13,
   "metadata": {},
   "outputs": [
    {
     "name": "stderr",
     "output_type": "stream",
     "text": [
      "/var/folders/qq/dtt36pfs05b4gm5l8vjdk1bc0000gn/T/ipykernel_94728/979051576.py:3: DeprecationWarning: `np.bool` is a deprecated alias for the builtin `bool`. To silence this warning, use `bool` by itself. Doing this will not modify any behavior and is safe. If you specifically wanted the numpy scalar type, use `np.bool_` here.\n",
      "Deprecated in NumPy 1.20; for more details and guidance: https://numpy.org/devdocs/release/1.20.0-notes.html#deprecations\n",
      "  upper_limit = corr_matrix.where(np.triu(np.ones(corr_matrix.shape), k=1).astype(np.bool))\n"
     ]
    }
   ],
   "source": [
    "# find correlation matrix    \n",
    "corr_matrix = azdias_cleaned.corr().abs()\n",
    "upper_limit = corr_matrix.where(np.triu(np.ones(corr_matrix.shape), k=1).astype(np.bool))\n",
    "\n",
    "# identify columns to drop based on threshold limit\n",
    "drop_correlated_columns = [column for column in upper_limit.columns if any(upper_limit[column] > .7)]"
   ]
  },
  {
   "cell_type": "code",
   "execution_count": 14,
   "metadata": {
    "collapsed": true,
    "jupyter": {
     "outputs_hidden": true
    },
    "tags": []
   },
   "outputs": [
    {
     "data": {
      "text/plain": [
       "['ANZ_STATISTISCHE_HAUSHALTE',\n",
       " 'CJT_TYP_2',\n",
       " 'CJT_TYP_3',\n",
       " 'CJT_TYP_4',\n",
       " 'CJT_TYP_5',\n",
       " 'D19_BANKEN_ANZ_24',\n",
       " 'D19_BANKEN_DATUM',\n",
       " 'D19_BANKEN_ONLINE_DATUM',\n",
       " 'D19_GESAMT_ANZ_24',\n",
       " 'D19_GESAMT_DATUM',\n",
       " 'D19_GESAMT_ONLINE_DATUM',\n",
       " 'D19_KONSUMTYP_MAX',\n",
       " 'D19_TELKO_ANZ_24',\n",
       " 'D19_TELKO_DATUM',\n",
       " 'D19_VERSAND_ANZ_12',\n",
       " 'D19_VERSAND_ANZ_24',\n",
       " 'D19_VERSAND_DATUM',\n",
       " 'D19_VERSAND_OFFLINE_DATUM',\n",
       " 'D19_VERSAND_ONLINE_DATUM',\n",
       " 'D19_VERSI_ANZ_24',\n",
       " 'D19_VERSI_DATUM',\n",
       " 'FINANZ_SPARER',\n",
       " 'FINANZ_UNAUFFAELLIGER',\n",
       " 'FINANZ_VORSORGER',\n",
       " 'GEBAEUDETYP_RASTER',\n",
       " 'GEMEINDETYP',\n",
       " 'INNENSTADT',\n",
       " 'KBA05_AUTOQUOT',\n",
       " 'KBA05_KRSAQUOT',\n",
       " 'KBA05_KRSHERST1',\n",
       " 'KBA05_KRSHERST2',\n",
       " 'KBA05_KRSHERST3',\n",
       " 'KBA05_KRSKLEIN',\n",
       " 'KBA05_KRSVAN',\n",
       " 'KBA05_KRSZUL',\n",
       " 'KBA05_KW1',\n",
       " 'KBA05_KW3',\n",
       " 'KBA05_MAXAH',\n",
       " 'KBA05_MOD1',\n",
       " 'KBA05_MOD4',\n",
       " 'KBA05_MOD8',\n",
       " 'KBA05_MOTOR',\n",
       " 'KBA05_SEG1',\n",
       " 'KBA05_SEG10',\n",
       " 'KBA05_SEG2',\n",
       " 'KBA05_SEG3',\n",
       " 'KBA05_SEG4',\n",
       " 'KBA05_SEG5',\n",
       " 'KBA05_SEG6',\n",
       " 'KBA05_SEG7',\n",
       " 'KBA05_SEG8',\n",
       " 'KBA05_SEG9',\n",
       " 'KBA05_ZUL4',\n",
       " 'KBA13_ANTG3',\n",
       " 'KBA13_ANTG4',\n",
       " 'KBA13_BAUMAX',\n",
       " 'KBA13_BJ_2000',\n",
       " 'KBA13_BJ_2006',\n",
       " 'KBA13_GBZ',\n",
       " 'KBA13_HALTER_25',\n",
       " 'KBA13_HALTER_30',\n",
       " 'KBA13_HALTER_35',\n",
       " 'KBA13_HALTER_40',\n",
       " 'KBA13_HALTER_50',\n",
       " 'KBA13_HALTER_55',\n",
       " 'KBA13_HALTER_66',\n",
       " 'KBA13_HERST_BMW_BENZ',\n",
       " 'KBA13_HERST_SONST',\n",
       " 'KBA13_HHZ',\n",
       " 'KBA13_KMH_140',\n",
       " 'KBA13_KMH_211',\n",
       " 'KBA13_KMH_250',\n",
       " 'KBA13_KRSHERST_FORD_OPEL',\n",
       " 'KBA13_KW_30',\n",
       " 'KBA13_KW_61_120',\n",
       " 'KBA13_MERCEDES',\n",
       " 'KBA13_OPEL',\n",
       " 'KBA13_SEG_KLEINWAGEN',\n",
       " 'KBA13_SEG_MINIVANS',\n",
       " 'KBA13_SEG_VAN',\n",
       " 'KBA13_SITZE_5',\n",
       " 'KBA13_VORB_1',\n",
       " 'KBA13_VORB_2',\n",
       " 'KBA13_VW',\n",
       " 'KONSUMZELLE',\n",
       " 'LP_FAMILIE_FEIN',\n",
       " 'LP_FAMILIE_GROB',\n",
       " 'LP_LEBENSPHASE_FEIN',\n",
       " 'LP_LEBENSPHASE_GROB',\n",
       " 'LP_STATUS_FEIN',\n",
       " 'LP_STATUS_GROB',\n",
       " 'MOBI_REGIO',\n",
       " 'ONLINE_AFFINITAET',\n",
       " 'ORTSGR_KLS9',\n",
       " 'PLZ8_ANTG1',\n",
       " 'PLZ8_ANTG2',\n",
       " 'PLZ8_ANTG3',\n",
       " 'PLZ8_ANTG4',\n",
       " 'PLZ8_BAUMAX',\n",
       " 'PLZ8_GBZ',\n",
       " 'PLZ8_HHZ',\n",
       " 'PRAEGENDE_JUGENDJAHRE',\n",
       " 'REGIOTYP',\n",
       " 'SEMIO_KAEM',\n",
       " 'SEMIO_KULT',\n",
       " 'SEMIO_REL',\n",
       " 'SEMIO_VERT',\n",
       " 'STRUKTURTYP',\n",
       " 'VK_DHT4A',\n",
       " 'VK_DISTANZ',\n",
       " 'VK_ZG11',\n",
       " 'WOHNDAUER_2008',\n",
       " 'ANREDE_KZ',\n",
       " 'ALTERSKATEGORIE_GROB']"
      ]
     },
     "execution_count": 14,
     "metadata": {},
     "output_type": "execute_result"
    }
   ],
   "source": [
    "drop_correlated_columns"
   ]
  },
  {
   "cell_type": "markdown",
   "metadata": {},
   "source": [
    "Let's update cleaning function then try transformation again."
   ]
  },
  {
   "cell_type": "code",
   "execution_count": 29,
   "metadata": {},
   "outputs": [],
   "source": [
    "azdias_transformed = column_transformer.fit_transform(azdias_cleaned)"
   ]
  },
  {
   "cell_type": "code",
   "execution_count": 146,
   "metadata": {},
   "outputs": [
    {
     "data": {
      "text/plain": [
       "Pipeline(steps=[('num_impute', SimpleImputer(strategy='median')),\n",
       "                ('num_scale', StandardScaler())])"
      ]
     },
     "execution_count": 146,
     "metadata": {},
     "output_type": "execute_result"
    }
   ],
   "source": [
    "column_transformer.transformers_[2][1]"
   ]
  },
  {
   "cell_type": "markdown",
   "metadata": {},
   "source": [
    "## Part 1.2:PCA\n",
    "\n",
    "We have transformed data, we can contine with PCA. PCA takes columns that are very related to each other and re-engineers new columns that better describe the relationships of our columns with one another. These new columns are Principal Components, and we can use any given number of these components for analysis.\n",
    "\n"
   ]
  },
  {
   "cell_type": "code",
   "execution_count": 30,
   "metadata": {},
   "outputs": [],
   "source": [
    "# Fit PCA object\n",
    "pca = PCA().fit(azdias_transformed)"
   ]
  },
  {
   "cell_type": "code",
   "execution_count": 32,
   "metadata": {},
   "outputs": [
    {
     "data": {
      "image/png": "[encoded data removed]",
      "text/plain": [
       "<Figure size 432x288 with 1 Axes>"
      ]
     },
     "metadata": {
      "needs_background": "light"
     },
     "output_type": "display_data"
    }
   ],
   "source": [
    "# Plot scree plot\n",
    "plt.plot(np.cumsum(pca.explained_variance_ratio_))\n",
    "plt.xlabel('number of components')\n",
    "plt.ylabel('cumulative explained variance')\n",
    "plt.show()"
   ]
  },
  {
   "cell_type": "code",
   "execution_count": 33,
   "metadata": {},
   "outputs": [
    {
     "name": "stdout",
     "output_type": "stream",
     "text": [
      "95% threshold of variance explained by 173 components.\n"
     ]
    }
   ],
   "source": [
    "cum_variance = pd.DataFrame(np.cumsum(pca.explained_variance_ratio_), columns=['cumulative_variance'])\n",
    "cum_variance.set_index(cum_variance.index+1, inplace=True)\n",
    "\n",
    "print('95% threshold of variance explained by {} components.'.format(cum_variance[cum_variance['cumulative_variance']>.95].index[0]))"
   ]
  },
  {
   "cell_type": "markdown",
   "metadata": {},
   "source": [
    "173 component seems a bit high. Let's play arround with the numbers."
   ]
  },
  {
   "cell_type": "code",
   "execution_count": 35,
   "metadata": {},
   "outputs": [
    {
     "name": "stdout",
     "output_type": "stream",
     "text": [
      "85% threshold of variance explained by 123 components.\n"
     ]
    }
   ],
   "source": [
    "print('85% threshold of variance explained by {} components.'.format(cum_variance[cum_variance['cumulative_variance']>.85].index[0]))"
   ]
  },
  {
   "cell_type": "code",
   "execution_count": 36,
   "metadata": {},
   "outputs": [
    {
     "name": "stdout",
     "output_type": "stream",
     "text": [
      "80% threshold of variance explained by 105 components.\n"
     ]
    }
   ],
   "source": [
    "print('80% threshold of variance explained by {} components.'.format(cum_variance[cum_variance['cumulative_variance']>.80].index[0]))"
   ]
  },
  {
   "cell_type": "code",
   "execution_count": 37,
   "metadata": {},
   "outputs": [
    {
     "name": "stdout",
     "output_type": "stream",
     "text": [
      "70% threshold of variance explained by 75 components.\n"
     ]
    }
   ],
   "source": [
    "print('70% threshold of variance explained by {} components.'.format(cum_variance[cum_variance['cumulative_variance']>.70].index[0]))"
   ]
  },
  {
   "cell_type": "markdown",
   "metadata": {},
   "source": [
    "79% variance a bit low, so we can contunie with 85% variance which hits 123 components."
   ]
  },
  {
   "cell_type": "code",
   "execution_count": 39,
   "metadata": {},
   "outputs": [],
   "source": [
    "pca = PCA(n_components=123).fit(azdias_transformed)\n",
    "azdias_reduced = pd.DataFrame(pca.transform(azdias_transformed))"
   ]
  },
  {
   "cell_type": "code",
   "execution_count": 100,
   "metadata": {},
   "outputs": [],
   "source": [
    "def pca_top_5_feature(pca, feat_names, dim, infos):\n",
    "    \"\"\" Shows top 5 important features with explanaions for desired PCA object and the given component\n",
    "    input:\n",
    "    pca - PCA object\n",
    "    feat_names - list feature names\n",
    "    dim : component number\n",
    "    \n",
    "    \"\"\"\n",
    "\n",
    "    fmt = lambda x: \"{:.2f}%\".format(x)\n",
    "    sort_abs = lambda x: abs(x[0])\n",
    "\n",
    "    names_to_weights = sorted(zip(pca.components_[dim],feat_names),key=sort_abs,reverse=True)\n",
    "    names_to_weights = np.array(names_to_weights)\n",
    "    importancy_df = pd.DataFrame(names_to_weights,columns=['variance','feature'])\n",
    "    importancy_df['variance'] = importancy_df['variance'].astype(float)\n",
    "    importancy_df['abs_variance'] = abs(importancy_df['variance'])\n",
    "    importancy_df = importancy_df.sort_values(by='variance', ascending=False).head(5)\n",
    "    description = infos[infos['Attribute'].isin(importancy_df.feature)]\n",
    "    importancy_df = importancy_df.merge(description, how='left', left_on='feature', right_on='Attribute')\n",
    "    \n",
    "    return importancy_df"
   ]
  },
  {
   "cell_type": "code",
   "execution_count": 101,
   "metadata": {},
   "outputs": [
    {
     "data": {
      "text/html": [
       "<div>\n",
       "<style scoped>\n",
       "    .dataframe tbody tr th:only-of-type {\n",
       "        vertical-align: middle;\n",
       "    }\n",
       "\n",
       "    .dataframe tbody tr th {\n",
       "        vertical-align: top;\n",
       "    }\n",
       "\n",
       "    .dataframe thead th {\n",
       "        text-align: right;\n",
       "    }\n",
       "</style>\n",
       "<table border=\"1\" class=\"dataframe\">\n",
       "  <thead>\n",
       "    <tr style=\"text-align: right;\">\n",
       "      <th></th>\n",
       "      <th>Information level</th>\n",
       "      <th>Attribute</th>\n",
       "      <th>Description</th>\n",
       "      <th>Additional notes</th>\n",
       "    </tr>\n",
       "  </thead>\n",
       "  <tbody>\n",
       "    <tr>\n",
       "      <th>0</th>\n",
       "      <td>NaN</td>\n",
       "      <td>AGER_TYP</td>\n",
       "      <td>best-ager typology</td>\n",
       "      <td>in cooperation with Kantar TNS; the information basis is a consumer survey</td>\n",
       "    </tr>\n",
       "    <tr>\n",
       "      <th>1</th>\n",
       "      <td>Person</td>\n",
       "      <td>ALTERSKATEGORIE_GROB</td>\n",
       "      <td>age through prename analysis</td>\n",
       "      <td>modelled on millions of first name-age-reference data</td>\n",
       "    </tr>\n",
       "    <tr>\n",
       "      <th>2</th>\n",
       "      <td>Person</td>\n",
       "      <td>ANREDE_KZ</td>\n",
       "      <td>gender</td>\n",
       "      <td>modelled on millions of first name-age-reference data</td>\n",
       "    </tr>\n",
       "    <tr>\n",
       "      <th>3</th>\n",
       "      <td>Person</td>\n",
       "      <td>CJT_GESAMTTYP</td>\n",
       "      <td>Customer-Journey-Typology relating to the preferred information and buying channels of consumers</td>\n",
       "      <td>relating to the preferred information, marketing and buying channels of consumers as well as their cross-channel usage. The information basis is a survey on the consumer channel preferences combined via a statistical modell with AZ DIAS data</td>\n",
       "    </tr>\n",
       "    <tr>\n",
       "      <th>4</th>\n",
       "      <td>Person</td>\n",
       "      <td>FINANZ_MINIMALIST</td>\n",
       "      <td>financial typology: low financial interest</td>\n",
       "      <td>Gfk-Typology based on a representative household panel combined via a statistical modell with AZ DIAS data</td>\n",
       "    </tr>\n",
       "  </tbody>\n",
       "</table>\n",
       "</div>"
      ],
      "text/plain": [
       "  Information level             Attribute  \\\n",
       "0               NaN              AGER_TYP   \n",
       "1            Person  ALTERSKATEGORIE_GROB   \n",
       "2            Person             ANREDE_KZ   \n",
       "3            Person         CJT_GESAMTTYP   \n",
       "4            Person     FINANZ_MINIMALIST   \n",
       "\n",
       "                                                                                        Description  \\\n",
       "0                                                                                best-ager typology   \n",
       "1                                                                     age through prename analysis    \n",
       "2                                                                                            gender   \n",
       "3  Customer-Journey-Typology relating to the preferred information and buying channels of consumers   \n",
       "4                                                        financial typology: low financial interest   \n",
       "\n",
       "                                                                                                                                                                                                                                    Additional notes  \n",
       "0                                                                                                                                                                         in cooperation with Kantar TNS; the information basis is a consumer survey  \n",
       "1                                                                                                                                                                                            modelled on millions of first name-age-reference data    \n",
       "2                                                                                                                                                                                            modelled on millions of first name-age-reference data    \n",
       "3  relating to the preferred information, marketing and buying channels of consumers as well as their cross-channel usage. The information basis is a survey on the consumer channel preferences combined via a statistical modell with AZ DIAS data  \n",
       "4                                                                                                                                        Gfk-Typology based on a representative household panel combined via a statistical modell with AZ DIAS data   "
      ]
     },
     "execution_count": 101,
     "metadata": {},
     "output_type": "execute_result"
    }
   ],
   "source": [
    "infos.head()"
   ]
  },
  {
   "cell_type": "markdown",
   "metadata": {},
   "source": [
    "### Component 1\n",
    "\n",
    "Component 1 explains the most variance\n",
    "This component mostly related with cars"
   ]
  },
  {
   "cell_type": "code",
   "execution_count": 107,
   "metadata": {},
   "outputs": [
    {
     "data": {
      "text/html": [
       "<div>\n",
       "<style scoped>\n",
       "    .dataframe tbody tr th:only-of-type {\n",
       "        vertical-align: middle;\n",
       "    }\n",
       "\n",
       "    .dataframe tbody tr th {\n",
       "        vertical-align: top;\n",
       "    }\n",
       "\n",
       "    .dataframe thead th {\n",
       "        text-align: right;\n",
       "    }\n",
       "</style>\n",
       "<table border=\"1\" class=\"dataframe\">\n",
       "  <thead>\n",
       "    <tr style=\"text-align: right;\">\n",
       "      <th></th>\n",
       "      <th>variance</th>\n",
       "      <th>feature</th>\n",
       "      <th>abs_variance</th>\n",
       "      <th>Information level</th>\n",
       "      <th>Attribute</th>\n",
       "      <th>Description</th>\n",
       "      <th>Additional notes</th>\n",
       "    </tr>\n",
       "  </thead>\n",
       "  <tbody>\n",
       "    <tr>\n",
       "      <th>0</th>\n",
       "      <td>0.162941</td>\n",
       "      <td>KBA13_SEG_MINIWAGEN</td>\n",
       "      <td>0.162941</td>\n",
       "      <td>PLZ8</td>\n",
       "      <td>KBA13_SEG_MINIWAGEN</td>\n",
       "      <td>share of minicars within the PLZ8</td>\n",
       "      <td>modelled on different AZ DIAS data</td>\n",
       "    </tr>\n",
       "    <tr>\n",
       "      <th>1</th>\n",
       "      <td>0.137401</td>\n",
       "      <td>KBA13_KW_40</td>\n",
       "      <td>0.137401</td>\n",
       "      <td>PLZ8</td>\n",
       "      <td>KBA13_KW_40</td>\n",
       "      <td>share of cars with an engine power between 31 and 40 KW - PLZ8</td>\n",
       "      <td>modelled on different AZ DIAS data</td>\n",
       "    </tr>\n",
       "    <tr>\n",
       "      <th>2</th>\n",
       "      <td>0.134786</td>\n",
       "      <td>KBA13_FAB_ASIEN</td>\n",
       "      <td>0.134786</td>\n",
       "      <td>PLZ8</td>\n",
       "      <td>KBA13_FAB_ASIEN</td>\n",
       "      <td>share of other Asian Manufacturers within the PLZ8</td>\n",
       "      <td>modelled on different AZ DIAS data</td>\n",
       "    </tr>\n",
       "    <tr>\n",
       "      <th>3</th>\n",
       "      <td>0.130934</td>\n",
       "      <td>KBA13_KMH_180</td>\n",
       "      <td>0.130934</td>\n",
       "      <td>PLZ8</td>\n",
       "      <td>KBA13_KMH_180</td>\n",
       "      <td>share of cars with max speed between 110 km/h and 180km/h within the PLZ8</td>\n",
       "      <td>modelled on different AZ DIAS data</td>\n",
       "    </tr>\n",
       "    <tr>\n",
       "      <th>4</th>\n",
       "      <td>0.123687</td>\n",
       "      <td>KBA13_CCM_1600</td>\n",
       "      <td>0.123687</td>\n",
       "      <td>PLZ8</td>\n",
       "      <td>KBA13_CCM_1600</td>\n",
       "      <td>share of cars with 1500ccm to 1599ccm within the PLZ8</td>\n",
       "      <td>modelled on different AZ DIAS data</td>\n",
       "    </tr>\n",
       "  </tbody>\n",
       "</table>\n",
       "</div>"
      ],
      "text/plain": [
       "   variance              feature  abs_variance Information level  \\\n",
       "0  0.162941  KBA13_SEG_MINIWAGEN      0.162941              PLZ8   \n",
       "1  0.137401          KBA13_KW_40      0.137401              PLZ8   \n",
       "2  0.134786      KBA13_FAB_ASIEN      0.134786              PLZ8   \n",
       "3  0.130934        KBA13_KMH_180      0.130934              PLZ8   \n",
       "4  0.123687       KBA13_CCM_1600      0.123687              PLZ8   \n",
       "\n",
       "             Attribute  \\\n",
       "0  KBA13_SEG_MINIWAGEN   \n",
       "1          KBA13_KW_40   \n",
       "2      KBA13_FAB_ASIEN   \n",
       "3        KBA13_KMH_180   \n",
       "4       KBA13_CCM_1600   \n",
       "\n",
       "                                                                 Description  \\\n",
       "0                                          share of minicars within the PLZ8   \n",
       "1             share of cars with an engine power between 31 and 40 KW - PLZ8   \n",
       "2                         share of other Asian Manufacturers within the PLZ8   \n",
       "3  share of cars with max speed between 110 km/h and 180km/h within the PLZ8   \n",
       "4                      share of cars with 1500ccm to 1599ccm within the PLZ8   \n",
       "\n",
       "                     Additional notes  \n",
       "0  modelled on different AZ DIAS data  \n",
       "1  modelled on different AZ DIAS data  \n",
       "2  modelled on different AZ DIAS data  \n",
       "3  modelled on different AZ DIAS data  \n",
       "4  modelled on different AZ DIAS data  "
      ]
     },
     "execution_count": 107,
     "metadata": {},
     "output_type": "execute_result"
    }
   ],
   "source": [
    "feat_names = azdias_cleaned.columns.values\n",
    "\n",
    "pca_top_5_feature(pca, feat_names, 0, infos)"
   ]
  },
  {
   "cell_type": "markdown",
   "metadata": {},
   "source": [
    "### Component 2\n",
    "\n",
    "Component includes mixed infos from household to building. All have positive relationship. Social minded indicates lowest affinity"
   ]
  },
  {
   "cell_type": "code",
   "execution_count": 109,
   "metadata": {},
   "outputs": [
    {
     "data": {
      "text/html": [
       "<div>\n",
       "<style scoped>\n",
       "    .dataframe tbody tr th:only-of-type {\n",
       "        vertical-align: middle;\n",
       "    }\n",
       "\n",
       "    .dataframe tbody tr th {\n",
       "        vertical-align: top;\n",
       "    }\n",
       "\n",
       "    .dataframe thead th {\n",
       "        text-align: right;\n",
       "    }\n",
       "</style>\n",
       "<table border=\"1\" class=\"dataframe\">\n",
       "  <thead>\n",
       "    <tr style=\"text-align: right;\">\n",
       "      <th></th>\n",
       "      <th>variance</th>\n",
       "      <th>feature</th>\n",
       "      <th>abs_variance</th>\n",
       "      <th>Information level</th>\n",
       "      <th>Attribute</th>\n",
       "      <th>Description</th>\n",
       "      <th>Additional notes</th>\n",
       "    </tr>\n",
       "  </thead>\n",
       "  <tbody>\n",
       "    <tr>\n",
       "      <th>0</th>\n",
       "      <td>0.207102</td>\n",
       "      <td>D19_VERSI_ONLINE_DATUM</td>\n",
       "      <td>0.207102</td>\n",
       "      <td>Household</td>\n",
       "      <td>D19_VERSI_ONLINE_DATUM</td>\n",
       "      <td>actuality of the last transaction for the segment insurance ONLINE</td>\n",
       "      <td>AZ has access to approx. 650 Million transaction data - this is the basis for the criteria family DHT4A aka. D19. This data contains unique data regarding the mail-order activity of consumers, differentiated</td>\n",
       "    </tr>\n",
       "    <tr>\n",
       "      <th>1</th>\n",
       "      <td>0.206702</td>\n",
       "      <td>D19_WEIN_FEINKOST</td>\n",
       "      <td>0.206702</td>\n",
       "      <td>NaN</td>\n",
       "      <td>NaN</td>\n",
       "      <td>NaN</td>\n",
       "      <td>NaN</td>\n",
       "    </tr>\n",
       "    <tr>\n",
       "      <th>2</th>\n",
       "      <td>0.200778</td>\n",
       "      <td>MIN_GEBAEUDEJAHR</td>\n",
       "      <td>0.200778</td>\n",
       "      <td>Building</td>\n",
       "      <td>MIN_GEBAEUDEJAHR</td>\n",
       "      <td>year the building was first mentioned in our database</td>\n",
       "      <td>additional costs</td>\n",
       "    </tr>\n",
       "    <tr>\n",
       "      <th>3</th>\n",
       "      <td>0.196148</td>\n",
       "      <td>KBA13_BJ_2008</td>\n",
       "      <td>0.196148</td>\n",
       "      <td>PLZ8</td>\n",
       "      <td>KBA13_BJ_2008</td>\n",
       "      <td>share of cars built in 2008 within the PLZ8</td>\n",
       "      <td>modelled on different AZ DIAS data</td>\n",
       "    </tr>\n",
       "    <tr>\n",
       "      <th>4</th>\n",
       "      <td>0.182259</td>\n",
       "      <td>SEMIO_SOZ</td>\n",
       "      <td>0.182259</td>\n",
       "      <td>Person</td>\n",
       "      <td>SEMIO_SOZ</td>\n",
       "      <td>affinity indicating in what way the person is social minded</td>\n",
       "      <td>attributes in cooperation with Kantar TNS; the information basis is a consumer survey</td>\n",
       "    </tr>\n",
       "  </tbody>\n",
       "</table>\n",
       "</div>"
      ],
      "text/plain": [
       "   variance                 feature  abs_variance Information level  \\\n",
       "0  0.207102  D19_VERSI_ONLINE_DATUM      0.207102         Household   \n",
       "1  0.206702       D19_WEIN_FEINKOST      0.206702               NaN   \n",
       "2  0.200778        MIN_GEBAEUDEJAHR      0.200778          Building   \n",
       "3  0.196148           KBA13_BJ_2008      0.196148              PLZ8   \n",
       "4  0.182259               SEMIO_SOZ      0.182259            Person   \n",
       "\n",
       "                Attribute  \\\n",
       "0  D19_VERSI_ONLINE_DATUM   \n",
       "1                     NaN   \n",
       "2        MIN_GEBAEUDEJAHR   \n",
       "3           KBA13_BJ_2008   \n",
       "4               SEMIO_SOZ   \n",
       "\n",
       "                                                          Description  \\\n",
       "0  actuality of the last transaction for the segment insurance ONLINE   \n",
       "1                                                                 NaN   \n",
       "2               year the building was first mentioned in our database   \n",
       "3                         share of cars built in 2008 within the PLZ8   \n",
       "4         affinity indicating in what way the person is social minded   \n",
       "\n",
       "                                                                                                                                                                                                   Additional notes  \n",
       "0  AZ has access to approx. 650 Million transaction data - this is the basis for the criteria family DHT4A aka. D19. This data contains unique data regarding the mail-order activity of consumers, differentiated   \n",
       "1                                                                                                                                                                                                               NaN  \n",
       "2                                                                                                                                                                                                  additional costs  \n",
       "3                                                                                                                                                                                modelled on different AZ DIAS data  \n",
       "4                                                                                                                             attributes in cooperation with Kantar TNS; the information basis is a consumer survey  "
      ]
     },
     "execution_count": 109,
     "metadata": {},
     "output_type": "execute_result"
    }
   ],
   "source": [
    "pca_top_5_feature(pca, feat_names, 1, infos)"
   ]
  },
  {
   "cell_type": "markdown",
   "metadata": {},
   "source": [
    "### Component 3\n",
    "\n",
    "Interestingly again car related feature domintes this component with positive relationship. High  sensual minded means lowest affinity"
   ]
  },
  {
   "cell_type": "code",
   "execution_count": 111,
   "metadata": {},
   "outputs": [
    {
     "data": {
      "text/html": [
       "<div>\n",
       "<style scoped>\n",
       "    .dataframe tbody tr th:only-of-type {\n",
       "        vertical-align: middle;\n",
       "    }\n",
       "\n",
       "    .dataframe tbody tr th {\n",
       "        vertical-align: top;\n",
       "    }\n",
       "\n",
       "    .dataframe thead th {\n",
       "        text-align: right;\n",
       "    }\n",
       "</style>\n",
       "<table border=\"1\" class=\"dataframe\">\n",
       "  <thead>\n",
       "    <tr style=\"text-align: right;\">\n",
       "      <th></th>\n",
       "      <th>variance</th>\n",
       "      <th>feature</th>\n",
       "      <th>abs_variance</th>\n",
       "      <th>Information level</th>\n",
       "      <th>Attribute</th>\n",
       "      <th>Description</th>\n",
       "      <th>Additional notes</th>\n",
       "    </tr>\n",
       "  </thead>\n",
       "  <tbody>\n",
       "    <tr>\n",
       "      <th>0</th>\n",
       "      <td>0.165113</td>\n",
       "      <td>KBA13_HERST_FORD_OPEL</td>\n",
       "      <td>0.165113</td>\n",
       "      <td>PLZ8</td>\n",
       "      <td>KBA13_HERST_FORD_OPEL</td>\n",
       "      <td>share of Ford &amp; Opel/Vauxhall within the PLZ8</td>\n",
       "      <td>modelled on different AZ DIAS data</td>\n",
       "    </tr>\n",
       "    <tr>\n",
       "      <th>1</th>\n",
       "      <td>0.140978</td>\n",
       "      <td>KBA13_HERST_ASIEN</td>\n",
       "      <td>0.140978</td>\n",
       "      <td>PLZ8</td>\n",
       "      <td>KBA13_HERST_ASIEN</td>\n",
       "      <td>share of asian cars within the PLZ8</td>\n",
       "      <td>modelled on different AZ DIAS data</td>\n",
       "    </tr>\n",
       "    <tr>\n",
       "      <th>2</th>\n",
       "      <td>0.135548</td>\n",
       "      <td>SEMIO_LUST</td>\n",
       "      <td>0.135548</td>\n",
       "      <td>Person</td>\n",
       "      <td>SEMIO_LUST</td>\n",
       "      <td>affinity indicating in what way the person is sensual minded</td>\n",
       "      <td>attributes in cooperation with Kantar TNS; the information basis is a consumer survey</td>\n",
       "    </tr>\n",
       "    <tr>\n",
       "      <th>3</th>\n",
       "      <td>0.131601</td>\n",
       "      <td>KBA13_SEG_KOMPAKTKLASSE</td>\n",
       "      <td>0.131601</td>\n",
       "      <td>PLZ8</td>\n",
       "      <td>KBA13_SEG_KOMPAKTKLASSE</td>\n",
       "      <td>share of lowe midclass cars (Ford Focus etc.) in the PLZ8</td>\n",
       "      <td>modelled on different AZ DIAS data</td>\n",
       "    </tr>\n",
       "    <tr>\n",
       "      <th>4</th>\n",
       "      <td>0.127951</td>\n",
       "      <td>KBA13_HERST_AUDI_VW</td>\n",
       "      <td>0.127951</td>\n",
       "      <td>PLZ8</td>\n",
       "      <td>KBA13_HERST_AUDI_VW</td>\n",
       "      <td>share of Volkswagen &amp; Audi within the PLZ8</td>\n",
       "      <td>modelled on different AZ DIAS data</td>\n",
       "    </tr>\n",
       "  </tbody>\n",
       "</table>\n",
       "</div>"
      ],
      "text/plain": [
       "   variance                  feature  abs_variance Information level  \\\n",
       "0  0.165113    KBA13_HERST_FORD_OPEL      0.165113              PLZ8   \n",
       "1  0.140978        KBA13_HERST_ASIEN      0.140978              PLZ8   \n",
       "2  0.135548               SEMIO_LUST      0.135548            Person   \n",
       "3  0.131601  KBA13_SEG_KOMPAKTKLASSE      0.131601              PLZ8   \n",
       "4  0.127951      KBA13_HERST_AUDI_VW      0.127951              PLZ8   \n",
       "\n",
       "                 Attribute  \\\n",
       "0    KBA13_HERST_FORD_OPEL   \n",
       "1        KBA13_HERST_ASIEN   \n",
       "2               SEMIO_LUST   \n",
       "3  KBA13_SEG_KOMPAKTKLASSE   \n",
       "4      KBA13_HERST_AUDI_VW   \n",
       "\n",
       "                                                    Description  \\\n",
       "0                 share of Ford & Opel/Vauxhall within the PLZ8   \n",
       "1                           share of asian cars within the PLZ8   \n",
       "2  affinity indicating in what way the person is sensual minded   \n",
       "3     share of lowe midclass cars (Ford Focus etc.) in the PLZ8   \n",
       "4                    share of Volkswagen & Audi within the PLZ8   \n",
       "\n",
       "                                                                        Additional notes  \n",
       "0                                                     modelled on different AZ DIAS data  \n",
       "1                                                     modelled on different AZ DIAS data  \n",
       "2  attributes in cooperation with Kantar TNS; the information basis is a consumer survey  \n",
       "3                                                     modelled on different AZ DIAS data  \n",
       "4                                                     modelled on different AZ DIAS data  "
      ]
     },
     "execution_count": 111,
     "metadata": {},
     "output_type": "execute_result"
    }
   ],
   "source": [
    "pca_top_5_feature(pca, feat_names, 2, infos)"
   ]
  },
  {
   "cell_type": "code",
   "execution_count": 72,
   "metadata": {},
   "outputs": [
    {
     "data": {
      "text/plain": [
       "0.16917903888296226"
      ]
     },
     "execution_count": 72,
     "metadata": {},
     "output_type": "execute_result"
    }
   ],
   "source": [
    "pca.explained_variance_ratio_[:3].sum()"
   ]
  },
  {
   "cell_type": "markdown",
   "metadata": {},
   "source": [
    "Cumulatively, they only explain approx. 17% of variance from our features. It seems that having a car dominates all components"
   ]
  },
  {
   "cell_type": "markdown",
   "metadata": {},
   "source": [
    "## Part 1.3:Clustering\n",
    "\n",
    "Below I will use sklearn's KMeans clustering algorithm to identify different segments of the data.\n",
    "\n",
    "In KMeans clustering we have to choose the number of clusters that the algorithm will find. This can be difficult since we don't know how many clusters exist. So we have to choose number of clusters with elbow method."
   ]
  },
  {
   "cell_type": "code",
   "execution_count": 117,
   "metadata": {},
   "outputs": [],
   "source": [
    "sse = []\n",
    "list_k = list(range(1, 31))\n",
    "\n",
    "for k in list_k:\n",
    "    km = KMeans(n_clusters=k, init='k-means++')\n",
    "    km.fit(azdias_reduced.sample(20000))\n",
    "    sse.append(km.inertia_)"
   ]
  },
  {
   "cell_type": "code",
   "execution_count": 118,
   "metadata": {},
   "outputs": [
    {
     "data": {
      "image/png": "[encoded data removed]",
      "text/plain": [
       "<Figure size 1152x432 with 1 Axes>"
      ]
     },
     "metadata": {
      "needs_background": "light"
     },
     "output_type": "display_data"
    }
   ],
   "source": [
    "# Plot sse against k\n",
    "plt.figure(figsize=(16, 6))\n",
    "plt.plot(list_k, sse, '-o')\n",
    "plt.title('k-means Clustering Elbow Plot')\n",
    "plt.xlabel(\"Number of clusters k\")\n",
    "plt.ylabel(\"Sum of squared distance\")\n",
    "plt.xticks(list(range(1,31)))\n",
    "plt.savefig('elbow_plot.png', dpi=500);"
   ]
  },
  {
   "cell_type": "markdown",
   "metadata": {},
   "source": [
    "There is no certain elbow in the graph however it seems that there is slopw decrease after 13th cluster. "
   ]
  },
  {
   "cell_type": "markdown",
   "metadata": {},
   "source": [
    "# Prepare customers data"
   ]
  },
  {
   "cell_type": "code",
   "execution_count": 132,
   "metadata": {},
   "outputs": [],
   "source": [
    "# Set PCA and KMeans parameters\n",
    "pca_components = 123\n",
    "kmeans_clusters = 13\n",
    "\n",
    "# Create cluster pipeline\n",
    "cluster_pipeline = Pipeline([\n",
    "    ('transform', column_transformer),\n",
    "    ('reduce', PCA(n_components = pca_components)),\n",
    "    ('cluster', KMeans(n_clusters = kmeans_clusters, init = 'k-means++'))\n",
    "])"
   ]
  },
  {
   "cell_type": "code",
   "execution_count": 133,
   "metadata": {},
   "outputs": [],
   "source": [
    "# Fit cluster pipeline and create clustered general population dataframe\n",
    "\n",
    "cluster_pipeline.fit(azdias_cleaned)\n",
    "azdias_clustered = pd.DataFrame(cluster_pipeline.predict(azdias_cleaned), columns = ['Cluster'])"
   ]
  },
  {
   "cell_type": "code",
   "execution_count": 134,
   "metadata": {},
   "outputs": [
    {
     "name": "stdout",
     "output_type": "stream",
     "text": [
      "Number of attributes to be dropped: 138\n",
      "Number of rows to be dropped: 56508\n"
     ]
    }
   ],
   "source": [
    "# Create clustered customers dataframe\n",
    "customers_cleaned = data_cleaning(customers, values)\n",
    "customers_clustered = pd.DataFrame(cluster_pipeline.predict(customers_cleaned), columns = ['Cluster'])"
   ]
  },
  {
   "cell_type": "code",
   "execution_count": 135,
   "metadata": {},
   "outputs": [],
   "source": [
    "#Save resulsts took too long running clsutering functions\n",
    "azdias_clustered.to_pickle('azdias_clustered')\n",
    "customers_clustered.to_pickle('customers_clustered')\n",
    "#azdias_clustered = pd.read_pickle('azdias_clustered')\n",
    "#customers_clustered = pd.read_pickle('customers_clustered')"
   ]
  },
  {
   "cell_type": "code",
   "execution_count": 136,
   "metadata": {},
   "outputs": [],
   "source": [
    "# Get cluster sizes in each dataset\n",
    "population_clusters = azdias_clustered['Cluster'].value_counts().sort_index()\n",
    "customer_clusters = customers_clustered['Cluster'].value_counts().sort_index()\n",
    "\n",
    "# Concat both dataframes to one\n",
    "clusters = pd.concat([population_clusters, customer_clusters], axis=1).reset_index()\n",
    "clusters.columns = ['cluster', 'population_count', 'customers_count']\n",
    "clusters['cluster']+=1\n",
    "\n",
    "# Calculate share of each cluster\n",
    "clusters['population_share'] = clusters['population_count']/clusters['population_count'].sum()*100\n",
    "clusters['customers_share'] = clusters['customers_count']/clusters['customers_count'].sum()*100\n",
    "clusters['diff_share'] = clusters['customers_share'] - clusters['population_share']"
   ]
  },
  {
   "cell_type": "code",
   "execution_count": 137,
   "metadata": {},
   "outputs": [
    {
     "data": {
      "application/vnd.plotly.v1+json": {
       "config": {
        "plotlyServerURL": "https://plot.ly"
       },
       "data": [
        {
         "name": "Population",
         "type": "bar",
         "x": [
          "1",
          "2",
          "3",
          "4",
          "5",
          "6",
          "7",
          "8",
          "9",
          "10",
          "11",
          "12",
          "13"
         ],
         "y": [
          10.419775039230379,
          8.650781080509123,
          6.462131869974752,
          9.180507659074364,
          6.111953320174464,
          1.8690830007014219,
          9.537341065389288,
          7.495364892437554,
          10.606776507291727,
          9.400916506839197,
          4.591717897970401,
          8.335740173106128,
          7.3379109873012025
         ]
        },
        {
         "name": "Customer",
         "type": "bar",
         "x": [
          "1",
          "2",
          "3",
          "4",
          "5",
          "6",
          "7",
          "8",
          "9",
          "10",
          "11",
          "12",
          "13"
         ],
         "y": [
          36.56174154975433,
          6.722459006689162,
          2.605369087787841,
          6.581868229444149,
          10.161013437518498,
          0.6644764103474812,
          7.855324690700289,
          2.4862369028591726,
          0.714793109572012,
          10.182472029834843,
          12.908453205469723,
          0.4957674776534659,
          2.0600248623690285
         ]
        }
       ],
       "layout": {
        "autosize": true,
        "barmode": "group",
        "template": {
         "data": {
          "bar": [
           {
            "error_x": {
             "color": "#2a3f5f"
            },
            "error_y": {
             "color": "#2a3f5f"
            },
            "marker": {
             "line": {
              "color": "#E5ECF6",
              "width": 0.5
             },
             "pattern": {
              "fillmode": "overlay",
              "size": 10,
              "solidity": 0.2
             }
            },
            "type": "bar"
           }
          ],
          "barpolar": [
           {
            "marker": {
             "line": {
              "color": "#E5ECF6",
              "width": 0.5
             },
             "pattern": {
              "fillmode": "overlay",
              "size": 10,
              "solidity": 0.2
             }
            },
            "type": "barpolar"
           }
          ],
          "carpet": [
           {
            "aaxis": {
             "endlinecolor": "#2a3f5f",
             "gridcolor": "white",
             "linecolor": "white",
             "minorgridcolor": "white",
             "startlinecolor": "#2a3f5f"
            },
            "baxis": {
             "endlinecolor": "#2a3f5f",
             "gridcolor": "white",
             "linecolor": "white",
             "minorgridcolor": "white",
             "startlinecolor": "#2a3f5f"
            },
            "type": "carpet"
           }
          ],
          "choropleth": [
           {
            "colorbar": {
             "outlinewidth": 0,
             "ticks": ""
            },
            "type": "choropleth"
           }
          ],
          "contour": [
           {
            "colorbar": {
             "outlinewidth": 0,
             "ticks": ""
            },
            "colorscale": [
             [
              0,
              "#0d0887"
             ],
             [
              0.1111111111111111,
              "#46039f"
             ],
             [
              0.2222222222222222,
              "#7201a8"
             ],
             [
              0.3333333333333333,
              "#9c179e"
             ],
             [
              0.4444444444444444,
              "#bd3786"
             ],
             [
              0.5555555555555556,
              "#d8576b"
             ],
             [
              0.6666666666666666,
              "#ed7953"
             ],
             [
              0.7777777777777778,
              "#fb9f3a"
             ],
             [
              0.8888888888888888,
              "#fdca26"
             ],
             [
              1,
              "#f0f921"
             ]
            ],
            "type": "contour"
           }
          ],
          "contourcarpet": [
           {
            "colorbar": {
             "outlinewidth": 0,
             "ticks": ""
            },
            "type": "contourcarpet"
           }
          ],
          "heatmap": [
           {
            "colorbar": {
             "outlinewidth": 0,
             "ticks": ""
            },
            "colorscale": [
             [
              0,
              "#0d0887"
             ],
             [
              0.1111111111111111,
              "#46039f"
             ],
             [
              0.2222222222222222,
              "#7201a8"
             ],
             [
              0.3333333333333333,
              "#9c179e"
             ],
             [
              0.4444444444444444,
              "#bd3786"
             ],
             [
              0.5555555555555556,
              "#d8576b"
             ],
             [
              0.6666666666666666,
              "#ed7953"
             ],
             [
              0.7777777777777778,
              "#fb9f3a"
             ],
             [
              0.8888888888888888,
              "#fdca26"
             ],
             [
              1,
              "#f0f921"
             ]
            ],
            "type": "heatmap"
           }
          ],
          "heatmapgl": [
           {
            "colorbar": {
             "outlinewidth": 0,
             "ticks": ""
            },
            "colorscale": [
             [
              0,
              "#0d0887"
             ],
             [
              0.1111111111111111,
              "#46039f"
             ],
             [
              0.2222222222222222,
              "#7201a8"
             ],
             [
              0.3333333333333333,
              "#9c179e"
             ],
             [
              0.4444444444444444,
              "#bd3786"
             ],
             [
              0.5555555555555556,
              "#d8576b"
             ],
             [
              0.6666666666666666,
              "#ed7953"
             ],
             [
              0.7777777777777778,
              "#fb9f3a"
             ],
             [
              0.8888888888888888,
              "#fdca26"
             ],
             [
              1,
              "#f0f921"
             ]
            ],
            "type": "heatmapgl"
           }
          ],
          "histogram": [
           {
            "marker": {
             "pattern": {
              "fillmode": "overlay",
              "size": 10,
              "solidity": 0.2
             }
            },
            "type": "histogram"
           }
          ],
          "histogram2d": [
           {
            "colorbar": {
             "outlinewidth": 0,
             "ticks": ""
            },
            "colorscale": [
             [
              0,
              "#0d0887"
             ],
             [
              0.1111111111111111,
              "#46039f"
             ],
             [
              0.2222222222222222,
              "#7201a8"
             ],
             [
              0.3333333333333333,
              "#9c179e"
             ],
             [
              0.4444444444444444,
              "#bd3786"
             ],
             [
              0.5555555555555556,
              "#d8576b"
             ],
             [
              0.6666666666666666,
              "#ed7953"
             ],
             [
              0.7777777777777778,
              "#fb9f3a"
             ],
             [
              0.8888888888888888,
              "#fdca26"
             ],
             [
              1,
              "#f0f921"
             ]
            ],
            "type": "histogram2d"
           }
          ],
          "histogram2dcontour": [
           {
            "colorbar": {
             "outlinewidth": 0,
             "ticks": ""
            },
            "colorscale": [
             [
              0,
              "#0d0887"
             ],
             [
              0.1111111111111111,
              "#46039f"
             ],
             [
              0.2222222222222222,
              "#7201a8"
             ],
             [
              0.3333333333333333,
              "#9c179e"
             ],
             [
              0.4444444444444444,
              "#bd3786"
             ],
             [
              0.5555555555555556,
              "#d8576b"
             ],
             [
              0.6666666666666666,
              "#ed7953"
             ],
             [
              0.7777777777777778,
              "#fb9f3a"
             ],
             [
              0.8888888888888888,
              "#fdca26"
             ],
             [
              1,
              "#f0f921"
             ]
            ],
            "type": "histogram2dcontour"
           }
          ],
          "mesh3d": [
           {
            "colorbar": {
             "outlinewidth": 0,
             "ticks": ""
            },
            "type": "mesh3d"
           }
          ],
          "parcoords": [
           {
            "line": {
             "colorbar": {
              "outlinewidth": 0,
              "ticks": ""
             }
            },
            "type": "parcoords"
           }
          ],
          "pie": [
           {
            "automargin": true,
            "type": "pie"
           }
          ],
          "scatter": [
           {
            "marker": {
             "colorbar": {
              "outlinewidth": 0,
              "ticks": ""
             }
            },
            "type": "scatter"
           }
          ],
          "scatter3d": [
           {
            "line": {
             "colorbar": {
              "outlinewidth": 0,
              "ticks": ""
             }
            },
            "marker": {
             "colorbar": {
              "outlinewidth": 0,
              "ticks": ""
             }
            },
            "type": "scatter3d"
           }
          ],
          "scattercarpet": [
           {
            "marker": {
             "colorbar": {
              "outlinewidth": 0,
              "ticks": ""
             }
            },
            "type": "scattercarpet"
           }
          ],
          "scattergeo": [
           {
            "marker": {
             "colorbar": {
              "outlinewidth": 0,
              "ticks": ""
             }
            },
            "type": "scattergeo"
           }
          ],
          "scattergl": [
           {
            "marker": {
             "colorbar": {
              "outlinewidth": 0,
              "ticks": ""
             }
            },
            "type": "scattergl"
           }
          ],
          "scattermapbox": [
           {
            "marker": {
             "colorbar": {
              "outlinewidth": 0,
              "ticks": ""
             }
            },
            "type": "scattermapbox"
           }
          ],
          "scatterpolar": [
           {
            "marker": {
             "colorbar": {
              "outlinewidth": 0,
              "ticks": ""
             }
            },
            "type": "scatterpolar"
           }
          ],
          "scatterpolargl": [
           {
            "marker": {
             "colorbar": {
              "outlinewidth": 0,
              "ticks": ""
             }
            },
            "type": "scatterpolargl"
           }
          ],
          "scatterternary": [
           {
            "marker": {
             "colorbar": {
              "outlinewidth": 0,
              "ticks": ""
             }
            },
            "type": "scatterternary"
           }
          ],
          "surface": [
           {
            "colorbar": {
             "outlinewidth": 0,
             "ticks": ""
            },
            "colorscale": [
             [
              0,
              "#0d0887"
             ],
             [
              0.1111111111111111,
              "#46039f"
             ],
             [
              0.2222222222222222,
              "#7201a8"
             ],
             [
              0.3333333333333333,
              "#9c179e"
             ],
             [
              0.4444444444444444,
              "#bd3786"
             ],
             [
              0.5555555555555556,
              "#d8576b"
             ],
             [
              0.6666666666666666,
              "#ed7953"
             ],
             [
              0.7777777777777778,
              "#fb9f3a"
             ],
             [
              0.8888888888888888,
              "#fdca26"
             ],
             [
              1,
              "#f0f921"
             ]
            ],
            "type": "surface"
           }
          ],
          "table": [
           {
            "cells": {
             "fill": {
              "color": "#EBF0F8"
             },
             "line": {
              "color": "white"
             }
            },
            "header": {
             "fill": {
              "color": "#C8D4E3"
             },
             "line": {
              "color": "white"
             }
            },
            "type": "table"
           }
          ]
         },
         "layout": {
          "annotationdefaults": {
           "arrowcolor": "#2a3f5f",
           "arrowhead": 0,
           "arrowwidth": 1
          },
          "autotypenumbers": "strict",
          "coloraxis": {
           "colorbar": {
            "outlinewidth": 0,
            "ticks": ""
           }
          },
          "colorscale": {
           "diverging": [
            [
             0,
             "#8e0152"
            ],
            [
             0.1,
             "#c51b7d"
            ],
            [
             0.2,
             "#de77ae"
            ],
            [
             0.3,
             "#f1b6da"
            ],
            [
             0.4,
             "#fde0ef"
            ],
            [
             0.5,
             "#f7f7f7"
            ],
            [
             0.6,
             "#e6f5d0"
            ],
            [
             0.7,
             "#b8e186"
            ],
            [
             0.8,
             "#7fbc41"
            ],
            [
             0.9,
             "#4d9221"
            ],
            [
             1,
             "#276419"
            ]
           ],
           "sequential": [
            [
             0,
             "#0d0887"
            ],
            [
             0.1111111111111111,
             "#46039f"
            ],
            [
             0.2222222222222222,
             "#7201a8"
            ],
            [
             0.3333333333333333,
             "#9c179e"
            ],
            [
             0.4444444444444444,
             "#bd3786"
            ],
            [
             0.5555555555555556,
             "#d8576b"
            ],
            [
             0.6666666666666666,
             "#ed7953"
            ],
            [
             0.7777777777777778,
             "#fb9f3a"
            ],
            [
             0.8888888888888888,
             "#fdca26"
            ],
            [
             1,
             "#f0f921"
            ]
           ],
           "sequentialminus": [
            [
             0,
             "#0d0887"
            ],
            [
             0.1111111111111111,
             "#46039f"
            ],
            [
             0.2222222222222222,
             "#7201a8"
            ],
            [
             0.3333333333333333,
             "#9c179e"
            ],
            [
             0.4444444444444444,
             "#bd3786"
            ],
            [
             0.5555555555555556,
             "#d8576b"
            ],
            [
             0.6666666666666666,
             "#ed7953"
            ],
            [
             0.7777777777777778,
             "#fb9f3a"
            ],
            [
             0.8888888888888888,
             "#fdca26"
            ],
            [
             1,
             "#f0f921"
            ]
           ]
          },
          "colorway": [
           "#636efa",
           "#EF553B",
           "#00cc96",
           "#ab63fa",
           "#FFA15A",
           "#19d3f3",
           "#FF6692",
           "#B6E880",
           "#FF97FF",
           "#FECB52"
          ],
          "font": {
           "color": "#2a3f5f"
          },
          "geo": {
           "bgcolor": "white",
           "lakecolor": "white",
           "landcolor": "#E5ECF6",
           "showlakes": true,
           "showland": true,
           "subunitcolor": "white"
          },
          "hoverlabel": {
           "align": "left"
          },
          "hovermode": "closest",
          "mapbox": {
           "style": "light"
          },
          "paper_bgcolor": "white",
          "plot_bgcolor": "#E5ECF6",
          "polar": {
           "angularaxis": {
            "gridcolor": "white",
            "linecolor": "white",
            "ticks": ""
           },
           "bgcolor": "#E5ECF6",
           "radialaxis": {
            "gridcolor": "white",
            "linecolor": "white",
            "ticks": ""
           }
          },
          "scene": {
           "xaxis": {
            "backgroundcolor": "#E5ECF6",
            "gridcolor": "white",
            "gridwidth": 2,
            "linecolor": "white",
            "showbackground": true,
            "ticks": "",
            "zerolinecolor": "white"
           },
           "yaxis": {
            "backgroundcolor": "#E5ECF6",
            "gridcolor": "white",
            "gridwidth": 2,
            "linecolor": "white",
            "showbackground": true,
            "ticks": "",
            "zerolinecolor": "white"
           },
           "zaxis": {
            "backgroundcolor": "#E5ECF6",
            "gridcolor": "white",
            "gridwidth": 2,
            "linecolor": "white",
            "showbackground": true,
            "ticks": "",
            "zerolinecolor": "white"
           }
          },
          "shapedefaults": {
           "line": {
            "color": "#2a3f5f"
           }
          },
          "ternary": {
           "aaxis": {
            "gridcolor": "white",
            "linecolor": "white",
            "ticks": ""
           },
           "baxis": {
            "gridcolor": "white",
            "linecolor": "white",
            "ticks": ""
           },
           "bgcolor": "#E5ECF6",
           "caxis": {
            "gridcolor": "white",
            "linecolor": "white",
            "ticks": ""
           }
          },
          "title": {
           "x": 0.05
          },
          "xaxis": {
           "automargin": true,
           "gridcolor": "white",
           "linecolor": "white",
           "ticks": "",
           "title": {
            "standoff": 15
           },
           "zerolinecolor": "white",
           "zerolinewidth": 2
          },
          "yaxis": {
           "automargin": true,
           "gridcolor": "white",
           "linecolor": "white",
           "ticks": "",
           "title": {
            "standoff": 15
           },
           "zerolinecolor": "white",
           "zerolinewidth": 2
          }
         }
        },
        "title": {
         "text": "Share of clusters in Population vs Customers dataset"
        },
        "xaxis": {
         "autorange": true,
         "range": [
          -0.5,
          12.5
         ],
         "tickfont": {
          "size": 14
         },
         "title": {
          "font": {
           "size": 16
          },
          "text": "Clusters"
         },
         "type": "category"
        },
        "yaxis": {
         "autorange": true,
         "range": [
          0,
          38.486043736583504
         ],
         "tickfont": {
          "size": 14
         },
         "title": {
          "font": {
           "size": 16
          },
          "text": "Share"
         },
         "type": "linear"
        }
       }
      },
      "image/png": "[encoded data removed]",
      "text/html": [
       "<div>                            <div id=\"f81da8b2-c755-4658-aabf-0e95fc37e67a\" class=\"plotly-graph-div\" style=\"height:525px; width:100%;\"></div>            <script type=\"text/javascript\">                require([\"plotly\"], function(Plotly) {                    window.PLOTLYENV=window.PLOTLYENV || {};                                    if (document.getElementById(\"f81da8b2-c755-4658-aabf-0e95fc37e67a\")) {                    Plotly.newPlot(                        \"f81da8b2-c755-4658-aabf-0e95fc37e67a\",                        [{\"name\":\"Population\",\"x\":[\"1\",\"2\",\"3\",\"4\",\"5\",\"6\",\"7\",\"8\",\"9\",\"10\",\"11\",\"12\",\"13\"],\"y\":[10.419775039230379,8.650781080509123,6.462131869974752,9.180507659074364,6.111953320174464,1.8690830007014219,9.537341065389288,7.495364892437554,10.606776507291727,9.400916506839197,4.591717897970401,8.335740173106128,7.3379109873012025],\"type\":\"bar\"},{\"name\":\"Customer\",\"x\":[\"1\",\"2\",\"3\",\"4\",\"5\",\"6\",\"7\",\"8\",\"9\",\"10\",\"11\",\"12\",\"13\"],\"y\":[36.56174154975433,6.722459006689162,2.605369087787841,6.581868229444149,10.161013437518498,0.6644764103474812,7.855324690700289,2.4862369028591726,0.714793109572012,10.182472029834843,12.908453205469723,0.4957674776534659,2.0600248623690285],\"type\":\"bar\"}],                        {\"template\":{\"data\":{\"bar\":[{\"error_x\":{\"color\":\"#2a3f5f\"},\"error_y\":{\"color\":\"#2a3f5f\"},\"marker\":{\"line\":{\"color\":\"#E5ECF6\",\"width\":0.5},\"pattern\":{\"fillmode\":\"overlay\",\"size\":10,\"solidity\":0.2}},\"type\":\"bar\"}],\"barpolar\":[{\"marker\":{\"line\":{\"color\":\"#E5ECF6\",\"width\":0.5},\"pattern\":{\"fillmode\":\"overlay\",\"size\":10,\"solidity\":0.2}},\"type\":\"barpolar\"}],\"carpet\":[{\"aaxis\":{\"endlinecolor\":\"#2a3f5f\",\"gridcolor\":\"white\",\"linecolor\":\"white\",\"minorgridcolor\":\"white\",\"startlinecolor\":\"#2a3f5f\"},\"baxis\":{\"endlinecolor\":\"#2a3f5f\",\"gridcolor\":\"white\",\"linecolor\":\"white\",\"minorgridcolor\":\"white\",\"startlinecolor\":\"#2a3f5f\"},\"type\":\"carpet\"}],\"choropleth\":[{\"colorbar\":{\"outlinewidth\":0,\"ticks\":\"\"},\"type\":\"choropleth\"}],\"contour\":[{\"colorbar\":{\"outlinewidth\":0,\"ticks\":\"\"},\"colorscale\":[[0.0,\"#0d0887\"],[0.1111111111111111,\"#46039f\"],[0.2222222222222222,\"#7201a8\"],[0.3333333333333333,\"#9c179e\"],[0.4444444444444444,\"#bd3786\"],[0.5555555555555556,\"#d8576b\"],[0.6666666666666666,\"#ed7953\"],[0.7777777777777778,\"#fb9f3a\"],[0.8888888888888888,\"#fdca26\"],[1.0,\"#f0f921\"]],\"type\":\"contour\"}],\"contourcarpet\":[{\"colorbar\":{\"outlinewidth\":0,\"ticks\":\"\"},\"type\":\"contourcarpet\"}],\"heatmap\":[{\"colorbar\":{\"outlinewidth\":0,\"ticks\":\"\"},\"colorscale\":[[0.0,\"#0d0887\"],[0.1111111111111111,\"#46039f\"],[0.2222222222222222,\"#7201a8\"],[0.3333333333333333,\"#9c179e\"],[0.4444444444444444,\"#bd3786\"],[0.5555555555555556,\"#d8576b\"],[0.6666666666666666,\"#ed7953\"],[0.7777777777777778,\"#fb9f3a\"],[0.8888888888888888,\"#fdca26\"],[1.0,\"#f0f921\"]],\"type\":\"heatmap\"}],\"heatmapgl\":[{\"colorbar\":{\"outlinewidth\":0,\"ticks\":\"\"},\"colorscale\":[[0.0,\"#0d0887\"],[0.1111111111111111,\"#46039f\"],[0.2222222222222222,\"#7201a8\"],[0.3333333333333333,\"#9c179e\"],[0.4444444444444444,\"#bd3786\"],[0.5555555555555556,\"#d8576b\"],[0.6666666666666666,\"#ed7953\"],[0.7777777777777778,\"#fb9f3a\"],[0.8888888888888888,\"#fdca26\"],[1.0,\"#f0f921\"]],\"type\":\"heatmapgl\"}],\"histogram\":[{\"marker\":{\"pattern\":{\"fillmode\":\"overlay\",\"size\":10,\"solidity\":0.2}},\"type\":\"histogram\"}],\"histogram2d\":[{\"colorbar\":{\"outlinewidth\":0,\"ticks\":\"\"},\"colorscale\":[[0.0,\"#0d0887\"],[0.1111111111111111,\"#46039f\"],[0.2222222222222222,\"#7201a8\"],[0.3333333333333333,\"#9c179e\"],[0.4444444444444444,\"#bd3786\"],[0.5555555555555556,\"#d8576b\"],[0.6666666666666666,\"#ed7953\"],[0.7777777777777778,\"#fb9f3a\"],[0.8888888888888888,\"#fdca26\"],[1.0,\"#f0f921\"]],\"type\":\"histogram2d\"}],\"histogram2dcontour\":[{\"colorbar\":{\"outlinewidth\":0,\"ticks\":\"\"},\"colorscale\":[[0.0,\"#0d0887\"],[0.1111111111111111,\"#46039f\"],[0.2222222222222222,\"#7201a8\"],[0.3333333333333333,\"#9c179e\"],[0.4444444444444444,\"#bd3786\"],[0.5555555555555556,\"#d8576b\"],[0.6666666666666666,\"#ed7953\"],[0.7777777777777778,\"#fb9f3a\"],[0.8888888888888888,\"#fdca26\"],[1.0,\"#f0f921\"]],\"type\":\"histogram2dcontour\"}],\"mesh3d\":[{\"colorbar\":{\"outlinewidth\":0,\"ticks\":\"\"},\"type\":\"mesh3d\"}],\"parcoords\":[{\"line\":{\"colorbar\":{\"outlinewidth\":0,\"ticks\":\"\"}},\"type\":\"parcoords\"}],\"pie\":[{\"automargin\":true,\"type\":\"pie\"}],\"scatter\":[{\"marker\":{\"colorbar\":{\"outlinewidth\":0,\"ticks\":\"\"}},\"type\":\"scatter\"}],\"scatter3d\":[{\"line\":{\"colorbar\":{\"outlinewidth\":0,\"ticks\":\"\"}},\"marker\":{\"colorbar\":{\"outlinewidth\":0,\"ticks\":\"\"}},\"type\":\"scatter3d\"}],\"scattercarpet\":[{\"marker\":{\"colorbar\":{\"outlinewidth\":0,\"ticks\":\"\"}},\"type\":\"scattercarpet\"}],\"scattergeo\":[{\"marker\":{\"colorbar\":{\"outlinewidth\":0,\"ticks\":\"\"}},\"type\":\"scattergeo\"}],\"scattergl\":[{\"marker\":{\"colorbar\":{\"outlinewidth\":0,\"ticks\":\"\"}},\"type\":\"scattergl\"}],\"scattermapbox\":[{\"marker\":{\"colorbar\":{\"outlinewidth\":0,\"ticks\":\"\"}},\"type\":\"scattermapbox\"}],\"scatterpolar\":[{\"marker\":{\"colorbar\":{\"outlinewidth\":0,\"ticks\":\"\"}},\"type\":\"scatterpolar\"}],\"scatterpolargl\":[{\"marker\":{\"colorbar\":{\"outlinewidth\":0,\"ticks\":\"\"}},\"type\":\"scatterpolargl\"}],\"scatterternary\":[{\"marker\":{\"colorbar\":{\"outlinewidth\":0,\"ticks\":\"\"}},\"type\":\"scatterternary\"}],\"surface\":[{\"colorbar\":{\"outlinewidth\":0,\"ticks\":\"\"},\"colorscale\":[[0.0,\"#0d0887\"],[0.1111111111111111,\"#46039f\"],[0.2222222222222222,\"#7201a8\"],[0.3333333333333333,\"#9c179e\"],[0.4444444444444444,\"#bd3786\"],[0.5555555555555556,\"#d8576b\"],[0.6666666666666666,\"#ed7953\"],[0.7777777777777778,\"#fb9f3a\"],[0.8888888888888888,\"#fdca26\"],[1.0,\"#f0f921\"]],\"type\":\"surface\"}],\"table\":[{\"cells\":{\"fill\":{\"color\":\"#EBF0F8\"},\"line\":{\"color\":\"white\"}},\"header\":{\"fill\":{\"color\":\"#C8D4E3\"},\"line\":{\"color\":\"white\"}},\"type\":\"table\"}]},\"layout\":{\"annotationdefaults\":{\"arrowcolor\":\"#2a3f5f\",\"arrowhead\":0,\"arrowwidth\":1},\"autotypenumbers\":\"strict\",\"coloraxis\":{\"colorbar\":{\"outlinewidth\":0,\"ticks\":\"\"}},\"colorscale\":{\"diverging\":[[0,\"#8e0152\"],[0.1,\"#c51b7d\"],[0.2,\"#de77ae\"],[0.3,\"#f1b6da\"],[0.4,\"#fde0ef\"],[0.5,\"#f7f7f7\"],[0.6,\"#e6f5d0\"],[0.7,\"#b8e186\"],[0.8,\"#7fbc41\"],[0.9,\"#4d9221\"],[1,\"#276419\"]],\"sequential\":[[0.0,\"#0d0887\"],[0.1111111111111111,\"#46039f\"],[0.2222222222222222,\"#7201a8\"],[0.3333333333333333,\"#9c179e\"],[0.4444444444444444,\"#bd3786\"],[0.5555555555555556,\"#d8576b\"],[0.6666666666666666,\"#ed7953\"],[0.7777777777777778,\"#fb9f3a\"],[0.8888888888888888,\"#fdca26\"],[1.0,\"#f0f921\"]],\"sequentialminus\":[[0.0,\"#0d0887\"],[0.1111111111111111,\"#46039f\"],[0.2222222222222222,\"#7201a8\"],[0.3333333333333333,\"#9c179e\"],[0.4444444444444444,\"#bd3786\"],[0.5555555555555556,\"#d8576b\"],[0.6666666666666666,\"#ed7953\"],[0.7777777777777778,\"#fb9f3a\"],[0.8888888888888888,\"#fdca26\"],[1.0,\"#f0f921\"]]},\"colorway\":[\"#636efa\",\"#EF553B\",\"#00cc96\",\"#ab63fa\",\"#FFA15A\",\"#19d3f3\",\"#FF6692\",\"#B6E880\",\"#FF97FF\",\"#FECB52\"],\"font\":{\"color\":\"#2a3f5f\"},\"geo\":{\"bgcolor\":\"white\",\"lakecolor\":\"white\",\"landcolor\":\"#E5ECF6\",\"showlakes\":true,\"showland\":true,\"subunitcolor\":\"white\"},\"hoverlabel\":{\"align\":\"left\"},\"hovermode\":\"closest\",\"mapbox\":{\"style\":\"light\"},\"paper_bgcolor\":\"white\",\"plot_bgcolor\":\"#E5ECF6\",\"polar\":{\"angularaxis\":{\"gridcolor\":\"white\",\"linecolor\":\"white\",\"ticks\":\"\"},\"bgcolor\":\"#E5ECF6\",\"radialaxis\":{\"gridcolor\":\"white\",\"linecolor\":\"white\",\"ticks\":\"\"}},\"scene\":{\"xaxis\":{\"backgroundcolor\":\"#E5ECF6\",\"gridcolor\":\"white\",\"gridwidth\":2,\"linecolor\":\"white\",\"showbackground\":true,\"ticks\":\"\",\"zerolinecolor\":\"white\"},\"yaxis\":{\"backgroundcolor\":\"#E5ECF6\",\"gridcolor\":\"white\",\"gridwidth\":2,\"linecolor\":\"white\",\"showbackground\":true,\"ticks\":\"\",\"zerolinecolor\":\"white\"},\"zaxis\":{\"backgroundcolor\":\"#E5ECF6\",\"gridcolor\":\"white\",\"gridwidth\":2,\"linecolor\":\"white\",\"showbackground\":true,\"ticks\":\"\",\"zerolinecolor\":\"white\"}},\"shapedefaults\":{\"line\":{\"color\":\"#2a3f5f\"}},\"ternary\":{\"aaxis\":{\"gridcolor\":\"white\",\"linecolor\":\"white\",\"ticks\":\"\"},\"baxis\":{\"gridcolor\":\"white\",\"linecolor\":\"white\",\"ticks\":\"\"},\"bgcolor\":\"#E5ECF6\",\"caxis\":{\"gridcolor\":\"white\",\"linecolor\":\"white\",\"ticks\":\"\"}},\"title\":{\"x\":0.05},\"xaxis\":{\"automargin\":true,\"gridcolor\":\"white\",\"linecolor\":\"white\",\"ticks\":\"\",\"title\":{\"standoff\":15},\"zerolinecolor\":\"white\",\"zerolinewidth\":2},\"yaxis\":{\"automargin\":true,\"gridcolor\":\"white\",\"linecolor\":\"white\",\"ticks\":\"\",\"title\":{\"standoff\":15},\"zerolinecolor\":\"white\",\"zerolinewidth\":2}}},\"title\":{\"text\":\"Share of clusters in Population vs Customers dataset\"},\"yaxis\":{\"title\":{\"text\":\"Share\",\"font\":{\"size\":16}},\"tickfont\":{\"size\":14}},\"xaxis\":{\"title\":{\"text\":\"Clusters\",\"font\":{\"size\":16}},\"tickfont\":{\"size\":14}},\"barmode\":\"group\"},                        {\"responsive\": true}                    ).then(function(){\n",
       "                            \n",
       "var gd = document.getElementById('f81da8b2-c755-4658-aabf-0e95fc37e67a');\n",
       "var x = new MutationObserver(function (mutations, observer) {{\n",
       "        var display = window.getComputedStyle(gd).display;\n",
       "        if (!display || display === 'none') {{\n",
       "            console.log([gd, 'removed!']);\n",
       "            Plotly.purge(gd);\n",
       "            observer.disconnect();\n",
       "        }}\n",
       "}});\n",
       "\n",
       "// Listen for the removal of the full notebook cells\n",
       "var notebookContainer = gd.closest('#notebook-container');\n",
       "if (notebookContainer) {{\n",
       "    x.observe(notebookContainer, {childList: true});\n",
       "}}\n",
       "\n",
       "// Listen for the clearing of the current output cell\n",
       "var outputEl = gd.closest('.output');\n",
       "if (outputEl) {{\n",
       "    x.observe(outputEl, {childList: true});\n",
       "}}\n",
       "\n",
       "                        })                };                });            </script>        </div>"
      ]
     },
     "metadata": {},
     "output_type": "display_data"
    }
   ],
   "source": [
    "fig = go.Figure(data=[\n",
    "    go.Bar(name='Population', x=clusters.cluster.astype(str), y=clusters.population_share),\n",
    "    go.Bar(name='Customer', x=clusters.cluster.astype(str), y=clusters.customers_share)\n",
    "])\n",
    "# Change the bar mode\n",
    "fig.update_layout(barmode='group',\n",
    "                  title_text='Share of clusters in Population vs Customers dataset',\n",
    "                  yaxis=dict(\n",
    "                        title='Share',\n",
    "                        titlefont_size=16,\n",
    "                        tickfont_size=14,\n",
    "                  ),\n",
    "                  xaxis=dict(\n",
    "                        title='Clusters',\n",
    "                        titlefont_size=16,\n",
    "                        tickfont_size=14,\n",
    "                  ),\n",
    "                 )\n",
    "fig.show()"
   ]
  },
  {
   "cell_type": "code",
   "execution_count": 139,
   "metadata": {},
   "outputs": [
    {
     "data": {
      "application/vnd.plotly.v1+json": {
       "config": {
        "plotlyServerURL": "https://plot.ly"
       },
       "data": [
        {
         "name": "Population",
         "type": "bar",
         "x": [
          "1",
          "2",
          "3",
          "4",
          "5",
          "6",
          "7",
          "8",
          "9",
          "10",
          "11",
          "12",
          "13"
         ],
         "y": [
          26.14196651052395,
          -1.9283220738199613,
          -3.856762782186911,
          -2.5986394296302144,
          4.049060117344035,
          -1.2046065903539407,
          -1.682016374688999,
          -5.009127989578381,
          -9.891983397719715,
          0.7815555229956459,
          8.316735307499322,
          -7.839972695452662,
          -5.277886124932174
         ]
        }
       ],
       "layout": {
        "autosize": true,
        "barmode": "group",
        "template": {
         "data": {
          "bar": [
           {
            "error_x": {
             "color": "#2a3f5f"
            },
            "error_y": {
             "color": "#2a3f5f"
            },
            "marker": {
             "line": {
              "color": "#E5ECF6",
              "width": 0.5
             },
             "pattern": {
              "fillmode": "overlay",
              "size": 10,
              "solidity": 0.2
             }
            },
            "type": "bar"
           }
          ],
          "barpolar": [
           {
            "marker": {
             "line": {
              "color": "#E5ECF6",
              "width": 0.5
             },
             "pattern": {
              "fillmode": "overlay",
              "size": 10,
              "solidity": 0.2
             }
            },
            "type": "barpolar"
           }
          ],
          "carpet": [
           {
            "aaxis": {
             "endlinecolor": "#2a3f5f",
             "gridcolor": "white",
             "linecolor": "white",
             "minorgridcolor": "white",
             "startlinecolor": "#2a3f5f"
            },
            "baxis": {
             "endlinecolor": "#2a3f5f",
             "gridcolor": "white",
             "linecolor": "white",
             "minorgridcolor": "white",
             "startlinecolor": "#2a3f5f"
            },
            "type": "carpet"
           }
          ],
          "choropleth": [
           {
            "colorbar": {
             "outlinewidth": 0,
             "ticks": ""
            },
            "type": "choropleth"
           }
          ],
          "contour": [
           {
            "colorbar": {
             "outlinewidth": 0,
             "ticks": ""
            },
            "colorscale": [
             [
              0,
              "#0d0887"
             ],
             [
              0.1111111111111111,
              "#46039f"
             ],
             [
              0.2222222222222222,
              "#7201a8"
             ],
             [
              0.3333333333333333,
              "#9c179e"
             ],
             [
              0.4444444444444444,
              "#bd3786"
             ],
             [
              0.5555555555555556,
              "#d8576b"
             ],
             [
              0.6666666666666666,
              "#ed7953"
             ],
             [
              0.7777777777777778,
              "#fb9f3a"
             ],
             [
              0.8888888888888888,
              "#fdca26"
             ],
             [
              1,
              "#f0f921"
             ]
            ],
            "type": "contour"
           }
          ],
          "contourcarpet": [
           {
            "colorbar": {
             "outlinewidth": 0,
             "ticks": ""
            },
            "type": "contourcarpet"
           }
          ],
          "heatmap": [
           {
            "colorbar": {
             "outlinewidth": 0,
             "ticks": ""
            },
            "colorscale": [
             [
              0,
              "#0d0887"
             ],
             [
              0.1111111111111111,
              "#46039f"
             ],
             [
              0.2222222222222222,
              "#7201a8"
             ],
             [
              0.3333333333333333,
              "#9c179e"
             ],
             [
              0.4444444444444444,
              "#bd3786"
             ],
             [
              0.5555555555555556,
              "#d8576b"
             ],
             [
              0.6666666666666666,
              "#ed7953"
             ],
             [
              0.7777777777777778,
              "#fb9f3a"
             ],
             [
              0.8888888888888888,
              "#fdca26"
             ],
             [
              1,
              "#f0f921"
             ]
            ],
            "type": "heatmap"
           }
          ],
          "heatmapgl": [
           {
            "colorbar": {
             "outlinewidth": 0,
             "ticks": ""
            },
            "colorscale": [
             [
              0,
              "#0d0887"
             ],
             [
              0.1111111111111111,
              "#46039f"
             ],
             [
              0.2222222222222222,
              "#7201a8"
             ],
             [
              0.3333333333333333,
              "#9c179e"
             ],
             [
              0.4444444444444444,
              "#bd3786"
             ],
             [
              0.5555555555555556,
              "#d8576b"
             ],
             [
              0.6666666666666666,
              "#ed7953"
             ],
             [
              0.7777777777777778,
              "#fb9f3a"
             ],
             [
              0.8888888888888888,
              "#fdca26"
             ],
             [
              1,
              "#f0f921"
             ]
            ],
            "type": "heatmapgl"
           }
          ],
          "histogram": [
           {
            "marker": {
             "pattern": {
              "fillmode": "overlay",
              "size": 10,
              "solidity": 0.2
             }
            },
            "type": "histogram"
           }
          ],
          "histogram2d": [
           {
            "colorbar": {
             "outlinewidth": 0,
             "ticks": ""
            },
            "colorscale": [
             [
              0,
              "#0d0887"
             ],
             [
              0.1111111111111111,
              "#46039f"
             ],
             [
              0.2222222222222222,
              "#7201a8"
             ],
             [
              0.3333333333333333,
              "#9c179e"
             ],
             [
              0.4444444444444444,
              "#bd3786"
             ],
             [
              0.5555555555555556,
              "#d8576b"
             ],
             [
              0.6666666666666666,
              "#ed7953"
             ],
             [
              0.7777777777777778,
              "#fb9f3a"
             ],
             [
              0.8888888888888888,
              "#fdca26"
             ],
             [
              1,
              "#f0f921"
             ]
            ],
            "type": "histogram2d"
           }
          ],
          "histogram2dcontour": [
           {
            "colorbar": {
             "outlinewidth": 0,
             "ticks": ""
            },
            "colorscale": [
             [
              0,
              "#0d0887"
             ],
             [
              0.1111111111111111,
              "#46039f"
             ],
             [
              0.2222222222222222,
              "#7201a8"
             ],
             [
              0.3333333333333333,
              "#9c179e"
             ],
             [
              0.4444444444444444,
              "#bd3786"
             ],
             [
              0.5555555555555556,
              "#d8576b"
             ],
             [
              0.6666666666666666,
              "#ed7953"
             ],
             [
              0.7777777777777778,
              "#fb9f3a"
             ],
             [
              0.8888888888888888,
              "#fdca26"
             ],
             [
              1,
              "#f0f921"
             ]
            ],
            "type": "histogram2dcontour"
           }
          ],
          "mesh3d": [
           {
            "colorbar": {
             "outlinewidth": 0,
             "ticks": ""
            },
            "type": "mesh3d"
           }
          ],
          "parcoords": [
           {
            "line": {
             "colorbar": {
              "outlinewidth": 0,
              "ticks": ""
             }
            },
            "type": "parcoords"
           }
          ],
          "pie": [
           {
            "automargin": true,
            "type": "pie"
           }
          ],
          "scatter": [
           {
            "marker": {
             "colorbar": {
              "outlinewidth": 0,
              "ticks": ""
             }
            },
            "type": "scatter"
           }
          ],
          "scatter3d": [
           {
            "line": {
             "colorbar": {
              "outlinewidth": 0,
              "ticks": ""
             }
            },
            "marker": {
             "colorbar": {
              "outlinewidth": 0,
              "ticks": ""
             }
            },
            "type": "scatter3d"
           }
          ],
          "scattercarpet": [
           {
            "marker": {
             "colorbar": {
              "outlinewidth": 0,
              "ticks": ""
             }
            },
            "type": "scattercarpet"
           }
          ],
          "scattergeo": [
           {
            "marker": {
             "colorbar": {
              "outlinewidth": 0,
              "ticks": ""
             }
            },
            "type": "scattergeo"
           }
          ],
          "scattergl": [
           {
            "marker": {
             "colorbar": {
              "outlinewidth": 0,
              "ticks": ""
             }
            },
            "type": "scattergl"
           }
          ],
          "scattermapbox": [
           {
            "marker": {
             "colorbar": {
              "outlinewidth": 0,
              "ticks": ""
             }
            },
            "type": "scattermapbox"
           }
          ],
          "scatterpolar": [
           {
            "marker": {
             "colorbar": {
              "outlinewidth": 0,
              "ticks": ""
             }
            },
            "type": "scatterpolar"
           }
          ],
          "scatterpolargl": [
           {
            "marker": {
             "colorbar": {
              "outlinewidth": 0,
              "ticks": ""
             }
            },
            "type": "scatterpolargl"
           }
          ],
          "scatterternary": [
           {
            "marker": {
             "colorbar": {
              "outlinewidth": 0,
              "ticks": ""
             }
            },
            "type": "scatterternary"
           }
          ],
          "surface": [
           {
            "colorbar": {
             "outlinewidth": 0,
             "ticks": ""
            },
            "colorscale": [
             [
              0,
              "#0d0887"
             ],
             [
              0.1111111111111111,
              "#46039f"
             ],
             [
              0.2222222222222222,
              "#7201a8"
             ],
             [
              0.3333333333333333,
              "#9c179e"
             ],
             [
              0.4444444444444444,
              "#bd3786"
             ],
             [
              0.5555555555555556,
              "#d8576b"
             ],
             [
              0.6666666666666666,
              "#ed7953"
             ],
             [
              0.7777777777777778,
              "#fb9f3a"
             ],
             [
              0.8888888888888888,
              "#fdca26"
             ],
             [
              1,
              "#f0f921"
             ]
            ],
            "type": "surface"
           }
          ],
          "table": [
           {
            "cells": {
             "fill": {
              "color": "#EBF0F8"
             },
             "line": {
              "color": "white"
             }
            },
            "header": {
             "fill": {
              "color": "#C8D4E3"
             },
             "line": {
              "color": "white"
             }
            },
            "type": "table"
           }
          ]
         },
         "layout": {
          "annotationdefaults": {
           "arrowcolor": "#2a3f5f",
           "arrowhead": 0,
           "arrowwidth": 1
          },
          "autotypenumbers": "strict",
          "coloraxis": {
           "colorbar": {
            "outlinewidth": 0,
            "ticks": ""
           }
          },
          "colorscale": {
           "diverging": [
            [
             0,
             "#8e0152"
            ],
            [
             0.1,
             "#c51b7d"
            ],
            [
             0.2,
             "#de77ae"
            ],
            [
             0.3,
             "#f1b6da"
            ],
            [
             0.4,
             "#fde0ef"
            ],
            [
             0.5,
             "#f7f7f7"
            ],
            [
             0.6,
             "#e6f5d0"
            ],
            [
             0.7,
             "#b8e186"
            ],
            [
             0.8,
             "#7fbc41"
            ],
            [
             0.9,
             "#4d9221"
            ],
            [
             1,
             "#276419"
            ]
           ],
           "sequential": [
            [
             0,
             "#0d0887"
            ],
            [
             0.1111111111111111,
             "#46039f"
            ],
            [
             0.2222222222222222,
             "#7201a8"
            ],
            [
             0.3333333333333333,
             "#9c179e"
            ],
            [
             0.4444444444444444,
             "#bd3786"
            ],
            [
             0.5555555555555556,
             "#d8576b"
            ],
            [
             0.6666666666666666,
             "#ed7953"
            ],
            [
             0.7777777777777778,
             "#fb9f3a"
            ],
            [
             0.8888888888888888,
             "#fdca26"
            ],
            [
             1,
             "#f0f921"
            ]
           ],
           "sequentialminus": [
            [
             0,
             "#0d0887"
            ],
            [
             0.1111111111111111,
             "#46039f"
            ],
            [
             0.2222222222222222,
             "#7201a8"
            ],
            [
             0.3333333333333333,
             "#9c179e"
            ],
            [
             0.4444444444444444,
             "#bd3786"
            ],
            [
             0.5555555555555556,
             "#d8576b"
            ],
            [
             0.6666666666666666,
             "#ed7953"
            ],
            [
             0.7777777777777778,
             "#fb9f3a"
            ],
            [
             0.8888888888888888,
             "#fdca26"
            ],
            [
             1,
             "#f0f921"
            ]
           ]
          },
          "colorway": [
           "#636efa",
           "#EF553B",
           "#00cc96",
           "#ab63fa",
           "#FFA15A",
           "#19d3f3",
           "#FF6692",
           "#B6E880",
           "#FF97FF",
           "#FECB52"
          ],
          "font": {
           "color": "#2a3f5f"
          },
          "geo": {
           "bgcolor": "white",
           "lakecolor": "white",
           "landcolor": "#E5ECF6",
           "showlakes": true,
           "showland": true,
           "subunitcolor": "white"
          },
          "hoverlabel": {
           "align": "left"
          },
          "hovermode": "closest",
          "mapbox": {
           "style": "light"
          },
          "paper_bgcolor": "white",
          "plot_bgcolor": "#E5ECF6",
          "polar": {
           "angularaxis": {
            "gridcolor": "white",
            "linecolor": "white",
            "ticks": ""
           },
           "bgcolor": "#E5ECF6",
           "radialaxis": {
            "gridcolor": "white",
            "linecolor": "white",
            "ticks": ""
           }
          },
          "scene": {
           "xaxis": {
            "backgroundcolor": "#E5ECF6",
            "gridcolor": "white",
            "gridwidth": 2,
            "linecolor": "white",
            "showbackground": true,
            "ticks": "",
            "zerolinecolor": "white"
           },
           "yaxis": {
            "backgroundcolor": "#E5ECF6",
            "gridcolor": "white",
            "gridwidth": 2,
            "linecolor": "white",
            "showbackground": true,
            "ticks": "",
            "zerolinecolor": "white"
           },
           "zaxis": {
            "backgroundcolor": "#E5ECF6",
            "gridcolor": "white",
            "gridwidth": 2,
            "linecolor": "white",
            "showbackground": true,
            "ticks": "",
            "zerolinecolor": "white"
           }
          },
          "shapedefaults": {
           "line": {
            "color": "#2a3f5f"
           }
          },
          "ternary": {
           "aaxis": {
            "gridcolor": "white",
            "linecolor": "white",
            "ticks": ""
           },
           "baxis": {
            "gridcolor": "white",
            "linecolor": "white",
            "ticks": ""
           },
           "bgcolor": "#E5ECF6",
           "caxis": {
            "gridcolor": "white",
            "linecolor": "white",
            "ticks": ""
           }
          },
          "title": {
           "x": 0.05
          },
          "xaxis": {
           "automargin": true,
           "gridcolor": "white",
           "linecolor": "white",
           "ticks": "",
           "title": {
            "standoff": 15
           },
           "zerolinecolor": "white",
           "zerolinewidth": 2
          },
          "yaxis": {
           "automargin": true,
           "gridcolor": "white",
           "linecolor": "white",
           "ticks": "",
           "title": {
            "standoff": 15
           },
           "zerolinecolor": "white",
           "zerolinewidth": 2
          }
         }
        },
        "title": {
         "text": "Difference between Population vs Customers dataset"
        },
        "xaxis": {
         "autorange": true,
         "range": [
          -0.5,
          12.5
         ],
         "tickfont": {
          "size": 14
         },
         "title": {
          "font": {
           "size": 16
          },
          "text": "Clusters"
         },
         "type": "category"
        },
        "yaxis": {
         "autorange": true,
         "range": [
          -11.893869503733251,
          28.143852616537487
         ],
         "tickfont": {
          "size": 14
         },
         "title": {
          "font": {
           "size": 16
          },
          "text": "diff_share"
         },
         "type": "linear"
        }
       }
      },
      "image/png": "[encoded data removed]",
      "text/html": [
       "<div>                            <div id=\"27cdeed9-9542-4336-b80e-d7a24bf739a1\" class=\"plotly-graph-div\" style=\"height:525px; width:100%;\"></div>            <script type=\"text/javascript\">                require([\"plotly\"], function(Plotly) {                    window.PLOTLYENV=window.PLOTLYENV || {};                                    if (document.getElementById(\"27cdeed9-9542-4336-b80e-d7a24bf739a1\")) {                    Plotly.newPlot(                        \"27cdeed9-9542-4336-b80e-d7a24bf739a1\",                        [{\"name\":\"Population\",\"x\":[\"1\",\"2\",\"3\",\"4\",\"5\",\"6\",\"7\",\"8\",\"9\",\"10\",\"11\",\"12\",\"13\"],\"y\":[26.14196651052395,-1.9283220738199613,-3.856762782186911,-2.5986394296302144,4.049060117344035,-1.2046065903539407,-1.682016374688999,-5.009127989578381,-9.891983397719715,0.7815555229956459,8.316735307499322,-7.839972695452662,-5.277886124932174],\"type\":\"bar\"}],                        {\"template\":{\"data\":{\"bar\":[{\"error_x\":{\"color\":\"#2a3f5f\"},\"error_y\":{\"color\":\"#2a3f5f\"},\"marker\":{\"line\":{\"color\":\"#E5ECF6\",\"width\":0.5},\"pattern\":{\"fillmode\":\"overlay\",\"size\":10,\"solidity\":0.2}},\"type\":\"bar\"}],\"barpolar\":[{\"marker\":{\"line\":{\"color\":\"#E5ECF6\",\"width\":0.5},\"pattern\":{\"fillmode\":\"overlay\",\"size\":10,\"solidity\":0.2}},\"type\":\"barpolar\"}],\"carpet\":[{\"aaxis\":{\"endlinecolor\":\"#2a3f5f\",\"gridcolor\":\"white\",\"linecolor\":\"white\",\"minorgridcolor\":\"white\",\"startlinecolor\":\"#2a3f5f\"},\"baxis\":{\"endlinecolor\":\"#2a3f5f\",\"gridcolor\":\"white\",\"linecolor\":\"white\",\"minorgridcolor\":\"white\",\"startlinecolor\":\"#2a3f5f\"},\"type\":\"carpet\"}],\"choropleth\":[{\"colorbar\":{\"outlinewidth\":0,\"ticks\":\"\"},\"type\":\"choropleth\"}],\"contour\":[{\"colorbar\":{\"outlinewidth\":0,\"ticks\":\"\"},\"colorscale\":[[0.0,\"#0d0887\"],[0.1111111111111111,\"#46039f\"],[0.2222222222222222,\"#7201a8\"],[0.3333333333333333,\"#9c179e\"],[0.4444444444444444,\"#bd3786\"],[0.5555555555555556,\"#d8576b\"],[0.6666666666666666,\"#ed7953\"],[0.7777777777777778,\"#fb9f3a\"],[0.8888888888888888,\"#fdca26\"],[1.0,\"#f0f921\"]],\"type\":\"contour\"}],\"contourcarpet\":[{\"colorbar\":{\"outlinewidth\":0,\"ticks\":\"\"},\"type\":\"contourcarpet\"}],\"heatmap\":[{\"colorbar\":{\"outlinewidth\":0,\"ticks\":\"\"},\"colorscale\":[[0.0,\"#0d0887\"],[0.1111111111111111,\"#46039f\"],[0.2222222222222222,\"#7201a8\"],[0.3333333333333333,\"#9c179e\"],[0.4444444444444444,\"#bd3786\"],[0.5555555555555556,\"#d8576b\"],[0.6666666666666666,\"#ed7953\"],[0.7777777777777778,\"#fb9f3a\"],[0.8888888888888888,\"#fdca26\"],[1.0,\"#f0f921\"]],\"type\":\"heatmap\"}],\"heatmapgl\":[{\"colorbar\":{\"outlinewidth\":0,\"ticks\":\"\"},\"colorscale\":[[0.0,\"#0d0887\"],[0.1111111111111111,\"#46039f\"],[0.2222222222222222,\"#7201a8\"],[0.3333333333333333,\"#9c179e\"],[0.4444444444444444,\"#bd3786\"],[0.5555555555555556,\"#d8576b\"],[0.6666666666666666,\"#ed7953\"],[0.7777777777777778,\"#fb9f3a\"],[0.8888888888888888,\"#fdca26\"],[1.0,\"#f0f921\"]],\"type\":\"heatmapgl\"}],\"histogram\":[{\"marker\":{\"pattern\":{\"fillmode\":\"overlay\",\"size\":10,\"solidity\":0.2}},\"type\":\"histogram\"}],\"histogram2d\":[{\"colorbar\":{\"outlinewidth\":0,\"ticks\":\"\"},\"colorscale\":[[0.0,\"#0d0887\"],[0.1111111111111111,\"#46039f\"],[0.2222222222222222,\"#7201a8\"],[0.3333333333333333,\"#9c179e\"],[0.4444444444444444,\"#bd3786\"],[0.5555555555555556,\"#d8576b\"],[0.6666666666666666,\"#ed7953\"],[0.7777777777777778,\"#fb9f3a\"],[0.8888888888888888,\"#fdca26\"],[1.0,\"#f0f921\"]],\"type\":\"histogram2d\"}],\"histogram2dcontour\":[{\"colorbar\":{\"outlinewidth\":0,\"ticks\":\"\"},\"colorscale\":[[0.0,\"#0d0887\"],[0.1111111111111111,\"#46039f\"],[0.2222222222222222,\"#7201a8\"],[0.3333333333333333,\"#9c179e\"],[0.4444444444444444,\"#bd3786\"],[0.5555555555555556,\"#d8576b\"],[0.6666666666666666,\"#ed7953\"],[0.7777777777777778,\"#fb9f3a\"],[0.8888888888888888,\"#fdca26\"],[1.0,\"#f0f921\"]],\"type\":\"histogram2dcontour\"}],\"mesh3d\":[{\"colorbar\":{\"outlinewidth\":0,\"ticks\":\"\"},\"type\":\"mesh3d\"}],\"parcoords\":[{\"line\":{\"colorbar\":{\"outlinewidth\":0,\"ticks\":\"\"}},\"type\":\"parcoords\"}],\"pie\":[{\"automargin\":true,\"type\":\"pie\"}],\"scatter\":[{\"marker\":{\"colorbar\":{\"outlinewidth\":0,\"ticks\":\"\"}},\"type\":\"scatter\"}],\"scatter3d\":[{\"line\":{\"colorbar\":{\"outlinewidth\":0,\"ticks\":\"\"}},\"marker\":{\"colorbar\":{\"outlinewidth\":0,\"ticks\":\"\"}},\"type\":\"scatter3d\"}],\"scattercarpet\":[{\"marker\":{\"colorbar\":{\"outlinewidth\":0,\"ticks\":\"\"}},\"type\":\"scattercarpet\"}],\"scattergeo\":[{\"marker\":{\"colorbar\":{\"outlinewidth\":0,\"ticks\":\"\"}},\"type\":\"scattergeo\"}],\"scattergl\":[{\"marker\":{\"colorbar\":{\"outlinewidth\":0,\"ticks\":\"\"}},\"type\":\"scattergl\"}],\"scattermapbox\":[{\"marker\":{\"colorbar\":{\"outlinewidth\":0,\"ticks\":\"\"}},\"type\":\"scattermapbox\"}],\"scatterpolar\":[{\"marker\":{\"colorbar\":{\"outlinewidth\":0,\"ticks\":\"\"}},\"type\":\"scatterpolar\"}],\"scatterpolargl\":[{\"marker\":{\"colorbar\":{\"outlinewidth\":0,\"ticks\":\"\"}},\"type\":\"scatterpolargl\"}],\"scatterternary\":[{\"marker\":{\"colorbar\":{\"outlinewidth\":0,\"ticks\":\"\"}},\"type\":\"scatterternary\"}],\"surface\":[{\"colorbar\":{\"outlinewidth\":0,\"ticks\":\"\"},\"colorscale\":[[0.0,\"#0d0887\"],[0.1111111111111111,\"#46039f\"],[0.2222222222222222,\"#7201a8\"],[0.3333333333333333,\"#9c179e\"],[0.4444444444444444,\"#bd3786\"],[0.5555555555555556,\"#d8576b\"],[0.6666666666666666,\"#ed7953\"],[0.7777777777777778,\"#fb9f3a\"],[0.8888888888888888,\"#fdca26\"],[1.0,\"#f0f921\"]],\"type\":\"surface\"}],\"table\":[{\"cells\":{\"fill\":{\"color\":\"#EBF0F8\"},\"line\":{\"color\":\"white\"}},\"header\":{\"fill\":{\"color\":\"#C8D4E3\"},\"line\":{\"color\":\"white\"}},\"type\":\"table\"}]},\"layout\":{\"annotationdefaults\":{\"arrowcolor\":\"#2a3f5f\",\"arrowhead\":0,\"arrowwidth\":1},\"autotypenumbers\":\"strict\",\"coloraxis\":{\"colorbar\":{\"outlinewidth\":0,\"ticks\":\"\"}},\"colorscale\":{\"diverging\":[[0,\"#8e0152\"],[0.1,\"#c51b7d\"],[0.2,\"#de77ae\"],[0.3,\"#f1b6da\"],[0.4,\"#fde0ef\"],[0.5,\"#f7f7f7\"],[0.6,\"#e6f5d0\"],[0.7,\"#b8e186\"],[0.8,\"#7fbc41\"],[0.9,\"#4d9221\"],[1,\"#276419\"]],\"sequential\":[[0.0,\"#0d0887\"],[0.1111111111111111,\"#46039f\"],[0.2222222222222222,\"#7201a8\"],[0.3333333333333333,\"#9c179e\"],[0.4444444444444444,\"#bd3786\"],[0.5555555555555556,\"#d8576b\"],[0.6666666666666666,\"#ed7953\"],[0.7777777777777778,\"#fb9f3a\"],[0.8888888888888888,\"#fdca26\"],[1.0,\"#f0f921\"]],\"sequentialminus\":[[0.0,\"#0d0887\"],[0.1111111111111111,\"#46039f\"],[0.2222222222222222,\"#7201a8\"],[0.3333333333333333,\"#9c179e\"],[0.4444444444444444,\"#bd3786\"],[0.5555555555555556,\"#d8576b\"],[0.6666666666666666,\"#ed7953\"],[0.7777777777777778,\"#fb9f3a\"],[0.8888888888888888,\"#fdca26\"],[1.0,\"#f0f921\"]]},\"colorway\":[\"#636efa\",\"#EF553B\",\"#00cc96\",\"#ab63fa\",\"#FFA15A\",\"#19d3f3\",\"#FF6692\",\"#B6E880\",\"#FF97FF\",\"#FECB52\"],\"font\":{\"color\":\"#2a3f5f\"},\"geo\":{\"bgcolor\":\"white\",\"lakecolor\":\"white\",\"landcolor\":\"#E5ECF6\",\"showlakes\":true,\"showland\":true,\"subunitcolor\":\"white\"},\"hoverlabel\":{\"align\":\"left\"},\"hovermode\":\"closest\",\"mapbox\":{\"style\":\"light\"},\"paper_bgcolor\":\"white\",\"plot_bgcolor\":\"#E5ECF6\",\"polar\":{\"angularaxis\":{\"gridcolor\":\"white\",\"linecolor\":\"white\",\"ticks\":\"\"},\"bgcolor\":\"#E5ECF6\",\"radialaxis\":{\"gridcolor\":\"white\",\"linecolor\":\"white\",\"ticks\":\"\"}},\"scene\":{\"xaxis\":{\"backgroundcolor\":\"#E5ECF6\",\"gridcolor\":\"white\",\"gridwidth\":2,\"linecolor\":\"white\",\"showbackground\":true,\"ticks\":\"\",\"zerolinecolor\":\"white\"},\"yaxis\":{\"backgroundcolor\":\"#E5ECF6\",\"gridcolor\":\"white\",\"gridwidth\":2,\"linecolor\":\"white\",\"showbackground\":true,\"ticks\":\"\",\"zerolinecolor\":\"white\"},\"zaxis\":{\"backgroundcolor\":\"#E5ECF6\",\"gridcolor\":\"white\",\"gridwidth\":2,\"linecolor\":\"white\",\"showbackground\":true,\"ticks\":\"\",\"zerolinecolor\":\"white\"}},\"shapedefaults\":{\"line\":{\"color\":\"#2a3f5f\"}},\"ternary\":{\"aaxis\":{\"gridcolor\":\"white\",\"linecolor\":\"white\",\"ticks\":\"\"},\"baxis\":{\"gridcolor\":\"white\",\"linecolor\":\"white\",\"ticks\":\"\"},\"bgcolor\":\"#E5ECF6\",\"caxis\":{\"gridcolor\":\"white\",\"linecolor\":\"white\",\"ticks\":\"\"}},\"title\":{\"x\":0.05},\"xaxis\":{\"automargin\":true,\"gridcolor\":\"white\",\"linecolor\":\"white\",\"ticks\":\"\",\"title\":{\"standoff\":15},\"zerolinecolor\":\"white\",\"zerolinewidth\":2},\"yaxis\":{\"automargin\":true,\"gridcolor\":\"white\",\"linecolor\":\"white\",\"ticks\":\"\",\"title\":{\"standoff\":15},\"zerolinecolor\":\"white\",\"zerolinewidth\":2}}},\"title\":{\"text\":\"Difference between Population vs Customers dataset\"},\"yaxis\":{\"title\":{\"text\":\"diff_share\",\"font\":{\"size\":16}},\"tickfont\":{\"size\":14}},\"xaxis\":{\"title\":{\"text\":\"Clusters\",\"font\":{\"size\":16}},\"tickfont\":{\"size\":14}},\"barmode\":\"group\"},                        {\"responsive\": true}                    ).then(function(){\n",
       "                            \n",
       "var gd = document.getElementById('27cdeed9-9542-4336-b80e-d7a24bf739a1');\n",
       "var x = new MutationObserver(function (mutations, observer) {{\n",
       "        var display = window.getComputedStyle(gd).display;\n",
       "        if (!display || display === 'none') {{\n",
       "            console.log([gd, 'removed!']);\n",
       "            Plotly.purge(gd);\n",
       "            observer.disconnect();\n",
       "        }}\n",
       "}});\n",
       "\n",
       "// Listen for the removal of the full notebook cells\n",
       "var notebookContainer = gd.closest('#notebook-container');\n",
       "if (notebookContainer) {{\n",
       "    x.observe(notebookContainer, {childList: true});\n",
       "}}\n",
       "\n",
       "// Listen for the clearing of the current output cell\n",
       "var outputEl = gd.closest('.output');\n",
       "if (outputEl) {{\n",
       "    x.observe(outputEl, {childList: true});\n",
       "}}\n",
       "\n",
       "                        })                };                });            </script>        </div>"
      ]
     },
     "metadata": {},
     "output_type": "display_data"
    }
   ],
   "source": [
    "fig = go.Figure(data=[\n",
    "    go.Bar(name='Population', x=clusters.cluster.astype(str), y=clusters.diff_share)\n",
    "])\n",
    "# Change the bar mode\n",
    "fig.update_layout(barmode='group',\n",
    "                  title_text='Difference between Population vs Customers dataset',\n",
    "                  yaxis=dict(\n",
    "                        title='diff_share',\n",
    "                        titlefont_size=16,\n",
    "                        tickfont_size=14,\n",
    "                  ),\n",
    "                  xaxis=dict(\n",
    "                        title='Clusters',\n",
    "                        titlefont_size=16,\n",
    "                        tickfont_size=14,\n",
    "                  ),\n",
    "                 )\n",
    "fig.show()"
   ]
  },
  {
   "cell_type": "markdown",
   "metadata": {},
   "source": [
    "It seems that 1st group targetted most. 11th, 5th and 10th clusters folow it accordingly. 9th cluster customers are outside of the company focus group because they are dominating population but not in compnies customer segment. 12th and 13th groups folow it accordingly.\n",
    "\n",
    "Let's look at clusters's details to understand the groups behavior"
   ]
  },
  {
   "cell_type": "code",
   "execution_count": 142,
   "metadata": {},
   "outputs": [],
   "source": [
    "def get_clusters_attributes(cluster_pipeline, numerical_cols, column_names):\n",
    "    \"\"\"\n",
    "    Function transforms clusters centers, by performin pca inverse transform,reverse scale for numerical(num_attributes) \n",
    "    \n",
    "    Input:\n",
    "        cluster_pipeline: object of cluster_pipeline\n",
    "        num_attributes: list of numerical attributes which were rescaled\n",
    "        column_names: names of all columns after Column Transformer operation\n",
    "        \n",
    "        \n",
    "    Output:\n",
    "        cluster_centers_df (DataFrame): DataFrame of cluster_centers with their attributes values\n",
    "        \n",
    "    \"\"\"\n",
    "\n",
    "    pca_components = cluster_pipeline.named_steps['reduce']\n",
    "    kmeans = cluster_pipeline.named_steps['cluster']\n",
    "    transformer =  cluster_pipeline.named_steps['transform']\n",
    "\n",
    "    cluster_centers = pca_components.inverse_transform(kmeans.cluster_centers_)\n",
    "    cluster_centers_df = pd.DataFrame(cluster_centers, columns=column_names)\n",
    "\n",
    "    num_scale = transformer.named_transformers_['numerical'].named_steps['num_scale']\n",
    "    cluster_centers_df[numerical_cols] = num_scale.inverse_transform(cluster_centers_df[numerical_cols])\n",
    "\n",
    "    return cluster_centers_df "
   ]
  },
  {
   "cell_type": "code",
   "execution_count": 172,
   "metadata": {},
   "outputs": [],
   "source": [
    "numerical_cols = list(set(azdias_cleaned.columns) - set(binary_cols) - set(categorical_cols))\n",
    "dummy_cols = list(column_transformer.transformers_[1][1].named_steps['onehot'].get_feature_names(categorical_cols))\n",
    "column_names = set(numerical_cols) | set(binary_cols) | set(dummy_cols)\n",
    "cluster_centers_df = get_clusters_attributes(cluster_pipeline, numerical_cols, column_names)"
   ]
  },
  {
   "cell_type": "code",
   "execution_count": 194,
   "metadata": {},
   "outputs": [],
   "source": [
    "comparison_df = cluster_centers_df.T[[1,11,9,12]]"
   ]
  },
  {
   "cell_type": "code",
   "execution_count": 195,
   "metadata": {},
   "outputs": [],
   "source": [
    "comparison_df.columns=['interested_cluster_1','interested_cluster_11','not_interested_cluster_9','not_interested_cluster_12']"
   ]
  },
  {
   "cell_type": "code",
   "execution_count": 196,
   "metadata": {},
   "outputs": [
    {
     "name": "stderr",
     "output_type": "stream",
     "text": [
      "/var/folders/qq/dtt36pfs05b4gm5l8vjdk1bc0000gn/T/ipykernel_94728/1611094902.py:4: FutureWarning:\n",
      "\n",
      "Dropping of nuisance columns in DataFrame reductions (with 'numeric_only=None') is deprecated; in a future version this will raise TypeError.  Select only valid columns before calling the reduction.\n",
      "\n"
     ]
    },
    {
     "data": {
      "text/html": [
       "<div>\n",
       "<style scoped>\n",
       "    .dataframe tbody tr th:only-of-type {\n",
       "        vertical-align: middle;\n",
       "    }\n",
       "\n",
       "    .dataframe tbody tr th {\n",
       "        vertical-align: top;\n",
       "    }\n",
       "\n",
       "    .dataframe thead th {\n",
       "        text-align: right;\n",
       "    }\n",
       "</style>\n",
       "<table border=\"1\" class=\"dataframe\">\n",
       "  <thead>\n",
       "    <tr style=\"text-align: right;\">\n",
       "      <th></th>\n",
       "      <th>Attribute</th>\n",
       "      <th>interested_cluster_1</th>\n",
       "      <th>interested_cluster_11</th>\n",
       "      <th>not_interested_cluster_9</th>\n",
       "      <th>not_interested_cluster_12</th>\n",
       "    </tr>\n",
       "  </thead>\n",
       "  <tbody>\n",
       "    <tr>\n",
       "      <th>17</th>\n",
       "      <td>LNR</td>\n",
       "      <td>655026.752720</td>\n",
       "      <td>652236.260177</td>\n",
       "      <td>649125.931917</td>\n",
       "      <td>656533.384413</td>\n",
       "    </tr>\n",
       "    <tr>\n",
       "      <th>40</th>\n",
       "      <td>EINGEZOGENAM_HH_JAHR</td>\n",
       "      <td>2005.234318</td>\n",
       "      <td>2004.746256</td>\n",
       "      <td>2002.984422</td>\n",
       "      <td>1998.153626</td>\n",
       "    </tr>\n",
       "    <tr>\n",
       "      <th>55</th>\n",
       "      <td>ANZ_HAUSHALTE_AKTIV</td>\n",
       "      <td>6.013276</td>\n",
       "      <td>10.585922</td>\n",
       "      <td>6.216955</td>\n",
       "      <td>7.297482</td>\n",
       "    </tr>\n",
       "    <tr>\n",
       "      <th>67</th>\n",
       "      <td>ALTER_HH</td>\n",
       "      <td>10.632381</td>\n",
       "      <td>13.574433</td>\n",
       "      <td>9.114098</td>\n",
       "      <td>12.818555</td>\n",
       "    </tr>\n",
       "    <tr>\n",
       "      <th>83</th>\n",
       "      <td>GEBURTSJAHR</td>\n",
       "      <td>679.955966</td>\n",
       "      <td>595.566755</td>\n",
       "      <td>2123.094327</td>\n",
       "      <td>217.495125</td>\n",
       "    </tr>\n",
       "    <tr>\n",
       "      <th>84</th>\n",
       "      <td>KBA13_ANZAHL_PKW</td>\n",
       "      <td>631.058996</td>\n",
       "      <td>687.242565</td>\n",
       "      <td>467.580051</td>\n",
       "      <td>786.378252</td>\n",
       "    </tr>\n",
       "  </tbody>\n",
       "</table>\n",
       "</div>"
      ],
      "text/plain": [
       "               Attribute  interested_cluster_1  interested_cluster_11  \\\n",
       "17                   LNR         655026.752720          652236.260177   \n",
       "40  EINGEZOGENAM_HH_JAHR           2005.234318            2004.746256   \n",
       "55   ANZ_HAUSHALTE_AKTIV              6.013276              10.585922   \n",
       "67              ALTER_HH             10.632381              13.574433   \n",
       "83           GEBURTSJAHR            679.955966             595.566755   \n",
       "84      KBA13_ANZAHL_PKW            631.058996             687.242565   \n",
       "\n",
       "    not_interested_cluster_9  not_interested_cluster_12  \n",
       "17             649125.931917              656533.384413  \n",
       "40               2002.984422                1998.153626  \n",
       "55                  6.216955                   7.297482  \n",
       "67                  9.114098                  12.818555  \n",
       "83               2123.094327                 217.495125  \n",
       "84                467.580051                 786.378252  "
      ]
     },
     "execution_count": 196,
     "metadata": {},
     "output_type": "execute_result"
    }
   ],
   "source": [
    "comparison_df = comparison_df.reset_index()\n",
    "comparison_df.columns = ['Attribute', 'interested_cluster_1', 'interested_cluster_11',\n",
    "       'not_interested_cluster_9', 'not_interested_cluster_12']\n",
    "comparison_df[comparison_df.std(axis=1)>2]"
   ]
  },
  {
   "cell_type": "code",
   "execution_count": 200,
   "metadata": {},
   "outputs": [
    {
     "name": "stderr",
     "output_type": "stream",
     "text": [
      "/var/folders/qq/dtt36pfs05b4gm5l8vjdk1bc0000gn/T/ipykernel_94728/4240380525.py:1: FutureWarning:\n",
      "\n",
      "Dropping of nuisance columns in DataFrame reductions (with 'numeric_only=None') is deprecated; in a future version this will raise TypeError.  Select only valid columns before calling the reduction.\n",
      "\n"
     ]
    },
    {
     "data": {
      "text/html": [
       "<div>\n",
       "<style scoped>\n",
       "    .dataframe tbody tr th:only-of-type {\n",
       "        vertical-align: middle;\n",
       "    }\n",
       "\n",
       "    .dataframe tbody tr th {\n",
       "        vertical-align: top;\n",
       "    }\n",
       "\n",
       "    .dataframe thead th {\n",
       "        text-align: right;\n",
       "    }\n",
       "</style>\n",
       "<table border=\"1\" class=\"dataframe\">\n",
       "  <thead>\n",
       "    <tr style=\"text-align: right;\">\n",
       "      <th></th>\n",
       "      <th>Attribute</th>\n",
       "      <th>interested_cluster_1</th>\n",
       "      <th>interested_cluster_11</th>\n",
       "      <th>not_interested_cluster_9</th>\n",
       "      <th>not_interested_cluster_12</th>\n",
       "      <th>Description</th>\n",
       "      <th>Value</th>\n",
       "      <th>Meaning</th>\n",
       "    </tr>\n",
       "  </thead>\n",
       "  <tbody>\n",
       "    <tr>\n",
       "      <th>0</th>\n",
       "      <td>LNR</td>\n",
       "      <td>655026.752720</td>\n",
       "      <td>652236.260177</td>\n",
       "      <td>649125.931917</td>\n",
       "      <td>656533.384413</td>\n",
       "      <td>NaN</td>\n",
       "      <td>NaN</td>\n",
       "      <td>NaN</td>\n",
       "    </tr>\n",
       "    <tr>\n",
       "      <th>1</th>\n",
       "      <td>EINGEZOGENAM_HH_JAHR</td>\n",
       "      <td>2005.234318</td>\n",
       "      <td>2004.746256</td>\n",
       "      <td>2002.984422</td>\n",
       "      <td>1998.153626</td>\n",
       "      <td>NaN</td>\n",
       "      <td>NaN</td>\n",
       "      <td>NaN</td>\n",
       "    </tr>\n",
       "    <tr>\n",
       "      <th>2</th>\n",
       "      <td>ANZ_HAUSHALTE_AKTIV</td>\n",
       "      <td>6.013276</td>\n",
       "      <td>10.585922</td>\n",
       "      <td>6.216955</td>\n",
       "      <td>7.297482</td>\n",
       "      <td>number of households in the building</td>\n",
       "      <td>…</td>\n",
       "      <td>numeric value (typically coded from 1-10)</td>\n",
       "    </tr>\n",
       "    <tr>\n",
       "      <th>3</th>\n",
       "      <td>ALTER_HH</td>\n",
       "      <td>10.632381</td>\n",
       "      <td>13.574433</td>\n",
       "      <td>9.114098</td>\n",
       "      <td>12.818555</td>\n",
       "      <td>main age within the household</td>\n",
       "      <td>0</td>\n",
       "      <td>unknown / no main age detectable</td>\n",
       "    </tr>\n",
       "    <tr>\n",
       "      <th>4</th>\n",
       "      <td>ALTER_HH</td>\n",
       "      <td>10.632381</td>\n",
       "      <td>13.574433</td>\n",
       "      <td>9.114098</td>\n",
       "      <td>12.818555</td>\n",
       "      <td>main age within the household</td>\n",
       "      <td>1</td>\n",
       "      <td>01.01.1895 bis 31.12.1899</td>\n",
       "    </tr>\n",
       "    <tr>\n",
       "      <th>5</th>\n",
       "      <td>ALTER_HH</td>\n",
       "      <td>10.632381</td>\n",
       "      <td>13.574433</td>\n",
       "      <td>9.114098</td>\n",
       "      <td>12.818555</td>\n",
       "      <td>main age within the household</td>\n",
       "      <td>2</td>\n",
       "      <td>01.01.1900 bis 31.12.1904</td>\n",
       "    </tr>\n",
       "    <tr>\n",
       "      <th>6</th>\n",
       "      <td>ALTER_HH</td>\n",
       "      <td>10.632381</td>\n",
       "      <td>13.574433</td>\n",
       "      <td>9.114098</td>\n",
       "      <td>12.818555</td>\n",
       "      <td>main age within the household</td>\n",
       "      <td>3</td>\n",
       "      <td>01.01.1905 bis 31.12.1909</td>\n",
       "    </tr>\n",
       "    <tr>\n",
       "      <th>7</th>\n",
       "      <td>ALTER_HH</td>\n",
       "      <td>10.632381</td>\n",
       "      <td>13.574433</td>\n",
       "      <td>9.114098</td>\n",
       "      <td>12.818555</td>\n",
       "      <td>main age within the household</td>\n",
       "      <td>4</td>\n",
       "      <td>01.01.1910 bis 31.12.1914</td>\n",
       "    </tr>\n",
       "    <tr>\n",
       "      <th>8</th>\n",
       "      <td>ALTER_HH</td>\n",
       "      <td>10.632381</td>\n",
       "      <td>13.574433</td>\n",
       "      <td>9.114098</td>\n",
       "      <td>12.818555</td>\n",
       "      <td>main age within the household</td>\n",
       "      <td>5</td>\n",
       "      <td>01.01.1915 bis 31.12.1919</td>\n",
       "    </tr>\n",
       "    <tr>\n",
       "      <th>9</th>\n",
       "      <td>ALTER_HH</td>\n",
       "      <td>10.632381</td>\n",
       "      <td>13.574433</td>\n",
       "      <td>9.114098</td>\n",
       "      <td>12.818555</td>\n",
       "      <td>main age within the household</td>\n",
       "      <td>6</td>\n",
       "      <td>01.01.1920 bis 31.12.1924</td>\n",
       "    </tr>\n",
       "    <tr>\n",
       "      <th>10</th>\n",
       "      <td>ALTER_HH</td>\n",
       "      <td>10.632381</td>\n",
       "      <td>13.574433</td>\n",
       "      <td>9.114098</td>\n",
       "      <td>12.818555</td>\n",
       "      <td>main age within the household</td>\n",
       "      <td>7</td>\n",
       "      <td>01.01.1925 bis 31.12.1929</td>\n",
       "    </tr>\n",
       "    <tr>\n",
       "      <th>11</th>\n",
       "      <td>ALTER_HH</td>\n",
       "      <td>10.632381</td>\n",
       "      <td>13.574433</td>\n",
       "      <td>9.114098</td>\n",
       "      <td>12.818555</td>\n",
       "      <td>main age within the household</td>\n",
       "      <td>8</td>\n",
       "      <td>01.01.1930 bis 31.12.1934</td>\n",
       "    </tr>\n",
       "    <tr>\n",
       "      <th>12</th>\n",
       "      <td>ALTER_HH</td>\n",
       "      <td>10.632381</td>\n",
       "      <td>13.574433</td>\n",
       "      <td>9.114098</td>\n",
       "      <td>12.818555</td>\n",
       "      <td>main age within the household</td>\n",
       "      <td>9</td>\n",
       "      <td>01.01.1935 bis 31.12.1939</td>\n",
       "    </tr>\n",
       "    <tr>\n",
       "      <th>13</th>\n",
       "      <td>ALTER_HH</td>\n",
       "      <td>10.632381</td>\n",
       "      <td>13.574433</td>\n",
       "      <td>9.114098</td>\n",
       "      <td>12.818555</td>\n",
       "      <td>main age within the household</td>\n",
       "      <td>10</td>\n",
       "      <td>01.01.1940 bis 31.12.1944</td>\n",
       "    </tr>\n",
       "    <tr>\n",
       "      <th>14</th>\n",
       "      <td>ALTER_HH</td>\n",
       "      <td>10.632381</td>\n",
       "      <td>13.574433</td>\n",
       "      <td>9.114098</td>\n",
       "      <td>12.818555</td>\n",
       "      <td>main age within the household</td>\n",
       "      <td>11</td>\n",
       "      <td>01.01.1945 bis 31.12.1949</td>\n",
       "    </tr>\n",
       "    <tr>\n",
       "      <th>15</th>\n",
       "      <td>ALTER_HH</td>\n",
       "      <td>10.632381</td>\n",
       "      <td>13.574433</td>\n",
       "      <td>9.114098</td>\n",
       "      <td>12.818555</td>\n",
       "      <td>main age within the household</td>\n",
       "      <td>12</td>\n",
       "      <td>01.01.1950 bis 31.12.1954</td>\n",
       "    </tr>\n",
       "    <tr>\n",
       "      <th>16</th>\n",
       "      <td>ALTER_HH</td>\n",
       "      <td>10.632381</td>\n",
       "      <td>13.574433</td>\n",
       "      <td>9.114098</td>\n",
       "      <td>12.818555</td>\n",
       "      <td>main age within the household</td>\n",
       "      <td>13</td>\n",
       "      <td>01.01.1955 bis 31.12.1959</td>\n",
       "    </tr>\n",
       "    <tr>\n",
       "      <th>17</th>\n",
       "      <td>ALTER_HH</td>\n",
       "      <td>10.632381</td>\n",
       "      <td>13.574433</td>\n",
       "      <td>9.114098</td>\n",
       "      <td>12.818555</td>\n",
       "      <td>main age within the household</td>\n",
       "      <td>14</td>\n",
       "      <td>01.01.1960 bis 31.12.1964</td>\n",
       "    </tr>\n",
       "    <tr>\n",
       "      <th>18</th>\n",
       "      <td>ALTER_HH</td>\n",
       "      <td>10.632381</td>\n",
       "      <td>13.574433</td>\n",
       "      <td>9.114098</td>\n",
       "      <td>12.818555</td>\n",
       "      <td>main age within the household</td>\n",
       "      <td>15</td>\n",
       "      <td>01.01.1965 bis 31.12.1969</td>\n",
       "    </tr>\n",
       "    <tr>\n",
       "      <th>19</th>\n",
       "      <td>ALTER_HH</td>\n",
       "      <td>10.632381</td>\n",
       "      <td>13.574433</td>\n",
       "      <td>9.114098</td>\n",
       "      <td>12.818555</td>\n",
       "      <td>main age within the household</td>\n",
       "      <td>16</td>\n",
       "      <td>01.01.1970 bis 31.12.1974</td>\n",
       "    </tr>\n",
       "    <tr>\n",
       "      <th>20</th>\n",
       "      <td>ALTER_HH</td>\n",
       "      <td>10.632381</td>\n",
       "      <td>13.574433</td>\n",
       "      <td>9.114098</td>\n",
       "      <td>12.818555</td>\n",
       "      <td>main age within the household</td>\n",
       "      <td>17</td>\n",
       "      <td>01.01.1975 bis 31.12.1979</td>\n",
       "    </tr>\n",
       "    <tr>\n",
       "      <th>21</th>\n",
       "      <td>ALTER_HH</td>\n",
       "      <td>10.632381</td>\n",
       "      <td>13.574433</td>\n",
       "      <td>9.114098</td>\n",
       "      <td>12.818555</td>\n",
       "      <td>main age within the household</td>\n",
       "      <td>18</td>\n",
       "      <td>01.01.1980 bis 31.12.1984</td>\n",
       "    </tr>\n",
       "    <tr>\n",
       "      <th>22</th>\n",
       "      <td>ALTER_HH</td>\n",
       "      <td>10.632381</td>\n",
       "      <td>13.574433</td>\n",
       "      <td>9.114098</td>\n",
       "      <td>12.818555</td>\n",
       "      <td>main age within the household</td>\n",
       "      <td>19</td>\n",
       "      <td>01.01.1985 bis 31.12.1989</td>\n",
       "    </tr>\n",
       "    <tr>\n",
       "      <th>23</th>\n",
       "      <td>ALTER_HH</td>\n",
       "      <td>10.632381</td>\n",
       "      <td>13.574433</td>\n",
       "      <td>9.114098</td>\n",
       "      <td>12.818555</td>\n",
       "      <td>main age within the household</td>\n",
       "      <td>20</td>\n",
       "      <td>01.01.1990 bis 31.12.1994</td>\n",
       "    </tr>\n",
       "    <tr>\n",
       "      <th>24</th>\n",
       "      <td>ALTER_HH</td>\n",
       "      <td>10.632381</td>\n",
       "      <td>13.574433</td>\n",
       "      <td>9.114098</td>\n",
       "      <td>12.818555</td>\n",
       "      <td>main age within the household</td>\n",
       "      <td>21</td>\n",
       "      <td>01.01.1995 bis 31.12.1999</td>\n",
       "    </tr>\n",
       "    <tr>\n",
       "      <th>25</th>\n",
       "      <td>GEBURTSJAHR</td>\n",
       "      <td>679.955966</td>\n",
       "      <td>595.566755</td>\n",
       "      <td>2123.094327</td>\n",
       "      <td>217.495125</td>\n",
       "      <td>year of birth</td>\n",
       "      <td>…</td>\n",
       "      <td>numeric value</td>\n",
       "    </tr>\n",
       "    <tr>\n",
       "      <th>26</th>\n",
       "      <td>KBA13_ANZAHL_PKW</td>\n",
       "      <td>631.058996</td>\n",
       "      <td>687.242565</td>\n",
       "      <td>467.580051</td>\n",
       "      <td>786.378252</td>\n",
       "      <td>number of cars in the PLZ8</td>\n",
       "      <td>…</td>\n",
       "      <td>numeric value</td>\n",
       "    </tr>\n",
       "  </tbody>\n",
       "</table>\n",
       "</div>"
      ],
      "text/plain": [
       "               Attribute  interested_cluster_1  interested_cluster_11  \\\n",
       "0                    LNR         655026.752720          652236.260177   \n",
       "1   EINGEZOGENAM_HH_JAHR           2005.234318            2004.746256   \n",
       "2    ANZ_HAUSHALTE_AKTIV              6.013276              10.585922   \n",
       "3               ALTER_HH             10.632381              13.574433   \n",
       "4               ALTER_HH             10.632381              13.574433   \n",
       "5               ALTER_HH             10.632381              13.574433   \n",
       "6               ALTER_HH             10.632381              13.574433   \n",
       "7               ALTER_HH             10.632381              13.574433   \n",
       "8               ALTER_HH             10.632381              13.574433   \n",
       "9               ALTER_HH             10.632381              13.574433   \n",
       "10              ALTER_HH             10.632381              13.574433   \n",
       "11              ALTER_HH             10.632381              13.574433   \n",
       "12              ALTER_HH             10.632381              13.574433   \n",
       "13              ALTER_HH             10.632381              13.574433   \n",
       "14              ALTER_HH             10.632381              13.574433   \n",
       "15              ALTER_HH             10.632381              13.574433   \n",
       "16              ALTER_HH             10.632381              13.574433   \n",
       "17              ALTER_HH             10.632381              13.574433   \n",
       "18              ALTER_HH             10.632381              13.574433   \n",
       "19              ALTER_HH             10.632381              13.574433   \n",
       "20              ALTER_HH             10.632381              13.574433   \n",
       "21              ALTER_HH             10.632381              13.574433   \n",
       "22              ALTER_HH             10.632381              13.574433   \n",
       "23              ALTER_HH             10.632381              13.574433   \n",
       "24              ALTER_HH             10.632381              13.574433   \n",
       "25           GEBURTSJAHR            679.955966             595.566755   \n",
       "26      KBA13_ANZAHL_PKW            631.058996             687.242565   \n",
       "\n",
       "    not_interested_cluster_9  not_interested_cluster_12  \\\n",
       "0              649125.931917              656533.384413   \n",
       "1                2002.984422                1998.153626   \n",
       "2                   6.216955                   7.297482   \n",
       "3                   9.114098                  12.818555   \n",
       "4                   9.114098                  12.818555   \n",
       "5                   9.114098                  12.818555   \n",
       "6                   9.114098                  12.818555   \n",
       "7                   9.114098                  12.818555   \n",
       "8                   9.114098                  12.818555   \n",
       "9                   9.114098                  12.818555   \n",
       "10                  9.114098                  12.818555   \n",
       "11                  9.114098                  12.818555   \n",
       "12                  9.114098                  12.818555   \n",
       "13                  9.114098                  12.818555   \n",
       "14                  9.114098                  12.818555   \n",
       "15                  9.114098                  12.818555   \n",
       "16                  9.114098                  12.818555   \n",
       "17                  9.114098                  12.818555   \n",
       "18                  9.114098                  12.818555   \n",
       "19                  9.114098                  12.818555   \n",
       "20                  9.114098                  12.818555   \n",
       "21                  9.114098                  12.818555   \n",
       "22                  9.114098                  12.818555   \n",
       "23                  9.114098                  12.818555   \n",
       "24                  9.114098                  12.818555   \n",
       "25               2123.094327                 217.495125   \n",
       "26                467.580051                 786.378252   \n",
       "\n",
       "                             Description Value  \\\n",
       "0                                    NaN   NaN   \n",
       "1                                    NaN   NaN   \n",
       "2   number of households in the building     …   \n",
       "3          main age within the household     0   \n",
       "4          main age within the household     1   \n",
       "5          main age within the household     2   \n",
       "6          main age within the household     3   \n",
       "7          main age within the household     4   \n",
       "8          main age within the household     5   \n",
       "9          main age within the household     6   \n",
       "10         main age within the household     7   \n",
       "11         main age within the household     8   \n",
       "12         main age within the household     9   \n",
       "13         main age within the household    10   \n",
       "14         main age within the household    11   \n",
       "15         main age within the household    12   \n",
       "16         main age within the household    13   \n",
       "17         main age within the household    14   \n",
       "18         main age within the household    15   \n",
       "19         main age within the household    16   \n",
       "20         main age within the household    17   \n",
       "21         main age within the household    18   \n",
       "22         main age within the household    19   \n",
       "23         main age within the household    20   \n",
       "24         main age within the household    21   \n",
       "25                         year of birth     …   \n",
       "26            number of cars in the PLZ8     …   \n",
       "\n",
       "                                      Meaning  \n",
       "0                                         NaN  \n",
       "1                                         NaN  \n",
       "2   numeric value (typically coded from 1-10)  \n",
       "3            unknown / no main age detectable  \n",
       "4                   01.01.1895 bis 31.12.1899  \n",
       "5                   01.01.1900 bis 31.12.1904  \n",
       "6                   01.01.1905 bis 31.12.1909  \n",
       "7                   01.01.1910 bis 31.12.1914  \n",
       "8                   01.01.1915 bis 31.12.1919  \n",
       "9                   01.01.1920 bis 31.12.1924  \n",
       "10                  01.01.1925 bis 31.12.1929  \n",
       "11                  01.01.1930 bis 31.12.1934  \n",
       "12                  01.01.1935 bis 31.12.1939  \n",
       "13                  01.01.1940 bis 31.12.1944  \n",
       "14                  01.01.1945 bis 31.12.1949  \n",
       "15                  01.01.1950 bis 31.12.1954  \n",
       "16                  01.01.1955 bis 31.12.1959  \n",
       "17                  01.01.1960 bis 31.12.1964  \n",
       "18                  01.01.1965 bis 31.12.1969  \n",
       "19                  01.01.1970 bis 31.12.1974  \n",
       "20                  01.01.1975 bis 31.12.1979  \n",
       "21                  01.01.1980 bis 31.12.1984  \n",
       "22                  01.01.1985 bis 31.12.1989  \n",
       "23                  01.01.1990 bis 31.12.1994  \n",
       "24                  01.01.1995 bis 31.12.1999  \n",
       "25                              numeric value  \n",
       "26                              numeric value  "
      ]
     },
     "execution_count": 200,
     "metadata": {},
     "output_type": "execute_result"
    }
   ],
   "source": [
    "comparison_df[comparison_df.std(axis=1)>2].merge(values, how='left', on='Attribute')"
   ]
  },
  {
   "cell_type": "markdown",
   "metadata": {},
   "source": [
    "Clusters are very close to each other so to be able to interpret correctly I will focus on most focussed and unfocussed groups whic are cluster 1 and cluster 9.\n",
    "\n",
    "It seems that marketing team mostly focus on younger groups and who have cars."
   ]
  },
  {
   "cell_type": "markdown",
   "metadata": {},
   "source": [
    "<a id='part2'></a>\n",
    "## Part 2: Supervised Learning Model\n",
    "\n",
    "Now that we've found which parts of the population are more likely to be customers of the mail-order company, it's time to build a prediction model. Each of the rows in the \"MAILOUT\" data files represents an individual that was targeted for a mailout campaign. Ideally, we should be able to use the demographic information from each individual to decide whether or not it will be worth it to include that person in the campaign.\n",
    "\n",
    "The \"MAILOUT\" data has been split into two approximately equal parts, each with almost 43 000 data rows. In this part, we will verify your model with the \"TRAIN\" partition, which includes a column, \"RESPONSE\", that states whether or not a person became a customer of the company following the campaign. In the next part, you'll need to create predictions on the \"TEST\" partition, where the \"RESPONSE\" column has been withheld.\n",
    "\n",
    "I will only apply XGBoost model due to time contraint and memory issues. I will try to invest time on hyperparameter tunning"
   ]
  },
  {
   "cell_type": "code",
   "execution_count": 205,
   "metadata": {},
   "outputs": [
    {
     "name": "stdout",
     "output_type": "stream",
     "text": [
      "Number of attributes to be dropped: 135\n",
      "Number of rows to be dropped: 8748\n",
      "Number of attributes to be dropped: 135\n",
      "Number of rows to be dropped: 0\n"
     ]
    }
   ],
   "source": [
    "mailout_train_cleaned = data_cleaning(mailout_train, values)\n",
    "mailout_test_cleaned = data_cleaning(mailout_test, values, is_test_df=True)"
   ]
  },
  {
   "cell_type": "code",
   "execution_count": 231,
   "metadata": {},
   "outputs": [],
   "source": [
    "X = mailout_train_cleaned.drop(['RESPONSE','CAMEO_DEUG_2015', 'OST_WEST_KZ'], axis=1)\n",
    "y = mailout_train_cleaned['RESPONSE']\n",
    "\n",
    "\n",
    "feature_names = X.columns\n"
   ]
  },
  {
   "cell_type": "code",
   "execution_count": 240,
   "metadata": {},
   "outputs": [
    {
     "data": {
      "text/plain": [
       "0    33790\n",
       "1      424\n",
       "Name: RESPONSE, dtype: int64"
      ]
     },
     "execution_count": 240,
     "metadata": {},
     "output_type": "execute_result"
    }
   ],
   "source": [
    "mailout_train_cleaned['RESPONSE'].value_counts()"
   ]
  },
  {
   "cell_type": "code",
   "execution_count": 232,
   "metadata": {},
   "outputs": [
    {
     "data": {
      "text/plain": [
       "0.012392587829543462"
      ]
     },
     "execution_count": 232,
     "metadata": {},
     "output_type": "execute_result"
    }
   ],
   "source": [
    "sum(y)/len(y)"
   ]
  },
  {
   "cell_type": "markdown",
   "metadata": {},
   "source": [
    "We have unbalanced dataset let's do strafied sampling."
   ]
  },
  {
   "cell_type": "code",
   "execution_count": 233,
   "metadata": {},
   "outputs": [
    {
     "name": "stdout",
     "output_type": "stream",
     "text": [
      "Odds Ratio - Train dataset:0.012392829306313328\n",
      "Odds Ratio - Test dataset:0.012391863455693243\n"
     ]
    }
   ],
   "source": [
    "X_train, X_test, y_train, y_test = train_test_split(X, y, random_state=42, stratify=y)\n",
    "#test strafied sampling\n",
    "print('Odds Ratio - Train dataset:{}'.format(sum(y_train)/len(y_train)))\n",
    "print('Odds Ratio - Test dataset:{}'.format(sum(y_test)/len(y_test)))"
   ]
  },
  {
   "cell_type": "markdown",
   "metadata": {},
   "source": [
    "### Build A Prelimnary XGBoost Model"
   ]
  },
  {
   "cell_type": "code",
   "execution_count": 235,
   "metadata": {},
   "outputs": [
    {
     "name": "stdout",
     "output_type": "stream",
     "text": [
      "[0]\tvalidation_0-aucpr:0.01239\n",
      "[1]\tvalidation_0-aucpr:0.01574\n",
      "[2]\tvalidation_0-aucpr:0.01564\n",
      "[3]\tvalidation_0-aucpr:0.01515\n",
      "[4]\tvalidation_0-aucpr:0.01468\n",
      "[5]\tvalidation_0-aucpr:0.01436\n",
      "[6]\tvalidation_0-aucpr:0.01486\n",
      "[7]\tvalidation_0-aucpr:0.01367\n",
      "[8]\tvalidation_0-aucpr:0.01353\n",
      "[9]\tvalidation_0-aucpr:0.01311\n",
      "[10]\tvalidation_0-aucpr:0.01339\n",
      "[11]\tvalidation_0-aucpr:0.01395\n"
     ]
    },
    {
     "data": {
      "text/plain": [
       "XGBClassifier(base_score=0.5, booster='gbtree', colsample_bylevel=1,\n",
       "              colsample_bynode=1, colsample_bytree=1, enable_categorical=False,\n",
       "              gamma=0, gpu_id=-1, importance_type=None,\n",
       "              interaction_constraints='', learning_rate=0.300000012,\n",
       "              max_delta_step=0, max_depth=6, min_child_weight=1, missing=nan,\n",
       "              monotone_constraints='()', n_estimators=100, n_jobs=8,\n",
       "              num_parallel_tree=1, predictor='auto', random_state=42,\n",
       "              reg_alpha=0, reg_lambda=1, scale_pos_weight=1, seed=42,\n",
       "              subsample=1, tree_method='exact', use_label_encoder=False,\n",
       "              validate_parameters=1, verbosity=None)"
      ]
     },
     "execution_count": 235,
     "metadata": {},
     "output_type": "execute_result"
    }
   ],
   "source": [
    "clf_xgb = xgb.XGBClassifier(objective='binary:logistic', seed=42, use_label_encoder=False)\n",
    "clf_xgb.fit(X_train,\n",
    "            y_train,\n",
    "            verbose=True,\n",
    "            early_stopping_rounds=10,\n",
    "            eval_metric='aucpr',\n",
    "            eval_set=[(X_test, y_test)])"
   ]
  },
  {
   "cell_type": "code",
   "execution_count": 241,
   "metadata": {},
   "outputs": [
    {
     "name": "stdout",
     "output_type": "stream",
     "text": [
      "Classification report (Test): \n",
      "\n",
      "              precision    recall  f1-score   support\n",
      "\n",
      "           0       0.99      1.00      0.99      8448\n",
      "           1       0.00      0.00      0.00       106\n",
      "\n",
      "    accuracy                           0.99      8554\n",
      "   macro avg       0.49      0.50      0.50      8554\n",
      "weighted avg       0.98      0.99      0.98      8554\n",
      "\n",
      "\n",
      "Train Accuracy: 0.9876071706936866\n",
      "Test Accuracy: 0.9876081365443068\n",
      "\n",
      "Train Recall: 0.0\n",
      "Test Recall: 0.0\n",
      "\n",
      "Confusion matrix (Test): \n",
      "\n"
     ]
    },
    {
     "name": "stderr",
     "output_type": "stream",
     "text": [
      "/Users/esraari/opt/anaconda3/lib/python3.9/site-packages/sklearn/metrics/_classification.py:1248: UndefinedMetricWarning:\n",
      "\n",
      "Precision and F-score are ill-defined and being set to 0.0 in labels with no predicted samples. Use `zero_division` parameter to control this behavior.\n",
      "\n",
      "/Users/esraari/opt/anaconda3/lib/python3.9/site-packages/sklearn/metrics/_classification.py:1248: UndefinedMetricWarning:\n",
      "\n",
      "Precision and F-score are ill-defined and being set to 0.0 in labels with no predicted samples. Use `zero_division` parameter to control this behavior.\n",
      "\n",
      "/Users/esraari/opt/anaconda3/lib/python3.9/site-packages/sklearn/metrics/_classification.py:1248: UndefinedMetricWarning:\n",
      "\n",
      "Precision and F-score are ill-defined and being set to 0.0 in labels with no predicted samples. Use `zero_division` parameter to control this behavior.\n",
      "\n"
     ]
    },
    {
     "data": {
      "text/plain": [
       "<sklearn.metrics._plot.confusion_matrix.ConfusionMatrixDisplay at 0x7fe73c39e3a0>"
      ]
     },
     "execution_count": 241,
     "metadata": {},
     "output_type": "execute_result"
    },
    {
     "data": {
      "image/png": "[encoded data removed]",
      "text/plain": [
       "<Figure size 432x288 with 2 Axes>"
      ]
     },
     "metadata": {
      "needs_background": "light"
     },
     "output_type": "display_data"
    }
   ],
   "source": [
    "\n",
    "#Generate predictions against our training and test data\n",
    "pred_train = clf_xgb.predict(X_train)\n",
    "proba_train = clf_xgb.predict_proba(X_train)\n",
    "pred_test = clf_xgb.predict(X_test)\n",
    "proba_test = clf_xgb.predict_proba(X_test)\n",
    "\n",
    "\n",
    "# Print model report\n",
    "print(\"Classification report (Test): \\n\")\n",
    "print(metrics.classification_report(y_test, pred_test))\n",
    "\n",
    "\n",
    "print ('\\nTrain Accuracy:', metrics.accuracy_score(y_train, pred_train))\n",
    "print ('Test Accuracy:', metrics.accuracy_score(y_test, pred_test))\n",
    "\n",
    "\n",
    "print ('\\nTrain Recall:', metrics.recall_score(y_train, pred_train))\n",
    "print ('Test Recall:', metrics.recall_score(y_test, pred_test))\n",
    "\n",
    "print(\"\\nConfusion matrix (Test): \\n\")\n",
    "plot_confusion_matrix(clf_xgb, X_test, y_test, display_labels=[\"NO\", \"YES\"])"
   ]
  },
  {
   "cell_type": "markdown",
   "metadata": {},
   "source": [
    "It seems that the model tend to say customer will not answer. Let's play around parameters a littel bit. My biggest hesitaion is about having unbalanced dataset."
   ]
  },
  {
   "cell_type": "code",
   "execution_count": 248,
   "metadata": {},
   "outputs": [
    {
     "data": {
      "text/plain": [
       "79.69339622641509"
      ]
     },
     "execution_count": 248,
     "metadata": {},
     "output_type": "execute_result"
    }
   ],
   "source": [
    "# For imbalanced dataset, let's find out scale_pos_weight. It is documented that it is better to use if there is imbalanced data.\n",
    "# scale_pos_weight = total_negative_examples / total_positive_examples\n",
    "\n",
    "len(mailout_train_cleaned[mailout_train_cleaned['RESPONSE']==0]) / len(mailout_train_cleaned[mailout_train_cleaned['RESPONSE']==1])"
   ]
  },
  {
   "cell_type": "code",
   "execution_count": 254,
   "metadata": {},
   "outputs": [
    {
     "name": "stdout",
     "output_type": "stream",
     "text": [
      "Fitting 3 folds for each of 243 candidates, totalling 729 fits\n",
      "{'gamma': 1.0, 'learning_rate': 0.05, 'max_depth': 2, 'reg_lambda': 0, 'scale_pos_weight': 80}\n",
      "CPU times: user 15.4 s, sys: 7.99 s, total: 23.3 s\n",
      "Wall time: 13min 17s\n"
     ]
    }
   ],
   "source": [
    "%%time \n",
    "#Round 1\n",
    "param_grid = {\n",
    "    'max_depth': [2, 3, 4],\n",
    "    'learning_rate': [0.01, 0.05, 0.06],\n",
    "    'gamma': [0, 0.25, 1.0],\n",
    "    'reg_lambda': [0, 1.0, 10.0],\n",
    "    'scale_pos_weight': [79, 79.69, 80]\n",
    "}\n",
    "# {'gamma': 1.0, 'learning_rate': 0.05, 'max_depth': 2, 'reg_lambda': 0, 'scale_pos_weight': 80}\n",
    "\n",
    "\n",
    "\n",
    "\n",
    "\n",
    "clf_xgb = xgb.XGBClassifier(objective='binary:logistic', \n",
    "                            seed=42, \n",
    "                            use_label_encoder=False,\n",
    "                            subsample=0.9,\n",
    "                            colsample_bytree=0.5\n",
    "                           )\n",
    "\n",
    "optimal_params = GridSearchCV(estimator=clf_xgb,\n",
    "                              param_grid=param_grid,\n",
    "                              scoring='roc_auc',\n",
    "                              verbose=2,\n",
    "                              n_jobs=10,\n",
    "                              cv=3\n",
    "                             )\n",
    "\n",
    "optimal_params.fit(X_train,\n",
    "                   y_train,\n",
    "                   early_stopping_rounds=10,\n",
    "                   eval_metric='auc',\n",
    "                   eval_set=[(X_test, y_test)],\n",
    "                   verbose=False\n",
    "                  )\n",
    "print(optimal_params.best_params_)"
   ]
  },
  {
   "cell_type": "code",
   "execution_count": 255,
   "metadata": {},
   "outputs": [
    {
     "name": "stdout",
     "output_type": "stream",
     "text": [
      "Fitting 3 folds for each of 6 candidates, totalling 18 fits\n",
      "{'gamma': 1.0, 'learning_rate': 0.05, 'max_depth': 2, 'reg_lambda': 0, 'scale_pos_weight': 80}\n",
      "CPU times: user 10.3 s, sys: 1.31 s, total: 11.6 s\n",
      "Wall time: 14.2 s\n"
     ]
    }
   ],
   "source": [
    "%%time\n",
    "#Round 1\n",
    "param_grid = {\n",
    "    'max_depth': [2, 3, 4],\n",
    "    'learning_rate': [0.01, 0.05, 0.06],\n",
    "    'gamma': [0, 0.25, 1.0],\n",
    "    'reg_lambda': [0, 1.0, 10.0],\n",
    "    'scale_pos_weight': [79, 79.69, 80]\n",
    "}\n",
    "# {'gamma': 1.0, 'learning_rate': 0.05, 'max_depth': 2, 'reg_lambda': 0, 'scale_pos_weight': 80}\n",
    "\n",
    "#Round 2\n",
    "param_grid = {\n",
    "    'max_depth': [1, 2],\n",
    "    'learning_rate': [0.05],\n",
    "    'gamma': [1.0, 10, 20],\n",
    "    'reg_lambda': [0],\n",
    "    'scale_pos_weight': [80]\n",
    "}\n",
    "# {'gamma': 0, 'learning_rate': 0.8, 'max_depth': 3, 'reg_lambda': 0, 'scale_pos_weight': 0.13}\n",
    "\n",
    "\n",
    "\n",
    "\n",
    "clf_xgb = xgb.XGBClassifier(objective='binary:logistic', \n",
    "                            seed=42, \n",
    "                            use_label_encoder=False,\n",
    "                            subsample=0.9,\n",
    "                            colsample_bytree=0.5\n",
    "                           )\n",
    "\n",
    "optimal_params = GridSearchCV(estimator=clf_xgb,\n",
    "                              param_grid=param_grid,\n",
    "                              scoring='roc_auc',\n",
    "                              verbose=2,\n",
    "                              n_jobs=10,\n",
    "                              cv=3\n",
    "                             )\n",
    "\n",
    "optimal_params.fit(X_train,\n",
    "                   y_train,\n",
    "                   early_stopping_rounds=10,\n",
    "                   eval_metric='auc',\n",
    "                   eval_set=[(X_test, y_test)],\n",
    "                   verbose=False\n",
    "                  )\n",
    "print(optimal_params.best_params_)"
   ]
  },
  {
   "cell_type": "code",
   "execution_count": 256,
   "metadata": {},
   "outputs": [
    {
     "name": "stdout",
     "output_type": "stream",
     "text": [
      "[0]\tvalidation_0-aucpr:0.01507\n",
      "[1]\tvalidation_0-aucpr:0.01542\n",
      "[2]\tvalidation_0-aucpr:0.01650\n",
      "[3]\tvalidation_0-aucpr:0.01602\n",
      "[4]\tvalidation_0-aucpr:0.01614\n",
      "[5]\tvalidation_0-aucpr:0.01616\n",
      "[6]\tvalidation_0-aucpr:0.01589\n",
      "[7]\tvalidation_0-aucpr:0.01612\n",
      "[8]\tvalidation_0-aucpr:0.01547\n",
      "[9]\tvalidation_0-aucpr:0.01550\n",
      "[10]\tvalidation_0-aucpr:0.01540\n",
      "[11]\tvalidation_0-aucpr:0.01606\n",
      "[12]\tvalidation_0-aucpr:0.01660\n",
      "[13]\tvalidation_0-aucpr:0.01613\n",
      "[14]\tvalidation_0-aucpr:0.01646\n",
      "[15]\tvalidation_0-aucpr:0.01643\n",
      "[16]\tvalidation_0-aucpr:0.01638\n",
      "[17]\tvalidation_0-aucpr:0.01563\n",
      "[18]\tvalidation_0-aucpr:0.01566\n",
      "[19]\tvalidation_0-aucpr:0.01572\n",
      "[20]\tvalidation_0-aucpr:0.01592\n",
      "[21]\tvalidation_0-aucpr:0.01628\n"
     ]
    },
    {
     "data": {
      "text/plain": [
       "XGBClassifier(base_score=0.5, booster='gbtree', colsample_bylevel=1,\n",
       "              colsample_bynode=1, colsample_bytree=0.5,\n",
       "              enable_categorical=False, gamma=1, gpu_id=-1,\n",
       "              importance_type=None, interaction_constraints='',\n",
       "              learning_rate=0.05, max_delta_step=0, max_depth=2,\n",
       "              min_child_weight=1, missing=nan, monotone_constraints='()',\n",
       "              n_estimators=100, n_jobs=8, num_parallel_tree=1, predictor='auto',\n",
       "              random_state=42, reg_alpha=0, reg_lambda=0, scale_pos_weight=80,\n",
       "              seed=42, subsample=0.9, tree_method='exact',\n",
       "              use_label_encoder=False, validate_parameters=1, verbosity=None)"
      ]
     },
     "execution_count": 256,
     "metadata": {},
     "output_type": "execute_result"
    }
   ],
   "source": [
    "clf_xgb = xgb.XGBClassifier(objective='binary:logistic', \n",
    "                            seed=42, \n",
    "                            use_label_encoder=False,\n",
    "                            gamma=1,\n",
    "                            learning_rate=0.05,\n",
    "                            max_depth=2,\n",
    "                            reg_lambda=0,\n",
    "                            scale_pos_weight=80,\n",
    "                            subsample=0.9,\n",
    "                            colsample_bytree=0.5\n",
    "                            \n",
    "                           )\n",
    "clf_xgb.fit(X_train,\n",
    "            y_train,\n",
    "            verbose=True,\n",
    "            early_stopping_rounds=10,\n",
    "            eval_metric='aucpr',\n",
    "            eval_set=[(X_test, y_test)])"
   ]
  },
  {
   "cell_type": "code",
   "execution_count": 257,
   "metadata": {},
   "outputs": [
    {
     "name": "stdout",
     "output_type": "stream",
     "text": [
      "Classification report (Test): \n",
      "\n",
      "              precision    recall  f1-score   support\n",
      "\n",
      "           0       0.99      0.55      0.71      8448\n",
      "           1       0.02      0.61      0.03       106\n",
      "\n",
      "    accuracy                           0.55      8554\n",
      "   macro avg       0.50      0.58      0.37      8554\n",
      "weighted avg       0.98      0.55      0.70      8554\n",
      "\n",
      "\n",
      "Train Accuracy: 0.5563133281371785\n",
      "Test Accuracy: 0.5516717325227963\n",
      "\n",
      "Train Recall: 0.720125786163522\n",
      "Test Recall: 0.6132075471698113\n",
      "\n",
      "Confusion matrix (Test): \n",
      "\n"
     ]
    },
    {
     "data": {
      "text/plain": [
       "<sklearn.metrics._plot.confusion_matrix.ConfusionMatrixDisplay at 0x7fe88f2cc9a0>"
      ]
     },
     "execution_count": 257,
     "metadata": {},
     "output_type": "execute_result"
    },
    {
     "data": {
      "image/png": "[encoded data removed]",
      "text/plain": [
       "<Figure size 432x288 with 2 Axes>"
      ]
     },
     "metadata": {
      "needs_background": "light"
     },
     "output_type": "display_data"
    }
   ],
   "source": [
    "\n",
    "#Generate predictions against our training and test data\n",
    "pred_train = clf_xgb.predict(X_train)\n",
    "proba_train = clf_xgb.predict_proba(X_train)\n",
    "pred_test = clf_xgb.predict(X_test)\n",
    "proba_test = clf_xgb.predict_proba(X_test)\n",
    "\n",
    "\n",
    "\n",
    "# Print model report\n",
    "print(\"Classification report (Test): \\n\")\n",
    "print(metrics.classification_report(y_test, pred_test))\n",
    "\n",
    "\n",
    "print ('\\nTrain Accuracy:', metrics.accuracy_score(y_train, pred_train))\n",
    "print ('Test Accuracy:', metrics.accuracy_score(y_test, pred_test))\n",
    "\n",
    "\n",
    "print ('\\nTrain Recall:', metrics.recall_score(y_train, pred_train))\n",
    "print ('Test Recall:', metrics.recall_score(y_test, pred_test))\n",
    "\n",
    "print(\"\\nConfusion matrix (Test): \\n\")\n",
    "plot_confusion_matrix(clf_xgb, X_test, y_test, display_labels=[\"NO\", \"YES\"])"
   ]
  },
  {
   "cell_type": "markdown",
   "metadata": {},
   "source": [
    "Let's Run the algorithm on test dataset which I have prefered the call it out of time test data"
   ]
  },
  {
   "cell_type": "code",
   "execution_count": 271,
   "metadata": {},
   "outputs": [],
   "source": [
    "\n",
    "# Save to file in the current working directory\n",
    "pkl_filename = \"best_clf_xgb.pkl\"  \n",
    "with open(pkl_filename, 'wb') as file:  \n",
    "    pickle.dump(clf_xgb, file)\n",
    "    \n",
    "# Load from file\n",
    "pkl_filename = \"best_clf_xgb.pkl\"  \n",
    "with open(pkl_filename, 'rb') as file:  \n",
    "    pickle_model = pickle.load(file) "
   ]
  },
  {
   "cell_type": "code",
   "execution_count": 272,
   "metadata": {
    "tags": []
   },
   "outputs": [],
   "source": [
    "test_oot = mailout_test_cleaned.drop(['CAMEO_DEUG_2015', 'OST_WEST_KZ'], axis=1)"
   ]
  },
  {
   "cell_type": "code",
   "execution_count": 273,
   "metadata": {},
   "outputs": [],
   "source": [
    "pred_test_oot = pickle_model.predict(test_oot)\n",
    "proba_test_oot = pickle_model.predict_proba(test_oot)"
   ]
  },
  {
   "cell_type": "code",
   "execution_count": 274,
   "metadata": {},
   "outputs": [
    {
     "data": {
      "text/plain": [
       "3859"
      ]
     },
     "execution_count": 274,
     "metadata": {},
     "output_type": "execute_result"
    }
   ],
   "source": [
    "pred_test.sum()"
   ]
  },
  {
   "cell_type": "code",
   "execution_count": 275,
   "metadata": {},
   "outputs": [
    {
     "data": {
      "text/plain": [
       "8554"
      ]
     },
     "execution_count": 275,
     "metadata": {},
     "output_type": "execute_result"
    }
   ],
   "source": [
    "len(pred_test)"
   ]
  },
  {
   "cell_type": "markdown",
   "metadata": {},
   "source": [
    "It seems that algorithm found 3859 customer that can be contacted."
   ]
  },
  {
   "cell_type": "code",
   "execution_count": null,
   "metadata": {},
   "outputs": [],
   "source": []
  }
 ],
 "metadata": {
  "kernelspec": {
   "display_name": "Python 3 (ipykernel)",
   "language": "python",
   "name": "python3"
  },
  "language_info": {
   "codemirror_mode": {
    "name": "ipython",
    "version": 3
   },
   "file_extension": ".py",
   "mimetype": "text/x-python",
   "name": "python",
   "nbconvert_exporter": "python",
   "pygments_lexer": "ipython3",
   "version": "3.9.7"
  }
 },
 "nbformat": 4,
 "nbformat_minor": 4
}
